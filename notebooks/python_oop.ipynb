{
 "cells": [
  {
   "cell_type": "markdown",
   "metadata": {},
   "source": [
    "https://www.youtube.com/watch?v=ZDa-Z5JzLYM&list=PL-osiE80TeTsqhIuOqKhwlXsIBIdSeYtc&pp=iAQB"
   ]
  },
  {
   "cell_type": "markdown",
   "metadata": {},
   "source": [
    "# classes and instances basics"
   ]
  },
  {
   "cell_type": "markdown",
   "metadata": {},
   "source": [
    "attributes\n",
    "methods\n",
    "inheritance\n",
    "instance of a class"
   ]
  },
  {
   "cell_type": "code",
   "execution_count": 2,
   "metadata": {},
   "outputs": [
    {
     "name": "stdout",
     "output_type": "stream",
     "text": [
      "<__main__.Employee object at 0x105a16e80>\n",
      "<__main__.Employee object at 0x105a16fa0>\n"
     ]
    }
   ],
   "source": [
    "class Employee:\n",
    "    pass\n",
    "\n",
    "emp_1 = Employee()\n",
    "emp_2 = Employee()\n",
    "\n",
    "print(emp_1)\n",
    "print(emp_2)\n",
    "\n",
    "# each have different locations in memory"
   ]
  },
  {
   "cell_type": "code",
   "execution_count": 3,
   "metadata": {},
   "outputs": [
    {
     "name": "stdout",
     "output_type": "stream",
     "text": [
      "Josh\n"
     ]
    }
   ],
   "source": [
    "# can set directly but better to do it during init method\n",
    "\n",
    "emp_1.first_name = \"Josh\"\n",
    "print(emp_1.first_name)"
   ]
  },
  {
   "cell_type": "code",
   "execution_count": 12,
   "metadata": {},
   "outputs": [],
   "source": [
    "class Employee:\n",
    "    def __init__(self,first,last,pay) -> None:\n",
    "        self.first = first\n",
    "        self.last = last\n",
    "        self.pay = pay\n",
    "        self.email = first+'.'+last+'@company.com'\n",
    "    \n",
    "    # each method takes the instance as the first argument\n",
    "    # the self refers to the instance that has been instanstiated\n",
    "    def fullname(self):\n",
    "        return '{} {}'.format(self.first,self.last)"
   ]
  },
  {
   "cell_type": "code",
   "execution_count": 13,
   "metadata": {},
   "outputs": [
    {
     "name": "stdout",
     "output_type": "stream",
     "text": [
      "Josh.Knight@company.com\n"
     ]
    }
   ],
   "source": [
    "emp1 = Employee('Josh','Knight',50000)\n",
    "print(emp1.email)"
   ]
  },
  {
   "cell_type": "code",
   "execution_count": 14,
   "metadata": {},
   "outputs": [
    {
     "data": {
      "text/plain": [
       "'Josh Knight'"
      ]
     },
     "execution_count": 14,
     "metadata": {},
     "output_type": "execute_result"
    }
   ],
   "source": [
    "emp1.fullname()\n",
    "# this essentially runs \n",
    "# Employee.fullname(emp1) -> thats what the self does"
   ]
  },
  {
   "cell_type": "code",
   "execution_count": 15,
   "metadata": {},
   "outputs": [
    {
     "data": {
      "text/plain": [
       "{'first': 'Josh',\n",
       " 'last': 'Knight',\n",
       " 'pay': 50000,\n",
       " 'email': 'Josh.Knight@company.com'}"
      ]
     },
     "execution_count": 15,
     "metadata": {},
     "output_type": "execute_result"
    }
   ],
   "source": [
    "emp1.__dict__ #returns all the attributes"
   ]
  },
  {
   "cell_type": "markdown",
   "metadata": {},
   "source": [
    "# class variables\n",
    "* different from variables in constructor"
   ]
  },
  {
   "cell_type": "markdown",
   "metadata": {},
   "source": [
    "class variables - these are not variables defined in the __init__ constructor, this is a variable that is specific to the class only and not all the instances of the class"
   ]
  },
  {
   "cell_type": "code",
   "execution_count": 23,
   "metadata": {},
   "outputs": [],
   "source": [
    "# e.g. tracking number of Employees and standardised pay raise rate\n",
    "\n",
    "class Employee:\n",
    "\n",
    "    num_employees = 0\n",
    "    raise_amount = 1.04\n",
    "\n",
    "    def __init__(self,first,last,pay) -> None:\n",
    "        self.first = first\n",
    "        self.last = last\n",
    "        self.pay = pay\n",
    "        self.email = first+'.'+last+'@company.com'\n",
    "\n",
    "        # this automatically adds 1 employee to the count when an instance of the class is created\n",
    "        Employee.num_employees += 1\n",
    "    \n",
    "    # each method takes the instance as the first argument\n",
    "    # the self refers to the instance that has been instanstiated\n",
    "    def fullname(self):\n",
    "        return '{} {}'.format(self.first,self.last)\n",
    "    \n",
    "    def apply_raise(self):\n",
    "        self.pay = int(self.pay*self.raise_amount)"
   ]
  },
  {
   "cell_type": "code",
   "execution_count": 24,
   "metadata": {},
   "outputs": [
    {
     "name": "stdout",
     "output_type": "stream",
     "text": [
      "0\n",
      "1\n",
      "2\n",
      "1.04\n",
      "1.04\n",
      "1.04\n",
      "1.04\n",
      "1.09\n",
      "1.04\n",
      "1.05\n",
      "1.09\n",
      "1.05\n"
     ]
    }
   ],
   "source": [
    "print(Employee.num_employees)\n",
    "emp1 = Employee('Josh','Knight',50000)\n",
    "\n",
    "# after 1 employee instantiated, count should increase\n",
    "print(Employee.num_employees)\n",
    "\n",
    "emp2 = Employee('Yuna','Fysh',70000)\n",
    "\n",
    "# after 1 employee instantiated, count should increase\n",
    "print(Employee.num_employees)\n",
    "\n",
    "# current raise amounts\n",
    "print(Employee.raise_amount)\n",
    "print(emp1.raise_amount)\n",
    "print(emp2.raise_amount)\n",
    "\n",
    "emp1.raise_amount += 0.05\n",
    "\n",
    "# adjusting the rate for 1 employee doesnt affect others\n",
    "print(Employee.raise_amount)\n",
    "print(emp1.raise_amount)\n",
    "print(emp2.raise_amount)\n",
    "\n",
    "# adjusting the rate for Employee affects others, but not the one that has alr changed raise amount\n",
    "Employee.raise_amount+=0.01\n",
    "print(Employee.raise_amount)\n",
    "print(emp1.raise_amount)\n",
    "print(emp2.raise_amount)\n",
    "\n",
    "# take not the increment for Employee.num_employees will increment, to reset, will need to run the class again"
   ]
  },
  {
   "cell_type": "markdown",
   "metadata": {},
   "source": [
    "# classmethods and staticmethods"
   ]
  },
  {
   "cell_type": "markdown",
   "metadata": {},
   "source": [
    "add a decorator @classmethod\n",
    "* this directly takes the class itself as an argument instead of the instance which is self"
   ]
  },
  {
   "cell_type": "code",
   "execution_count": 26,
   "metadata": {},
   "outputs": [],
   "source": [
    "# e.g. tracking number of Employees and standardised pay raise rate\n",
    "\n",
    "class Employee:\n",
    "\n",
    "    num_employees = 0\n",
    "    raise_amount = 1.04\n",
    "\n",
    "    def __init__(self,first,last,pay) -> None:\n",
    "        self.first = first\n",
    "        self.last = last\n",
    "        self.pay = pay\n",
    "        self.email = first+'.'+last+'@company.com'\n",
    "\n",
    "        # this automatically adds 1 employee to the count when an instance of the class is created\n",
    "        Employee.num_employees += 1\n",
    "    \n",
    "    # each method takes the instance as the first argument\n",
    "    # the self refers to the instance that has been instanstiated\n",
    "    def fullname(self):\n",
    "        return '{} {}'.format(self.first,self.last)\n",
    "    \n",
    "    def apply_raise(self):\n",
    "        self.pay = int(self.pay*self.raise_amount)\n",
    "\n",
    "    @classmethod\n",
    "    def set_raise_amt(cls,amount):\n",
    "        cls.raise_amount = amount\n",
    "    # this class methods will affect entire class \n",
    "    # cls is like self but for the class, cannot use class as argument sicne its used only for class definition in Python"
   ]
  },
  {
   "cell_type": "code",
   "execution_count": 28,
   "metadata": {},
   "outputs": [
    {
     "name": "stdout",
     "output_type": "stream",
     "text": [
      "1.04\n",
      "1.04\n",
      "1.04\n",
      "1.07\n",
      "1.07\n",
      "1.07\n"
     ]
    }
   ],
   "source": [
    "emp1 = Employee('Josh','Knight',50000)\n",
    "emp2 = Employee('Yuna','Fysh',70000)\n",
    "\n",
    "print(Employee.raise_amount)\n",
    "print(emp1.raise_amount)\n",
    "print(emp2.raise_amount)\n",
    "\n",
    "emp1.set_raise_amt(1.07)\n",
    "print(Employee.raise_amount)\n",
    "print(emp1.raise_amount)\n",
    "print(emp2.raise_amount)\n"
   ]
  },
  {
   "cell_type": "markdown",
   "metadata": {},
   "source": [
    "another example"
   ]
  },
  {
   "cell_type": "code",
   "execution_count": 29,
   "metadata": {},
   "outputs": [],
   "source": [
    "# e.g. tracking number of Employees and standardised pay raise rate\n",
    "\n",
    "class Employee:\n",
    "\n",
    "    num_employees = 0\n",
    "    raise_amount = 1.04\n",
    "\n",
    "    def __init__(self,first,last,pay) -> None:\n",
    "        self.first = first\n",
    "        self.last = last\n",
    "        self.pay = pay\n",
    "        self.email = first+'.'+last+'@company.com'\n",
    "\n",
    "        # this automatically adds 1 employee to the count when an instance of the class is created\n",
    "        Employee.num_employees += 1\n",
    "    \n",
    "    # each method takes the instance as the first argument\n",
    "    # the self refers to the instance that has been instanstiated\n",
    "    def fullname(self):\n",
    "        return '{} {}'.format(self.first,self.last)\n",
    "    \n",
    "    def apply_raise(self):\n",
    "        self.pay = int(self.pay*self.raise_amount)\n",
    "\n",
    "    @classmethod\n",
    "    def set_raise_amt(cls,amount):\n",
    "        cls.raise_amount = amount\n",
    "    # this class methods will affect entire class \n",
    "    # cls is like self but for the class, cannot use class as argument sicne its used only for class definition in Python\n",
    "\n",
    "    @classmethod\n",
    "    def split_name(cls,emp_str):\n",
    "        first,last,pay = emp_str.split('-')\n",
    "        return cls(first,last,pay)"
   ]
  },
  {
   "cell_type": "code",
   "execution_count": 30,
   "metadata": {},
   "outputs": [
    {
     "name": "stdout",
     "output_type": "stream",
     "text": [
      "John.Doe@company.com\n"
     ]
    }
   ],
   "source": [
    "emp_str3 = 'John-Doe-80000'\n",
    "emp3 = Employee.split_name(emp_str3)\n",
    "print(emp3.email)"
   ]
  },
  {
   "cell_type": "markdown",
   "metadata": {},
   "source": [
    "static methods do not pass anything not like self or cls but include them when theres some logical connection to the class but not really any dependency"
   ]
  },
  {
   "cell_type": "code",
   "execution_count": 37,
   "metadata": {},
   "outputs": [],
   "source": [
    "# e.g. tracking number of Employees and standardised pay raise rate\n",
    "\n",
    "class Employee:\n",
    "\n",
    "    num_employees = 0\n",
    "    raise_amount = 1.04\n",
    "\n",
    "    def __init__(self,first,last,pay) -> None:\n",
    "        self.first = first\n",
    "        self.last = last\n",
    "        self.pay = pay\n",
    "        self.email = first+'.'+last+'@company.com'\n",
    "\n",
    "        # this automatically adds 1 employee to the count when an instance of the class is created\n",
    "        Employee.num_employees += 1\n",
    "    \n",
    "    # each method takes the instance as the first argument\n",
    "    # the self refers to the instance that has been instanstiated\n",
    "    def fullname(self):\n",
    "        return '{} {}'.format(self.first,self.last)\n",
    "    \n",
    "    def apply_raise(self):\n",
    "        self.pay = int(self.pay*self.raise_amount)\n",
    "\n",
    "    @classmethod\n",
    "    def set_raise_amt(cls,amount):\n",
    "        cls.raise_amount = amount\n",
    "    # this class methods will affect entire class \n",
    "    # cls is like self but for the class, cannot use class as argument sicne its used only for class definition in Python\n",
    "\n",
    "    @classmethod\n",
    "    def split_name(cls,emp_str):\n",
    "        first,last,pay = emp_str.split('-')\n",
    "        return cls(first,last,pay)\n",
    "    \n",
    "    @staticmethod\n",
    "    def is_workday(day):\n",
    "        if day.weekday() == 6 or day.weekday==7:\n",
    "            # .weekday means week of day\n",
    "            return False\n",
    "        return True\n",
    "    # if the method doesnt use self or cls, then it should be a static method\n"
   ]
  },
  {
   "cell_type": "code",
   "execution_count": 38,
   "metadata": {},
   "outputs": [
    {
     "name": "stdout",
     "output_type": "stream",
     "text": [
      "False\n"
     ]
    }
   ],
   "source": [
    "import datetime\n",
    "my_date=datetime.date(2024,10,20)\n",
    "print(Employee.is_workday(my_date))"
   ]
  },
  {
   "cell_type": "code",
   "execution_count": 40,
   "metadata": {},
   "outputs": [
    {
     "data": {
      "text/plain": [
       "6"
      ]
     },
     "execution_count": 40,
     "metadata": {},
     "output_type": "execute_result"
    }
   ],
   "source": [
    "my_date.weekday()"
   ]
  },
  {
   "cell_type": "markdown",
   "metadata": {},
   "source": [
    "# inheritance"
   ]
  },
  {
   "cell_type": "markdown",
   "metadata": {},
   "source": [
    "create a subclass and then inherit all the attributes and methods from the parent class"
   ]
  },
  {
   "cell_type": "code",
   "execution_count": 42,
   "metadata": {},
   "outputs": [],
   "source": [
    "# e.g. tracking number of Employees and standardised pay raise rate\n",
    "\n",
    "class Employee:\n",
    "\n",
    "    num_employees = 0\n",
    "    raise_amount = 1.04\n",
    "\n",
    "    def __init__(self,first,last,pay) -> None:\n",
    "        self.first = first\n",
    "        self.last = last\n",
    "        self.pay = pay\n",
    "        self.email = first+'.'+last+'@company.com'\n",
    "\n",
    "        # this automatically adds 1 employee to the count when an instance of the class is created\n",
    "        Employee.num_employees += 1\n",
    "    \n",
    "    # each method takes the instance as the first argument\n",
    "    # the self refers to the instance that has been instanstiated\n",
    "    def fullname(self):\n",
    "        return '{} {}'.format(self.first,self.last)\n",
    "    \n",
    "    def apply_raise(self):\n",
    "        self.pay = int(self.pay*self.raise_amount)\n",
    "\n",
    "    @classmethod\n",
    "    def set_raise_amt(cls,amount):\n",
    "        cls.raise_amount = amount\n",
    "    # this class methods will affect entire class \n",
    "    # cls is like self but for the class, cannot use class as argument sicne its used only for class definition in Python\n",
    "\n",
    "    @classmethod\n",
    "    def split_name(cls,emp_str):\n",
    "        first,last,pay = emp_str.split('-')\n",
    "        return cls(first,last,pay)\n",
    "    \n",
    "    @staticmethod\n",
    "    def is_workday(day):\n",
    "        if day.weekday() == 6 or day.weekday==7:\n",
    "            # .weekday means week of day\n",
    "            return False\n",
    "        return True\n",
    "    # if the method doesnt use self or cls, then it should be a static method\n"
   ]
  },
  {
   "cell_type": "code",
   "execution_count": 63,
   "metadata": {},
   "outputs": [
    {
     "name": "stdout",
     "output_type": "stream",
     "text": [
      "John.Doe@company.com\n",
      "Mary.Jane@company.com\n",
      "50000\n",
      "55000\n"
     ]
    }
   ],
   "source": [
    "class Developer(Employee):\n",
    "    raise_amount = 1.10\n",
    "\n",
    "dev1 = Developer('John','Doe',50000)\n",
    "dev2 = Developer('Mary','Jane',70000)\n",
    "\n",
    "print(dev1.email)\n",
    "print(dev2.email)\n",
    "\n",
    "print(dev1.pay)\n",
    "dev1.apply_raise()\n",
    "print(dev1.pay)\n"
   ]
  },
  {
   "cell_type": "markdown",
   "metadata": {},
   "source": [
    "when you need to add attributes to a subclass"
   ]
  },
  {
   "cell_type": "code",
   "execution_count": null,
   "metadata": {},
   "outputs": [
    {
     "name": "stdout",
     "output_type": "stream",
     "text": [
      "John.Doe@company.com\n",
      "Python\n",
      "Mary.Jane@company.com\n",
      "Java\n"
     ]
    }
   ],
   "source": [
    "class Developer(Employee):\n",
    "    raise_amount = 1.10\n",
    "    def __init__(self,first,last,pay,prog_lang):\n",
    "        super().__init__(first,last,pay)\n",
    "        # or can do \n",
    "        # Employee.__init__(self, first, last, pay) instead of super\n",
    "        self.prog_lang = prog_lang\n",
    "\n",
    "              \n",
    "dev1 = Developer('John','Doe',50000,'Python')\n",
    "dev2 = Developer('Mary','Jane',70000,'Java')\n",
    "\n",
    "print(dev1.email)\n",
    "print(dev1.prog_lang)\n",
    "print(dev2.email)  \n",
    "print(dev2.prog_lang)  "
   ]
  },
  {
   "cell_type": "markdown",
   "metadata": {},
   "source": [
    "add manager class and show list of employees"
   ]
  },
  {
   "cell_type": "code",
   "execution_count": 76,
   "metadata": {},
   "outputs": [
    {
     "name": "stdout",
     "output_type": "stream",
     "text": [
      "Sue.Smith@company.com\n",
      "<bound method Employee.fullname of <__main__.Manager object at 0x10f8f84f0>>\n",
      "[<__main__.Developer object at 0x105a79ee0>]\n",
      "--> John Doe\n",
      "--> John Doe\n",
      "--> Mary Jane\n"
     ]
    }
   ],
   "source": [
    "class Manager(Employee):\n",
    "    raise_amount = 1.70\n",
    "\n",
    "    def __init__(self, first, last, pay, employees=None) -> None:\n",
    "        super().__init__(first, last, pay)\n",
    "        if employees is None:\n",
    "            self.employees = []\n",
    "        else:\n",
    "            self.employees = employees\n",
    "\n",
    "    def add_emp(self,emp):\n",
    "        if emp not in self.employees:\n",
    "            self.employees.append(emp)\n",
    "\n",
    "    def remove_emp(self,emp):\n",
    "        if emp not in self.employeed:\n",
    "            self.employees.remove(emp)\n",
    "    \n",
    "    def print_emps(self):\n",
    "        for emp in self.employees:\n",
    "            print('-->',emp.fullname())\n",
    "\n",
    "dev1 = Developer('John','Doe',50000,'Python')\n",
    "dev2 = Developer('Mary','Jane',70000,'Java')\n",
    "mgr1 = Manager('Sue','Smith',120000,[dev1])\n",
    "\n",
    "print(mgr1.email)\n",
    "print(mgr1.fullname)\n",
    "print(mgr1.employees)\n",
    "mgr1.print_emps()\n",
    "mgr1.add_emp(dev2)\n",
    "mgr1.print_emps()"
   ]
  },
  {
   "cell_type": "markdown",
   "metadata": {},
   "source": [
    "isinstance issubclass"
   ]
  },
  {
   "cell_type": "code",
   "execution_count": 78,
   "metadata": {},
   "outputs": [
    {
     "name": "stdout",
     "output_type": "stream",
     "text": [
      "True\n",
      "True\n",
      "False\n"
     ]
    }
   ],
   "source": [
    "print(isinstance(mgr1,Manager))\n",
    "print(isinstance(mgr1,Employee))\n",
    "print(isinstance(mgr1,Developer))"
   ]
  },
  {
   "cell_type": "code",
   "execution_count": 80,
   "metadata": {},
   "outputs": [
    {
     "name": "stdout",
     "output_type": "stream",
     "text": [
      "True\n",
      "True\n",
      "False\n"
     ]
    }
   ],
   "source": [
    "print(issubclass(Manager,Manager))\n",
    "print(issubclass(Developer,Employee))\n",
    "print(issubclass(Manager,Developer))"
   ]
  },
  {
   "cell_type": "markdown",
   "metadata": {},
   "source": [
    "# special methods (dunder __)"
   ]
  },
  {
   "cell_type": "markdown",
   "metadata": {},
   "source": [
    "dunder init means __init__"
   ]
  },
  {
   "cell_type": "markdown",
   "metadata": {},
   "source": [
    "* repr used for developer but str is for user\n",
    "    * unambiguous representation used for debugging\n",
    "* repr has more useful stuff returned"
   ]
  },
  {
   "cell_type": "code",
   "execution_count": 81,
   "metadata": {},
   "outputs": [
    {
     "name": "stdout",
     "output_type": "stream",
     "text": [
      "<__main__.Employee object at 0x105a3f190>\n"
     ]
    }
   ],
   "source": [
    "print(emp1)"
   ]
  },
  {
   "cell_type": "code",
   "execution_count": 82,
   "metadata": {},
   "outputs": [
    {
     "data": {
      "text/plain": [
       "'<__main__.Employee object at 0x105a3f190>'"
      ]
     },
     "execution_count": 82,
     "metadata": {},
     "output_type": "execute_result"
    }
   ],
   "source": [
    "repr(emp1)"
   ]
  },
  {
   "cell_type": "code",
   "execution_count": 83,
   "metadata": {},
   "outputs": [
    {
     "data": {
      "text/plain": [
       "'<__main__.Employee object at 0x105a3f190>'"
      ]
     },
     "execution_count": 83,
     "metadata": {},
     "output_type": "execute_result"
    }
   ],
   "source": [
    "str(emp1)"
   ]
  },
  {
   "cell_type": "code",
   "execution_count": 91,
   "metadata": {},
   "outputs": [
    {
     "name": "stdout",
     "output_type": "stream",
     "text": [
      "<__main__.Employee object at 0x10f8f7d00>\n"
     ]
    }
   ],
   "source": [
    "emp1 = Employee('John','Doe',50000)\n",
    "\n",
    "print(emp1)"
   ]
  },
  {
   "cell_type": "code",
   "execution_count": 103,
   "metadata": {},
   "outputs": [],
   "source": [
    "# e.g. tracking number of Employees and standardised pay raise rate\n",
    "\n",
    "class Employee:\n",
    "\n",
    "    num_employees = 0\n",
    "    raise_amount = 1.04\n",
    "\n",
    "    def __init__(self,first,last,pay) -> None:\n",
    "        self.first = first\n",
    "        self.last = last\n",
    "        self.pay = pay\n",
    "        self.email = first+'.'+last+'@company.com'\n",
    "\n",
    "        # this automatically adds 1 employee to the count when an instance of the class is created\n",
    "        Employee.num_employees += 1\n",
    "    \n",
    "    # each method takes the instance as the first argument\n",
    "    # the self refers to the instance that has been instanstiated\n",
    "    def fullname(self):\n",
    "        return '{} {}'.format(self.first,self.last)\n",
    "    \n",
    "    def apply_raise(self):\n",
    "        self.pay = int(self.pay*self.raise_amount)\n",
    "\n",
    "    @classmethod\n",
    "    def set_raise_amt(cls,amount):\n",
    "        cls.raise_amount = amount\n",
    "    # this class methods will affect entire class \n",
    "    # cls is like self but for the class, cannot use class as argument sicne its used only for class definition in Python\n",
    "\n",
    "    @classmethod\n",
    "    def split_name(cls,emp_str):\n",
    "        first,last,pay = emp_str.split('-')\n",
    "        return cls(first,last,pay)\n",
    "    \n",
    "    @staticmethod\n",
    "    def is_workday(day):\n",
    "        if day.weekday() == 6 or day.weekday==7:\n",
    "            # .weekday means week of day\n",
    "            return False\n",
    "        return True\n",
    "    # if the method doesnt use self or cls, then it should be a static method\n",
    "\n",
    "    def __repr__(self):\n",
    "        return \"Employee('{}', '{}', '{}')\".format(self.first,self.last,self.pay)\n",
    "    \n",
    "    def __str__(self):\n",
    "        return '{} - {}'.format(self.fullname(),self.email)"
   ]
  },
  {
   "cell_type": "markdown",
   "metadata": {},
   "source": [
    "__repr__ is called by repr in python, same for __str__ and str"
   ]
  },
  {
   "cell_type": "code",
   "execution_count": 93,
   "metadata": {},
   "outputs": [
    {
     "name": "stdout",
     "output_type": "stream",
     "text": [
      "Employee('John', 'Doe', '50000')\n"
     ]
    }
   ],
   "source": [
    "emp1 = Employee('John','Doe',50000)\n",
    "\n",
    "print(emp1)"
   ]
  },
  {
   "cell_type": "code",
   "execution_count": 104,
   "metadata": {},
   "outputs": [
    {
     "name": "stdout",
     "output_type": "stream",
     "text": [
      "John Doe - John.Doe@company.com\n",
      "John Doe - John.Doe@company.com\n"
     ]
    }
   ],
   "source": [
    "emp1 = Employee('John','Doe',50000)\n",
    "\n",
    "print(emp1) # by default the __str__ will be override called over __repr__ in print\n",
    "print(str(emp1))"
   ]
  },
  {
   "cell_type": "markdown",
   "metadata": {},
   "source": [
    "for int, the + is calls the __add__ method"
   ]
  },
  {
   "cell_type": "code",
   "execution_count": 105,
   "metadata": {},
   "outputs": [
    {
     "data": {
      "text/plain": [
       "3"
      ]
     },
     "execution_count": 105,
     "metadata": {},
     "output_type": "execute_result"
    }
   ],
   "source": [
    "# e.g.\n",
    "1+2"
   ]
  },
  {
   "cell_type": "code",
   "execution_count": 106,
   "metadata": {},
   "outputs": [
    {
     "data": {
      "text/plain": [
       "3"
      ]
     },
     "execution_count": 106,
     "metadata": {},
     "output_type": "execute_result"
    }
   ],
   "source": [
    "int.__add__(1,2)"
   ]
  },
  {
   "cell_type": "code",
   "execution_count": 107,
   "metadata": {},
   "outputs": [
    {
     "data": {
      "text/plain": [
       "5"
      ]
     },
     "execution_count": 107,
     "metadata": {},
     "output_type": "execute_result"
    }
   ],
   "source": [
    "len('hello')"
   ]
  },
  {
   "cell_type": "code",
   "execution_count": 108,
   "metadata": {},
   "outputs": [
    {
     "data": {
      "text/plain": [
       "5"
      ]
     },
     "execution_count": 108,
     "metadata": {},
     "output_type": "execute_result"
    }
   ],
   "source": [
    "'hello'.__len__()"
   ]
  },
  {
   "cell_type": "markdown",
   "metadata": {},
   "source": [
    "different methods\n",
    "* https://docs.python.org/3/reference/datamodel.html"
   ]
  },
  {
   "cell_type": "markdown",
   "metadata": {},
   "source": [
    "if u want smone to do len(emp1) and get the len of the full name, u can add that to do class. by default it wouldnt work since emp1 is an object"
   ]
  },
  {
   "cell_type": "code",
   "execution_count": 109,
   "metadata": {},
   "outputs": [
    {
     "data": {
      "text/plain": [
       "Employee('John', 'Doe', '50000')"
      ]
     },
     "execution_count": 109,
     "metadata": {},
     "output_type": "execute_result"
    }
   ],
   "source": [
    "emp1"
   ]
  },
  {
   "cell_type": "code",
   "execution_count": 110,
   "metadata": {},
   "outputs": [
    {
     "ename": "TypeError",
     "evalue": "object of type 'Employee' has no len()",
     "output_type": "error",
     "traceback": [
      "\u001b[0;31m---------------------------------------------------------------------------\u001b[0m",
      "\u001b[0;31mTypeError\u001b[0m                                 Traceback (most recent call last)",
      "Cell \u001b[0;32mIn[110], line 1\u001b[0m\n\u001b[0;32m----> 1\u001b[0m \u001b[38;5;28;43mlen\u001b[39;49m\u001b[43m(\u001b[49m\u001b[43memp1\u001b[49m\u001b[43m)\u001b[49m\n",
      "\u001b[0;31mTypeError\u001b[0m: object of type 'Employee' has no len()"
     ]
    }
   ],
   "source": [
    "len(emp1)"
   ]
  },
  {
   "cell_type": "code",
   "execution_count": 111,
   "metadata": {},
   "outputs": [],
   "source": [
    "# e.g. tracking number of Employees and standardised pay raise rate\n",
    "\n",
    "class Employee:\n",
    "\n",
    "    num_employees = 0\n",
    "    raise_amount = 1.04\n",
    "\n",
    "    def __init__(self,first,last,pay) -> None:\n",
    "        self.first = first\n",
    "        self.last = last\n",
    "        self.pay = pay\n",
    "        self.email = first+'.'+last+'@company.com'\n",
    "\n",
    "        # this automatically adds 1 employee to the count when an instance of the class is created\n",
    "        Employee.num_employees += 1\n",
    "    \n",
    "    # each method takes the instance as the first argument\n",
    "    # the self refers to the instance that has been instanstiated\n",
    "    def fullname(self):\n",
    "        return '{} {}'.format(self.first,self.last)\n",
    "    \n",
    "    def apply_raise(self):\n",
    "        self.pay = int(self.pay*self.raise_amount)\n",
    "\n",
    "    @classmethod\n",
    "    def set_raise_amt(cls,amount):\n",
    "        cls.raise_amount = amount\n",
    "    # this class methods will affect entire class \n",
    "    # cls is like self but for the class, cannot use class as argument sicne its used only for class definition in Python\n",
    "\n",
    "    @classmethod\n",
    "    def split_name(cls,emp_str):\n",
    "        first,last,pay = emp_str.split('-')\n",
    "        return cls(first,last,pay)\n",
    "    \n",
    "    @staticmethod\n",
    "    def is_workday(day):\n",
    "        if day.weekday() == 6 or day.weekday==7:\n",
    "            # .weekday means week of day\n",
    "            return False\n",
    "        return True\n",
    "    # if the method doesnt use self or cls, then it should be a static method\n",
    "\n",
    "    def __repr__(self):\n",
    "        return \"Employee('{}', '{}', '{}')\".format(self.first,self.last,self.pay)\n",
    "    \n",
    "    def __str__(self):\n",
    "        return '{} - {}'.format(self.fullname(),self.email)\n",
    "    \n",
    "    def __len__(self):\n",
    "        return len(self.fullname())\n",
    "    \n",
    "    def __test__(self):"
   ]
  },
  {
   "cell_type": "code",
   "execution_count": 113,
   "metadata": {},
   "outputs": [
    {
     "data": {
      "text/plain": [
       "8"
      ]
     },
     "execution_count": 113,
     "metadata": {},
     "output_type": "execute_result"
    }
   ],
   "source": [
    "emp1 = Employee('John','Doe',50000)\n",
    "\n",
    "len(emp1)"
   ]
  },
  {
   "cell_type": "code",
   "execution_count": 114,
   "metadata": {},
   "outputs": [
    {
     "data": {
      "text/plain": [
       "8"
      ]
     },
     "execution_count": 114,
     "metadata": {},
     "output_type": "execute_result"
    }
   ],
   "source": [
    "emp1.__len__()"
   ]
  },
  {
   "attachments": {
    "image.png": {
     "image/png": "[encoded data removed]"
    }
   },
   "cell_type": "markdown",
   "metadata": {},
   "source": [
    "![image.png](attachment:image.png)"
   ]
  },
  {
   "cell_type": "markdown",
   "metadata": {},
   "source": [
    "return NotImplemented doesnt throw any errors and allows other classes to handle the method if they contain the method"
   ]
  },
  {
   "cell_type": "markdown",
   "metadata": {},
   "source": [
    "# property decorators"
   ]
  },
  {
   "cell_type": "code",
   "execution_count": 115,
   "metadata": {},
   "outputs": [],
   "source": [
    "# e.g. tracking number of Employees and standardised pay raise rate\n",
    "\n",
    "class Employee:\n",
    "\n",
    "    num_employees = 0\n",
    "    raise_amount = 1.04\n",
    "\n",
    "    def __init__(self,first,last,pay) -> None:\n",
    "        self.first = first\n",
    "        self.last = last\n",
    "        self.pay = pay\n",
    "        self.email = first + '.' + last + '@company.com'\n",
    "\n",
    "    def fullname(self):\n",
    "        return '{} {}'.format(self.first,self.last)"
   ]
  },
  {
   "cell_type": "code",
   "execution_count": 116,
   "metadata": {},
   "outputs": [
    {
     "name": "stdout",
     "output_type": "stream",
     "text": [
      "Jim\n",
      "John.Doe@company.com\n"
     ]
    }
   ],
   "source": [
    "emp1 = Employee('John','Doe',50000)\n",
    "emp1.first='Jim'\n",
    "print(emp1.first)\n",
    "print(emp1.email)\n",
    "# email doesnt get updated because its defined in the constructor"
   ]
  },
  {
   "cell_type": "markdown",
   "metadata": {},
   "source": [
    "thus we use property decorators, getters, setters, deleters"
   ]
  },
  {
   "cell_type": "code",
   "execution_count": 126,
   "metadata": {},
   "outputs": [
    {
     "name": "stdout",
     "output_type": "stream",
     "text": [
      "Jim\n",
      "Jim.Doe@company.com\n"
     ]
    }
   ],
   "source": [
    "# e.g. tracking number of Employees and standardised pay raise rate\n",
    "\n",
    "class Employee:\n",
    "\n",
    "    num_employees = 0\n",
    "    raise_amount = 1.04\n",
    "\n",
    "    def __init__(self,first,last,pay) -> None:\n",
    "        self.first = first\n",
    "        self.last = last\n",
    "        self.pay = pay\n",
    "        # self.email = first + '.' + last + '@company.com'\n",
    "\n",
    "    def email(self):\n",
    "        return '{}.{}@company.com'.format(self.first,self.last)\n",
    "    \n",
    "    def fullname(self):\n",
    "        return '{} {}'.format(self.first,self.last)\n",
    "    \n",
    "emp1 = Employee('John','Doe',50000)\n",
    "emp1.first='Jim'\n",
    "print(emp1.first)\n",
    "print(emp1.email())"
   ]
  },
  {
   "cell_type": "markdown",
   "metadata": {},
   "source": [
    "but then u need to call the email() method, so instead u just add the @propery"
   ]
  },
  {
   "cell_type": "code",
   "execution_count": 128,
   "metadata": {},
   "outputs": [
    {
     "name": "stdout",
     "output_type": "stream",
     "text": [
      "Jim\n",
      "Jim.Doe@company.com\n"
     ]
    }
   ],
   "source": [
    "# e.g. tracking number of Employees and standardised pay raise rate\n",
    "\n",
    "class Employee:\n",
    "\n",
    "    num_employees = 0\n",
    "    raise_amount = 1.04\n",
    "\n",
    "    def __init__(self,first,last,pay) -> None:\n",
    "        self.first = first\n",
    "        self.last = last\n",
    "        self.pay = pay\n",
    "        # self.email = first + '.' + last + '@company.com'\n",
    "\n",
    "    @property\n",
    "    def email(self):\n",
    "        return '{}.{}@company.com'.format(self.first,self.last)\n",
    "    \n",
    "    def fullname(self):\n",
    "        return '{} {}'.format(self.first,self.last)\n",
    "    \n",
    "emp1 = Employee('John','Doe',50000)\n",
    "emp1.first='Jim'\n",
    "print(emp1.first)\n",
    "print(emp1.email)"
   ]
  },
  {
   "cell_type": "markdown",
   "metadata": {},
   "source": [
    "email now works like a attribute but then its actually defined in a class method"
   ]
  },
  {
   "cell_type": "code",
   "execution_count": 129,
   "metadata": {},
   "outputs": [
    {
     "name": "stdout",
     "output_type": "stream",
     "text": [
      "Jim\n",
      "Jim.Doe@company.com\n",
      "Jim Doe\n"
     ]
    }
   ],
   "source": [
    "class Employee:\n",
    "\n",
    "    num_employees = 0\n",
    "    raise_amount = 1.04\n",
    "\n",
    "    def __init__(self,first,last,pay) -> None:\n",
    "        self.first = first\n",
    "        self.last = last\n",
    "        self.pay = pay\n",
    "        # self.email = first + '.' + last + '@company.com'\n",
    "\n",
    "    @property\n",
    "    def email(self):\n",
    "        return '{}.{}@company.com'.format(self.first,self.last)\n",
    "    \n",
    "    @property\n",
    "    def fullname(self):\n",
    "        return '{} {}'.format(self.first,self.last)\n",
    "    \n",
    "emp1 = Employee('John','Doe',50000)\n",
    "emp1.first='Jim'\n",
    "print(emp1.first)\n",
    "print(emp1.email)\n",
    "print(emp1.fullname)"
   ]
  },
  {
   "cell_type": "code",
   "execution_count": 130,
   "metadata": {},
   "outputs": [
    {
     "ename": "AttributeError",
     "evalue": "can't set attribute",
     "output_type": "error",
     "traceback": [
      "\u001b[0;31m---------------------------------------------------------------------------\u001b[0m",
      "\u001b[0;31mAttributeError\u001b[0m                            Traceback (most recent call last)",
      "Cell \u001b[0;32mIn[130], line 1\u001b[0m\n\u001b[0;32m----> 1\u001b[0m \u001b[43memp1\u001b[49m\u001b[38;5;241;43m.\u001b[39;49m\u001b[43mfullname\u001b[49m \u001b[38;5;241m=\u001b[39m \u001b[38;5;124m'\u001b[39m\u001b[38;5;124mJim Doe\u001b[39m\u001b[38;5;124m'\u001b[39m\n",
      "\u001b[0;31mAttributeError\u001b[0m: can't set attribute"
     ]
    }
   ],
   "source": [
    "emp1.fullname = 'Jim Doe'"
   ]
  },
  {
   "cell_type": "markdown",
   "metadata": {},
   "source": [
    "if we want to auto change the first and last name when we change the full name, we can use a setter"
   ]
  },
  {
   "cell_type": "code",
   "execution_count": 133,
   "metadata": {},
   "outputs": [
    {
     "name": "stdout",
     "output_type": "stream",
     "text": [
      "Jim\n",
      "Jim.Doe@company.com\n",
      "Jim Doe\n",
      "Jim\n",
      "Doe\n",
      "Delete Name!\n"
     ]
    }
   ],
   "source": [
    "class Employee:\n",
    "\n",
    "    num_employees = 0\n",
    "    raise_amount = 1.04\n",
    "\n",
    "    def __init__(self,first,last,pay) -> None:\n",
    "        self.first = first\n",
    "        self.last = last\n",
    "        self.pay = pay\n",
    "        # self.email = first + '.' + last + '@company.com'\n",
    "\n",
    "    @property\n",
    "    def email(self):\n",
    "        return '{}.{}@company.com'.format(self.first,self.last)\n",
    "    \n",
    "    @property\n",
    "    def fullname(self):\n",
    "        return '{} {}'.format(self.first,self.last)\n",
    "    \n",
    "    @fullname.setter\n",
    "    def fullname(self,name):\n",
    "        first,last=name.split(' ')\n",
    "        self.first = first\n",
    "        self.last = last\n",
    "    \n",
    "    @fullname.deleter\n",
    "    def fullname(self):\n",
    "        print('Delete Name!')\n",
    "        self.first=None\n",
    "        self.last=None\n",
    "\n",
    "emp1 = Employee('John','Doe',50000)\n",
    "emp1.first='Jim'\n",
    "print(emp1.first)\n",
    "print(emp1.email)\n",
    "print(emp1.fullname)\n",
    "emp1.fullname = 'Jim Doe'\n",
    "print(emp1.first)\n",
    "print(emp1.last)\n",
    "del emp1.fullname"
   ]
  },
  {
   "cell_type": "code",
   "execution_count": null,
   "metadata": {},
   "outputs": [],
   "source": []
  },
  {
   "cell_type": "markdown",
   "metadata": {},
   "source": [
    "# private variables and functions using __ in Python"
   ]
  },
  {
   "cell_type": "markdown",
   "metadata": {},
   "source": [
    "Single Underscore (_)\n",
    "* Purpose: A single leading underscore is a convention to indicate that the attribute or method is intended for internal use only. It's a hint to other developers that they shouldn't access or modify this attribute/method directly.\n",
    "Behavior: Python doesn’t enforce this; you can still access or modify the attribute if you want."
   ]
  },
  {
   "cell_type": "markdown",
   "metadata": {},
   "source": [
    "Double Underscore (__)\n",
    "* Purpose: A double leading underscore triggers name mangling in Python. This means Python will automatically modify the attribute's name to make it harder to accidentally override or access it from outside the class. It's used to prevent name conflicts in subclasses.\n",
    "Behavior: The attribute is not easily accessible by its original name from outside the class, although you can still access it with the mangled name if you know what it is."
   ]
  },
  {
   "cell_type": "code",
   "execution_count": null,
   "metadata": {},
   "outputs": [
    {
     "name": "stdout",
     "output_type": "stream",
     "text": [
      "1\n"
     ]
    },
    {
     "ename": "AttributeError",
     "evalue": "'SampleClass' object has no attribute '__b'",
     "output_type": "error",
     "traceback": [
      "\u001b[0;31m---------------------------------------------------------------------------\u001b[0m\n",
      "\u001b[0;31mAttributeError\u001b[0m                            Traceback (most recent call last)\n",
      "Cell \u001b[0;32mIn[142], line 8\u001b[0m\n",
      "\u001b[1;32m      6\u001b[0m s \u001b[38;5;241m=\u001b[39m SampleClass()\n",
      "\u001b[1;32m      7\u001b[0m \u001b[38;5;28mprint\u001b[39m(s\u001b[38;5;241m.\u001b[39m_a)\n",
      "\u001b[0;32m----> 8\u001b[0m \u001b[38;5;28mprint\u001b[39m(\u001b[43ms\u001b[49m\u001b[38;5;241;43m.\u001b[39;49m\u001b[43m__b\u001b[49m)\n",
      "\n",
      "\u001b[0;31mAttributeError\u001b[0m: 'SampleClass' object has no attribute '__b'"
     ]
    }
   ],
   "source": [
    "class SampleClass:\n",
    "    def __init__(self) -> None:\n",
    "        self._a = 1\n",
    "        self.__b = 1\n",
    "\n",
    "s = SampleClass()\n",
    "print(s._a)\n",
    "print(s.__b) # __b is how you set private variables in Python"
   ]
  },
  {
   "cell_type": "code",
   "execution_count": null,
   "metadata": {},
   "outputs": [
    {
     "data": {
      "text/plain": [
       "10"
      ]
     },
     "metadata": {},
     "output_type": "display_data"
    }
   ],
   "source": [
    "class SampleClass:\n",
    "    def __init__(self) -> None:\n",
    "        self.__a = 1\n",
    "        self.__a +=9\n",
    "\n",
    "    def get_a(self):\n",
    "        return self.__a\n",
    "\n",
    "s = SampleClass()\n",
    "s.get_a()"
   ]
  },
  {
   "cell_type": "markdown",
   "metadata": {},
   "source": [
    "can also do private functions in python"
   ]
  },
  {
   "cell_type": "code",
   "execution_count": null,
   "metadata": {},
   "outputs": [
    {
     "name": "stdout",
     "output_type": "stream",
     "text": [
      "20\n",
      "30\n"
     ]
    },
    {
     "ename": "AttributeError",
     "evalue": "'SampleClass' object has no attribute '__test3'",
     "output_type": "error",
     "traceback": [
      "\u001b[0;31m---------------------------------------------------------------------------\u001b[0m\n",
      "\u001b[0;31mAttributeError\u001b[0m                            Traceback (most recent call last)\n",
      "Cell \u001b[0;32mIn[143], line 21\u001b[0m\n",
      "\u001b[1;32m     19\u001b[0m \u001b[38;5;28mprint\u001b[39m(s\u001b[38;5;241m.\u001b[39mtest1())\n",
      "\u001b[1;32m     20\u001b[0m \u001b[38;5;28mprint\u001b[39m(s\u001b[38;5;241m.\u001b[39m_test2())\n",
      "\u001b[0;32m---> 21\u001b[0m \u001b[38;5;28mprint\u001b[39m(\u001b[43ms\u001b[49m\u001b[38;5;241;43m.\u001b[39;49m\u001b[43m__test3\u001b[49m())\n",
      "\n",
      "\u001b[0;31mAttributeError\u001b[0m: 'SampleClass' object has no attribute '__test3'"
     ]
    }
   ],
   "source": [
    "class SampleClass:\n",
    "    def __init__(self) -> None:\n",
    "        self.__a = 1\n",
    "        self.__a +=9\n",
    "\n",
    "    def get_a(self):\n",
    "        return self.__a\n",
    "    \n",
    "    def test1(self):\n",
    "        return 20\n",
    "    \n",
    "    def _test2(self):\n",
    "        return 30\n",
    "    \n",
    "    def __test3(self):\n",
    "        return 40\n",
    "\n",
    "s = SampleClass()\n",
    "print(s.test1())\n",
    "print(s._test2())\n",
    "print(s.__test3()) # cannot be accessed outside the class"
   ]
  },
  {
   "cell_type": "markdown",
   "metadata": {},
   "source": [
    "# static and class method"
   ]
  },
  {
   "cell_type": "markdown",
   "metadata": {},
   "source": [
    "@ means decorator"
   ]
  },
  {
   "cell_type": "markdown",
   "metadata": {},
   "source": [
    "used when a method is used but doesnt need the self, i.e. is not instance specific"
   ]
  },
  {
   "cell_type": "markdown",
   "metadata": {},
   "source": [
    "instance methods: take in self (the normal class methods)\n",
    "class methods: take in cls\n",
    "static methods: dont take in self nor cls "
   ]
  },
  {
   "cell_type": "markdown",
   "metadata": {},
   "source": [
    "static methods can actually just be removed from the class and be define as a global function outside the class but for cases where its not general enough or specific for a class then you can just use the static method"
   ]
  },
  {
   "cell_type": "markdown",
   "metadata": {},
   "source": [
    "The reason to use staticmethod is if you have something that could be written as a standalone function (not part of any class), but you want to keep it within the class because it's somehow semantically related to the clas"
   ]
  },
  {
   "cell_type": "code",
   "execution_count": null,
   "metadata": {},
   "outputs": [],
   "source": [
    "# e.g. static method\n",
    "\n",
    "class ChunkSimilarity(Metric):\n",
    "    def __init__(self) -> None:\n",
    "        super().__init__('Chunk Similarity')\n",
    "\n",
    "    @staticmethod\n",
    "    def preprocess_text(text):\n",
    "        text = text.lower()\n",
    "        text = re.sub(r'\\d+', '', text)\n",
    "        text = text.translate(str.maketrans('', '', string.punctuation))\n",
    "        text = text.strip()\n",
    "\n",
    "        tokens = word_tokenize(text, preserve_line=True)\n",
    "        stop_words = set(stopwords.words('english'))\n",
    "        tokens = [i for i in tokens if not i in stop_words]\n",
    "\n",
    "        lemmatizer = WordNetLemmatizer()\n",
    "        tokens = [lemmatizer.lemmatize(i) for i in tokens]\n",
    "\n",
    "        return tokens"
   ]
  },
  {
   "cell_type": "markdown",
   "metadata": {},
   "source": [
    "preprocess_text can be defined outside but probably in this repo, there are other functions to preprocess_text and this one is a specific preprocess_text for this class"
   ]
  },
  {
   "cell_type": "markdown",
   "metadata": {},
   "source": [
    "staticmethod is uncommon and usually unneccessary"
   ]
  },
  {
   "cell_type": "markdown",
   "metadata": {},
   "source": [
    "adding the @staticmethod even thought the code works fine without to inform others about it"
   ]
  },
  {
   "cell_type": "markdown",
   "metadata": {},
   "source": [
    "classmethod is common, usually used to create another instance with different set of arguments\n",
    "* classmethod directly affects the class"
   ]
  },
  {
   "cell_type": "markdown",
   "metadata": {},
   "source": [
    "e.g. class method below, if lets say smone inputs birth year instead of age, we can have a function that auto does it\n",
    "* in this case the classmethod is used as an alternative constructor (this is one of the more common usage of classmethod - as an alternative constructor (i.e. __init__)\n",
    "* or When you want to operate on the class itself, modifying or working with class-level attributes or logic."
   ]
  },
  {
   "cell_type": "code",
   "execution_count": 149,
   "metadata": {},
   "outputs": [
    {
     "data": {
      "text/plain": [
       "'Fede is 34 years old.'"
      ]
     },
     "execution_count": 149,
     "metadata": {},
     "output_type": "execute_result"
    }
   ],
   "source": [
    "from datetime import date\n",
    "# e.g. class method\n",
    "class Person:\n",
    "    def __init__(self, name: str, age: int) -> None:\n",
    "        self.name = name\n",
    "        self.age = age\n",
    "\n",
    "    def description(self) -> str:\n",
    "        return \"{} is {} years old.\".format(self.name, self.age)\n",
    "    \n",
    "    @classmethod\n",
    "    def age_from_year(cls, name: str, birth_year: int):\n",
    "        current_year: int = date.today().year\n",
    "        age: int = current_year - birth_year\n",
    "        return cls(name, age)\n",
    "\n",
    "    \n",
    "p1 = Person('Jane', 29)\n",
    "p1.description()\n",
    "\n",
    "p2 = Person('Fede', 34)\n",
    "p2.description()"
   ]
  },
  {
   "cell_type": "code",
   "execution_count": null,
   "metadata": {},
   "outputs": [],
   "source": []
  },
  {
   "cell_type": "code",
   "execution_count": null,
   "metadata": {},
   "outputs": [],
   "source": []
  },
  {
   "cell_type": "markdown",
   "metadata": {},
   "source": [
    "# useful tools"
   ]
  },
  {
   "cell_type": "markdown",
   "metadata": {},
   "source": [
    "print help in python to see the details of how python looks for attribtues and methods in order of priority for subclasses and inheritance"
   ]
  },
  {
   "cell_type": "code",
   "execution_count": null,
   "metadata": {},
   "outputs": [
    {
     "name": "stdout",
     "output_type": "stream",
     "text": [
      "Help on class Developer in module __main__:\n",
      "\n",
      "class Developer(Employee)\n",
      " |  Developer(first, last, pay) -> None\n",
      " |  \n",
      " |  Method resolution order:\n",
      " |      Developer\n",
      " |      Employee\n",
      " |      builtins.object\n",
      " |  \n",
      " |  Methods inherited from Employee:\n",
      " |  \n",
      " |  __init__(self, first, last, pay) -> None\n",
      " |      Initialize self.  See help(type(self)) for accurate signature.\n",
      " |  \n",
      " |  apply_raise(self)\n",
      " |  \n",
      " |  fullname(self)\n",
      " |      # each method takes the instance as the first argument\n",
      " |      # the self refers to the instance that has been instanstiated\n",
      " |  \n",
      " |  ----------------------------------------------------------------------\n",
      " |  Class methods inherited from Employee:\n",
      " |  \n",
      " |  set_raise_amt(amount) from builtins.type\n",
      " |  \n",
      " |  split_name(emp_str) from builtins.type\n",
      " |  \n",
      " |  ----------------------------------------------------------------------\n",
      " |  Static methods inherited from Employee:\n",
      " |  \n",
      " |  is_workday(day)\n",
      " |  \n",
      " |  ----------------------------------------------------------------------\n",
      " |  Data descriptors inherited from Employee:\n",
      " |  \n",
      " |  __dict__\n",
      " |      dictionary for instance variables (if defined)\n",
      " |  \n",
      " |  __weakref__\n",
      " |      list of weak references to the object (if defined)\n",
      " |  \n",
      " |  ----------------------------------------------------------------------\n",
      " |  Data and other attributes inherited from Employee:\n",
      " |  \n",
      " |  num_employees = 4\n",
      " |  \n",
      " |  raise_amount = 1.04\n",
      "\n",
      "None\n"
     ]
    }
   ],
   "source": [
    "print(help(Developer))"
   ]
  },
  {
   "cell_type": "markdown",
   "metadata": {},
   "source": [
    "use __string__ to directly edit the print method for a class"
   ]
  },
  {
   "cell_type": "code",
   "execution_count": 45,
   "metadata": {},
   "outputs": [
    {
     "name": "stdout",
     "output_type": "stream",
     "text": [
      "<__main__.Fruit object at 0x10ccae640>\n"
     ]
    }
   ],
   "source": [
    "class Fruit:\n",
    "    def __init__(self,fruit,price):\n",
    "        self.fruit = fruit\n",
    "        self.price = price\n",
    "\n",
    "f1 = Fruit('banana',2)\n",
    "print(f1)"
   ]
  },
  {
   "cell_type": "markdown",
   "metadata": {},
   "source": [
    "edit the __string__ method"
   ]
  },
  {
   "cell_type": "code",
   "execution_count": 47,
   "metadata": {},
   "outputs": [
    {
     "name": "stdout",
     "output_type": "stream",
     "text": [
      "banana @ $2\n"
     ]
    }
   ],
   "source": [
    "class Fruit:\n",
    "    def __init__(self,fruit,price):\n",
    "        self.fruit = fruit\n",
    "        self.price = price\n",
    "\n",
    "    def __str__(self):\n",
    "        return f'{self.fruit} @ ${self.price}'\n",
    "\n",
    "f1 = Fruit('banana',2)\n",
    "print(f1)"
   ]
  },
  {
   "cell_type": "markdown",
   "metadata": {},
   "source": [
    "or can use __repr__\n",
    "* https://www.digitalocean.com/community/tutorials/python-str-repr-functions"
   ]
  },
  {
   "cell_type": "markdown",
   "metadata": {},
   "source": [
    "use __add__ to directly edit the print method for a class"
   ]
  },
  {
   "cell_type": "code",
   "execution_count": 49,
   "metadata": {},
   "outputs": [
    {
     "ename": "TypeError",
     "evalue": "unsupported operand type(s) for +: 'Fruit' and 'Fruit'",
     "output_type": "error",
     "traceback": [
      "\u001b[0;31m---------------------------------------------------------------------------\u001b[0m",
      "\u001b[0;31mTypeError\u001b[0m                                 Traceback (most recent call last)",
      "Cell \u001b[0;32mIn[49], line 13\u001b[0m\n\u001b[1;32m     10\u001b[0m f1 \u001b[38;5;241m=\u001b[39m Fruit(\u001b[38;5;124m'\u001b[39m\u001b[38;5;124mbanana\u001b[39m\u001b[38;5;124m'\u001b[39m,\u001b[38;5;241m2\u001b[39m)\n\u001b[1;32m     11\u001b[0m f2 \u001b[38;5;241m=\u001b[39m Fruit(\u001b[38;5;124m'\u001b[39m\u001b[38;5;124mapple\u001b[39m\u001b[38;5;124m'\u001b[39m,\u001b[38;5;241m1\u001b[39m)\n\u001b[0;32m---> 13\u001b[0m \u001b[38;5;28mprint\u001b[39m(\u001b[43mf1\u001b[49m\u001b[38;5;241;43m+\u001b[39;49m\u001b[43mf2\u001b[49m)\n",
      "\u001b[0;31mTypeError\u001b[0m: unsupported operand type(s) for +: 'Fruit' and 'Fruit'"
     ]
    }
   ],
   "source": [
    "class Fruit:\n",
    "    def __init__(self,fruit,price):\n",
    "        self.fruit = fruit\n",
    "        self.price = price\n",
    "\n",
    "    def __str__(self):\n",
    "        return f'{self.fruit} @ ${self.price}'\n",
    "    \n",
    "\n",
    "f1 = Fruit('banana',2)\n",
    "f2 = Fruit('apple',1)\n",
    "\n",
    "print(f1+f2)"
   ]
  },
  {
   "cell_type": "markdown",
   "metadata": {},
   "source": [
    "edit the __add__ method"
   ]
  },
  {
   "cell_type": "code",
   "execution_count": 59,
   "metadata": {},
   "outputs": [
    {
     "name": "stdout",
     "output_type": "stream",
     "text": [
      "3\n"
     ]
    }
   ],
   "source": [
    "class Fruit:\n",
    "    def __init__(self,fruit,price):\n",
    "        self.fruit = fruit\n",
    "        self.price = price\n",
    "\n",
    "    def __str__(self):\n",
    "        return f'{self.fruit} @ ${self.price}'\n",
    "\n",
    "    def __add__(self,other):\n",
    "        return self.price+other.price\n",
    "\n",
    "f1 = Fruit('banana',2)\n",
    "f2 = Fruit('apple',1)\n",
    "\n",
    "print(f1+f2)"
   ]
  },
  {
   "cell_type": "code",
   "execution_count": 61,
   "metadata": {},
   "outputs": [
    {
     "ename": "TypeError",
     "evalue": "unsupported operand type(s) for +: 'int' and 'Fruit'",
     "output_type": "error",
     "traceback": [
      "\u001b[0;31m---------------------------------------------------------------------------\u001b[0m",
      "\u001b[0;31mTypeError\u001b[0m                                 Traceback (most recent call last)",
      "Cell \u001b[0;32mIn[61], line 20\u001b[0m\n\u001b[1;32m     17\u001b[0m f2 \u001b[38;5;241m=\u001b[39m Fruit(\u001b[38;5;124m'\u001b[39m\u001b[38;5;124mapple\u001b[39m\u001b[38;5;124m'\u001b[39m,\u001b[38;5;241m1\u001b[39m)\n\u001b[1;32m     18\u001b[0m f3 \u001b[38;5;241m=\u001b[39m Fruit(\u001b[38;5;124m'\u001b[39m\u001b[38;5;124mwatermelon\u001b[39m\u001b[38;5;124m'\u001b[39m,\u001b[38;5;241m5\u001b[39m)\n\u001b[0;32m---> 20\u001b[0m \u001b[38;5;28mprint\u001b[39m(\u001b[43mf1\u001b[49m\u001b[38;5;241;43m+\u001b[39;49m\u001b[43mf2\u001b[49m\u001b[38;5;241;43m+\u001b[39;49m\u001b[43mf3\u001b[49m)\n",
      "\u001b[0;31mTypeError\u001b[0m: unsupported operand type(s) for +: 'int' and 'Fruit'"
     ]
    }
   ],
   "source": [
    "class Fruit:\n",
    "    def __init__(self,fruit,price):\n",
    "        self.fruit = fruit\n",
    "        self.price = price\n",
    "\n",
    "    def __str__(self):\n",
    "        return f'{self.fruit} @ ${self.price}'\n",
    "\n",
    "    # for variable number of others\n",
    "    def __add__(self,*others):\n",
    "        res = self.price\n",
    "        for other in others:\n",
    "            res += other.price\n",
    "        return res\n",
    "    \n",
    "f1 = Fruit('banana',2)\n",
    "f2 = Fruit('apple',1)\n",
    "f3 = Fruit('watermelon',5)\n",
    "\n",
    "print(f1+f2+f3)\n",
    "    "
   ]
  },
  {
   "cell_type": "markdown",
   "metadata": {},
   "source": [
    "this doesnt work because f1+f2 returns an int and then that int gets calculated with a Fruit object which thus does not work"
   ]
  }
 ],
 "metadata": {
  "kernelspec": {
   "display_name": "langchain",
   "language": "python",
   "name": "langchain"
  },
  "language_info": {
   "codemirror_mode": {
    "name": "ipython",
    "version": 3
   },
   "file_extension": ".py",
   "mimetype": "text/x-python",
   "name": "python",
   "nbconvert_exporter": "python",
   "pygments_lexer": "ipython3",
   "version": "3.9.6"
  }
 },
 "nbformat": 4,
 "nbformat_minor": 2
}
