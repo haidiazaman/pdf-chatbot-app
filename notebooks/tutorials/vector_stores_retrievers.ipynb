{
 "cells": [
  {
   "cell_type": "markdown",
   "id": "b05cd747-9be8-406a-911d-5d0f0155a0b2",
   "metadata": {},
   "source": [
    "# Vector stores and retrievers\n",
    "- important for applications that fetch data to be reasoned over as part of model inference, as in the case of RAG "
   ]
  },
  {
   "cell_type": "markdown",
   "id": "c7cbf813-7336-4086-8d8f-d58528fa0ef7",
   "metadata": {},
   "source": [
    "Documents\n",
    "\n",
    "LangChain implements a Document abstraction, which is intended to represent a unit of text and associated metadata. It has two attributes:\n",
    "\n",
    "page_content: a string representing the content;\n",
    "metadata: a dict containing arbitrary metadata.\n",
    "The metadata attribute can capture information about the source of the document, its relationship to other documents, and other information. Note that an individual \n",
    "Document object often represents a chunk of a larger document."
   ]
  },
  {
   "cell_type": "code",
   "execution_count": 7,
   "id": "9a58a1b6-96aa-4e0a-b2de-a6841d2b116b",
   "metadata": {},
   "outputs": [
    {
     "data": {
      "text/plain": [
       "[Document(metadata={'source': 'mammal-pets-doc'}, page_content='Dogs are great companions, known for their loyalty and friendliness.'),\n",
       " Document(metadata={'source': 'mammal-pets-doc'}, page_content='Cats are independent pets that often enjoy their own space.'),\n",
       " Document(metadata={'source': 'fish-pets-doc'}, page_content='Goldfish are popular pets for beginners, requiring relatively simple care.'),\n",
       " Document(metadata={'source': 'bird-pets-doc'}, page_content='Parrots are intelligent birds capable of mimicking human speech.'),\n",
       " Document(metadata={'source': 'mammal-pets-doc'}, page_content='Rabbits are social animals that need plenty of space to hop around.')]"
      ]
     },
     "execution_count": 7,
     "metadata": {},
     "output_type": "execute_result"
    }
   ],
   "source": [
    "# generate some sample documents\n",
    "\n",
    "from langchain_core.documents import Document\n",
    "\n",
    "documents = [\n",
    "    Document(\n",
    "        page_content=\"Dogs are great companions, known for their loyalty and friendliness.\",\n",
    "        metadata={\"source\": \"mammal-pets-doc\"},\n",
    "    ),\n",
    "    Document(\n",
    "        page_content=\"Cats are independent pets that often enjoy their own space.\",\n",
    "        metadata={\"source\": \"mammal-pets-doc\"},\n",
    "    ),\n",
    "    Document(\n",
    "        page_content=\"Goldfish are popular pets for beginners, requiring relatively simple care.\",\n",
    "        metadata={\"source\": \"fish-pets-doc\"},\n",
    "    ),\n",
    "    Document(\n",
    "        page_content=\"Parrots are intelligent birds capable of mimicking human speech.\",\n",
    "        metadata={\"source\": \"bird-pets-doc\"},\n",
    "    ),\n",
    "    Document(\n",
    "        page_content=\"Rabbits are social animals that need plenty of space to hop around.\",\n",
    "        metadata={\"source\": \"mammal-pets-doc\"},\n",
    "    ),\n",
    "]\n",
    "\n",
    "documents"
   ]
  },
  {
   "cell_type": "markdown",
   "id": "8c30ddc9-4224-4063-a78f-010bf743ffc6",
   "metadata": {},
   "source": [
    "Vector stores\n",
    "* a way to store embeddings\n",
    "* text are converted to vector embeddings using an embedding model\n",
    "* human query also converted to vector embeddings of the same length\n",
    "* when a query is passed query_vector and document_vector are compared using vector similarity metrics to identify relevant documents for the given query\n",
    "* example vector store: Chroma\n",
    "* example embedding model: OpenAI embeddings"
   ]
  },
  {
   "cell_type": "code",
   "execution_count": 16,
   "id": "994fb933-b5f1-4313-b7be-a5370525184a",
   "metadata": {},
   "outputs": [
    {
     "name": "stdin",
     "output_type": "stream",
     "text": [
      " ········\n"
     ]
    }
   ],
   "source": [
    "import getpass\n",
    "import os\n",
    "\n",
    "os.environ[\"OPENAI_API_KEY\"] = getpass.getpass()"
   ]
  },
  {
   "cell_type": "code",
   "execution_count": 18,
   "id": "d74fd150-3854-4e6a-b1f7-4cffc68448ae",
   "metadata": {},
   "outputs": [
    {
     "data": {
      "text/plain": [
       "<langchain_chroma.vectorstores.Chroma at 0x1542a52b0>"
      ]
     },
     "execution_count": 18,
     "metadata": {},
     "output_type": "execute_result"
    }
   ],
   "source": [
    "from langchain_chroma import Chroma \n",
    "from langchain_openai import OpenAIEmbeddings\n",
    "\n",
    "vectorstore = Chroma.from_documents(\n",
    "    documents,\n",
    "    embedding=OpenAIEmbeddings()\n",
    ")\n",
    "# Calling .from_documents here will add the documents to the vector store.\n",
    "vectorstore"
   ]
  },
  {
   "cell_type": "markdown",
   "id": "34858ca8-5894-47de-b4b3-baf18bf59bd0",
   "metadata": {},
   "source": [
    "Once we've instantiated a VectorStore that contains documents, we can query it. VectorStore includes methods for querying:\n",
    "\n",
    "* Synchronously and asynchronously;\n",
    "* By string query and by vector;\n",
    "* With and without returning similarity scores;\n",
    "* By similarity and maximum marginal relevance (to balance similarity with query to diversity in retrieved results)."
   ]
  },
  {
   "cell_type": "code",
   "execution_count": 22,
   "id": "f00e5ada-d81a-4cf6-9603-7376aa31e044",
   "metadata": {},
   "outputs": [
    {
     "data": {
      "text/plain": [
       "[Document(metadata={'source': 'mammal-pets-doc'}, page_content='Cats are independent pets that often enjoy their own space.'),\n",
       " Document(metadata={'source': 'mammal-pets-doc'}, page_content='Dogs are great companions, known for their loyalty and friendliness.'),\n",
       " Document(metadata={'source': 'fish-pets-doc'}, page_content='Goldfish are popular pets for beginners, requiring relatively simple care.'),\n",
       " Document(metadata={'source': 'bird-pets-doc'}, page_content='Parrots are intelligent birds capable of mimicking human speech.')]"
      ]
     },
     "execution_count": 22,
     "metadata": {},
     "output_type": "execute_result"
    }
   ],
   "source": [
    "vectorstore.similarity_search(query='describe cats',k=4)"
   ]
  },
  {
   "cell_type": "code",
   "execution_count": 24,
   "id": "b263ead3-b555-4745-948a-c86cb15b627e",
   "metadata": {},
   "outputs": [
    {
     "data": {
      "text/plain": [
       "[(Document(metadata={'source': 'mammal-pets-doc'}, page_content='Cats are independent pets that often enjoy their own space.'),\n",
       "  0.328247606754303),\n",
       " (Document(metadata={'source': 'mammal-pets-doc'}, page_content='Dogs are great companions, known for their loyalty and friendliness.'),\n",
       "  0.4731634855270386),\n",
       " (Document(metadata={'source': 'fish-pets-doc'}, page_content='Goldfish are popular pets for beginners, requiring relatively simple care.'),\n",
       "  0.4959432780742645),\n",
       " (Document(metadata={'source': 'bird-pets-doc'}, page_content='Parrots are intelligent birds capable of mimicking human speech.'),\n",
       "  0.5216456055641174)]"
      ]
     },
     "execution_count": 24,
     "metadata": {},
     "output_type": "execute_result"
    }
   ],
   "source": [
    "vectorstore.similarity_search_with_score(query='describe cats',k=4)"
   ]
  },
  {
   "cell_type": "code",
   "execution_count": 26,
   "id": "b05a32df-bf8b-498f-a2d6-688514f5acee",
   "metadata": {},
   "outputs": [
    {
     "data": {
      "text/plain": [
       "[Document(metadata={'source': 'mammal-pets-doc'}, page_content='Cats are independent pets that often enjoy their own space.'),\n",
       " Document(metadata={'source': 'mammal-pets-doc'}, page_content='Dogs are great companions, known for their loyalty and friendliness.'),\n",
       " Document(metadata={'source': 'mammal-pets-doc'}, page_content='Rabbits are social animals that need plenty of space to hop around.'),\n",
       " Document(metadata={'source': 'bird-pets-doc'}, page_content='Parrots are intelligent birds capable of mimicking human speech.')]"
      ]
     },
     "execution_count": 26,
     "metadata": {},
     "output_type": "execute_result"
    }
   ],
   "source": [
    "# Return documents based on similarity to an embedded query:\n",
    "# pass an embedding instead of string query\n",
    "\n",
    "embedding = OpenAIEmbeddings().embed_query(\"cat\")\n",
    "\n",
    "vectorstore.similarity_search_by_vector(embedding)\n",
    "\n"
   ]
  },
  {
   "cell_type": "markdown",
   "id": "23027907-5e7d-45b9-9546-906d5d7c5aed",
   "metadata": {},
   "source": [
    "# Retrievers\n",
    "\n",
    "* vectorstore cant directly be used in Runnable\n",
    "    * https://api.python.langchain.com/en/latest/runnables/langchain_core.runnables.passthrough.RunnablePassthrough.html\n",
    "* instead use Retrievers which can be integrated with Runnables\n",
    "* implement a standard set of methods (e.g., synchronous and asynchronous invoke and batch operations) and are designed to be incorporated in LCEL chains."
   ]
  },
  {
   "cell_type": "code",
   "execution_count": 31,
   "id": "b5afce6f-cea3-4dd0-9190-cc7fb4eabe16",
   "metadata": {},
   "outputs": [
    {
     "data": {
      "text/plain": [
       "[[Document(metadata={'source': 'mammal-pets-doc'}, page_content='Cats are independent pets that often enjoy their own space.')],\n",
       " [Document(metadata={'source': 'fish-pets-doc'}, page_content='Goldfish are popular pets for beginners, requiring relatively simple care.')]]"
      ]
     },
     "execution_count": 31,
     "metadata": {},
     "output_type": "execute_result"
    }
   ],
   "source": [
    "# create a retriever without the VectorStoreRetriever class\n",
    "\n",
    "from langchain_core.documents import Document\n",
    "from langchain_core.runnables import RunnableLambda\n",
    "\n",
    "retriever = RunnableLambda(vectorstore.similarity_search).bind(k=1)  # select top result\n",
    "\n",
    "retriever.batch([\"cat\", \"shark\"])"
   ]
  },
  {
   "cell_type": "markdown",
   "id": "33a7350f-49b3-4dda-8c72-182c479f2f69",
   "metadata": {},
   "source": [
    "instead of instantiating a separate VectorStoreRetriever, you can do vectorstore.as_retriever which will create a VectorStoreRetriever object as well"
   ]
  },
  {
   "cell_type": "code",
   "execution_count": 33,
   "id": "e63994ab-3069-4a93-84c0-83ba2470b4b4",
   "metadata": {},
   "outputs": [
    {
     "data": {
      "text/plain": [
       "[[Document(metadata={'source': 'mammal-pets-doc'}, page_content='Cats are independent pets that often enjoy their own space.')],\n",
       " [Document(metadata={'source': 'fish-pets-doc'}, page_content='Goldfish are popular pets for beginners, requiring relatively simple care.')]]"
      ]
     },
     "execution_count": 33,
     "metadata": {},
     "output_type": "execute_result"
    }
   ],
   "source": [
    "retriever = vectorstore.as_retriever(\n",
    "    search_type='similarity',\n",
    "    search_kwargs={'k':1}\n",
    ")\n",
    "\n",
    "retriever.batch(['cat','shark'])"
   ]
  },
  {
   "cell_type": "code",
   "execution_count": 37,
   "id": "e5c38329-533d-42f4-90f6-04e1da6fa48d",
   "metadata": {},
   "outputs": [
    {
     "data": {
      "text/plain": [
       "[Document(metadata={'source': 'mammal-pets-doc'}, page_content='Cats are independent pets that often enjoy their own space.')]"
      ]
     },
     "execution_count": 37,
     "metadata": {},
     "output_type": "execute_result"
    }
   ],
   "source": [
    "retriever.invoke('cat')"
   ]
  },
  {
   "cell_type": "markdown",
   "id": "dd6e6438-cd27-49be-8447-ce63e4c77032",
   "metadata": {},
   "source": [
    "do this part\n",
    "\n",
    "VectorStoreRetriever supports search types of \"similarity\" (default), \"mmr\" (maximum marginal relevance, described above), and \"similarity_score_threshold\". We can use the latter to threshold documents output by the retriever by similarity score.\n",
    "\n",
    "Retrievers can easily be incorporated into more complex applications, such as retrieval-augmented generation (RAG) applications that combine a given question with retrieved context into a prompt for a LLM. Below we show a minimal example."
   ]
  },
  {
   "cell_type": "code",
   "execution_count": 42,
   "id": "f80de734-ad2b-4093-abc1-148686ad5839",
   "metadata": {},
   "outputs": [
    {
     "name": "stderr",
     "output_type": "stream",
     "text": [
      "Number of requested results 20 is greater than number of elements in index 5, updating n_results = 5\n",
      "Number of requested results 20 is greater than number of elements in index 5, updating n_results = 5\n"
     ]
    },
    {
     "data": {
      "text/plain": [
       "[[Document(metadata={'source': 'mammal-pets-doc'}, page_content='Cats are independent pets that often enjoy their own space.'),\n",
       "  Document(metadata={'source': 'bird-pets-doc'}, page_content='Parrots are intelligent birds capable of mimicking human speech.')],\n",
       " [Document(metadata={'source': 'fish-pets-doc'}, page_content='Goldfish are popular pets for beginners, requiring relatively simple care.'),\n",
       "  Document(metadata={'source': 'bird-pets-doc'}, page_content='Parrots are intelligent birds capable of mimicking human speech.')]]"
      ]
     },
     "execution_count": 42,
     "metadata": {},
     "output_type": "execute_result"
    }
   ],
   "source": [
    "retriever1 = vectorstore.as_retriever(\n",
    "    search_type = 'mmr',\n",
    "    search_kwargs = {'k':2}\n",
    ")\n",
    "\n",
    "retriever1.batch(['cat','shark'])"
   ]
  },
  {
   "cell_type": "code",
   "execution_count": 48,
   "id": "65279f28-fbaa-4c48-bf13-b842bc79c768",
   "metadata": {},
   "outputs": [
    {
     "name": "stderr",
     "output_type": "stream",
     "text": [
      "Number of requested results 20 is greater than number of elements in index 5, updating n_results = 5\n",
      "Number of requested results 20 is greater than number of elements in index 5, updating n_results = 5\n"
     ]
    },
    {
     "data": {
      "text/plain": [
       "[[Document(metadata={'source': 'mammal-pets-doc'}, page_content='Cats are independent pets that often enjoy their own space.'),\n",
       "  Document(metadata={'source': 'bird-pets-doc'}, page_content='Parrots are intelligent birds capable of mimicking human speech.')],\n",
       " [Document(metadata={'source': 'fish-pets-doc'}, page_content='Goldfish are popular pets for beginners, requiring relatively simple care.'),\n",
       "  Document(metadata={'source': 'bird-pets-doc'}, page_content='Parrots are intelligent birds capable of mimicking human speech.')]]"
      ]
     },
     "execution_count": 48,
     "metadata": {},
     "output_type": "execute_result"
    }
   ],
   "source": [
    "retriever2 = vectorstore.as_retriever(\n",
    "    search_type = 'similarity_score_threshold',\n",
    "    search_kwargs = {'k':2,'score_threshold':0.5}\n",
    ")\n",
    "\n",
    "retriever1.batch(['cat','shark'])"
   ]
  },
  {
   "cell_type": "markdown",
   "id": "bf72d8e4-57c7-4c3c-9298-d7095563a66e",
   "metadata": {},
   "source": [
    "# Simple RAG workflow with vector store"
   ]
  },
  {
   "cell_type": "code",
   "execution_count": 53,
   "id": "09235d00-d3aa-47f9-882c-c5448b7b8767",
   "metadata": {},
   "outputs": [
    {
     "name": "stdin",
     "output_type": "stream",
     "text": [
      " ········\n"
     ]
    }
   ],
   "source": [
    "import getpass\n",
    "import os\n",
    "\n",
    "os.environ[\"OPENAI_API_KEY\"] = getpass.getpass()\n",
    "\n",
    "from langchain_openai import ChatOpenAI\n",
    "\n",
    "llm = ChatOpenAI(model='gpt-4o-mini')"
   ]
  },
  {
   "cell_type": "code",
   "execution_count": 55,
   "id": "94a8fa4e-3e8d-419d-9533-57c489580e40",
   "metadata": {},
   "outputs": [],
   "source": [
    "from langchain_core.prompts import ChatPromptTemplate\n",
    "from langchain_core.runnables import RunnablePassthrough\n",
    "\n",
    "message = \"\"\"\n",
    "Answer this question using the provided context only.\n",
    "\n",
    "Question:\n",
    "{question}\n",
    "\n",
    "Context:\n",
    "{context}\n",
    "\"\"\"\n",
    "\n",
    "prompt = ChatPromptTemplate.from_messages(\n",
    "    [\n",
    "        ('human',message)\n",
    "    ]\n",
    ")\n",
    "\n",
    "retriever = vectorstore.as_retriever(\n",
    "    search_type = 'similarity_score_threshold',\n",
    "    search_kwargs = {\n",
    "        'k':2,\n",
    "        'score_threshold':0.5\n",
    "    }\n",
    "    \n",
    ")\n",
    "\n",
    "message_input = {\n",
    "    'question': RunnablePassthrough(),\n",
    "    'context': retriever\n",
    "}\n",
    "\n",
    "rag_chain = message_input | prompt | llm"
   ]
  },
  {
   "cell_type": "code",
   "execution_count": 57,
   "id": "9eb311fd-9127-4b13-bebd-644d25a712b0",
   "metadata": {},
   "outputs": [
    {
     "name": "stdout",
     "output_type": "stream",
     "text": [
      "Cats are independent pets that often enjoy their own space.\n"
     ]
    }
   ],
   "source": [
    "user_input = 'tell me about cats'\n",
    "\n",
    "response = rag_chain.invoke(user_input)\n",
    "print(response.content)"
   ]
  }
 ],
 "metadata": {
  "kernelspec": {
   "display_name": "langchain",
   "language": "python",
   "name": "langchain"
  },
  "language_info": {
   "codemirror_mode": {
    "name": "ipython",
    "version": 3
   },
   "file_extension": ".py",
   "mimetype": "text/x-python",
   "name": "python",
   "nbconvert_exporter": "python",
   "pygments_lexer": "ipython3",
   "version": "3.9.6"
  }
 },
 "nbformat": 4,
 "nbformat_minor": 5
}
