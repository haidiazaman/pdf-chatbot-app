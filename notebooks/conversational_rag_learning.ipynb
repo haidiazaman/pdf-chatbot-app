{
 "cells": [
  {
   "cell_type": "markdown",
   "id": "84ce970c-abd4-4b49-aa3c-66c0b2ae25a7",
   "metadata": {
    "jp-MarkdownHeadingCollapsed": true
   },
   "source": [
    "# generate embeddings using HuggingFaceEmbeddings"
   ]
  },
  {
   "cell_type": "code",
   "execution_count": 33,
   "id": "ae40df88-2b31-4b81-9409-0975048e41f4",
   "metadata": {},
   "outputs": [],
   "source": [
    "import glob\n",
    "import os\n",
    "\n",
    "files_paths = glob.glob(\"/Users/I748920/Desktop/llms-learning/pdf-chatbot-app/data/elements-of-statistical-learning-book/*.pdf\")"
   ]
  },
  {
   "cell_type": "code",
   "execution_count": 25,
   "id": "ebed80d3-7173-4325-a2b6-03b6130c51bf",
   "metadata": {},
   "outputs": [],
   "source": [
    "# load pdfs into dict of key file_path, value list of document objects split by page number\n",
    "\n",
    "from langchain_community.document_loaders import PyPDFLoader\n",
    "from tqdm import tqdm\n",
    "\n",
    "def load_pdfs(file_paths):\n",
    "    \"\"\"\n",
    "    file_paths must end with .pdf\n",
    "    PyPDFLoader auto splits the pdf into pages, each page is 1 Document object\n",
    "\n",
    "    returns a dict of key: file_path and value: list of document objects\n",
    "    \"\"\"\n",
    "    documents_dict = {}   \n",
    "    for f in tqdm(file_paths):\n",
    "        loader = PyPDFLoader(file_path = f)\n",
    "        documents = loader.load()\n",
    "        documents_dict[f] = documents\n",
    "    return documents_dict"
   ]
  },
  {
   "cell_type": "code",
   "execution_count": 27,
   "id": "bc79fcec-0595-4d22-b228-938a7488d230",
   "metadata": {},
   "outputs": [
    {
     "name": "stderr",
     "output_type": "stream",
     "text": [
      "  0%|          | 0/22 [00:00<?, ?it/s]/Users/I748920/Library/Python/3.9/lib/python/site-packages/pypdf/_crypt_providers/_cryptography.py:32: CryptographyDeprecationWarning: ARC4 has been moved to cryptography.hazmat.decrepit.ciphers.algorithms.ARC4 and will be removed from this module in 48.0.0.\n",
      "  from cryptography.hazmat.primitives.ciphers.algorithms import AES, ARC4\n",
      "100%|██████████| 22/22 [00:33<00:00,  1.51s/it]\n"
     ]
    }
   ],
   "source": [
    "documents_dict = load_pdfs(file_paths=files_paths)"
   ]
  },
  {
   "cell_type": "code",
   "execution_count": 35,
   "id": "93f8db4d-2ac5-481e-a59d-59c1e4bd626a",
   "metadata": {
    "scrolled": true
   },
   "outputs": [],
   "source": [
    "# print(len(documents_dict) == len(files_paths), len(documents_dict))\n",
    "\n",
    "# # print all the keys\n",
    "\n",
    "# from pprint import pprint\n",
    "\n",
    "# for k in documents_dict.keys():\n",
    "#     print(k)"
   ]
  },
  {
   "cell_type": "code",
   "execution_count": 37,
   "id": "e62db443-bdb4-4ee3-a430-0ae2f1cd5cbb",
   "metadata": {},
   "outputs": [
    {
     "name": "stdout",
     "output_type": "stream",
     "text": [
      "52\n",
      "1413\n"
     ]
    }
   ],
   "source": [
    "# check\n",
    "\n",
    "print(len(documents_dict['/Users/I748920/Desktop/llms-learning/pdf-chatbot-app/data/elements-of-statistical-learning-book/chap10.pdf']))\n",
    "d = documents_dict['/Users/I748920/Desktop/llms-learning/pdf-chatbot-app/data/elements-of-statistical-learning-book/chap10.pdf']\n",
    "print(len(d[0].page_content))"
   ]
  },
  {
   "cell_type": "code",
   "execution_count": 42,
   "id": "c4f070b5-4c1a-4beb-8bd0-37b2dd218258",
   "metadata": {},
   "outputs": [],
   "source": [
    "# chunk the pdfs\n",
    "\n",
    "from langchain_text_splitters import RecursiveCharacterTextSplitter\n",
    "\n",
    "def chunk_list_of_documents(documents):\n",
    "    \"\"\"\n",
    "    input a list of documents as Document objects\n",
    "\n",
    "    output a list of chunks as Document objects\n",
    "    \"\"\"\n",
    "\n",
    "    text_splitter = RecursiveCharacterTextSplitter(\n",
    "        chunk_size = 500,\n",
    "        chunk_overlap = 100, # using 20% is a good start\n",
    "        length_function=len,\n",
    "        is_separator_regex=False,\n",
    "        add_start_index=True\n",
    "    )\n",
    "\n",
    "    chunks = text_splitter.split_documents(documents)    \n",
    "    return chunks"
   ]
  },
  {
   "cell_type": "markdown",
   "id": "ce1a6fd1-f69a-47d3-89ea-991707c3f849",
   "metadata": {},
   "source": [
    "use only chap 16-18"
   ]
  },
  {
   "cell_type": "code",
   "execution_count": 44,
   "id": "6463f919-1fa3-4877-87bc-b3b553f2e914",
   "metadata": {},
   "outputs": [],
   "source": [
    "keys = [\n",
    "    '/Users/I748920/Desktop/llms-learning/pdf-chatbot-app/data/elements-of-statistical-learning-book/chap16.pdf',\n",
    "    '/Users/I748920/Desktop/llms-learning/pdf-chatbot-app/data/elements-of-statistical-learning-book/chap17.pdf',\n",
    "    '/Users/I748920/Desktop/llms-learning/pdf-chatbot-app/data/elements-of-statistical-learning-book/chap18.pdf'\n",
    "]"
   ]
  },
  {
   "cell_type": "code",
   "execution_count": 48,
   "id": "ca4f072b-c671-4b63-811f-9a617cd6d366",
   "metadata": {},
   "outputs": [
    {
     "name": "stderr",
     "output_type": "stream",
     "text": [
      "100%|██████████| 3/3 [00:00<00:00, 129.03it/s]\n"
     ]
    },
    {
     "data": {
      "text/plain": [
       "528"
      ]
     },
     "execution_count": 48,
     "metadata": {},
     "output_type": "execute_result"
    }
   ],
   "source": [
    "all_chunks = []\n",
    "\n",
    "for key in tqdm(keys):\n",
    "    documents = documents_dict[key]\n",
    "    chunks = chunk_list_of_documents(documents=documents)\n",
    "    all_chunks.extend(chunks)\n",
    "\n",
    "len(all_chunks)"
   ]
  },
  {
   "cell_type": "code",
   "execution_count": 52,
   "id": "0ab93158-3cdf-42ac-9879-986b4de35f2d",
   "metadata": {},
   "outputs": [
    {
     "data": {
      "text/plain": [
       "Document(metadata={'source': '/Users/I748920/Desktop/llms-learning/pdf-chatbot-app/data/elements-of-statistical-learning-book/chap18.pdf', 'page': 0, 'start_index': 0}, page_content='This is page 649\\nPrinter: Opaque this\\n18\\nHigh-Dimensional Problems: p≫N\\n18.1 When pis Much Bigger than N\\nIn this chapter we discuss prediction problems in which the n umber of\\nfeaturespis much larger than the number of observations N, often written\\np≫N. Such problems have become of increasing importance, espec ially in\\ngenomics and other areas of computational biology. We will s ee that high\\nvariance and overﬁtting are a major concern in this setting. As a result,')"
      ]
     },
     "execution_count": 52,
     "metadata": {},
     "output_type": "execute_result"
    }
   ],
   "source": [
    "# check \n",
    "chunks[0]"
   ]
  },
  {
   "cell_type": "code",
   "execution_count": 59,
   "id": "d0ac09b6-8681-4a8d-b74e-1295eb7e9e39",
   "metadata": {},
   "outputs": [],
   "source": [
    "# setup embedding model\n",
    "\n",
    "from langchain_community.embeddings import HuggingFaceEmbeddings\n",
    "\n",
    "model_name = \"sentence-transformers/all-mpnet-base-v2\"\n",
    "model_kwargs = {'device': 'cpu'}\n",
    "encode_kwargs = {'normalize_embeddings': False}\n",
    "\n",
    "hf_embedding_model = HuggingFaceEmbeddings(\n",
    "    model_name=model_name,\n",
    "    model_kwargs=model_kwargs,\n",
    "    encode_kwargs=encode_kwargs\n",
    ")"
   ]
  },
  {
   "cell_type": "code",
   "execution_count": 73,
   "id": "6ee51c6e-bb5d-44d0-b1f8-5b50fe99a9e6",
   "metadata": {
    "scrolled": true
   },
   "outputs": [
    {
     "name": "stdout",
     "output_type": "stream",
     "text": [
      "time taken:  15.72 s\n"
     ]
    }
   ],
   "source": [
    "# setup vectordb, using HF embedding model\n",
    "\n",
    "from langchain_core.vectorstores import InMemoryVectorStore\n",
    "\n",
    "start_time=time.time()\n",
    "vectorstore_hf = InMemoryVectorStore.from_documents(\n",
    "    documents=chunks,\n",
    "    embedding=hf_embedding_model\n",
    ")\n",
    "\n",
    "print(\"time taken: \",round(time.time()-start_time,2),\"s\")"
   ]
  },
  {
   "cell_type": "code",
   "execution_count": 86,
   "id": "660d08bc-9830-4b5a-a016-2e07067e62da",
   "metadata": {},
   "outputs": [
    {
     "name": "stdout",
     "output_type": "stream",
     "text": [
      "for high-dimensional problems, with regards to p and N, in what cases can ridge regression exploit the correlation in the features of the dataset?\n",
      "using the optimal ridge parameter in each of the three cases, the median\n",
      "value of|tj|was 2.0, 0.6 and 0.2, and the average number of |tj|values\n",
      "exceeding 2 was equal to 9.8, 1.2 and 0.0.\n",
      "Ridge regression with λ= 0.001 successfully exploits the correlation in\n",
      "the features when p<N, but cannot do so when p≫N. In the latter case\n",
      "there is not enough information in the relatively small numb er of samples\n",
      "to eﬃciently estimate the high-dimensional covariance mat rix. In that case,\n"
     ]
    }
   ],
   "source": [
    "# setup retrieval and test with a query and gt_context\n",
    "\n",
    "retriever_hf = vectorstore_hf.as_retriever(\n",
    "    search_type='similarity',\n",
    "    search_kwargs = {'k':6 }\n",
    ")\n",
    "\n",
    "sample_query = \"for high-dimensional problems, with regards to p and N, in what \\\n",
    "cases can ridge regression exploit the correlation in the features of the dataset?\"\n",
    "sample_gt_context_start_index = 397\n",
    "sample_gt_context = [c for c in chunks if c.metadata['start_index']==sample_gt_context_start_index][0]\n",
    "\n",
    "print(sample_query)\n",
    "print(sample_gt_context.page_content)"
   ]
  },
  {
   "cell_type": "code",
   "execution_count": 91,
   "id": "92af90d2-2b9d-4bc7-bf06-122bd8744e98",
   "metadata": {},
   "outputs": [],
   "source": [
    "retrieved_docs_hf = retriever_hf.invoke(input=sample_query)"
   ]
  },
  {
   "cell_type": "code",
   "execution_count": 93,
   "id": "2d68a965-0f1c-4bc6-955d-124ba4b0fe01",
   "metadata": {
    "scrolled": true
   },
   "outputs": [
    {
     "data": {
      "text/plain": [
       "[Document(id='0bdfb511-497a-44a7-a808-15f7dc4cb02e', metadata={'source': '/Users/I748920/Desktop/llms-learning/pdf-chatbot-app/data/elements-of-statistical-learning-book/chap18.pdf', 'page': 2, 'start_index': 397}, page_content='using the optimal ridge parameter in each of the three cases, the median\\nvalue of|tj|was 2.0, 0.6 and 0.2, and the average number of |tj|values\\nexceeding 2 was equal to 9.8, 1.2 and 0.0.\\nRidge regression with λ= 0.001 successfully exploits the correlation in\\nthe features when p<N, but cannot do so when p≫N. In the latter case\\nthere is not enough information in the relatively small numb er of samples\\nto eﬃciently estimate the high-dimensional covariance mat rix. In that case,'),\n",
       " Document(id='07cf95bb-ef63-4ba4-9514-02161fe5cccb', metadata={'source': '/Users/I748920/Desktop/llms-learning/pdf-chatbot-app/data/elements-of-statistical-learning-book/chap18.pdf', 'page': 1, 'start_index': 760}, page_content='over the 100 simulation runs. The p= 1000 case is designed to mimic the\\nkind of data that we might see in a high-dimensional genomic o r proteomic\\ndataset, for example.\\nWe ﬁt a ridge regression to the data, with three diﬀerent valu es for the\\nregularization parameter λ: 0.001, 100, and 1000. When λ= 0.001, this\\nis nearly the same as least squares regression, with a little regularization\\njust to ensure that the problem is non-singular when p > N. Figure 18.1'),\n",
       " Document(id='985cd759-7665-47ad-8cd5-45255d6c4080', metadata={'source': '/Users/I748920/Desktop/llms-learning/pdf-chatbot-app/data/elements-of-statistical-learning-book/chap18.pdf', 'page': 1, 'start_index': 1150}, page_content='just to ensure that the problem is non-singular when p > N. Figure 18.1\\nshows boxplots oftherelative testerrorachieved bythediﬀ erentestimators\\nin each scenario. The corresponding average degrees of free dom used in\\neach ridge-regression ﬁt is indicated (computed using form ula (3.50) on\\npage 682). The degrees of freedom is a more interpretable parameter t han\\nλ. We see that ridge regression with λ= 0.001 (20 df) wins when p= 20;\\nλ= 100 (35 df) wins when p= 100, and λ= 1000 (43 df) wins when'),\n",
       " Document(id='73ae4254-512b-40ff-8774-6ccf1a436ed4', metadata={'source': '/Users/I748920/Desktop/llms-learning/pdf-chatbot-app/data/elements-of-statistical-learning-book/chap18.pdf', 'page': 10, 'start_index': 1944}, page_content='shown to equal\\nˆβ=V(RTR+λI)−1RTy (18.15)\\n(Exercise 18.4). Thus ˆβ=Vˆθ, where ˆθis the ridge-regression estimate\\nusing theNobservations ( ri,yi),i= 1,2,...,N. In other words, we can\\nsimply reduce the data matrix from XtoR, and work with the rows of\\nR. This trick reduces the computational cost from O(p3) toO(pN2) when\\np>N.'),\n",
       " Document(id='ae44aefa-6114-4af1-921e-20c04dfe717f', metadata={'source': '/Users/I748920/Desktop/llms-learning/pdf-chatbot-app/data/elements-of-statistical-learning-book/chap18.pdf', 'page': 2, 'start_index': 800}, page_content='to eﬃciently estimate the high-dimensional covariance mat rix. In that case,\\nmore regularization leads to superior prediction performa nce.\\nThus it is not surprising that the analysis of high-dimensio nal data re-\\nquires either modiﬁcation of procedures designed for the N >pscenario, or\\nentirely new procedures. In this chapter we discuss example s of both kinds\\nofapproachesforhighdimensionalclassiﬁcationandregre ssion;thesemeth-'),\n",
       " Document(id='507f89a3-02fd-4334-9bd4-20bc4cbac8cd', metadata={'source': '/Users/I748920/Desktop/llms-learning/pdf-chatbot-app/data/elements-of-statistical-learning-book/chap18.pdf', 'page': 13, 'start_index': 1190}, page_content='variables; genes tend to operate in molecular pathways. The lasso penalty\\nis somewhat indiﬀerent to the choice among a set of strong but corre-\\nlated variables (Exercise 3.28). The ridge penalty, on the o ther hand, tends\\nto shrink the coeﬃcients of correlated variables toward eac h other (Exer-\\ncise 3.29 on page 99). The elastic net penalty (Zou and Hastie, 2005) is a\\ncompromise, and has the form\\np∑\\nj=1(\\nα|βj|+(1−α)β2\\nj)\\n. (18.20)')]"
      ]
     },
     "execution_count": 93,
     "metadata": {},
     "output_type": "execute_result"
    }
   ],
   "source": [
    "retrieved_docs_hf"
   ]
  },
  {
   "cell_type": "code",
   "execution_count": 102,
   "id": "95a80138-bda7-4d38-a8d1-33d6b81dde16",
   "metadata": {},
   "outputs": [
    {
     "data": {
      "text/plain": [
       "True"
      ]
     },
     "execution_count": 102,
     "metadata": {},
     "output_type": "execute_result"
    }
   ],
   "source": [
    "retrieved_docs_hf[0].page_content==sample_gt_context.page_content"
   ]
  },
  {
   "cell_type": "markdown",
   "id": "4e7eeca9-d6f2-4972-84cf-1f2788cb88da",
   "metadata": {},
   "source": [
    "retriever works fine"
   ]
  },
  {
   "cell_type": "markdown",
   "id": "7f2e60fe-12b4-4e5e-92da-888a732da66f",
   "metadata": {
    "jp-MarkdownHeadingCollapsed": true
   },
   "source": [
    "# setup RAG chain without memory, using Ollama LLM and HuggingFaceEmbeddings"
   ]
  },
  {
   "cell_type": "code",
   "execution_count": 108,
   "id": "0e08c5aa-adf4-4b43-bb72-25a9e31b0e7b",
   "metadata": {},
   "outputs": [],
   "source": [
    "# setup ollama-llm\n",
    "\n",
    "from langchain_ollama import ChatOllama\n",
    "\n",
    "llm_model = ChatOllama(\n",
    "    model='llama3.1',\n",
    "    temperature=0 # increase temp for more creative answers\n",
    ")"
   ]
  },
  {
   "cell_type": "code",
   "execution_count": 112,
   "id": "81d730c1-ee2f-4979-bb4f-29df81f17a41",
   "metadata": {},
   "outputs": [
    {
     "name": "stdout",
     "output_type": "stream",
     "text": [
      "time taken: 1.41s\n"
     ]
    }
   ],
   "source": [
    "# test sentence\n",
    "\n",
    "start_time = time.time()\n",
    "llm_model.invoke('explain gravity in 1 sentence')\n",
    "print(f'time taken: {round(time.time()-start_time,2)}s')"
   ]
  },
  {
   "cell_type": "code",
   "execution_count": 133,
   "id": "8266a2b2-3a5d-45d2-983a-aadf49fd0310",
   "metadata": {},
   "outputs": [],
   "source": [
    "# setup rag prompt\n",
    "\n",
    "from langchain import hub\n",
    "\n",
    "rag_prompt_template = hub.pull(\"rlm/rag-prompt\")"
   ]
  },
  {
   "cell_type": "code",
   "execution_count": 135,
   "id": "7759b64e-ca27-494f-a0bc-667f5ae138c5",
   "metadata": {},
   "outputs": [
    {
     "data": {
      "text/plain": [
       "['context', 'question']"
      ]
     },
     "execution_count": 135,
     "metadata": {},
     "output_type": "execute_result"
    }
   ],
   "source": [
    "rag_prompt_template.input_variables"
   ]
  },
  {
   "cell_type": "code",
   "execution_count": 137,
   "id": "13344da2-3425-4cf3-80d0-a5ea9ca4ebf8",
   "metadata": {},
   "outputs": [
    {
     "data": {
      "text/plain": [
       "[HumanMessagePromptTemplate(prompt=PromptTemplate(input_variables=['context', 'question'], template=\"You are an assistant for question-answering tasks. Use the following pieces of retrieved context to answer the question. If you don't know the answer, just say that you don't know. Use three sentences maximum and keep the answer concise.\\nQuestion: {question} \\nContext: {context} \\nAnswer:\"))]"
      ]
     },
     "execution_count": 137,
     "metadata": {},
     "output_type": "execute_result"
    }
   ],
   "source": [
    "rag_prompt_template.messages"
   ]
  },
  {
   "cell_type": "code",
   "execution_count": 139,
   "id": "dc52dc02-ca4d-474e-b51f-90093ff7c703",
   "metadata": {},
   "outputs": [],
   "source": [
    "from langchain_core.output_parsers import StrOutputParser\n",
    "from langchain_core.runnables import RunnablePassthrough\n",
    "\n",
    "message_input = {\"question\": RunnablePassthrough(), \"context\": retriever_hf}\n",
    "\n",
    "rag_chain = message_input| rag_prompt_template | llm_model | StrOutputParser()"
   ]
  },
  {
   "cell_type": "code",
   "execution_count": 141,
   "id": "cac64f9d-ce37-464e-8658-8290bc4251c2",
   "metadata": {},
   "outputs": [
    {
     "data": {
      "text/plain": [
       "'Ridge regression can exploit the correlation in features when p < N, but not when p ≫ N, as there is not enough information to efficiently estimate the high-dimensional covariance matrix. In the latter case, more regularization leads to superior prediction performance. This is because ridge regression relies on estimating a high-dimensional covariance matrix, which becomes increasingly difficult with many features compared to samples.'"
      ]
     },
     "execution_count": 141,
     "metadata": {},
     "output_type": "execute_result"
    }
   ],
   "source": [
    "rag_chain.invoke(input=sample_query)"
   ]
  },
  {
   "cell_type": "markdown",
   "id": "ba753791-6963-4f1e-874a-d4ebc7f5ae47",
   "metadata": {},
   "source": [
    "this is correct"
   ]
  },
  {
   "cell_type": "code",
   "execution_count": 129,
   "id": "d2f9d1aa-048c-4b24-88dd-933c640f59e7",
   "metadata": {},
   "outputs": [
    {
     "data": {
      "text/plain": [
       "Document(metadata={'source': '/Users/I748920/Desktop/llms-learning/pdf-chatbot-app/data/elements-of-statistical-learning-book/chap18.pdf', 'page': 2, 'start_index': 397}, page_content='using the optimal ridge parameter in each of the three cases, the median\\nvalue of|tj|was 2.0, 0.6 and 0.2, and the average number of |tj|values\\nexceeding 2 was equal to 9.8, 1.2 and 0.0.\\nRidge regression with λ= 0.001 successfully exploits the correlation in\\nthe features when p<N, but cannot do so when p≫N. In the latter case\\nthere is not enough information in the relatively small numb er of samples\\nto eﬃciently estimate the high-dimensional covariance mat rix. In that case,')"
      ]
     },
     "execution_count": 129,
     "metadata": {},
     "output_type": "execute_result"
    }
   ],
   "source": [
    "sample_gt_context"
   ]
  },
  {
   "cell_type": "code",
   "execution_count": 143,
   "id": "dd029038-3f95-434b-b242-ec6db9e753c0",
   "metadata": {},
   "outputs": [],
   "source": [
    "# setup chain to check context retrieved\n",
    "\n",
    "# to view the contexts retrieved can use a Runnable lambda\n",
    "\n",
    "from langchain_core.runnables import RunnableLambda\n",
    "\n",
    "def inspect(state):\n",
    "    return state\n",
    "\n",
    "message_input = {\"question\": RunnablePassthrough(), \"context\": retriever_hf}\n",
    "context_chain = message_input| RunnableLambda(inspect)"
   ]
  },
  {
   "cell_type": "code",
   "execution_count": 145,
   "id": "bf97d1e1-f3fe-4129-9c6e-f904ed0baa6b",
   "metadata": {},
   "outputs": [],
   "source": [
    "context_retrieved = context_chain.invoke(input=sample_query)"
   ]
  },
  {
   "cell_type": "code",
   "execution_count": 155,
   "id": "d3847edd-e9f1-497a-afdf-d232f774a3fd",
   "metadata": {},
   "outputs": [
    {
     "data": {
      "text/plain": [
       "(6,\n",
       " Document(id='0bdfb511-497a-44a7-a808-15f7dc4cb02e', metadata={'source': '/Users/I748920/Desktop/llms-learning/pdf-chatbot-app/data/elements-of-statistical-learning-book/chap18.pdf', 'page': 2, 'start_index': 397}, page_content='using the optimal ridge parameter in each of the three cases, the median\\nvalue of|tj|was 2.0, 0.6 and 0.2, and the average number of |tj|values\\nexceeding 2 was equal to 9.8, 1.2 and 0.0.\\nRidge regression with λ= 0.001 successfully exploits the correlation in\\nthe features when p<N, but cannot do so when p≫N. In the latter case\\nthere is not enough information in the relatively small numb er of samples\\nto eﬃciently estimate the high-dimensional covariance mat rix. In that case,'))"
      ]
     },
     "execution_count": 155,
     "metadata": {},
     "output_type": "execute_result"
    }
   ],
   "source": [
    "len(context_retrieved['context']),context_retrieved['context'][0]"
   ]
  },
  {
   "cell_type": "code",
   "execution_count": 167,
   "id": "06644621-6307-4969-b0e2-354bca4d65d7",
   "metadata": {},
   "outputs": [],
   "source": [
    "# integrate together context chain and rag chain\n",
    "\n",
    "import time\n",
    "from langchain_core.output_parsers import StrOutputParser\n",
    "from langchain_core.runnables import RunnablePassthrough\n",
    "from langchain_core.runnables import RunnableLambda\n",
    "\n",
    "def get_current_chain_state(state):\n",
    "    \"\"\"\n",
    "    returns the current state of the chain, in dict format, following message_input format.\n",
    "    \"\"\"\n",
    "    return state\n",
    "    \n",
    "def setup_rag_context_chains(retriever,prompt_template,model):\n",
    "    \"\"\"\n",
    "    must ensure that the prompt_template has the same input variables \n",
    "    as the keys in the message input in the function.\n",
    "    \"\"\"\n",
    "    message_input = {\"question\": RunnablePassthrough(), \"context\": retriever}\n",
    "\n",
    "    context_chain = message_input| RunnableLambda(get_current_chain_state)\n",
    "    rag_chain = message_input| prompt_template | model | StrOutputParser()\n",
    "\n",
    "    return context_chain, rag_chain\n",
    "\n",
    "def query_llm(rag_chain,query):\n",
    "    \"\"\"\n",
    "    query is type str and will be passed into message input under question input variable.\n",
    "    \"\"\"\n",
    "    start_time = time.time()\n",
    "    response = rag_chain.invoke(input=query)\n",
    "    time_taken = round(time.time()-start_time,2)\n",
    "    \n",
    "    print(f'time taken: {time_taken}s')\n",
    "    return response\n",
    "\n",
    "def get_query_contexts_retrieved(context_chain,query):\n",
    "    \"\"\"\n",
    "    query is type str and will be passed into message input under question input variable.\n",
    "    \"\"\"\n",
    "    start_time = time.time()\n",
    "    state = context_chain.invoke(input=query)\n",
    "    contexts_retrieved = state['context']\n",
    "    time_taken = round(time.time()-start_time,2)\n",
    "    \n",
    "    print(f'time taken: {time_taken}s')\n",
    "    return contexts_retrieved"
   ]
  },
  {
   "cell_type": "code",
   "execution_count": 169,
   "id": "afc3d79f-04bf-41e4-bb33-b09647698804",
   "metadata": {},
   "outputs": [
    {
     "data": {
      "text/plain": [
       "'for high-dimensional problems, with regards to p and N, in what cases can ridge regression exploit the correlation in the features of the dataset?'"
      ]
     },
     "execution_count": 169,
     "metadata": {},
     "output_type": "execute_result"
    }
   ],
   "source": [
    "sample_query"
   ]
  },
  {
   "cell_type": "code",
   "execution_count": 171,
   "id": "a64c32e3-04f5-4406-ae00-9e245bf21176",
   "metadata": {},
   "outputs": [
    {
     "data": {
      "text/plain": [
       "Document(metadata={'source': '/Users/I748920/Desktop/llms-learning/pdf-chatbot-app/data/elements-of-statistical-learning-book/chap18.pdf', 'page': 2, 'start_index': 397}, page_content='using the optimal ridge parameter in each of the three cases, the median\\nvalue of|tj|was 2.0, 0.6 and 0.2, and the average number of |tj|values\\nexceeding 2 was equal to 9.8, 1.2 and 0.0.\\nRidge regression with λ= 0.001 successfully exploits the correlation in\\nthe features when p<N, but cannot do so when p≫N. In the latter case\\nthere is not enough information in the relatively small numb er of samples\\nto eﬃciently estimate the high-dimensional covariance mat rix. In that case,')"
      ]
     },
     "execution_count": 171,
     "metadata": {},
     "output_type": "execute_result"
    }
   ],
   "source": [
    "sample_gt_context"
   ]
  },
  {
   "cell_type": "code",
   "execution_count": 214,
   "id": "9065cb9f-eb18-433f-949a-a6d217c07b8a",
   "metadata": {},
   "outputs": [],
   "source": [
    "context_chain, rag_chain = setup_rag_context_chains(retriever_hf,rag_prompt_template,llm_model)"
   ]
  },
  {
   "cell_type": "code",
   "execution_count": 175,
   "id": "be3637ce-45a0-4b8c-94a7-69a693fc717d",
   "metadata": {},
   "outputs": [
    {
     "name": "stdout",
     "output_type": "stream",
     "text": [
      "time taken: 3.37s\n"
     ]
    }
   ],
   "source": [
    "response = query_llm(rag_chain,sample_query)"
   ]
  },
  {
   "cell_type": "code",
   "execution_count": 179,
   "id": "b152203e-867a-43aa-8fc1-23b0d3dfe329",
   "metadata": {},
   "outputs": [
    {
     "data": {
      "text/plain": [
       "'Ridge regression can exploit the correlation in features when p < N, but not when p ≫ N, as there is not enough information to efficiently estimate the high-dimensional covariance matrix. In the latter case, more regularization leads to superior prediction performance. This is because ridge regression relies on estimating a high-dimensional covariance matrix, which becomes increasingly difficult with many features compared to samples.'"
      ]
     },
     "execution_count": 179,
     "metadata": {},
     "output_type": "execute_result"
    }
   ],
   "source": [
    "response"
   ]
  },
  {
   "cell_type": "code",
   "execution_count": 177,
   "id": "b253fe02-d251-4bb8-b696-9622245666ac",
   "metadata": {},
   "outputs": [
    {
     "name": "stdout",
     "output_type": "stream",
     "text": [
      "time taken: 0.11s\n"
     ]
    }
   ],
   "source": [
    "contexts_retrieved = get_query_contexts_retrieved(context_chain,sample_query)"
   ]
  },
  {
   "cell_type": "code",
   "execution_count": 181,
   "id": "a63b0fe6-8693-4134-be3f-8146b4670a9c",
   "metadata": {
    "scrolled": true
   },
   "outputs": [
    {
     "data": {
      "text/plain": [
       "[Document(id='0bdfb511-497a-44a7-a808-15f7dc4cb02e', metadata={'source': '/Users/I748920/Desktop/llms-learning/pdf-chatbot-app/data/elements-of-statistical-learning-book/chap18.pdf', 'page': 2, 'start_index': 397}, page_content='using the optimal ridge parameter in each of the three cases, the median\\nvalue of|tj|was 2.0, 0.6 and 0.2, and the average number of |tj|values\\nexceeding 2 was equal to 9.8, 1.2 and 0.0.\\nRidge regression with λ= 0.001 successfully exploits the correlation in\\nthe features when p<N, but cannot do so when p≫N. In the latter case\\nthere is not enough information in the relatively small numb er of samples\\nto eﬃciently estimate the high-dimensional covariance mat rix. In that case,'),\n",
       " Document(id='07cf95bb-ef63-4ba4-9514-02161fe5cccb', metadata={'source': '/Users/I748920/Desktop/llms-learning/pdf-chatbot-app/data/elements-of-statistical-learning-book/chap18.pdf', 'page': 1, 'start_index': 760}, page_content='over the 100 simulation runs. The p= 1000 case is designed to mimic the\\nkind of data that we might see in a high-dimensional genomic o r proteomic\\ndataset, for example.\\nWe ﬁt a ridge regression to the data, with three diﬀerent valu es for the\\nregularization parameter λ: 0.001, 100, and 1000. When λ= 0.001, this\\nis nearly the same as least squares regression, with a little regularization\\njust to ensure that the problem is non-singular when p > N. Figure 18.1'),\n",
       " Document(id='985cd759-7665-47ad-8cd5-45255d6c4080', metadata={'source': '/Users/I748920/Desktop/llms-learning/pdf-chatbot-app/data/elements-of-statistical-learning-book/chap18.pdf', 'page': 1, 'start_index': 1150}, page_content='just to ensure that the problem is non-singular when p > N. Figure 18.1\\nshows boxplots oftherelative testerrorachieved bythediﬀ erentestimators\\nin each scenario. The corresponding average degrees of free dom used in\\neach ridge-regression ﬁt is indicated (computed using form ula (3.50) on\\npage 682). The degrees of freedom is a more interpretable parameter t han\\nλ. We see that ridge regression with λ= 0.001 (20 df) wins when p= 20;\\nλ= 100 (35 df) wins when p= 100, and λ= 1000 (43 df) wins when'),\n",
       " Document(id='73ae4254-512b-40ff-8774-6ccf1a436ed4', metadata={'source': '/Users/I748920/Desktop/llms-learning/pdf-chatbot-app/data/elements-of-statistical-learning-book/chap18.pdf', 'page': 10, 'start_index': 1944}, page_content='shown to equal\\nˆβ=V(RTR+λI)−1RTy (18.15)\\n(Exercise 18.4). Thus ˆβ=Vˆθ, where ˆθis the ridge-regression estimate\\nusing theNobservations ( ri,yi),i= 1,2,...,N. In other words, we can\\nsimply reduce the data matrix from XtoR, and work with the rows of\\nR. This trick reduces the computational cost from O(p3) toO(pN2) when\\np>N.'),\n",
       " Document(id='ae44aefa-6114-4af1-921e-20c04dfe717f', metadata={'source': '/Users/I748920/Desktop/llms-learning/pdf-chatbot-app/data/elements-of-statistical-learning-book/chap18.pdf', 'page': 2, 'start_index': 800}, page_content='to eﬃciently estimate the high-dimensional covariance mat rix. In that case,\\nmore regularization leads to superior prediction performa nce.\\nThus it is not surprising that the analysis of high-dimensio nal data re-\\nquires either modiﬁcation of procedures designed for the N >pscenario, or\\nentirely new procedures. In this chapter we discuss example s of both kinds\\nofapproachesforhighdimensionalclassiﬁcationandregre ssion;thesemeth-'),\n",
       " Document(id='507f89a3-02fd-4334-9bd4-20bc4cbac8cd', metadata={'source': '/Users/I748920/Desktop/llms-learning/pdf-chatbot-app/data/elements-of-statistical-learning-book/chap18.pdf', 'page': 13, 'start_index': 1190}, page_content='variables; genes tend to operate in molecular pathways. The lasso penalty\\nis somewhat indiﬀerent to the choice among a set of strong but corre-\\nlated variables (Exercise 3.28). The ridge penalty, on the o ther hand, tends\\nto shrink the coeﬃcients of correlated variables toward eac h other (Exer-\\ncise 3.29 on page 99). The elastic net penalty (Zou and Hastie, 2005) is a\\ncompromise, and has the form\\np∑\\nj=1(\\nα|βj|+(1−α)β2\\nj)\\n. (18.20)')]"
      ]
     },
     "execution_count": 181,
     "metadata": {},
     "output_type": "execute_result"
    }
   ],
   "source": [
    "contexts_retrieved"
   ]
  },
  {
   "cell_type": "markdown",
   "id": "9bd619aa-7e5d-472a-890d-b80b099276d5",
   "metadata": {
    "jp-MarkdownHeadingCollapsed": true
   },
   "source": [
    "# setup memory and integrate into rag chain\n",
    "\n",
    "* https://python.langchain.com/v0.2/docs/how_to/qa_chat_history_how_to/\n",
    "* https://medium.com/@eric_vaillancourt/mastering-langchain-rag-integrating-chat-history-part-2-4c80eae11b43"
   ]
  },
  {
   "cell_type": "code",
   "execution_count": 233,
   "id": "66a73b99-9910-4d63-990b-2fc81bbb1b8d",
   "metadata": {},
   "outputs": [
    {
     "data": {
      "text/plain": [
       "VectorStoreRetriever(tags=['InMemoryVectorStore', 'HuggingFaceEmbeddings'], vectorstore=<langchain_core.vectorstores.in_memory.InMemoryVectorStore object at 0x3df1e9cd0>, search_kwargs={'k': 6})"
      ]
     },
     "execution_count": 233,
     "metadata": {},
     "output_type": "execute_result"
    }
   ],
   "source": [
    "retriever_hf"
   ]
  },
  {
   "cell_type": "markdown",
   "id": "76620523-4dfa-40a2-883e-f686942ba431",
   "metadata": {},
   "source": [
    "Prompt using MessagePlaceHolder to pass the entire conversation to the LLM before the actual current query\n",
    "\n",
    "We'll use a prompt that includes a MessagesPlaceholder variable under the name \"chat_history\". This allows us to pass in a list of Messages to the prompt using the \"chat_history\" input key, and these messages will be inserted after the system message and before the human message containing the latest question."
   ]
  },
  {
   "cell_type": "code",
   "execution_count": 262,
   "id": "04b921a7-6416-4cf9-8b13-73f1bd0aac8f",
   "metadata": {},
   "outputs": [],
   "source": [
    "from langchain.chains import create_history_aware_retriever\n",
    "from langchain_core.prompts import MessagesPlaceholder\n",
    "\n",
    "system_contextualise_input_prompt = (\n",
    "    \"Given a chat history and the latest user question \"\n",
    "    \"which might reference context in the chat history, \"\n",
    "    \"formulate a standalone question which can be understood \"\n",
    "    \"without the chat history. Do NOT answer the question, \"\n",
    "    \"just reformulate it if needed and otherwise return it as is.\"\n",
    ")\n",
    "\n",
    "system_input_prompt = ChatPromptTemplate.from_messages(\n",
    "    [\n",
    "        (\"system\", system_contextualise_input_prompt),\n",
    "        MessagesPlaceholder(\"chat_history\"),\n",
    "        (\"human\", \"{input}\"),\n",
    "    ]\n",
    ")"
   ]
  },
  {
   "cell_type": "markdown",
   "id": "f3e142a7-0328-462b-a169-13b4b2967272",
   "metadata": {},
   "source": [
    "purpose of system instruction is to:\n",
    "The goal is to contextualize or disambiguate user questions based on previous chat history. In multi-turn conversations, users often refer to earlier parts of the conversation (e.g., \"What about that?\" or \"Can you clarify?\"). To handle these cases, you need to reformulate the question to make it self-contained so that the underlying system (like a retriever or LLM) can process it without needing the full conversation context."
   ]
  },
  {
   "cell_type": "markdown",
   "id": "33270ca1-865f-4ad2-8fd7-7bc99b3cda2d",
   "metadata": {},
   "source": [
    "example:\n",
    "In a chatbot, users might ask follow-up questions that rely on previous answers:\n",
    "\n",
    "Example 1:\n",
    "\n",
    "Chat history: \"What’s the capital of France?\"\n",
    "User input: \"And what’s its population?\"\n",
    "The AI needs to reformulate this as: \"What’s the population of Paris?\" for further processing or retrieval.\n",
    "Example 2:\n",
    "\n",
    "Chat history: \"Can you tell me about the Tesla Model 3?\"\n",
    "User input: \"What are its key features?\"\n",
    "The reformulated question should be: \"What are the key features of the Tesla Model 3?\""
   ]
  },
  {
   "cell_type": "markdown",
   "id": "9dfd8e70-46c9-42b8-a435-292ca83ccb48",
   "metadata": {},
   "source": [
    "Why is this Important?\n",
    "Disambiguation: In a multi-turn conversation, users often ask incomplete or context-dependent questions. This setup makes the question standalone so it can be processed correctly without needing to recall the entire conversation.\n",
    "\n",
    "Improving Retrieval: If you're using a retriever (e.g., for document search), a well-formulated query leads to better results. Incomplete questions can return irrelevant information, while self-contained questions ensure that the retriever fetches the most accurate data.\n",
    "\n",
    "Efficiency: It allows you to keep the conversation flowing smoothly without requiring constant reference to the full history, saving computational resources."
   ]
  },
  {
   "cell_type": "code",
   "execution_count": 264,
   "id": "2ac8a5b0-59b7-4dec-b668-8f11350d63e2",
   "metadata": {},
   "outputs": [],
   "source": [
    "# instantiate the history-aware retriever:\n",
    "\n",
    "history_aware_retriever = create_history_aware_retriever(\n",
    "    llm=llm_model,\n",
    "    retriever=retriever_hf,\n",
    "    prompt=system_input_prompt\n",
    ")"
   ]
  },
  {
   "cell_type": "markdown",
   "id": "7c6724e0-dbfb-4e3e-9e7d-ff392c91ffa0",
   "metadata": {},
   "source": [
    "1. system_instruction_prompt\n",
    "- Disambiguation (Standalone Question Formulation):\n",
    "The block of code that creates the system_instruction_prompt is responsible for reformulating or disambiguating the user’s question based on the chat history. The purpose of this is to:\n",
    "\n",
    "Ensure that incomplete or ambiguous user questions are rephrased into a standalone question.\n",
    "The system does not answer the question but simply reformulates it so that it makes sense without requiring the full chat history.\n",
    "\n",
    "2. history_aware_retriever\n",
    "- Improving Retrieval:\n",
    "By combining the disambiguation mechanism with the history-aware retriever, you're ensuring that the reformulated (standalone) question can be used for better retrieval of relevant information from an external knowledge base.\n",
    "- this retrieval part is same as normal retrieval part of RAG chain\n",
    "- except it does not do retrieval only on the query like retrieval.invoke but does retrieval.invoke on the output of the system_instruction_prompt to generate better prompt for retrieval\n",
    "- history_aware_retriever: Create a chain that takes conversation history and returns documents.\n",
    "\n",
    "If there is no chat_history, then the input is just passed directly to the retriever. If there is chat_history, then the prompt and LLM will be used to generate a search query. That search query is then passed to the retriever."
   ]
  },
  {
   "cell_type": "code",
   "execution_count": 266,
   "id": "ee9c2903-93e5-49ac-a7d2-e5f4160b1cbb",
   "metadata": {},
   "outputs": [
    {
     "data": {
      "text/plain": [
       "RunnableBinding(bound=RunnableBranch(branches=[(RunnableLambda(lambda x: not x.get('chat_history', False)), RunnableLambda(lambda x: x['input'])\n",
       "| VectorStoreRetriever(tags=['InMemoryVectorStore', 'HuggingFaceEmbeddings'], vectorstore=<langchain_core.vectorstores.in_memory.InMemoryVectorStore object at 0x3df1e9cd0>, search_kwargs={'k': 6}))], default=ChatPromptTemplate(input_variables=['chat_history', 'input'], input_types={'chat_history': typing.List[typing.Union[langchain_core.messages.ai.AIMessage, langchain_core.messages.human.HumanMessage, langchain_core.messages.chat.ChatMessage, langchain_core.messages.system.SystemMessage, langchain_core.messages.function.FunctionMessage, langchain_core.messages.tool.ToolMessage]]}, messages=[SystemMessagePromptTemplate(prompt=PromptTemplate(input_variables=[], template='Given a chat history and the latest user question which might reference context in the chat history, formulate a standalone question which can be understood without the chat history. Do NOT answer the question, just reformulate it if needed and otherwise return it as is.')), MessagesPlaceholder(variable_name='chat_history'), HumanMessagePromptTemplate(prompt=PromptTemplate(input_variables=['input'], template='{input}'))])\n",
       "| ChatOllama(model='llama3.1', temperature=0.0, _client=<ollama._client.Client object at 0x3f6f8f6d0>, _async_client=<ollama._client.AsyncClient object at 0x3f6f8fee0>)\n",
       "| StrOutputParser()\n",
       "| VectorStoreRetriever(tags=['InMemoryVectorStore', 'HuggingFaceEmbeddings'], vectorstore=<langchain_core.vectorstores.in_memory.InMemoryVectorStore object at 0x3df1e9cd0>, search_kwargs={'k': 6})), config={'run_name': 'chat_retriever_chain'})"
      ]
     },
     "execution_count": 266,
     "metadata": {},
     "output_type": "execute_result"
    }
   ],
   "source": [
    "history_aware_retriever"
   ]
  },
  {
   "cell_type": "markdown",
   "id": "573ce509-1b30-429c-b4e3-912d0fca6447",
   "metadata": {},
   "source": [
    "This chain prepends a rephrasing of the input query to our retriever, so that the retrieval incorporates the context of the conversation.\n",
    "- prepends as in append but at the start"
   ]
  },
  {
   "cell_type": "markdown",
   "id": "8f40d49f-4e84-4598-bbe4-28416ca80a46",
   "metadata": {},
   "source": [
    "idea behind this is\n",
    "1. prompt the LLM to use the conversation history to generate a complete question. e.g. if the user input is \"explain it\", then the LLM will look at the conversation history and figure out what \"it\" refers to and then generate a new complete standalone question --> \"explain the Poisson distribution\"\n",
    "2. the new complete question will then be used for the RAG chain and the RAG chain is used as per usual\n",
    "3. history_aware_retriever takes care of the conversation_history+question_input part + retriever"
   ]
  },
  {
   "cell_type": "code",
   "execution_count": 272,
   "id": "4086d7f2-6522-48bf-be0e-12a319ab4947",
   "metadata": {},
   "outputs": [],
   "source": [
    "from langchain.chains import create_retrieval_chain\n",
    "from langchain.chains.combine_documents import create_stuff_documents_chain\n",
    "\n",
    "system_rag_qna_prompt = (\n",
    "    \"You are an assistant for question-answering tasks. \"\n",
    "    \"Use the following pieces of retrieved context to answer \"\n",
    "    \"the question. If you don't know the answer, say that you \"\n",
    "    \"don't know. Use three sentences maximum and keep the \"\n",
    "    \"answer concise.\"\n",
    "    \"\\n\\n\"\n",
    "    \"{context}\"\n",
    ")\n",
    "\n",
    "system_rag_prompt = ChatPromptTemplate.from_messages(\n",
    "    [\n",
    "        ('system',system_rag_qna_prompt),\n",
    "        MessagesPlaceholder(\"chat_history\"),\n",
    "        ('human',\"{input}\"),\n",
    "    ]\n",
    ")"
   ]
  },
  {
   "cell_type": "code",
   "execution_count": 274,
   "id": "05b9db82-b3dd-4c2b-bf6c-02d37a416c1d",
   "metadata": {},
   "outputs": [],
   "source": [
    "# instantiate qna_chain\n",
    "\n",
    "qna_chain = create_stuff_documents_chain(llm=llm_model,prompt=system_rag_prompt)"
   ]
  },
  {
   "cell_type": "code",
   "execution_count": 280,
   "id": "e06470ba-e943-4ff3-9483-488c377f2b46",
   "metadata": {},
   "outputs": [
    {
     "data": {
      "text/plain": [
       "RunnableBinding(bound=RunnableBinding(bound=RunnableAssign(mapper={\n",
       "  context: RunnableLambda(format_docs)\n",
       "}), config={'run_name': 'format_inputs'})\n",
       "| ChatPromptTemplate(input_variables=['chat_history', 'context', 'input'], input_types={'chat_history': typing.List[typing.Union[langchain_core.messages.ai.AIMessage, langchain_core.messages.human.HumanMessage, langchain_core.messages.chat.ChatMessage, langchain_core.messages.system.SystemMessage, langchain_core.messages.function.FunctionMessage, langchain_core.messages.tool.ToolMessage]]}, messages=[SystemMessagePromptTemplate(prompt=PromptTemplate(input_variables=['context'], template=\"You are an assistant for question-answering tasks. Use the following pieces of retrieved context to answer the question. If you don't know the answer, say that you don't know. Use three sentences maximum and keep the answer concise.\\n\\n{context}\")), MessagesPlaceholder(variable_name='chat_history'), HumanMessagePromptTemplate(prompt=PromptTemplate(input_variables=['input'], template='{input}'))])\n",
       "| ChatOllama(model='llama3.1', temperature=0.0, _client=<ollama._client.Client object at 0x3f6f8f6d0>, _async_client=<ollama._client.AsyncClient object at 0x3f6f8fee0>)\n",
       "| StrOutputParser(), config={'run_name': 'stuff_documents_chain'})"
      ]
     },
     "execution_count": 280,
     "metadata": {},
     "output_type": "execute_result"
    }
   ],
   "source": [
    "qna_chain"
   ]
  },
  {
   "cell_type": "markdown",
   "id": "90db6466-a125-4f8e-a6a7-45adba434a9f",
   "metadata": {},
   "source": [
    "use create_stuff_documents_chain to generate a question_answer_chain, with input keys context, chat_history, and input-- it accepts the retrieved context alongside the conversation history and query to generate an answer."
   ]
  },
  {
   "cell_type": "code",
   "execution_count": 286,
   "id": "0c02ff0e-bb6b-4cd2-a592-6d29e1e753fe",
   "metadata": {},
   "outputs": [],
   "source": [
    "# instantiate rag_chain\n",
    "\n",
    "rag_chain = create_retrieval_chain(retriever=history_aware_retriever,combine_docs_chain=qna_chain)"
   ]
  },
  {
   "cell_type": "code",
   "execution_count": 288,
   "id": "1a821e54-94e5-4788-a303-428e9c0f23b0",
   "metadata": {
    "scrolled": true
   },
   "outputs": [
    {
     "data": {
      "text/plain": [
       "RunnableBinding(bound=RunnableAssign(mapper={\n",
       "  context: RunnableBinding(bound=RunnableBranch(branches=[(RunnableLambda(lambda x: not x.get('chat_history', False)), RunnableLambda(lambda x: x['input'])\n",
       "           | VectorStoreRetriever(tags=['InMemoryVectorStore', 'HuggingFaceEmbeddings'], vectorstore=<langchain_core.vectorstores.in_memory.InMemoryVectorStore object at 0x3df1e9cd0>, search_kwargs={'k': 6}))], default=ChatPromptTemplate(input_variables=['chat_history', 'input'], input_types={'chat_history': typing.List[typing.Union[langchain_core.messages.ai.AIMessage, langchain_core.messages.human.HumanMessage, langchain_core.messages.chat.ChatMessage, langchain_core.messages.system.SystemMessage, langchain_core.messages.function.FunctionMessage, langchain_core.messages.tool.ToolMessage]]}, messages=[SystemMessagePromptTemplate(prompt=PromptTemplate(input_variables=[], template='Given a chat history and the latest user question which might reference context in the chat history, formulate a standalone question which can be understood without the chat history. Do NOT answer the question, just reformulate it if needed and otherwise return it as is.')), MessagesPlaceholder(variable_name='chat_history'), HumanMessagePromptTemplate(prompt=PromptTemplate(input_variables=['input'], template='{input}'))])\n",
       "           | ChatOllama(model='llama3.1', temperature=0.0, _client=<ollama._client.Client object at 0x3f6f8f6d0>, _async_client=<ollama._client.AsyncClient object at 0x3f6f8fee0>)\n",
       "           | StrOutputParser()\n",
       "           | VectorStoreRetriever(tags=['InMemoryVectorStore', 'HuggingFaceEmbeddings'], vectorstore=<langchain_core.vectorstores.in_memory.InMemoryVectorStore object at 0x3df1e9cd0>, search_kwargs={'k': 6})), config={'run_name': 'retrieve_documents'})\n",
       "})\n",
       "| RunnableAssign(mapper={\n",
       "    answer: RunnableBinding(bound=RunnableBinding(bound=RunnableAssign(mapper={\n",
       "              context: RunnableLambda(format_docs)\n",
       "            }), config={'run_name': 'format_inputs'})\n",
       "            | ChatPromptTemplate(input_variables=['chat_history', 'context', 'input'], input_types={'chat_history': typing.List[typing.Union[langchain_core.messages.ai.AIMessage, langchain_core.messages.human.HumanMessage, langchain_core.messages.chat.ChatMessage, langchain_core.messages.system.SystemMessage, langchain_core.messages.function.FunctionMessage, langchain_core.messages.tool.ToolMessage]]}, messages=[SystemMessagePromptTemplate(prompt=PromptTemplate(input_variables=['context'], template=\"You are an assistant for question-answering tasks. Use the following pieces of retrieved context to answer the question. If you don't know the answer, say that you don't know. Use three sentences maximum and keep the answer concise.\\n\\n{context}\")), MessagesPlaceholder(variable_name='chat_history'), HumanMessagePromptTemplate(prompt=PromptTemplate(input_variables=['input'], template='{input}'))])\n",
       "            | ChatOllama(model='llama3.1', temperature=0.0, _client=<ollama._client.Client object at 0x3f6f8f6d0>, _async_client=<ollama._client.AsyncClient object at 0x3f6f8fee0>)\n",
       "            | StrOutputParser(), config={'run_name': 'stuff_documents_chain'})\n",
       "  }), config={'run_name': 'retrieval_chain'})"
      ]
     },
     "execution_count": 288,
     "metadata": {},
     "output_type": "execute_result"
    }
   ],
   "source": [
    "rag_chain"
   ]
  },
  {
   "cell_type": "markdown",
   "id": "21c8e18c-8824-4ced-a303-6535c9f56847",
   "metadata": {},
   "source": [
    "chain applies the history_aware_retriever and question_answer_chain in sequence, retaining intermediate outputs such as the retrieved context for convenience. It has input keys input and chat_history, and includes input, chat_history, context, and answer in its output."
   ]
  },
  {
   "cell_type": "markdown",
   "id": "55ab80dd-ed5c-4a69-9a70-68888af1cad0",
   "metadata": {},
   "source": [
    "rag_chain has 1. history aware retriever, 2. qna chain\n",
    "overall chain structure is \n",
    "contextualise input > use new standalone question for retrieval > use retrieved context for qna\n",
    "\n",
    "1. history aware retriever\n",
    "- contextualise input using chat_history\n",
    "    - if there is chat_history (i.e. not null), prompt and LLM will be used to generate a search query. That search query is then passed to the retriever\n",
    "    - if there is no chat_history, then the input is just passed directly to the retriever\n",
    "- use new standalone question for retrieval\n",
    "- use retrieved context for qna\n",
    "2. qna chain\n",
    "- typical rag qna chain that takes as input \"context\" from the retriever and \"input\" of the new standalone question from the history_aware_retriever's system_contextualise_input_prompt"
   ]
  },
  {
   "cell_type": "markdown",
   "id": "07c810b1-baf0-48b3-9d2d-6c98c535b22d",
   "metadata": {},
   "source": [
    "setup conversation history (without persistence)"
   ]
  },
  {
   "cell_type": "code",
   "execution_count": 290,
   "id": "bdd2d8d8-924f-487e-893d-bc8c0eb46bf5",
   "metadata": {},
   "outputs": [],
   "source": [
    "from langchain_community.chat_message_histories import ChatMessageHistory\n",
    "from langchain_core.chat_history import BaseChatMessageHistory\n",
    "from langchain_core.runnables.history import RunnableWithMessageHistory\n",
    "\n",
    "# simple conversation history store using dict - storage saved to current sess only, no persistence\n",
    "history_store = {}\n",
    "\n",
    "def get_session_history(session_id: str):\n",
    "    if session_id not in history_store:\n",
    "        history_store[session_id] = ChatMessageHistory()\n",
    "    return history_store[session_id]\n",
    "\n",
    "conversational_rag_chain = RunnableWithMessageHistory(\n",
    "    runnable=rag_chain,\n",
    "    get_session_history=get_session_history,\n",
    "    input_messages_key=\"input\",\n",
    "    history_messages_key=\"chat_history\",\n",
    "    output_messages_key=\"answer\"\n",
    ")"
   ]
  },
  {
   "cell_type": "code",
   "execution_count": 292,
   "id": "9a64be0c-8c04-42c2-a60d-6253b9e41e1d",
   "metadata": {
    "scrolled": true
   },
   "outputs": [
    {
     "data": {
      "text/plain": [
       "[Document(id='0bdfb511-497a-44a7-a808-15f7dc4cb02e', metadata={'source': '/Users/I748920/Desktop/llms-learning/pdf-chatbot-app/data/elements-of-statistical-learning-book/chap18.pdf', 'page': 2, 'start_index': 397}, page_content='using the optimal ridge parameter in each of the three cases, the median\\nvalue of|tj|was 2.0, 0.6 and 0.2, and the average number of |tj|values\\nexceeding 2 was equal to 9.8, 1.2 and 0.0.\\nRidge regression with λ= 0.001 successfully exploits the correlation in\\nthe features when p<N, but cannot do so when p≫N. In the latter case\\nthere is not enough information in the relatively small numb er of samples\\nto eﬃciently estimate the high-dimensional covariance mat rix. In that case,'),\n",
       " Document(id='07cf95bb-ef63-4ba4-9514-02161fe5cccb', metadata={'source': '/Users/I748920/Desktop/llms-learning/pdf-chatbot-app/data/elements-of-statistical-learning-book/chap18.pdf', 'page': 1, 'start_index': 760}, page_content='over the 100 simulation runs. The p= 1000 case is designed to mimic the\\nkind of data that we might see in a high-dimensional genomic o r proteomic\\ndataset, for example.\\nWe ﬁt a ridge regression to the data, with three diﬀerent valu es for the\\nregularization parameter λ: 0.001, 100, and 1000. When λ= 0.001, this\\nis nearly the same as least squares regression, with a little regularization\\njust to ensure that the problem is non-singular when p > N. Figure 18.1'),\n",
       " Document(id='985cd759-7665-47ad-8cd5-45255d6c4080', metadata={'source': '/Users/I748920/Desktop/llms-learning/pdf-chatbot-app/data/elements-of-statistical-learning-book/chap18.pdf', 'page': 1, 'start_index': 1150}, page_content='just to ensure that the problem is non-singular when p > N. Figure 18.1\\nshows boxplots oftherelative testerrorachieved bythediﬀ erentestimators\\nin each scenario. The corresponding average degrees of free dom used in\\neach ridge-regression ﬁt is indicated (computed using form ula (3.50) on\\npage 682). The degrees of freedom is a more interpretable parameter t han\\nλ. We see that ridge regression with λ= 0.001 (20 df) wins when p= 20;\\nλ= 100 (35 df) wins when p= 100, and λ= 1000 (43 df) wins when'),\n",
       " Document(id='73ae4254-512b-40ff-8774-6ccf1a436ed4', metadata={'source': '/Users/I748920/Desktop/llms-learning/pdf-chatbot-app/data/elements-of-statistical-learning-book/chap18.pdf', 'page': 10, 'start_index': 1944}, page_content='shown to equal\\nˆβ=V(RTR+λI)−1RTy (18.15)\\n(Exercise 18.4). Thus ˆβ=Vˆθ, where ˆθis the ridge-regression estimate\\nusing theNobservations ( ri,yi),i= 1,2,...,N. In other words, we can\\nsimply reduce the data matrix from XtoR, and work with the rows of\\nR. This trick reduces the computational cost from O(p3) toO(pN2) when\\np>N.'),\n",
       " Document(id='ae44aefa-6114-4af1-921e-20c04dfe717f', metadata={'source': '/Users/I748920/Desktop/llms-learning/pdf-chatbot-app/data/elements-of-statistical-learning-book/chap18.pdf', 'page': 2, 'start_index': 800}, page_content='to eﬃciently estimate the high-dimensional covariance mat rix. In that case,\\nmore regularization leads to superior prediction performa nce.\\nThus it is not surprising that the analysis of high-dimensio nal data re-\\nquires either modiﬁcation of procedures designed for the N >pscenario, or\\nentirely new procedures. In this chapter we discuss example s of both kinds\\nofapproachesforhighdimensionalclassiﬁcationandregre ssion;thesemeth-'),\n",
       " Document(id='507f89a3-02fd-4334-9bd4-20bc4cbac8cd', metadata={'source': '/Users/I748920/Desktop/llms-learning/pdf-chatbot-app/data/elements-of-statistical-learning-book/chap18.pdf', 'page': 13, 'start_index': 1190}, page_content='variables; genes tend to operate in molecular pathways. The lasso penalty\\nis somewhat indiﬀerent to the choice among a set of strong but corre-\\nlated variables (Exercise 3.28). The ridge penalty, on the o ther hand, tends\\nto shrink the coeﬃcients of correlated variables toward eac h other (Exer-\\ncise 3.29 on page 99). The elastic net penalty (Zou and Hastie, 2005) is a\\ncompromise, and has the form\\np∑\\nj=1(\\nα|βj|+(1−α)β2\\nj)\\n. (18.20)')]"
      ]
     },
     "execution_count": 292,
     "metadata": {},
     "output_type": "execute_result"
    }
   ],
   "source": [
    "retriever_hf.invoke(sample_query)"
   ]
  },
  {
   "cell_type": "code",
   "execution_count": 295,
   "id": "37b7e80e-6eec-460b-b7b0-3b9699c9d9cb",
   "metadata": {},
   "outputs": [],
   "source": [
    "response = conversational_rag_chain.invoke(\n",
    "    input={\n",
    "        'input': 'explain ridge regression in context of high dimensional problems'\n",
    "    },\n",
    "    config={\n",
    "        'configurable':{'session_id':'1'}\n",
    "    }\n",
    ")"
   ]
  },
  {
   "cell_type": "code",
   "execution_count": 296,
   "id": "c0887eaf-d238-4ef3-93ad-8dc45b60943e",
   "metadata": {
    "scrolled": true
   },
   "outputs": [
    {
     "data": {
      "text/plain": [
       "{'input': 'explain ridge regression in context of high dimensional problems',\n",
       " 'chat_history': [],\n",
       " 'context': [Document(id='07cf95bb-ef63-4ba4-9514-02161fe5cccb', metadata={'source': '/Users/I748920/Desktop/llms-learning/pdf-chatbot-app/data/elements-of-statistical-learning-book/chap18.pdf', 'page': 1, 'start_index': 760}, page_content='over the 100 simulation runs. The p= 1000 case is designed to mimic the\\nkind of data that we might see in a high-dimensional genomic o r proteomic\\ndataset, for example.\\nWe ﬁt a ridge regression to the data, with three diﬀerent valu es for the\\nregularization parameter λ: 0.001, 100, and 1000. When λ= 0.001, this\\nis nearly the same as least squares regression, with a little regularization\\njust to ensure that the problem is non-singular when p > N. Figure 18.1'),\n",
       "  Document(id='985cd759-7665-47ad-8cd5-45255d6c4080', metadata={'source': '/Users/I748920/Desktop/llms-learning/pdf-chatbot-app/data/elements-of-statistical-learning-book/chap18.pdf', 'page': 1, 'start_index': 1150}, page_content='just to ensure that the problem is non-singular when p > N. Figure 18.1\\nshows boxplots oftherelative testerrorachieved bythediﬀ erentestimators\\nin each scenario. The corresponding average degrees of free dom used in\\neach ridge-regression ﬁt is indicated (computed using form ula (3.50) on\\npage 682). The degrees of freedom is a more interpretable parameter t han\\nλ. We see that ridge regression with λ= 0.001 (20 df) wins when p= 20;\\nλ= 100 (35 df) wins when p= 100, and λ= 1000 (43 df) wins when'),\n",
       "  Document(id='8ae52bfa-978d-4d78-a0a1-460f3396239d', metadata={'source': '/Users/I748920/Desktop/llms-learning/pdf-chatbot-app/data/elements-of-statistical-learning-book/chap18.pdf', 'page': 1, 'start_index': 368}, page_content='ofp, the number of features. The relative error is the test error d ivided by the\\nBayes error, σ2. From left to right, results are shown for ridge regression wit h\\nthree diﬀerent values of the regularization parameter λ:0.001,100and1000. The\\n(average) eﬀective degrees of freedom in the ﬁt is indicated below each plot.\\nvariate regression coeﬃcients1was 9, 33 and 331, respectively, averaged\\nover the 100 simulation runs. The p= 1000 case is designed to mimic the'),\n",
       "  Document(id='73ae4254-512b-40ff-8774-6ccf1a436ed4', metadata={'source': '/Users/I748920/Desktop/llms-learning/pdf-chatbot-app/data/elements-of-statistical-learning-book/chap18.pdf', 'page': 10, 'start_index': 1944}, page_content='shown to equal\\nˆβ=V(RTR+λI)−1RTy (18.15)\\n(Exercise 18.4). Thus ˆβ=Vˆθ, where ˆθis the ridge-regression estimate\\nusing theNobservations ( ri,yi),i= 1,2,...,N. In other words, we can\\nsimply reduce the data matrix from XtoR, and work with the rows of\\nR. This trick reduces the computational cost from O(p3) toO(pN2) when\\np>N.'),\n",
       "  Document(id='373cf737-0049-4be6-a6a0-642c0f33f4f3', metadata={'source': '/Users/I748920/Desktop/llms-learning/pdf-chatbot-app/data/elements-of-statistical-learning-book/chap18.pdf', 'page': 45, 'start_index': 1585}, page_content='how they can be resolved.\\nEx. 18.4 Derive the computational formula (18.15) for ridge regress ion.\\n[Hint: Use the ﬁrst derivative of the penalized sum-of-squares cr iterion to\\nshow that if λ>0, thenˆβ=XTsfor somes∈IRN.]\\nEx. 18.5 Prove the theorem (18.16)–(18.17) in Section 18.3.5, by dec om-\\nposingβand the rows of Xinto their projections into the column space of\\nVand its complement in IRp.\\nEx. 18.6 Show how the theorem in Section 18.3.5 can be applied to regu-'),\n",
       "  Document(id='bf56a359-4a50-4e64-96f1-114bd3e44aea', metadata={'source': '/Users/I748920/Desktop/llms-learning/pdf-chatbot-app/data/elements-of-statistical-learning-book/chap18.pdf', 'page': 45, 'start_index': 1185}, page_content='k=1|µjk|\\nsj.\\uf8fc\\n\\uf8fd\\n\\uf8fe(18.55)\\nShow that the solution is equivalent to the nearest shrunken centroid es-\\ntimator (18.7), with s0set to zero, and m2\\nkequal to 1/Nkinstead of\\n1/Nk−1/Nas before.\\nEx. 18.3 Show that the ﬁtted coeﬃcients for the regularized multicla ss\\nlogistic regression problem (18.10) satisfy∑K\\nk=1ˆβkj= 0, j= 1,...,p.\\nWhat about the ˆβk0? Discuss issues with these constant parameters, and\\nhow they can be resolved.\\nEx. 18.4 Derive the computational formula (18.15) for ridge regress ion.')],\n",
       " 'answer': \"In the context of high-dimensional problems, such as genomic or proteomic datasets with thousands of features, Ridge Regression is a regularization technique used to prevent overfitting and improve model generalizability.\\n\\nRidge Regression adds a penalty term to the least squares loss function, which is proportional to the magnitude of the regression coefficients. This penalty term, controlled by the regularization parameter λ, encourages the model to produce smaller coefficients for all features, thereby reducing the impact of noise and irrelevant variables on the model's performance.\\n\\nBy doing so, Ridge Regression:\\n\\n1. Reduces overfitting: By shrinking the coefficients towards zero, Ridge Regression prevents the model from memorizing the training data and generalizes better to new, unseen data.\\n2. Improves interpretability: The regularization parameter λ provides a more interpretable measure of the model's complexity than the number of features used.\\n3. Handles high-dimensional data: In high-dimensional spaces, Ridge Regression can be particularly effective in reducing the impact of irrelevant variables and improving model performance.\\n\\nThe choice of λ is crucial, as it controls the trade-off between fitting the training data and generalizing to new data. A small value of λ (e.g., 0.001) results in a model that is nearly equivalent to least squares regression, while larger values (e.g., 100 or 1000) lead to more regularization and potentially better generalization performance.\\n\\nIn the context of high-dimensional problems, Ridge Regression can be particularly useful when:\\n\\n* The number of features (p) exceeds the number of observations (N), making it difficult for traditional least squares regression to converge.\\n* Many features are irrelevant or noisy, which can negatively impact model performance.\\n\\nBy applying Ridge Regression in these scenarios, researchers and practitioners can develop more robust and generalizable models that better capture the underlying relationships between variables.\"}"
      ]
     },
     "execution_count": 296,
     "metadata": {},
     "output_type": "execute_result"
    }
   ],
   "source": [
    "response"
   ]
  },
  {
   "attachments": {
    "0a4a085c-9326-474c-a2a1-f74e3cf73ef4.png": {
     "image/png": "[encoded data removed]"
    }
   },
   "cell_type": "markdown",
   "id": "bc8cd749-2af1-411c-9605-9d6fd302d277",
   "metadata": {},
   "source": [
    "Conversational RAG Structure\n",
    "![conversational_rag_structure.png](attachment:0a4a085c-9326-474c-a2a1-f74e3cf73ef4.png)"
   ]
  },
  {
   "cell_type": "code",
   "execution_count": 327,
   "id": "a4480469-776a-4fe9-a209-5a39b38daebf",
   "metadata": {
    "scrolled": true
   },
   "outputs": [
    {
     "data": {
      "text/plain": [
       "dict_keys(['input', 'chat_history', 'context', 'answer'])"
      ]
     },
     "execution_count": 327,
     "metadata": {},
     "output_type": "execute_result"
    }
   ],
   "source": [
    "response.keys()"
   ]
  },
  {
   "cell_type": "code",
   "execution_count": 329,
   "id": "75bb7e9a-97eb-4544-8ae8-c858f02192ff",
   "metadata": {},
   "outputs": [
    {
     "data": {
      "text/plain": [
       "'explain ridge regression in context of high dimensional problems'"
      ]
     },
     "execution_count": 329,
     "metadata": {},
     "output_type": "execute_result"
    }
   ],
   "source": [
    "response['input']"
   ]
  },
  {
   "cell_type": "code",
   "execution_count": 333,
   "id": "fa3d8d67-55c3-43be-9c64-81be91fba46b",
   "metadata": {},
   "outputs": [
    {
     "data": {
      "text/plain": [
       "[]"
      ]
     },
     "execution_count": 333,
     "metadata": {},
     "output_type": "execute_result"
    }
   ],
   "source": [
    "response['chat_history']"
   ]
  },
  {
   "cell_type": "code",
   "execution_count": 335,
   "id": "a47500fd-fc1f-42cd-8f2d-4cd5a43bda73",
   "metadata": {
    "scrolled": true
   },
   "outputs": [
    {
     "data": {
      "text/plain": [
       "[Document(id='07cf95bb-ef63-4ba4-9514-02161fe5cccb', metadata={'source': '/Users/I748920/Desktop/llms-learning/pdf-chatbot-app/data/elements-of-statistical-learning-book/chap18.pdf', 'page': 1, 'start_index': 760}, page_content='over the 100 simulation runs. The p= 1000 case is designed to mimic the\\nkind of data that we might see in a high-dimensional genomic o r proteomic\\ndataset, for example.\\nWe ﬁt a ridge regression to the data, with three diﬀerent valu es for the\\nregularization parameter λ: 0.001, 100, and 1000. When λ= 0.001, this\\nis nearly the same as least squares regression, with a little regularization\\njust to ensure that the problem is non-singular when p > N. Figure 18.1'),\n",
       " Document(id='985cd759-7665-47ad-8cd5-45255d6c4080', metadata={'source': '/Users/I748920/Desktop/llms-learning/pdf-chatbot-app/data/elements-of-statistical-learning-book/chap18.pdf', 'page': 1, 'start_index': 1150}, page_content='just to ensure that the problem is non-singular when p > N. Figure 18.1\\nshows boxplots oftherelative testerrorachieved bythediﬀ erentestimators\\nin each scenario. The corresponding average degrees of free dom used in\\neach ridge-regression ﬁt is indicated (computed using form ula (3.50) on\\npage 682). The degrees of freedom is a more interpretable parameter t han\\nλ. We see that ridge regression with λ= 0.001 (20 df) wins when p= 20;\\nλ= 100 (35 df) wins when p= 100, and λ= 1000 (43 df) wins when'),\n",
       " Document(id='8ae52bfa-978d-4d78-a0a1-460f3396239d', metadata={'source': '/Users/I748920/Desktop/llms-learning/pdf-chatbot-app/data/elements-of-statistical-learning-book/chap18.pdf', 'page': 1, 'start_index': 368}, page_content='ofp, the number of features. The relative error is the test error d ivided by the\\nBayes error, σ2. From left to right, results are shown for ridge regression wit h\\nthree diﬀerent values of the regularization parameter λ:0.001,100and1000. The\\n(average) eﬀective degrees of freedom in the ﬁt is indicated below each plot.\\nvariate regression coeﬃcients1was 9, 33 and 331, respectively, averaged\\nover the 100 simulation runs. The p= 1000 case is designed to mimic the'),\n",
       " Document(id='73ae4254-512b-40ff-8774-6ccf1a436ed4', metadata={'source': '/Users/I748920/Desktop/llms-learning/pdf-chatbot-app/data/elements-of-statistical-learning-book/chap18.pdf', 'page': 10, 'start_index': 1944}, page_content='shown to equal\\nˆβ=V(RTR+λI)−1RTy (18.15)\\n(Exercise 18.4). Thus ˆβ=Vˆθ, where ˆθis the ridge-regression estimate\\nusing theNobservations ( ri,yi),i= 1,2,...,N. In other words, we can\\nsimply reduce the data matrix from XtoR, and work with the rows of\\nR. This trick reduces the computational cost from O(p3) toO(pN2) when\\np>N.'),\n",
       " Document(id='373cf737-0049-4be6-a6a0-642c0f33f4f3', metadata={'source': '/Users/I748920/Desktop/llms-learning/pdf-chatbot-app/data/elements-of-statistical-learning-book/chap18.pdf', 'page': 45, 'start_index': 1585}, page_content='how they can be resolved.\\nEx. 18.4 Derive the computational formula (18.15) for ridge regress ion.\\n[Hint: Use the ﬁrst derivative of the penalized sum-of-squares cr iterion to\\nshow that if λ>0, thenˆβ=XTsfor somes∈IRN.]\\nEx. 18.5 Prove the theorem (18.16)–(18.17) in Section 18.3.5, by dec om-\\nposingβand the rows of Xinto their projections into the column space of\\nVand its complement in IRp.\\nEx. 18.6 Show how the theorem in Section 18.3.5 can be applied to regu-'),\n",
       " Document(id='bf56a359-4a50-4e64-96f1-114bd3e44aea', metadata={'source': '/Users/I748920/Desktop/llms-learning/pdf-chatbot-app/data/elements-of-statistical-learning-book/chap18.pdf', 'page': 45, 'start_index': 1185}, page_content='k=1|µjk|\\nsj.\\uf8fc\\n\\uf8fd\\n\\uf8fe(18.55)\\nShow that the solution is equivalent to the nearest shrunken centroid es-\\ntimator (18.7), with s0set to zero, and m2\\nkequal to 1/Nkinstead of\\n1/Nk−1/Nas before.\\nEx. 18.3 Show that the ﬁtted coeﬃcients for the regularized multicla ss\\nlogistic regression problem (18.10) satisfy∑K\\nk=1ˆβkj= 0, j= 1,...,p.\\nWhat about the ˆβk0? Discuss issues with these constant parameters, and\\nhow they can be resolved.\\nEx. 18.4 Derive the computational formula (18.15) for ridge regress ion.')]"
      ]
     },
     "execution_count": 335,
     "metadata": {},
     "output_type": "execute_result"
    }
   ],
   "source": [
    "response['context']"
   ]
  },
  {
   "cell_type": "code",
   "execution_count": 337,
   "id": "1b533175-6755-4ae7-96cd-71dc98fa52fc",
   "metadata": {
    "scrolled": true
   },
   "outputs": [
    {
     "data": {
      "text/plain": [
       "\"In the context of high-dimensional problems, such as genomic or proteomic datasets with thousands of features, Ridge Regression is a regularization technique used to prevent overfitting and improve model generalizability.\\n\\nRidge Regression adds a penalty term to the least squares loss function, which is proportional to the magnitude of the regression coefficients. This penalty term, controlled by the regularization parameter λ, encourages the model to produce smaller coefficients for all features, thereby reducing the impact of noise and irrelevant variables on the model's performance.\\n\\nBy doing so, Ridge Regression:\\n\\n1. Reduces overfitting: By shrinking the coefficients towards zero, Ridge Regression prevents the model from memorizing the training data and generalizes better to new, unseen data.\\n2. Improves interpretability: The regularization parameter λ provides a more interpretable measure of the model's complexity than the number of features used.\\n3. Handles high-dimensional data: In high-dimensional spaces, Ridge Regression can be particularly effective in reducing the impact of irrelevant variables and improving model performance.\\n\\nThe choice of λ is crucial, as it controls the trade-off between fitting the training data and generalizing to new data. A small value of λ (e.g., 0.001) results in a model that is nearly equivalent to least squares regression, while larger values (e.g., 100 or 1000) lead to more regularization and potentially better generalization performance.\\n\\nIn the context of high-dimensional problems, Ridge Regression can be particularly useful when:\\n\\n* The number of features (p) exceeds the number of observations (N), making it difficult for traditional least squares regression to converge.\\n* Many features are irrelevant or noisy, which can negatively impact model performance.\\n\\nBy applying Ridge Regression in these scenarios, researchers and practitioners can develop more robust and generalizable models that better capture the underlying relationships between variables.\""
      ]
     },
     "execution_count": 337,
     "metadata": {},
     "output_type": "execute_result"
    }
   ],
   "source": [
    "response['answer']"
   ]
  },
  {
   "cell_type": "code",
   "execution_count": 339,
   "id": "ef5f5d88-2c19-440c-98c1-775357058a7b",
   "metadata": {},
   "outputs": [
    {
     "data": {
      "text/plain": [
       "'for high-dimensional problems, with regards to p and N, in what cases can ridge regression exploit the correlation in the features of the dataset?'"
      ]
     },
     "execution_count": 339,
     "metadata": {},
     "output_type": "execute_result"
    }
   ],
   "source": [
    "sample_query"
   ]
  },
  {
   "cell_type": "code",
   "execution_count": 341,
   "id": "31c233ee-5900-457b-94fc-a11fec2fef1a",
   "metadata": {},
   "outputs": [],
   "source": [
    "response2 = conversational_rag_chain.invoke(\n",
    "    input={\n",
    "        'input': f'elaborate on this and also explain {sample_query}'\n",
    "    },\n",
    "    config={\n",
    "        'configurable':{'session_id':'1'}\n",
    "    }\n",
    ")"
   ]
  },
  {
   "cell_type": "code",
   "execution_count": 347,
   "id": "dac5d8c2-6319-402d-a222-eeac7cda4279",
   "metadata": {},
   "outputs": [
    {
     "data": {
      "text/plain": [
       "'elaborate on this and also explain for high-dimensional problems, with regards to p and N, in what cases can ridge regression exploit the correlation in the features of the dataset?'"
      ]
     },
     "execution_count": 347,
     "metadata": {},
     "output_type": "execute_result"
    }
   ],
   "source": [
    "response2['input']"
   ]
  },
  {
   "cell_type": "code",
   "execution_count": 349,
   "id": "b557a85e-124c-47cc-a4bb-4dcc11cfe37f",
   "metadata": {},
   "outputs": [
    {
     "data": {
      "text/plain": [
       "[HumanMessage(content='explain ridge regression in context of high dimensional problems'),\n",
       " AIMessage(content=\"In the context of high-dimensional problems, such as genomic or proteomic datasets with thousands of features, Ridge Regression is a regularization technique used to prevent overfitting and improve model generalizability.\\n\\nRidge Regression adds a penalty term to the least squares loss function, which is proportional to the magnitude of the regression coefficients. This penalty term, controlled by the regularization parameter λ, encourages the model to produce smaller coefficients for all features, thereby reducing the impact of noise and irrelevant variables on the model's performance.\\n\\nBy doing so, Ridge Regression:\\n\\n1. Reduces overfitting: By shrinking the coefficients towards zero, Ridge Regression prevents the model from memorizing the training data and generalizes better to new, unseen data.\\n2. Improves interpretability: The regularization parameter λ provides a more interpretable measure of the model's complexity than the number of features used.\\n3. Handles high-dimensional data: In high-dimensional spaces, Ridge Regression can be particularly effective in reducing the impact of irrelevant variables and improving model performance.\\n\\nThe choice of λ is crucial, as it controls the trade-off between fitting the training data and generalizing to new data. A small value of λ (e.g., 0.001) results in a model that is nearly equivalent to least squares regression, while larger values (e.g., 100 or 1000) lead to more regularization and potentially better generalization performance.\\n\\nIn the context of high-dimensional problems, Ridge Regression can be particularly useful when:\\n\\n* The number of features (p) exceeds the number of observations (N), making it difficult for traditional least squares regression to converge.\\n* Many features are irrelevant or noisy, which can negatively impact model performance.\\n\\nBy applying Ridge Regression in these scenarios, researchers and practitioners can develop more robust and generalizable models that better capture the underlying relationships between variables.\")]"
      ]
     },
     "execution_count": 349,
     "metadata": {},
     "output_type": "execute_result"
    }
   ],
   "source": [
    "response2['chat_history']"
   ]
  },
  {
   "cell_type": "code",
   "execution_count": 351,
   "id": "6ee3cbee-9548-47fd-ac6f-3621d4fca5e8",
   "metadata": {
    "scrolled": true
   },
   "outputs": [
    {
     "data": {
      "text/plain": [
       "[Document(id='0bdfb511-497a-44a7-a808-15f7dc4cb02e', metadata={'source': '/Users/I748920/Desktop/llms-learning/pdf-chatbot-app/data/elements-of-statistical-learning-book/chap18.pdf', 'page': 2, 'start_index': 397}, page_content='using the optimal ridge parameter in each of the three cases, the median\\nvalue of|tj|was 2.0, 0.6 and 0.2, and the average number of |tj|values\\nexceeding 2 was equal to 9.8, 1.2 and 0.0.\\nRidge regression with λ= 0.001 successfully exploits the correlation in\\nthe features when p<N, but cannot do so when p≫N. In the latter case\\nthere is not enough information in the relatively small numb er of samples\\nto eﬃciently estimate the high-dimensional covariance mat rix. In that case,'),\n",
       " Document(id='07cf95bb-ef63-4ba4-9514-02161fe5cccb', metadata={'source': '/Users/I748920/Desktop/llms-learning/pdf-chatbot-app/data/elements-of-statistical-learning-book/chap18.pdf', 'page': 1, 'start_index': 760}, page_content='over the 100 simulation runs. The p= 1000 case is designed to mimic the\\nkind of data that we might see in a high-dimensional genomic o r proteomic\\ndataset, for example.\\nWe ﬁt a ridge regression to the data, with three diﬀerent valu es for the\\nregularization parameter λ: 0.001, 100, and 1000. When λ= 0.001, this\\nis nearly the same as least squares regression, with a little regularization\\njust to ensure that the problem is non-singular when p > N. Figure 18.1'),\n",
       " Document(id='8ae52bfa-978d-4d78-a0a1-460f3396239d', metadata={'source': '/Users/I748920/Desktop/llms-learning/pdf-chatbot-app/data/elements-of-statistical-learning-book/chap18.pdf', 'page': 1, 'start_index': 368}, page_content='ofp, the number of features. The relative error is the test error d ivided by the\\nBayes error, σ2. From left to right, results are shown for ridge regression wit h\\nthree diﬀerent values of the regularization parameter λ:0.001,100and1000. The\\n(average) eﬀective degrees of freedom in the ﬁt is indicated below each plot.\\nvariate regression coeﬃcients1was 9, 33 and 331, respectively, averaged\\nover the 100 simulation runs. The p= 1000 case is designed to mimic the'),\n",
       " Document(id='985cd759-7665-47ad-8cd5-45255d6c4080', metadata={'source': '/Users/I748920/Desktop/llms-learning/pdf-chatbot-app/data/elements-of-statistical-learning-book/chap18.pdf', 'page': 1, 'start_index': 1150}, page_content='just to ensure that the problem is non-singular when p > N. Figure 18.1\\nshows boxplots oftherelative testerrorachieved bythediﬀ erentestimators\\nin each scenario. The corresponding average degrees of free dom used in\\neach ridge-regression ﬁt is indicated (computed using form ula (3.50) on\\npage 682). The degrees of freedom is a more interpretable parameter t han\\nλ. We see that ridge regression with λ= 0.001 (20 df) wins when p= 20;\\nλ= 100 (35 df) wins when p= 100, and λ= 1000 (43 df) wins when'),\n",
       " Document(id='edd39061-5aef-4ef9-96f9-b698474a30c8', metadata={'source': '/Users/I748920/Desktop/llms-learning/pdf-chatbot-app/data/elements-of-statistical-learning-book/chap18.pdf', 'page': 45, 'start_index': 405}, page_content='studies.\\nExercises\\nEx. 18.1 For a coeﬃcient estimate ˆβj, letˆβj/||ˆβj||2be the normalized ver-\\nsion. Show that as λ→∞, the normalized ridge-regression estimates con-\\nverge to the renormalized partial-least-squares one-comp onent estimates.\\nEx.18.2Nearest shrunken centroids and the lasso. Considera(naiveBayes)\\nGaussian model for classiﬁcation in which the features j= 1,2,...,pare\\nassumed to be independent within each class k= 1,2,...,K. With ob-'),\n",
       " Document(id='ae44aefa-6114-4af1-921e-20c04dfe717f', metadata={'source': '/Users/I748920/Desktop/llms-learning/pdf-chatbot-app/data/elements-of-statistical-learning-book/chap18.pdf', 'page': 2, 'start_index': 800}, page_content='to eﬃciently estimate the high-dimensional covariance mat rix. In that case,\\nmore regularization leads to superior prediction performa nce.\\nThus it is not surprising that the analysis of high-dimensio nal data re-\\nquires either modiﬁcation of procedures designed for the N >pscenario, or\\nentirely new procedures. In this chapter we discuss example s of both kinds\\nofapproachesforhighdimensionalclassiﬁcationandregre ssion;thesemeth-')]"
      ]
     },
     "execution_count": 351,
     "metadata": {},
     "output_type": "execute_result"
    }
   ],
   "source": [
    "response2['context']"
   ]
  },
  {
   "cell_type": "code",
   "execution_count": 353,
   "id": "4d8ad041-2d2e-406f-8d1c-ed0f43a0d5c8",
   "metadata": {},
   "outputs": [
    {
     "data": {
      "text/plain": [
       "\"**Ridge Regression in High-Dimensional Problems**\\n\\nIn high-dimensional problems, where the number of features (p) exceeds the number of observations (N), traditional least squares regression can struggle to converge. This is because the model needs to estimate a large number of coefficients, which can lead to overfitting and poor generalization performance.\\n\\nRidge Regression can be particularly effective in these scenarios by:\\n\\n1. **Reducing overfitting**: By shrinking the coefficients towards zero, Ridge Regression prevents the model from memorizing the training data and generalizes better to new, unseen data.\\n2. **Improving interpretability**: The regularization parameter λ provides a more interpretable measure of the model's complexity than the number of features used.\\n\\nHowever, for high-dimensional problems, Ridge Regression can only exploit the correlation in the features when:\\n\\n* **p < N**: When the number of features is less than or equal to the number of observations, Ridge Regression can effectively estimate the covariance matrix and capture the correlations between features.\\n* **λ = 0.001**: A small value of λ (e.g., 0.001) results in a model that is nearly equivalent to least squares regression, which allows Ridge Regression to exploit the correlation in the features.\\n\\nIn this case, Ridge Regression can successfully identify the relevant features and capture their correlations, leading to improved prediction performance.\\n\\n**When Ridge Regression Fails**\\n\\nHowever, when:\\n\\n* **p >> N**: When the number of features is much larger than the number of observations, Ridge Regression struggles to estimate the covariance matrix and capture the correlations between features.\\n* **λ > 0.001**: Larger values of λ (e.g., 100 or 1000) lead to more regularization, which can prevent Ridge Regression from exploiting the correlation in the features.\\n\\nIn these cases, Ridge Regression may not be able to effectively capture the correlations between features, and its performance may suffer as a result.\\n\\n**Example**\\n\\nThe text mentions that when p = 20, Ridge Regression with λ = 0.001 (20 df) wins; when p = 100, Ridge Regression with λ = 100 (35 df) wins; and when p = 1000, Ridge Regression with λ = 1000 (43 df) wins.\\n\\nThis suggests that as the number of features increases, a larger value of λ is needed to effectively capture the correlations between features. However, even in these cases, Ridge Regression may not be able to fully exploit the correlation in the features, and its performance may still suffer compared to other methods specifically designed for high-dimensional problems.\""
      ]
     },
     "execution_count": 353,
     "metadata": {},
     "output_type": "execute_result"
    }
   ],
   "source": [
    "response2['answer']"
   ]
  },
  {
   "cell_type": "markdown",
   "id": "d66d0143-b113-46fc-b394-dd3ffcc58f6d",
   "metadata": {},
   "source": [
    "Note: this system is not stateful yet\n",
    "\n",
    "* Statefulness:\n",
    "Stateful typically refers to the system’s ability to persist data across sessions or restarts. In your current implementation, history is only preserved for the duration of the session (i.e., while the program is running). If you stop the program and restart it, the conversation history will be reset because the store is not persisted.\n",
    "* What is Missing:\n",
    "The missing part here is likely persistent memory, which would allow the system to retain conversation history even after a session or the program ends. This could be implemented using:\n",
    "    * A database to store conversation history (like SQLite, MongoDB, etc.).\n",
    "External memory integration, like LangChain’s memory modules that store history in more scalable, persistent ways.\n",
    "    * A file-based storage system (e.g., writing the history to a file that can be loaded again when needed)."
   ]
  },
  {
   "cell_type": "code",
   "execution_count": 386,
   "id": "b512bee0-a8ca-4990-a20f-a2363e244638",
   "metadata": {},
   "outputs": [
    {
     "data": {
      "text/plain": [
       "'for high-dimensional problems, with regards to p and N, in what cases can ridge regression exploit the correlation in the features of the dataset?'"
      ]
     },
     "execution_count": 386,
     "metadata": {},
     "output_type": "execute_result"
    }
   ],
   "source": [
    "sample_query"
   ]
  },
  {
   "cell_type": "code",
   "execution_count": 384,
   "id": "8f9a0e39-5695-49b3-aa71-468d03d9b6c9",
   "metadata": {},
   "outputs": [
    {
     "name": "stdout",
     "output_type": "stream",
     "text": [
      "page 2 of chap18.pdf\n",
      "content: using the optimal ridge parameter in each of the three cases, the median\n",
      "value of|tj|was 2.0, 0.6 and 0.2, and the average number of |tj|values\n",
      "exceeding 2 was equal to 9.8, 1.2 and 0.0.\n",
      "Ridge regression with λ= 0.001 successfully exploits the correlation in\n",
      "the features when p<N, but cannot do so when p≫N. In the latter case\n",
      "there is not enough information in the relatively small numb er of samples\n",
      "to eﬃciently estimate the high-dimensional covariance mat rix. In that case,\n",
      "\n",
      "page 1 of chap18.pdf\n",
      "content: over the 100 simulation runs. The p= 1000 case is designed to mimic the\n",
      "kind of data that we might see in a high-dimensional genomic o r proteomic\n",
      "dataset, for example.\n",
      "We ﬁt a ridge regression to the data, with three diﬀerent valu es for the\n",
      "regularization parameter λ: 0.001, 100, and 1000. When λ= 0.001, this\n",
      "is nearly the same as least squares regression, with a little regularization\n",
      "just to ensure that the problem is non-singular when p > N. Figure 18.1\n",
      "\n",
      "page 1 of chap18.pdf\n",
      "content: ofp, the number of features. The relative error is the test error d ivided by the\n",
      "Bayes error, σ2. From left to right, results are shown for ridge regression wit h\n",
      "three diﬀerent values of the regularization parameter λ:0.001,100and1000. The\n",
      "(average) eﬀective degrees of freedom in the ﬁt is indicated below each plot.\n",
      "variate regression coeﬃcients1was 9, 33 and 331, respectively, averaged\n",
      "over the 100 simulation runs. The p= 1000 case is designed to mimic the\n",
      "\n",
      "page 1 of chap18.pdf\n",
      "content: just to ensure that the problem is non-singular when p > N. Figure 18.1\n",
      "shows boxplots oftherelative testerrorachieved bythediﬀ erentestimators\n",
      "in each scenario. The corresponding average degrees of free dom used in\n",
      "each ridge-regression ﬁt is indicated (computed using form ula (3.50) on\n",
      "page 682). The degrees of freedom is a more interpretable parameter t han\n",
      "λ. We see that ridge regression with λ= 0.001 (20 df) wins when p= 20;\n",
      "λ= 100 (35 df) wins when p= 100, and λ= 1000 (43 df) wins when\n",
      "\n",
      "page 45 of chap18.pdf\n",
      "content: studies.\n",
      "Exercises\n",
      "Ex. 18.1 For a coeﬃcient estimate ˆβj, letˆβj/||ˆβj||2be the normalized ver-\n",
      "sion. Show that as λ→∞, the normalized ridge-regression estimates con-\n",
      "verge to the renormalized partial-least-squares one-comp onent estimates.\n",
      "Ex.18.2Nearest shrunken centroids and the lasso. Considera(naiveBayes)\n",
      "Gaussian model for classiﬁcation in which the features j= 1,2,...,pare\n",
      "assumed to be independent within each class k= 1,2,...,K. With ob-\n",
      "\n",
      "page 2 of chap18.pdf\n",
      "content: to eﬃciently estimate the high-dimensional covariance mat rix. In that case,\n",
      "more regularization leads to superior prediction performa nce.\n",
      "Thus it is not surprising that the analysis of high-dimensio nal data re-\n",
      "quires either modiﬁcation of procedures designed for the N >pscenario, or\n",
      "entirely new procedures. In this chapter we discuss example s of both kinds\n",
      "ofapproachesforhighdimensionalclassiﬁcationandregre ssion;thesemeth-\n",
      "\n"
     ]
    }
   ],
   "source": [
    "for d in response2[\"context\"]:\n",
    "    print(f\"page {d.metadata['page']} of {d.metadata['source'].split('/')[-1]}\")\n",
    "    print(f\"content: {d.page_content}\")\n",
    "    print()"
   ]
  },
  {
   "cell_type": "code",
   "execution_count": 380,
   "id": "6e66c33a-a561-4401-9e4e-24a69fb9c217",
   "metadata": {},
   "outputs": [
    {
     "data": {
      "text/plain": [
       "'jnvondsfvnidofs'"
      ]
     },
     "execution_count": 380,
     "metadata": {},
     "output_type": "execute_result"
    }
   ],
   "source": [
    "p=\"jnvondsfvnidofs\"\n",
    "p.split(\"--\")[0]"
   ]
  },
  {
   "cell_type": "code",
   "execution_count": 394,
   "id": "da8611ce-af31-43f2-b2f5-e4ebb7d65eb7",
   "metadata": {},
   "outputs": [
    {
     "data": {
      "text/plain": [
       "RunnableWithMessageHistory(bound=RunnableBinding(bound=RunnableBinding(bound=RunnableAssign(mapper={\n",
       "  chat_history: RunnableBinding(bound=RunnableLambda(_enter_history), config={'run_name': 'load_history'})\n",
       "}), config={'run_name': 'insert_history'})\n",
       "| RunnableBinding(bound=RunnableLambda(_call_runnable_sync), config={'run_name': 'check_sync_or_async'}), config={'run_name': 'RunnableWithMessageHistory'}), get_session_history=<function get_session_history at 0x3f76a9430>, input_messages_key='input', output_messages_key='answer', history_messages_key='chat_history', history_factory_config=[ConfigurableFieldSpec(id='session_id', annotation=<class 'str'>, name='Session ID', description='Unique identifier for a session.', default='', is_shared=True, dependencies=None)])"
      ]
     },
     "execution_count": 394,
     "metadata": {},
     "output_type": "execute_result"
    }
   ],
   "source": [
    "conversational_rag_chain"
   ]
  },
  {
   "cell_type": "markdown",
   "id": "47fa2935-bfd4-4195-8ee7-35713998747f",
   "metadata": {
    "jp-MarkdownHeadingCollapsed": true
   },
   "source": [
    "# python script setup"
   ]
  },
  {
   "cell_type": "code",
   "execution_count": null,
   "id": "1ea1bca5-c23d-404b-b2ee-b12fbc9b90ac",
   "metadata": {},
   "outputs": [],
   "source": [
    "print()\n",
    "\n",
    "import os\n",
    "import glob\n",
    "import time\n",
    "import argparse\n",
    "from tqdm import tqdm\n",
    "from langchain_community.document_loaders import PyPDFLoader\n",
    "from langchain_text_splitters import RecursiveCharacterTextSplitter\n",
    "from langchain_community.embeddings import HuggingFaceEmbeddings\n",
    "from langchain_core.vectorstores import InMemoryVectorStore\n",
    "from langchain_ollama import ChatOllama\n",
    "from langchain.chains import create_history_aware_retriever\n",
    "from langchain_core.prompts import ChatPromptTemplate, MessagesPlaceholder\n",
    "from langchain.chains import create_retrieval_chain\n",
    "from langchain.chains.combine_documents import create_stuff_documents_chain\n",
    "from langchain_community.chat_message_histories import ChatMessageHistory\n",
    "# from langchain_core.chat_history import BaseChatMessageHistory\n",
    "from langchain_core.runnables.history import RunnableWithMessageHistory\n",
    "import warnings\n",
    "# from urllib3.exceptions import NotOpenSSLWarning\n",
    "# Suppress all warnings\n",
    "warnings.filterwarnings(\"ignore\")\n",
    "# Suppress NotOpenSSLWarning from urllib3\n",
    "warnings.filterwarnings(\"ignore\", module='urllib3')\n",
    "\n",
    "\n",
    "\n",
    "\n",
    "\n",
    "def load_pdfs(file_paths):\n",
    "    \"\"\"\n",
    "    file_paths must end with .pdf\n",
    "    PyPDFLoader auto splits the pdf into pages, each page is 1 Document object split by page number\n",
    "\n",
    "    returns a dict of key: file_path and value: list of document objects\n",
    "    \"\"\"\n",
    "    documents_dict = {}   \n",
    "    for f in tqdm(file_paths):\n",
    "        loader = PyPDFLoader(file_path = f)\n",
    "        documents = loader.load()\n",
    "        documents_dict[f] = documents\n",
    "    return documents_dict\n",
    "\n",
    "def chunk_list_of_documents(documents):\n",
    "    \"\"\"\n",
    "    input a list of documents as Document objects\n",
    "\n",
    "    output a list of chunks as Document objects\n",
    "    \"\"\"\n",
    "    text_splitter = RecursiveCharacterTextSplitter(\n",
    "        chunk_size = 500,\n",
    "        chunk_overlap = 100, # using 20% is a good start\n",
    "        length_function=len,\n",
    "        is_separator_regex=False,\n",
    "        add_start_index=True\n",
    "    )\n",
    "\n",
    "    chunks = text_splitter.split_documents(documents)    \n",
    "    return chunks\n",
    "\n",
    "def get_session_history(session_id: str):\n",
    "    if session_id not in chat_history_store:\n",
    "        chat_history_store[session_id] = ChatMessageHistory()\n",
    "    return chat_history_store[session_id]\n",
    "\n",
    "\n",
    "def create_huggingface_retriever(folder_path,embedding_model_name):\n",
    "    files_paths = glob.glob(f\"{folder_path}/*.pdf\")\n",
    "    print()\n",
    "    print()\n",
    "\n",
    "    # load documents from file paths\n",
    "    print(\"loading pdfs...\")\n",
    "    documents_dict = load_pdfs(file_paths=files_paths)\n",
    "\n",
    "    # chunk documents\n",
    "    print()\n",
    "    print(\"chunking documents...\")\n",
    "    all_chunks = []\n",
    "    for key in tqdm(documents_dict.keys()):\n",
    "        documents = documents_dict[key]\n",
    "        chunks = chunk_list_of_documents(documents=documents)\n",
    "        all_chunks.extend(chunks)\n",
    "    print(f\"number of chunks: {len(all_chunks)}\")\n",
    "\n",
    "    # setup embedding model\n",
    "    model_kwargs = {'device': 'cpu'}\n",
    "    encode_kwargs = {'normalize_embeddings': False}\n",
    "    hf_embedding_model = HuggingFaceEmbeddings(\n",
    "        model_name=embedding_model_name,\n",
    "        model_kwargs=model_kwargs,\n",
    "        encode_kwargs=encode_kwargs\n",
    "    )\n",
    "\n",
    "    # setup vectordb, using HF embedding model\n",
    "    start_time=time.time()\n",
    "    print()\n",
    "    print(\"start process of embedding chunks into vector database...\")\n",
    "    vectorstore_hf = InMemoryVectorStore.from_documents(\n",
    "        documents=all_chunks,\n",
    "        embedding=hf_embedding_model\n",
    "    )\n",
    "    print(\"all chunks embedded into vector database!\",f\"time taken: {round(time.time()-start_time,2)}s\")\n",
    "\n",
    "    # setup retrieval and test with a query and gt_context\n",
    "    retriever_hf = vectorstore_hf.as_retriever(\n",
    "        search_type='similarity',\n",
    "        search_kwargs = {'k':5}\n",
    "    )\n",
    "    print(\"retriever created!\")\n",
    "\n",
    "    return retriever_hf\n",
    "\n",
    "\n",
    "def create_conversational_rag_chain(retriever_hf,llm_model_name):\n",
    "\n",
    "    print(\"creating custom RAG Chat LLM...\")\n",
    "    # setup llm chat model using ollama\n",
    "    llm_model = ChatOllama(\n",
    "        model=llm_model_name,\n",
    "        temperature=0 # increase temp for more creative answers\n",
    "    ) \n",
    "\n",
    "    # setup system contextualise input prompt\n",
    "    system_contextualise_input_prompt = (\n",
    "        \"Given a chat history and the latest user question \"\n",
    "        \"which might reference context in the chat history, \"\n",
    "        \"formulate a standalone question which can be understood \"\n",
    "        \"without the chat history. Do NOT answer the question, \"\n",
    "        \"just reformulate it if needed and otherwise return it as is.\"\n",
    "    )\n",
    "    system_input_prompt = ChatPromptTemplate.from_messages(\n",
    "        [\n",
    "            (\"system\", system_contextualise_input_prompt),\n",
    "            MessagesPlaceholder(\"chat_history\"),\n",
    "            (\"human\", \"{input}\"),\n",
    "        ]\n",
    "    )\n",
    "\n",
    "    # instantiate the history-aware retriever:\n",
    "    history_aware_retriever = create_history_aware_retriever(\n",
    "        llm=llm_model,\n",
    "        retriever=retriever_hf,\n",
    "        prompt=system_input_prompt\n",
    "    )\n",
    "\n",
    "    # setup system RAG QnA prompt\n",
    "    system_rag_qna_prompt = (\n",
    "        \"You are an assistant for question-answering tasks. \"\n",
    "        \"Use the following pieces of retrieved context to answer \"\n",
    "        \"the question. If you don't know the answer, say that you \"\n",
    "        \"don't know. Use three sentences maximum and keep the \"\n",
    "        \"answer concise.\"\n",
    "        \"\\n\\n\"\n",
    "        \"{context}\"\n",
    "    )\n",
    "    system_rag_prompt = ChatPromptTemplate.from_messages(\n",
    "        [\n",
    "            ('system',system_rag_qna_prompt),\n",
    "            MessagesPlaceholder(\"chat_history\"),\n",
    "            ('human',\"{input}\"),\n",
    "        ]\n",
    "    )\n",
    "\n",
    "    # instantiate qna_chain\n",
    "    qna_chain = create_stuff_documents_chain(llm=llm_model,prompt=system_rag_prompt)\n",
    "\n",
    "    # instantiate rag_chain\n",
    "    rag_chain = create_retrieval_chain(retriever=history_aware_retriever,combine_docs_chain=qna_chain)\n",
    "\n",
    "    # create overall conversational RAG Chain\n",
    "    conversational_rag_chain = RunnableWithMessageHistory(\n",
    "        runnable=rag_chain,\n",
    "        get_session_history=get_session_history,\n",
    "        input_messages_key=\"input\",\n",
    "        history_messages_key=\"chat_history\",\n",
    "        output_messages_key=\"answer\"\n",
    "    )\n",
    "\n",
    "    print(\"RAG Chat LLM creation complete!\")\n",
    "    return conversational_rag_chain\n",
    "\n",
    "\n",
    "def main(folder_path,embedding_model_name,llm_model_name):\n",
    "    if embedding_model_name is None:\n",
    "        embedding_model_name = \"sentence-transformers/all-mpnet-base-v2\"\n",
    "    if llm_model_name is None:\n",
    "        llm_model_name = 'llama3.1'\n",
    "\n",
    "    # Create the Hugging Face retriever\n",
    "    retriever_hf = create_huggingface_retriever(folder_path=folder_path,embedding_model_name=embedding_model_name)\n",
    "    # Create the conversational RAG chain\n",
    "    conversational_rag_chain = create_conversational_rag_chain(retriever_hf=retriever_hf,llm_model_name=llm_model_name)\n",
    "\n",
    "    # Initialize the chat loop\n",
    "    print()\n",
    "    print()\n",
    "    print(\"You can now start chatting with the LLM.\")\n",
    "    print(\"Add '--show references' to the end of the input to view the retrieved context chunks referenced by the LLM for answer generation.\")\n",
    "    print(\"Type 'end session' to stop the conversation.\")\n",
    "\n",
    "    session_id = '1'  # Can be replaced with a unique session ID if needed\n",
    "\n",
    "    while True:\n",
    "        print()\n",
    "        print()\n",
    "        # Get user input\n",
    "        full_user_input = input(\"User input: \")\n",
    "\n",
    "        # Only take the first part of the user input if --show references is used\n",
    "        user_input = full_user_input.split(\"--\")[0]\n",
    "\n",
    "        # End session if user types 'end session'\n",
    "        if user_input.lower() == \"end session\":\n",
    "            print(\"Ending session. Goodbye!\")\n",
    "            break\n",
    "        \n",
    "        # Invoke the conversational RAG chain with the user input\n",
    "        start_time = time.time()\n",
    "        response = conversational_rag_chain.invoke(\n",
    "            input={'input': user_input},\n",
    "            config={'configurable': {'session_id': session_id}}\n",
    "        )\n",
    "        \n",
    "        # Get the model's answer and print it\n",
    "        answer = response['answer']\n",
    "        print(f\"LLM Assistant: {answer}\")\n",
    "        print(f\"time taken: {round(time.time()-start_time,2)}s\")\n",
    "\n",
    "        # Show the references if user requests\n",
    "        if full_user_input.split(\"--\")[-1]==\"show references\":\n",
    "            print()\n",
    "            print(\"References:\")\n",
    "            for i,d in enumerate(response[\"context\"]):\n",
    "                print(f\"{i+1} From: page {d.metadata['page']} of {d.metadata['source'].split('/')[-1]}\")\n",
    "                print(f\"Content: {d.page_content}\")\n",
    "                print()\n",
    "\n",
    "\n",
    "\n",
    "if __name__==\"__main__\":\n",
    "    print()\n",
    "\n",
    "    parser = argparse.ArgumentParser(description=\"Directly use Conversational RAG with custom PDF documents in terminal.\")\n",
    "    # Add arguments\n",
    "    parser.add_argument(\"--folder_path\", type=str, help=\"input absolute folder path to folder of pdfs\", required=True)\n",
    "    parser.add_argument(\"--embedding_model_name\", type=str, help=\"pass the huggingface embedding model name of your choice\", required=False)\n",
    "    parser.add_argument(\"--llm_model_name\", type=str, help=\"pass the ollama llm model name of your choice\", required=False)\n",
    "\n",
    "    # Parse the arguments\n",
    "    args = parser.parse_args()\n",
    "\n",
    "    # create global variable for chat_history_store\n",
    "    chat_history_store = {}\n",
    "\n",
    "    # Run the main chat function \n",
    "    main(\n",
    "        folder_path=args.folder_path,\n",
    "        embedding_model_name=args.embedding_model_name,\n",
    "        llm_model_name=args.llm_model_name\n",
    "    )"
   ]
  },
  {
   "cell_type": "code",
   "execution_count": 399,
   "id": "51bc71d1-8d9f-496d-a63f-390ccce63cbc",
   "metadata": {},
   "outputs": [
    {
     "name": "stdout",
     "output_type": "stream",
     "text": [
      "The sky appears blue to us because of a phenomenon called Rayleigh scattering. Here's why:\n",
      "\n",
      "1. **Sunlight**: The sun emits white light, which contains all the colors of the visible spectrum (red, orange, yellow, green, blue, indigo, and violet).\n",
      "2. **Atmosphere**: When this sunlight enters Earth's atmosphere, it encounters tiny molecules of gases such as nitrogen (N2) and oxygen (O2). These molecules are much smaller than the wavelength of light.\n",
      "3. **Scattering**: The shorter wavelengths (like blue and violet) are scattered in all directions by these gas molecules. This is known as Rayleigh scattering. The longer wavelengths (like red and orange) pass through the atmosphere largely unchanged.\n",
      "4. **Visibility**: Since our eyes are more sensitive to blue light than other colors, we see the scattered blue light from all directions and perceive the sky as blue.\n",
      "\n",
      "It's worth noting that:\n",
      "\n",
      "* **Time of day**: During sunrise and sunset, the sky can take on hues of red and orange because the sun's rays have to travel through more of the atmosphere to reach us, scattering off more molecules and giving those longer wavelengths a chance to dominate our perception.\n",
      "* **Air pollution and dust**: In areas with high levels of air pollution or atmospheric particles, like dust, smoke, or water vapor, the blue color of the sky can be muted or even absent.\n",
      "\n",
      "Now you know why the sky is blue!\n"
     ]
    }
   ],
   "source": [
    "import ollama\n",
    "\n",
    "response = ollama.chat(model='llama3.1', messages=[\n",
    "  {\n",
    "    'role': 'user',\n",
    "    'content': 'Why is the sky blue?',\n",
    "  },\n",
    "])\n",
    "print(response['message']['content'])"
   ]
  },
  {
   "cell_type": "code",
   "execution_count": 401,
   "id": "ba0370e5-0de9-4a11-a1ea-a84152492214",
   "metadata": {},
   "outputs": [
    {
     "name": "stdout",
     "output_type": "stream",
     "text": [
      "The sky appears blue to us because of a phenomenon called scattering, which involves the interaction between sunlight and tiny molecules in the atmosphere.\n",
      "\n",
      "Here's a simplified explanation:\n",
      "\n",
      "1. **Sunlight enters Earth's atmosphere**: When the sun shines, it sends out all kinds of electromagnetic radiation, including visible light.\n",
      "2. **Molecules scatter shorter wavelengths**: As sunlight travels through the atmosphere, it encounters tiny molecules like nitrogen (N2) and oxygen (O2). These molecules are much smaller than the wavelength of light and have a similar size to the wavelength of blue and violet light. When this happens, they scatter these shorter-wavelength lights in all directions.\n",
      "3. **Blue light is scattered more**: Of all the colors in the visible spectrum, blue light has the shortest wavelength (around 450-495 nanometers). This means it gets scattered by the atmosphere's molecules more frequently than other colors, especially when compared to longer wavelengths like red and orange.\n",
      "4. **Our eyes see the scattered light**: When we look up at the sky on a sunny day, what we're seeing is actually the scattered blue light from the sun. Our eyes detect this blue light as it bounces around in all directions, giving us the impression that the sky is blue.\n",
      "\n",
      "This effect is most pronounced when the sun is overhead and directly shining down on us, like during the middle of the day. As the angle between the sun and our line of sight changes (e.g., during sunrise or sunset), the shorter wavelengths are scattered even more, and we see hues of red and orange instead!\n",
      "\n",
      "There you have it – a basic explanation for why the sky appears blue to us!\n"
     ]
    }
   ],
   "source": [
    "# import ollama\n",
    "\n",
    "response = ollama.chat(model='llama3.1', messages=[\n",
    "  {\n",
    "    'role': 'user',\n",
    "    'content': 'Why is the sky blue?',\n",
    "  },\n",
    "])\n",
    "print(response['message']['content'])"
   ]
  },
  {
   "cell_type": "code",
   "execution_count": 403,
   "id": "6a6b83d7-382c-43ff-9818-c7bf0b147dea",
   "metadata": {},
   "outputs": [
    {
     "name": "stdout",
     "output_type": "stream",
     "text": [
      "The sky appears blue to us during the daytime because of a phenomenon called scattering. Scattering occurs when sunlight interacts with tiny molecules of gases in the Earth's atmosphere, such as nitrogen (N2) and oxygen (O2).\n",
      "\n",
      "Here's a simplified explanation:\n",
      "\n",
      "1. **Sunlight is made up of all colors**: When sunlight enters Earth's atmosphere, it contains all the colors of the visible spectrum, including red, orange, yellow, green, blue, indigo, and violet.\n",
      "\n",
      "2. **Scattering favored by shorter wavelengths**: The smaller molecules in the air scatter light more effectively when the light waves are shorter (i.e., have higher frequencies). Blue light has a relatively short wavelength compared to other colors of the visible spectrum.\n",
      "\n",
      "3. **Blue light is scattered more than others**: As sunlight travels through the atmosphere, the blue part of the spectrum gets scattered in all directions by the nitrogen and oxygen molecules. This scattering favors the shorter wavelengths of light, making it appear more intense and changing its apparent color from white (the original composition of sunlight) to blue.\n",
      "\n",
      "4. **Our eyes perceive the sky as blue**: The combined effect of sunlight being scattered in such a way that short wavelengths like blue become prominent makes the sky appear blue during the daytime when the sun is overhead. This is why the sky usually appears blue, though its hue can change at different times of day and under various atmospheric conditions.\n",
      "\n",
      "This phenomenon of scattering does not apply to all colors equally because shorter wavelengths (like blue light) are scattered more effectively than longer wavelengths (such as red light)."
     ]
    }
   ],
   "source": [
    "# import ollama\n",
    "\n",
    "stream = ollama.chat(\n",
    "    model='llama3.1',\n",
    "    messages=[{'role': 'user', 'content': 'Why is the sky blue?'}],\n",
    "    stream=True,\n",
    ")\n",
    "\n",
    "for chunk in stream:\n",
    "  print(chunk['message']['content'], end='', flush=True)"
   ]
  },
  {
   "cell_type": "code",
   "execution_count": 419,
   "id": "c6ff4f76-1bab-4c1f-892f-83642f94fb13",
   "metadata": {
    "scrolled": true
   },
   "outputs": [
    {
     "name": "stdout",
     "output_type": "stream",
     "text": [
      "The sky appears blue to us because of a phenomenon called scattering, which occurs when sunlight interacts with the tiny molecules of gases in the Earth's atmosphere. Here's a simplified explanation:\n",
      "\n",
      "1. **Sunlight enters the atmosphere**: When the sun shines, it sends out all its colors, including red, orange, yellow, green, and blue.\n",
      "2. **Scattering happens**: As these colors travel through the atmosphere, they encounter tiny molecules of gases such as nitrogen (N2) and oxygen (O2). These molecules are much smaller than the wavelength of light, so when they collide with each other, they scatter the light in all directions.\n",
      "3. **Blue light is scattered more**: The shorter wavelengths, like blue and violet, are scattered more easily than the longer wavelengths, like red and orange. This is because the smaller molecules have a greater effect on the shorter wavelengths.\n",
      "4. **Our eyes see the scattered blue light**: When we look up at the sky, our eyes see the scattered blue light that has been directed towards us from all parts of the atmosphere. The other colors, especially red and orange, are absorbed or scattered in different ways, so they don't reach our eyes as much.\n",
      "5. **The result: a blue sky**: The combination of scattering and our perception of the shorter wavelengths creates the appearance of a blue sky.\n",
      "\n",
      "It's worth noting that the exact shade of blue can vary depending on atmospheric conditions, such as:\n",
      "\n",
      "* Time of day: During sunrise and sunset, the light travels through more of the atmosphere, which scatters the shorter wavelengths even more, making the sky appear more red.\n",
      "* Atmospheric particles: Dust, water vapor, and pollutants in the air can also affect the color of the sky by scattering or absorbing light.\n",
      "* Altitude: At higher elevations, the air is thinner, and there are fewer molecules to scatter light, so the sky may appear lighter blue.\n",
      "\n",
      "Now, next time you gaze up at a bright blue sky, remember the tiny molecules of gases that made it happen!"
     ]
    }
   ],
   "source": [
    "# import ollama\n",
    "\n",
    "stream = ollama.chat(\n",
    "    model='llama3.1',\n",
    "    messages=[{'role': 'user', 'content': 'Why is the sky blue?'}],\n",
    "    stream=True,\n",
    ")\n",
    "\n",
    "for chunk in stream:\n",
    "  print(chunk['message']['content'], end='', flush=True)"
   ]
  },
  {
   "cell_type": "code",
   "execution_count": 411,
   "id": "0b4daacf-c87f-420c-a409-9212b95dba1c",
   "metadata": {},
   "outputs": [],
   "source": [
    "u = \"sdvdf fvdfvdf vddfv --show references\"\n",
    "v = \"sdvdf fvdfvdf vddfv\""
   ]
  },
  {
   "cell_type": "code",
   "execution_count": 417,
   "id": "e24a7f2a-8f73-4a1c-a808-39e6c6c6d49a",
   "metadata": {},
   "outputs": [
    {
     "data": {
      "text/plain": [
       "2"
      ]
     },
     "execution_count": 417,
     "metadata": {},
     "output_type": "execute_result"
    }
   ],
   "source": [
    "len(u.split(\"--\"))"
   ]
  },
  {
   "cell_type": "code",
   "execution_count": 415,
   "id": "5565e0cc-534c-4290-b33c-326218f828da",
   "metadata": {},
   "outputs": [
    {
     "data": {
      "text/plain": [
       "1"
      ]
     },
     "execution_count": 415,
     "metadata": {},
     "output_type": "execute_result"
    }
   ],
   "source": [
    "len(v.split(\"--\"))"
   ]
  },
  {
   "cell_type": "code",
   "execution_count": 435,
   "id": "852f2293-9ca7-4023-a781-cede2fc69ef7",
   "metadata": {},
   "outputs": [],
   "source": [
    "# mtd 1 for instantiating chat ollama model - newer version\n",
    "\n",
    "from langchain_ollama import ChatOllama\n",
    "\n",
    "# setup llm chat model using ollama\n",
    "llm_model1 = ChatOllama(\n",
    "    model=\"llama3.1\",\n",
    "    temperature=0 # increase temp for more creative answers\n",
    ") "
   ]
  },
  {
   "cell_type": "code",
   "execution_count": 437,
   "id": "d0154395-cb93-4401-928d-fec57470a050",
   "metadata": {
    "scrolled": true
   },
   "outputs": [
    {
     "data": {
      "text/plain": [
       "AIMessage(content=\"I'm a large language model, I don't have real-time access to current weather conditions. However, I can suggest some ways for you to find out the weather today:\\n\\n1. **Check online weather websites**: You can visit websites like AccuWeather, Weather.com, or the National Weather Service (NWS) for up-to-date weather information.\\n2. **Use a voice assistant**: If you have a smart speaker or virtual assistant like Siri, Google Assistant, or Alexa, you can ask them to tell you the current weather.\\n3. **Check your phone's weather app**: Most smartphones come with a built-in weather app that provides current and forecasted weather conditions.\\n4. **Look out the window!**: If you're near a window, take a glance outside to see what the weather is like.\\n\\nIf you'd like, I can also suggest some general weather-related topics or questions we could chat about instead?\", response_metadata={'model': 'llama3.1', 'created_at': '2024-09-18T02:10:43.671768Z', 'message': {'role': 'assistant', 'content': ''}, 'done_reason': 'stop', 'done': True, 'total_duration': 7114817500, 'load_duration': 30152208, 'prompt_eval_count': 16, 'prompt_eval_duration': 167429000, 'eval_count': 187, 'eval_duration': 6916149000}, id='run-1dc30fe4-110e-4e5e-8137-b6032d21b123-0', usage_metadata={'input_tokens': 16, 'output_tokens': 187, 'total_tokens': 203})"
      ]
     },
     "execution_count": 437,
     "metadata": {},
     "output_type": "execute_result"
    }
   ],
   "source": [
    "llm_model.invoke(\"whats the weather today?\")"
   ]
  },
  {
   "cell_type": "code",
   "execution_count": 451,
   "id": "ea951dfd-0f90-48fe-9a23-3866f2913687",
   "metadata": {},
   "outputs": [],
   "source": [
    "# mtd 2 for instantiating chat ollama model\n",
    "\n",
    "from langchain_community.chat_models.ollama import ChatOllama\n",
    "\n",
    "llm_model2 = ChatOllama(\n",
    "    model='llama3.1',\n",
    "    temperature=0,\n",
    "    disable_streaming=False\n",
    ")"
   ]
  },
  {
   "cell_type": "code",
   "execution_count": 461,
   "id": "257ba033-3d8a-4477-9e9d-e56b1b6ead9e",
   "metadata": {
    "scrolled": true
   },
   "outputs": [],
   "source": [
    "# response = await(llm_model.ainvoke(\"whats the weather today?\"))\n",
    "response = await(llm_model.abatch(\"whats the weather today?\"))"
   ]
  },
  {
   "cell_type": "code",
   "execution_count": 465,
   "id": "3fa67593-fe65-4e6b-92fc-3a67e32ee29e",
   "metadata": {
    "scrolled": true
   },
   "outputs": [],
   "source": [
    "# response = await(llm_model.ainvoke(\"whats the weather today?\"))\n",
    "response = llm_model.astream(\"whats the weather today?\")"
   ]
  },
  {
   "cell_type": "code",
   "execution_count": 467,
   "id": "9c4061ef-f9b3-4928-aeb3-0b4e83e8ad35",
   "metadata": {},
   "outputs": [
    {
     "data": {
      "text/plain": [
       "<async_generator object BaseChatModel.astream at 0x3f769fca0>"
      ]
     },
     "execution_count": 467,
     "metadata": {},
     "output_type": "execute_result"
    }
   ],
   "source": [
    "response"
   ]
  },
  {
   "cell_type": "code",
   "execution_count": 459,
   "id": "d18a528b-a3f3-44b1-ba0b-e34c1fb7ef72",
   "metadata": {},
   "outputs": [
    {
     "data": {
      "text/plain": [
       "AIMessage(content=\"I'm a large language model, I don't have real-time access to current weather conditions. However, I can suggest some ways for you to find out the weather today:\\n\\n1. **Check online weather websites**: You can visit websites like AccuWeather, Weather.com, or the National Weather Service (NWS) for up-to-date weather information.\\n2. **Use a voice assistant**: If you have a smart speaker or virtual assistant like Siri, Google Assistant, or Alexa, you can ask them to tell you the current weather.\\n3. **Check your phone's weather app**: Most smartphones come with a built-in weather app that provides current and forecasted weather conditions.\\n4. **Look out the window!**: If you're near a window, take a glance outside to see what the weather is like.\\n\\nIf you'd like, I can also suggest some general weather-related topics or questions we could chat about instead?\", response_metadata={'model': 'llama3.1', 'created_at': '2024-09-18T02:46:59.309123Z', 'message': {'role': 'assistant', 'content': ''}, 'done_reason': 'stop', 'done': True, 'total_duration': 7137924875, 'load_duration': 28208834, 'prompt_eval_count': 16, 'prompt_eval_duration': 198905000, 'eval_count': 187, 'eval_duration': 6909509000}, id='run-e53b9303-a210-43fd-b0a3-7060f0d54d38-0', usage_metadata={'input_tokens': 16, 'output_tokens': 187, 'total_tokens': 203})"
      ]
     },
     "execution_count": 459,
     "metadata": {},
     "output_type": "execute_result"
    }
   ],
   "source": [
    "response"
   ]
  },
  {
   "cell_type": "code",
   "execution_count": 469,
   "id": "9d6b1854-6625-4070-a1fc-dd9ec347ace8",
   "metadata": {},
   "outputs": [
    {
     "data": {
      "text/plain": [
       "RunnableWithMessageHistory(bound=RunnableBinding(bound=RunnableBinding(bound=RunnableAssign(mapper={\n",
       "  chat_history: RunnableBinding(bound=RunnableLambda(_enter_history), config={'run_name': 'load_history'})\n",
       "}), config={'run_name': 'insert_history'})\n",
       "| RunnableBinding(bound=RunnableLambda(_call_runnable_sync), config={'run_name': 'check_sync_or_async'}), config={'run_name': 'RunnableWithMessageHistory'}), get_session_history=<function get_session_history at 0x3f76a9430>, input_messages_key='input', output_messages_key='answer', history_messages_key='chat_history', history_factory_config=[ConfigurableFieldSpec(id='session_id', annotation=<class 'str'>, name='Session ID', description='Unique identifier for a session.', default='', is_shared=True, dependencies=None)])"
      ]
     },
     "execution_count": 469,
     "metadata": {},
     "output_type": "execute_result"
    }
   ],
   "source": [
    "conversational_rag_chain"
   ]
  },
  {
   "cell_type": "code",
   "execution_count": 471,
   "id": "838807a9-3e93-4e25-b1f6-58d75445f902",
   "metadata": {},
   "outputs": [],
   "source": [
    "user_input = \"explain high dimensional problems in statistical learning?\""
   ]
  },
  {
   "cell_type": "code",
   "execution_count": 477,
   "id": "f66f09a0-2578-4b91-a2c0-3536a91ad2df",
   "metadata": {},
   "outputs": [
    {
     "name": "stdout",
     "output_type": "stream",
     "text": [
      "inputchat_historycontextanswer"
     ]
    }
   ],
   "source": [
    "# Use streaming to get the response incrementally\n",
    "response = conversational_rag_chain.invoke(\n",
    "    input={'input': user_input},\n",
    "    config={'stream': True,'configurable':{'session_id':'1'}}  # If config supports stream, add this\n",
    ")\n",
    "\n",
    "# Stream the response\n",
    "for token in response:\n",
    "    print(token, end=\"\", flush=True)"
   ]
  },
  {
   "cell_type": "code",
   "execution_count": 479,
   "id": "cb8c1b71-0ae0-4b1d-b0cb-57bd0e694aca",
   "metadata": {
    "scrolled": true
   },
   "outputs": [],
   "source": [
    "# response = await(llm_model.ainvoke(\"whats the weather today?\"))\n",
    "response = llm_model.ainvoke(\"whats the weather today?\")"
   ]
  },
  {
   "cell_type": "code",
   "execution_count": null,
   "id": "bde3a586-7285-43cb-bfd1-2bd7f71245b8",
   "metadata": {},
   "outputs": [],
   "source": []
  },
  {
   "cell_type": "code",
   "execution_count": 485,
   "id": "a590492b-06cf-4186-9616-f47b9c8fac6f",
   "metadata": {},
   "outputs": [
    {
     "ename": "RuntimeError",
     "evalue": "asyncio.run() cannot be called from a running event loop",
     "output_type": "error",
     "traceback": [
      "\u001b[0;31m---------------------------------------------------------------------------\u001b[0m",
      "\u001b[0;31mRuntimeError\u001b[0m                              Traceback (most recent call last)",
      "Cell \u001b[0;32mIn[485], line 2\u001b[0m\n\u001b[1;32m      1\u001b[0m \u001b[38;5;28;01mimport\u001b[39;00m \u001b[38;5;21;01masyncio\u001b[39;00m\n\u001b[0;32m----> 2\u001b[0m \u001b[43masyncio\u001b[49m\u001b[38;5;241;43m.\u001b[39;49m\u001b[43mrun\u001b[49m\u001b[43m(\u001b[49m\u001b[43mresponse\u001b[49m\u001b[43m)\u001b[49m\n",
      "File \u001b[0;32m/Library/Developer/CommandLineTools/Library/Frameworks/Python3.framework/Versions/3.9/lib/python3.9/asyncio/runners.py:33\u001b[0m, in \u001b[0;36mrun\u001b[0;34m(main, debug)\u001b[0m\n\u001b[1;32m      9\u001b[0m \u001b[38;5;250m\u001b[39m\u001b[38;5;124;03m\"\"\"Execute the coroutine and return the result.\u001b[39;00m\n\u001b[1;32m     10\u001b[0m \n\u001b[1;32m     11\u001b[0m \u001b[38;5;124;03mThis function runs the passed coroutine, taking care of\u001b[39;00m\n\u001b[0;32m   (...)\u001b[0m\n\u001b[1;32m     30\u001b[0m \u001b[38;5;124;03m    asyncio.run(main())\u001b[39;00m\n\u001b[1;32m     31\u001b[0m \u001b[38;5;124;03m\"\"\"\u001b[39;00m\n\u001b[1;32m     32\u001b[0m \u001b[38;5;28;01mif\u001b[39;00m events\u001b[38;5;241m.\u001b[39m_get_running_loop() \u001b[38;5;129;01mis\u001b[39;00m \u001b[38;5;129;01mnot\u001b[39;00m \u001b[38;5;28;01mNone\u001b[39;00m:\n\u001b[0;32m---> 33\u001b[0m     \u001b[38;5;28;01mraise\u001b[39;00m \u001b[38;5;167;01mRuntimeError\u001b[39;00m(\n\u001b[1;32m     34\u001b[0m         \u001b[38;5;124m\"\u001b[39m\u001b[38;5;124masyncio.run() cannot be called from a running event loop\u001b[39m\u001b[38;5;124m\"\u001b[39m)\n\u001b[1;32m     36\u001b[0m \u001b[38;5;28;01mif\u001b[39;00m \u001b[38;5;129;01mnot\u001b[39;00m coroutines\u001b[38;5;241m.\u001b[39miscoroutine(main):\n\u001b[1;32m     37\u001b[0m     \u001b[38;5;28;01mraise\u001b[39;00m \u001b[38;5;167;01mValueError\u001b[39;00m(\u001b[38;5;124m\"\u001b[39m\u001b[38;5;124ma coroutine was expected, got \u001b[39m\u001b[38;5;132;01m{!r}\u001b[39;00m\u001b[38;5;124m\"\u001b[39m\u001b[38;5;241m.\u001b[39mformat(main))\n",
      "\u001b[0;31mRuntimeError\u001b[0m: asyncio.run() cannot be called from a running event loop"
     ]
    }
   ],
   "source": [
    "import asyncio\n",
    "asyncio.run(response)"
   ]
  },
  {
   "cell_type": "markdown",
   "id": "60240fb6-e70a-40b1-9701-e979ffb94443",
   "metadata": {
    "jp-MarkdownHeadingCollapsed": true
   },
   "source": [
    "# try ollama python package directly with input"
   ]
  },
  {
   "cell_type": "code",
   "execution_count": 492,
   "id": "37841cbc-69e8-46e2-a064-8562c3388e4d",
   "metadata": {},
   "outputs": [
    {
     "data": {
      "text/plain": [
       "'for high-dimensional problems, with regards to p and N, in what cases can ridge regression exploit the correlation in the features of the dataset?'"
      ]
     },
     "execution_count": 492,
     "metadata": {},
     "output_type": "execute_result"
    }
   ],
   "source": [
    "sample_query"
   ]
  },
  {
   "cell_type": "code",
   "execution_count": 494,
   "id": "cbdf8cb4-c7d4-4ff0-b6f2-11100c5ffd1e",
   "metadata": {},
   "outputs": [
    {
     "data": {
      "text/plain": [
       "Document(metadata={'source': '/Users/I748920/Desktop/llms-learning/pdf-chatbot-app/data/elements-of-statistical-learning-book/chap18.pdf', 'page': 2, 'start_index': 397}, page_content='using the optimal ridge parameter in each of the three cases, the median\\nvalue of|tj|was 2.0, 0.6 and 0.2, and the average number of |tj|values\\nexceeding 2 was equal to 9.8, 1.2 and 0.0.\\nRidge regression with λ= 0.001 successfully exploits the correlation in\\nthe features when p<N, but cannot do so when p≫N. In the latter case\\nthere is not enough information in the relatively small numb er of samples\\nto eﬃciently estimate the high-dimensional covariance mat rix. In that case,')"
      ]
     },
     "execution_count": 494,
     "metadata": {},
     "output_type": "execute_result"
    }
   ],
   "source": [
    "sample_gt_context"
   ]
  },
  {
   "cell_type": "code",
   "execution_count": 500,
   "id": "b94b66e5-ded3-46de-9af2-79327c16e716",
   "metadata": {},
   "outputs": [],
   "source": [
    "chat_history_store = {}"
   ]
  },
  {
   "cell_type": "code",
   "execution_count": 502,
   "id": "7bbf993b-8ed1-4b95-9ff2-64c3891992f0",
   "metadata": {
    "scrolled": true
   },
   "outputs": [
    {
     "data": {
      "text/plain": [
       "[Document(id='0bdfb511-497a-44a7-a808-15f7dc4cb02e', metadata={'source': '/Users/I748920/Desktop/llms-learning/pdf-chatbot-app/data/elements-of-statistical-learning-book/chap18.pdf', 'page': 2, 'start_index': 397}, page_content='using the optimal ridge parameter in each of the three cases, the median\\nvalue of|tj|was 2.0, 0.6 and 0.2, and the average number of |tj|values\\nexceeding 2 was equal to 9.8, 1.2 and 0.0.\\nRidge regression with λ= 0.001 successfully exploits the correlation in\\nthe features when p<N, but cannot do so when p≫N. In the latter case\\nthere is not enough information in the relatively small numb er of samples\\nto eﬃciently estimate the high-dimensional covariance mat rix. In that case,'),\n",
       " Document(id='07cf95bb-ef63-4ba4-9514-02161fe5cccb', metadata={'source': '/Users/I748920/Desktop/llms-learning/pdf-chatbot-app/data/elements-of-statistical-learning-book/chap18.pdf', 'page': 1, 'start_index': 760}, page_content='over the 100 simulation runs. The p= 1000 case is designed to mimic the\\nkind of data that we might see in a high-dimensional genomic o r proteomic\\ndataset, for example.\\nWe ﬁt a ridge regression to the data, with three diﬀerent valu es for the\\nregularization parameter λ: 0.001, 100, and 1000. When λ= 0.001, this\\nis nearly the same as least squares regression, with a little regularization\\njust to ensure that the problem is non-singular when p > N. Figure 18.1'),\n",
       " Document(id='985cd759-7665-47ad-8cd5-45255d6c4080', metadata={'source': '/Users/I748920/Desktop/llms-learning/pdf-chatbot-app/data/elements-of-statistical-learning-book/chap18.pdf', 'page': 1, 'start_index': 1150}, page_content='just to ensure that the problem is non-singular when p > N. Figure 18.1\\nshows boxplots oftherelative testerrorachieved bythediﬀ erentestimators\\nin each scenario. The corresponding average degrees of free dom used in\\neach ridge-regression ﬁt is indicated (computed using form ula (3.50) on\\npage 682). The degrees of freedom is a more interpretable parameter t han\\nλ. We see that ridge regression with λ= 0.001 (20 df) wins when p= 20;\\nλ= 100 (35 df) wins when p= 100, and λ= 1000 (43 df) wins when'),\n",
       " Document(id='73ae4254-512b-40ff-8774-6ccf1a436ed4', metadata={'source': '/Users/I748920/Desktop/llms-learning/pdf-chatbot-app/data/elements-of-statistical-learning-book/chap18.pdf', 'page': 10, 'start_index': 1944}, page_content='shown to equal\\nˆβ=V(RTR+λI)−1RTy (18.15)\\n(Exercise 18.4). Thus ˆβ=Vˆθ, where ˆθis the ridge-regression estimate\\nusing theNobservations ( ri,yi),i= 1,2,...,N. In other words, we can\\nsimply reduce the data matrix from XtoR, and work with the rows of\\nR. This trick reduces the computational cost from O(p3) toO(pN2) when\\np>N.'),\n",
       " Document(id='ae44aefa-6114-4af1-921e-20c04dfe717f', metadata={'source': '/Users/I748920/Desktop/llms-learning/pdf-chatbot-app/data/elements-of-statistical-learning-book/chap18.pdf', 'page': 2, 'start_index': 800}, page_content='to eﬃciently estimate the high-dimensional covariance mat rix. In that case,\\nmore regularization leads to superior prediction performa nce.\\nThus it is not surprising that the analysis of high-dimensio nal data re-\\nquires either modiﬁcation of procedures designed for the N >pscenario, or\\nentirely new procedures. In this chapter we discuss example s of both kinds\\nofapproachesforhighdimensionalclassiﬁcationandregre ssion;thesemeth-'),\n",
       " Document(id='507f89a3-02fd-4334-9bd4-20bc4cbac8cd', metadata={'source': '/Users/I748920/Desktop/llms-learning/pdf-chatbot-app/data/elements-of-statistical-learning-book/chap18.pdf', 'page': 13, 'start_index': 1190}, page_content='variables; genes tend to operate in molecular pathways. The lasso penalty\\nis somewhat indiﬀerent to the choice among a set of strong but corre-\\nlated variables (Exercise 3.28). The ridge penalty, on the o ther hand, tends\\nto shrink the coeﬃcients of correlated variables toward eac h other (Exer-\\ncise 3.29 on page 99). The elastic net penalty (Zou and Hastie, 2005) is a\\ncompromise, and has the form\\np∑\\nj=1(\\nα|βj|+(1−α)β2\\nj)\\n. (18.20)')]"
      ]
     },
     "execution_count": 502,
     "metadata": {},
     "output_type": "execute_result"
    }
   ],
   "source": [
    "history_aware_retriever.invoke(\n",
    "    input={\n",
    "        'input':sample_query,\n",
    "        'chat_history':chat_history_store    \n",
    "    }\n",
    ")"
   ]
  },
  {
   "cell_type": "code",
   "execution_count": 487,
   "id": "1d3bcbe1-d0f0-4916-8b12-19e56fcad3e2",
   "metadata": {},
   "outputs": [
    {
     "name": "stdout",
     "output_type": "stream",
     "text": [
      "The sky appears blue to us because of a phenomenon called scattering, which occurs when sunlight interacts with the tiny molecules of gases in the atmosphere. Here's a simplified explanation:\n",
      "\n",
      "1. **Sunlight**: The sun emits a broad spectrum of electromagnetic radiation, including visible light, ultraviolet (UV) rays, and other forms of energy.\n",
      "2. **Atmospheric particles**: The Earth's atmosphere is composed of various gases, such as nitrogen (N2), oxygen (O2), carbon dioxide (CO2), and others. These gases contain tiny molecules that are scattered throughout the air.\n",
      "3. **Scattering**: When sunlight enters the atmosphere, it encounters these tiny molecules. The shorter wavelengths of light, like blue and violet, are more easily scattered by these molecules than longer wavelengths, such as red and orange.\n",
      "4. **Rayleigh scattering**: This is the specific type of scattering that occurs when light interacts with small particles (like the atmospheric gases). It's named after Lord Rayleigh, who first described the phenomenon in the late 19th century.\n",
      "\n",
      "As a result of this scattering, the blue and violet light are dispersed throughout the atmosphere, making it appear blue to our eyes. This is why the sky typically appears blue during the daytime, when the sun is overhead.\n",
      "\n",
      "**What about other colors?**\n",
      "\n",
      "* During sunrise and sunset, the sky can take on hues of red, orange, and pink. This is because the sunlight has to travel through more of the Earth's atmosphere to reach our eyes at these times, scattering the shorter wavelengths (blue and violet) even more than usual.\n",
      "* At night, the sky appears dark blue or black, as there is no direct sunlight hitting the atmosphere.\n",
      "* When it's overcast or cloudy, the sky can take on a grayish hue due to the presence of water droplets in the air, which scatter light in all directions.\n",
      "\n",
      "In summary, the sky appears blue because of the scattering of sunlight by tiny molecules in the atmosphere, which favors shorter wavelengths like blue and violet."
     ]
    }
   ],
   "source": [
    "import ollama\n",
    "\n",
    "stream = ollama.chat(\n",
    "    model='llama3.1',\n",
    "    messages=[{'role': 'user', 'content': 'Why is the sky blue?'}],\n",
    "    stream=True,\n",
    ")\n",
    "\n",
    "for chunk in stream:\n",
    "  print(chunk['message']['content'], end='', flush=True)"
   ]
  },
  {
   "cell_type": "code",
   "execution_count": null,
   "id": "0f61b36e-749c-4d5c-b900-b3c45b8b14df",
   "metadata": {},
   "outputs": [],
   "source": []
  },
  {
   "cell_type": "code",
   "execution_count": null,
   "id": "8c1e842b-3232-4adb-ac72-6fa06cfbdf13",
   "metadata": {},
   "outputs": [],
   "source": []
  },
  {
   "cell_type": "code",
   "execution_count": null,
   "id": "7723837a-8868-42f5-a19e-4d99a64db022",
   "metadata": {},
   "outputs": [],
   "source": []
  },
  {
   "cell_type": "code",
   "execution_count": null,
   "id": "3ac6a6f0-cc33-44a0-98f6-cb4ee26d3029",
   "metadata": {},
   "outputs": [],
   "source": []
  },
  {
   "cell_type": "markdown",
   "id": "1b7fcd62-f2a3-455f-b521-4792ab825816",
   "metadata": {},
   "source": [
    "1. setup history aware retriever\n",
    "2. pass context to chat prompt\n",
    "3. use python ollama to generate response and append to chat history"
   ]
  },
  {
   "cell_type": "code",
   "execution_count": 527,
   "id": "c6728623-b17c-43b3-8310-d75af23bd6b7",
   "metadata": {},
   "outputs": [
    {
     "data": {
      "text/plain": [
       "{}"
      ]
     },
     "execution_count": 527,
     "metadata": {},
     "output_type": "execute_result"
    }
   ],
   "source": [
    "chat_history_store"
   ]
  },
  {
   "cell_type": "code",
   "execution_count": 508,
   "id": "53d3d96c-cc76-4b88-a1bf-b972f5be5a0c",
   "metadata": {},
   "outputs": [],
   "source": [
    "def create_huggingface_retriever(folder_path,embedding_model_name):\n",
    "    files_paths = glob.glob(f\"{folder_path}/*.pdf\")\n",
    "    print()\n",
    "    print()\n",
    "\n",
    "    # load documents from file paths\n",
    "    print(\"loading pdfs...\")\n",
    "    documents_dict = load_pdfs(file_paths=files_paths)\n",
    "\n",
    "    # chunk documents\n",
    "    print()\n",
    "    print(\"chunking documents...\")\n",
    "    all_chunks = []\n",
    "    for key in tqdm(documents_dict.keys()):\n",
    "        documents = documents_dict[key]\n",
    "        chunks = chunk_list_of_documents(documents=documents)\n",
    "        all_chunks.extend(chunks)\n",
    "    print(f\"number of chunks: {len(all_chunks)}\")\n",
    "\n",
    "    # setup embedding model\n",
    "    model_kwargs = {'device': 'cpu'}\n",
    "    encode_kwargs = {'normalize_embeddings': False}\n",
    "    hf_embedding_model = HuggingFaceEmbeddings(\n",
    "        model_name=embedding_model_name,\n",
    "        model_kwargs=model_kwargs,\n",
    "        encode_kwargs=encode_kwargs\n",
    "    )\n",
    "\n",
    "    # setup vectordb, using HF embedding model\n",
    "    start_time=time.time()\n",
    "    print()\n",
    "    print(\"start process of embedding chunks into vector database...\")\n",
    "    vectorstore_hf = InMemoryVectorStore.from_documents(\n",
    "        documents=all_chunks,\n",
    "        embedding=hf_embedding_model\n",
    "    )\n",
    "    print(\"all chunks embedded into vector database!\",f\"time taken: {round(time.time()-start_time,2)}s\")\n",
    "\n",
    "    # setup retrieval and test with a query and gt_context\n",
    "    retriever_hf = vectorstore_hf.as_retriever(\n",
    "        search_type='similarity',\n",
    "        search_kwargs = {'k':5}\n",
    "    )\n",
    "    print(\"retriever created!\")\n",
    "\n",
    "    return retriever_hf"
   ]
  },
  {
   "cell_type": "code",
   "execution_count": 510,
   "id": "7fe1ab60-9bf3-4fb8-b01a-81d828ca09a8",
   "metadata": {},
   "outputs": [
    {
     "name": "stdout",
     "output_type": "stream",
     "text": [
      "\n",
      "\n",
      "loading pdfs...\n"
     ]
    },
    {
     "name": "stderr",
     "output_type": "stream",
     "text": [
      "100%|██████████| 3/3 [00:05<00:00,  1.77s/it]\n"
     ]
    },
    {
     "name": "stdout",
     "output_type": "stream",
     "text": [
      "\n",
      "chunking documents...\n"
     ]
    },
    {
     "name": "stderr",
     "output_type": "stream",
     "text": [
      "100%|██████████| 3/3 [00:00<00:00, 443.33it/s]\n"
     ]
    },
    {
     "name": "stdout",
     "output_type": "stream",
     "text": [
      "number of chunks: 528\n",
      "\n",
      "start process of embedding chunks into vector database...\n",
      "all chunks embedded into vector database! time taken: 26.88s\n",
      "retriever created!\n"
     ]
    }
   ],
   "source": [
    "# setup history_aware_retriever\n",
    "\n",
    "folder_path = \"/Users/I748920/Desktop/llms-learning/pdf-chatbot-app/data/short-elements-of-statistical-learning-book\"\n",
    "embedding_model_name = \"sentence-transformers/all-mpnet-base-v2\"\n",
    "retriever_hf = create_huggingface_retriever(folder_path,embedding_model_name)"
   ]
  },
  {
   "cell_type": "code",
   "execution_count": 523,
   "id": "f6fde75d-a464-4a5d-8c75-2d257cac3b4e",
   "metadata": {},
   "outputs": [],
   "source": [
    "from langchain.chains import create_history_aware_retriever\n",
    "\n",
    "def instantiate_history_aware_retriever(llm_model_name):\n",
    "    \n",
    "    # setup llm model for refining the user input with conversation context\n",
    "    prompt_refiner_llm = ChatOllama(\n",
    "        model=llm_model_name,\n",
    "        temperature=0 # increase temp for more creative answers\n",
    "    ) \n",
    "    \n",
    "    # setup system contextualise input prompt\n",
    "    system_contextualise_input_prompt = (\n",
    "        \"Given a chat history and the latest user question \"\n",
    "        \"which might reference context in the chat history, \"\n",
    "        \"formulate a standalone question which can be understood \"\n",
    "        \"without the chat history. Do NOT answer the question, \"\n",
    "        \"just reformulate it if needed and otherwise return it as is.\"\n",
    "    )\n",
    "    system_input_prompt = ChatPromptTemplate.from_messages(\n",
    "        [\n",
    "            (\"system\", system_contextualise_input_prompt),\n",
    "            MessagesPlaceholder(\"chat_history\"),\n",
    "            (\"human\", \"{input}\"),\n",
    "        ]\n",
    "    )\n",
    "\n",
    "    # instantiate the history-aware retriever:\n",
    "    history_aware_retriever = create_history_aware_retriever(\n",
    "        llm=prompt_refiner_llm,\n",
    "        retriever=retriever_hf,\n",
    "        prompt=system_input_prompt\n",
    "    )\n",
    "\n",
    "    return history_aware_retriever"
   ]
  },
  {
   "cell_type": "code",
   "execution_count": 545,
   "id": "530411d6-ae95-4e08-b6d4-066133cfe546",
   "metadata": {},
   "outputs": [
    {
     "data": {
      "text/plain": [
       "RunnableBinding(bound=RunnableBranch(branches=[(RunnableLambda(lambda x: not x.get('chat_history', False)), RunnableLambda(lambda x: x['input'])\n",
       "| VectorStoreRetriever(tags=['InMemoryVectorStore', 'HuggingFaceEmbeddings'], vectorstore=<langchain_core.vectorstores.in_memory.InMemoryVectorStore object at 0x3f75caee0>, search_kwargs={'k': 5}))], default=ChatPromptTemplate(input_variables=['chat_history', 'input'], input_types={'chat_history': typing.List[typing.Union[langchain_core.messages.ai.AIMessage, langchain_core.messages.human.HumanMessage, langchain_core.messages.chat.ChatMessage, langchain_core.messages.system.SystemMessage, langchain_core.messages.function.FunctionMessage, langchain_core.messages.tool.ToolMessage]]}, messages=[SystemMessagePromptTemplate(prompt=PromptTemplate(input_variables=[], template='Given a chat history and the latest user question which might reference context in the chat history, formulate a standalone question which can be understood without the chat history. Do NOT answer the question, just reformulate it if needed and otherwise return it as is.')), MessagesPlaceholder(variable_name='chat_history'), HumanMessagePromptTemplate(prompt=PromptTemplate(input_variables=['input'], template='{input}'))])\n",
       "| ChatOllama(model='llama3.1', temperature=0.0)\n",
       "| StrOutputParser()\n",
       "| VectorStoreRetriever(tags=['InMemoryVectorStore', 'HuggingFaceEmbeddings'], vectorstore=<langchain_core.vectorstores.in_memory.InMemoryVectorStore object at 0x3f75caee0>, search_kwargs={'k': 5})), config={'run_name': 'chat_retriever_chain'})"
      ]
     },
     "execution_count": 545,
     "metadata": {},
     "output_type": "execute_result"
    }
   ],
   "source": [
    "history_aware_retriever = instantiate_history_aware_retriever(llm_model_name=\"llama3.1\")\n",
    "history_aware_retriever"
   ]
  },
  {
   "cell_type": "code",
   "execution_count": 563,
   "id": "43b5b80a-df31-417d-9a81-61471af3d242",
   "metadata": {},
   "outputs": [],
   "source": [
    "from langchain_community.chat_message_histories import ChatMessageHistory\n",
    "\n",
    "def get_session_history(session_id: str) -> BaseChatMessageHistory:\n",
    "    if session_id not in chat_history_store:\n",
    "        chat_history_store[session_id] = ChatMessageHistory()\n",
    "    return chat_history_store[session_id]"
   ]
  },
  {
   "cell_type": "code",
   "execution_count": 565,
   "id": "15c3ea52-c78f-41fc-a313-afa7224c3fdd",
   "metadata": {},
   "outputs": [
    {
     "data": {
      "text/plain": [
       "InMemoryChatMessageHistory(messages=[])"
      ]
     },
     "execution_count": 565,
     "metadata": {},
     "output_type": "execute_result"
    }
   ],
   "source": [
    "session_id = \"1\"\n",
    "chat_history1 = get_session_history(session_id)\n",
    "chat_history1"
   ]
  },
  {
   "cell_type": "code",
   "execution_count": 567,
   "id": "9cfa3274-ee02-4ef3-b681-1aad0f3fad64",
   "metadata": {},
   "outputs": [
    {
     "data": {
      "text/plain": [
       "InMemoryChatMessageHistory(messages=[])"
      ]
     },
     "execution_count": 567,
     "metadata": {},
     "output_type": "execute_result"
    }
   ],
   "source": [
    "chat_history1"
   ]
  },
  {
   "cell_type": "code",
   "execution_count": 569,
   "id": "be9e0803-e0c6-4278-af27-ec862d25c54e",
   "metadata": {
    "scrolled": true
   },
   "outputs": [
    {
     "ename": "ValueError",
     "evalue": "variable chat_history should be a list of base messages, got  of type <class 'langchain_core.chat_history.InMemoryChatMessageHistory'>",
     "output_type": "error",
     "traceback": [
      "\u001b[0;31m---------------------------------------------------------------------------\u001b[0m",
      "\u001b[0;31mValueError\u001b[0m                                Traceback (most recent call last)",
      "Cell \u001b[0;32mIn[569], line 1\u001b[0m\n\u001b[0;32m----> 1\u001b[0m \u001b[43mhistory_aware_retriever\u001b[49m\u001b[38;5;241;43m.\u001b[39;49m\u001b[43minvoke\u001b[49m\u001b[43m(\u001b[49m\n\u001b[1;32m      2\u001b[0m \u001b[43m    \u001b[49m\u001b[38;5;28;43minput\u001b[39;49m\u001b[43m \u001b[49m\u001b[38;5;241;43m=\u001b[39;49m\u001b[43m \u001b[49m\u001b[43m{\u001b[49m\n\u001b[1;32m      3\u001b[0m \u001b[43m        \u001b[49m\u001b[38;5;124;43m'\u001b[39;49m\u001b[38;5;124;43minput\u001b[39;49m\u001b[38;5;124;43m'\u001b[39;49m\u001b[43m:\u001b[49m\u001b[43msample_query\u001b[49m\u001b[43m,\u001b[49m\n\u001b[1;32m      4\u001b[0m \u001b[43m        \u001b[49m\u001b[38;5;124;43m'\u001b[39;49m\u001b[38;5;124;43mchat_history\u001b[39;49m\u001b[38;5;124;43m'\u001b[39;49m\u001b[43m:\u001b[49m\u001b[43mchat_history1\u001b[49m\n\u001b[1;32m      5\u001b[0m \u001b[43m    \u001b[49m\u001b[43m}\u001b[49m\n\u001b[1;32m      6\u001b[0m \u001b[43m)\u001b[49m\n",
      "File \u001b[0;32m~/Library/Python/3.9/lib/python/site-packages/langchain_core/runnables/base.py:5093\u001b[0m, in \u001b[0;36mRunnableBindingBase.invoke\u001b[0;34m(self, input, config, **kwargs)\u001b[0m\n\u001b[1;32m   5087\u001b[0m \u001b[38;5;28;01mdef\u001b[39;00m \u001b[38;5;21minvoke\u001b[39m(\n\u001b[1;32m   5088\u001b[0m     \u001b[38;5;28mself\u001b[39m,\n\u001b[1;32m   5089\u001b[0m     \u001b[38;5;28minput\u001b[39m: Input,\n\u001b[1;32m   5090\u001b[0m     config: Optional[RunnableConfig] \u001b[38;5;241m=\u001b[39m \u001b[38;5;28;01mNone\u001b[39;00m,\n\u001b[1;32m   5091\u001b[0m     \u001b[38;5;241m*\u001b[39m\u001b[38;5;241m*\u001b[39mkwargs: Optional[Any],\n\u001b[1;32m   5092\u001b[0m ) \u001b[38;5;241m-\u001b[39m\u001b[38;5;241m>\u001b[39m Output:\n\u001b[0;32m-> 5093\u001b[0m     \u001b[38;5;28;01mreturn\u001b[39;00m \u001b[38;5;28;43mself\u001b[39;49m\u001b[38;5;241;43m.\u001b[39;49m\u001b[43mbound\u001b[49m\u001b[38;5;241;43m.\u001b[39;49m\u001b[43minvoke\u001b[49m\u001b[43m(\u001b[49m\n\u001b[1;32m   5094\u001b[0m \u001b[43m        \u001b[49m\u001b[38;5;28;43minput\u001b[39;49m\u001b[43m,\u001b[49m\n\u001b[1;32m   5095\u001b[0m \u001b[43m        \u001b[49m\u001b[38;5;28;43mself\u001b[39;49m\u001b[38;5;241;43m.\u001b[39;49m\u001b[43m_merge_configs\u001b[49m\u001b[43m(\u001b[49m\u001b[43mconfig\u001b[49m\u001b[43m)\u001b[49m\u001b[43m,\u001b[49m\n\u001b[1;32m   5096\u001b[0m \u001b[43m        \u001b[49m\u001b[38;5;241;43m*\u001b[39;49m\u001b[38;5;241;43m*\u001b[39;49m\u001b[43m{\u001b[49m\u001b[38;5;241;43m*\u001b[39;49m\u001b[38;5;241;43m*\u001b[39;49m\u001b[38;5;28;43mself\u001b[39;49m\u001b[38;5;241;43m.\u001b[39;49m\u001b[43mkwargs\u001b[49m\u001b[43m,\u001b[49m\u001b[43m \u001b[49m\u001b[38;5;241;43m*\u001b[39;49m\u001b[38;5;241;43m*\u001b[39;49m\u001b[43mkwargs\u001b[49m\u001b[43m}\u001b[49m\u001b[43m,\u001b[49m\n\u001b[1;32m   5097\u001b[0m \u001b[43m    \u001b[49m\u001b[43m)\u001b[49m\n",
      "File \u001b[0;32m~/Library/Python/3.9/lib/python/site-packages/langchain_core/runnables/branch.py:238\u001b[0m, in \u001b[0;36mRunnableBranch.invoke\u001b[0;34m(self, input, config, **kwargs)\u001b[0m\n\u001b[1;32m    236\u001b[0m             \u001b[38;5;28;01mbreak\u001b[39;00m\n\u001b[1;32m    237\u001b[0m     \u001b[38;5;28;01melse\u001b[39;00m:\n\u001b[0;32m--> 238\u001b[0m         output \u001b[38;5;241m=\u001b[39m \u001b[38;5;28;43mself\u001b[39;49m\u001b[38;5;241;43m.\u001b[39;49m\u001b[43mdefault\u001b[49m\u001b[38;5;241;43m.\u001b[39;49m\u001b[43minvoke\u001b[49m\u001b[43m(\u001b[49m\n\u001b[1;32m    239\u001b[0m \u001b[43m            \u001b[49m\u001b[38;5;28;43minput\u001b[39;49m\u001b[43m,\u001b[49m\n\u001b[1;32m    240\u001b[0m \u001b[43m            \u001b[49m\u001b[43mconfig\u001b[49m\u001b[38;5;241;43m=\u001b[39;49m\u001b[43mpatch_config\u001b[49m\u001b[43m(\u001b[49m\n\u001b[1;32m    241\u001b[0m \u001b[43m                \u001b[49m\u001b[43mconfig\u001b[49m\u001b[43m,\u001b[49m\u001b[43m \u001b[49m\u001b[43mcallbacks\u001b[49m\u001b[38;5;241;43m=\u001b[39;49m\u001b[43mrun_manager\u001b[49m\u001b[38;5;241;43m.\u001b[39;49m\u001b[43mget_child\u001b[49m\u001b[43m(\u001b[49m\u001b[43mtag\u001b[49m\u001b[38;5;241;43m=\u001b[39;49m\u001b[38;5;124;43m\"\u001b[39;49m\u001b[38;5;124;43mbranch:default\u001b[39;49m\u001b[38;5;124;43m\"\u001b[39;49m\u001b[43m)\u001b[49m\n\u001b[1;32m    242\u001b[0m \u001b[43m            \u001b[49m\u001b[43m)\u001b[49m\u001b[43m,\u001b[49m\n\u001b[1;32m    243\u001b[0m \u001b[43m            \u001b[49m\u001b[38;5;241;43m*\u001b[39;49m\u001b[38;5;241;43m*\u001b[39;49m\u001b[43mkwargs\u001b[49m\u001b[43m,\u001b[49m\n\u001b[1;32m    244\u001b[0m \u001b[43m        \u001b[49m\u001b[43m)\u001b[49m\n\u001b[1;32m    245\u001b[0m \u001b[38;5;28;01mexcept\u001b[39;00m \u001b[38;5;167;01mBaseException\u001b[39;00m \u001b[38;5;28;01mas\u001b[39;00m e:\n\u001b[1;32m    246\u001b[0m     run_manager\u001b[38;5;241m.\u001b[39mon_chain_error(e)\n",
      "File \u001b[0;32m~/Library/Python/3.9/lib/python/site-packages/langchain_core/runnables/base.py:2877\u001b[0m, in \u001b[0;36mRunnableSequence.invoke\u001b[0;34m(self, input, config, **kwargs)\u001b[0m\n\u001b[1;32m   2875\u001b[0m context\u001b[38;5;241m.\u001b[39mrun(_set_config_context, config)\n\u001b[1;32m   2876\u001b[0m \u001b[38;5;28;01mif\u001b[39;00m i \u001b[38;5;241m==\u001b[39m \u001b[38;5;241m0\u001b[39m:\n\u001b[0;32m-> 2877\u001b[0m     \u001b[38;5;28minput\u001b[39m \u001b[38;5;241m=\u001b[39m \u001b[43mcontext\u001b[49m\u001b[38;5;241;43m.\u001b[39;49m\u001b[43mrun\u001b[49m\u001b[43m(\u001b[49m\u001b[43mstep\u001b[49m\u001b[38;5;241;43m.\u001b[39;49m\u001b[43minvoke\u001b[49m\u001b[43m,\u001b[49m\u001b[43m \u001b[49m\u001b[38;5;28;43minput\u001b[39;49m\u001b[43m,\u001b[49m\u001b[43m \u001b[49m\u001b[43mconfig\u001b[49m\u001b[43m,\u001b[49m\u001b[43m \u001b[49m\u001b[38;5;241;43m*\u001b[39;49m\u001b[38;5;241;43m*\u001b[39;49m\u001b[43mkwargs\u001b[49m\u001b[43m)\u001b[49m\n\u001b[1;32m   2878\u001b[0m \u001b[38;5;28;01melse\u001b[39;00m:\n\u001b[1;32m   2879\u001b[0m     \u001b[38;5;28minput\u001b[39m \u001b[38;5;241m=\u001b[39m context\u001b[38;5;241m.\u001b[39mrun(step\u001b[38;5;241m.\u001b[39minvoke, \u001b[38;5;28minput\u001b[39m, config)\n",
      "File \u001b[0;32m~/Library/Python/3.9/lib/python/site-packages/langchain_core/prompts/base.py:187\u001b[0m, in \u001b[0;36mBasePromptTemplate.invoke\u001b[0;34m(self, input, config)\u001b[0m\n\u001b[1;32m    185\u001b[0m \u001b[38;5;28;01mif\u001b[39;00m \u001b[38;5;28mself\u001b[39m\u001b[38;5;241m.\u001b[39mtags:\n\u001b[1;32m    186\u001b[0m     config[\u001b[38;5;124m\"\u001b[39m\u001b[38;5;124mtags\u001b[39m\u001b[38;5;124m\"\u001b[39m] \u001b[38;5;241m=\u001b[39m config[\u001b[38;5;124m\"\u001b[39m\u001b[38;5;124mtags\u001b[39m\u001b[38;5;124m\"\u001b[39m] \u001b[38;5;241m+\u001b[39m \u001b[38;5;28mself\u001b[39m\u001b[38;5;241m.\u001b[39mtags\n\u001b[0;32m--> 187\u001b[0m \u001b[38;5;28;01mreturn\u001b[39;00m \u001b[38;5;28;43mself\u001b[39;49m\u001b[38;5;241;43m.\u001b[39;49m\u001b[43m_call_with_config\u001b[49m\u001b[43m(\u001b[49m\n\u001b[1;32m    188\u001b[0m \u001b[43m    \u001b[49m\u001b[38;5;28;43mself\u001b[39;49m\u001b[38;5;241;43m.\u001b[39;49m\u001b[43m_format_prompt_with_error_handling\u001b[49m\u001b[43m,\u001b[49m\n\u001b[1;32m    189\u001b[0m \u001b[43m    \u001b[49m\u001b[38;5;28;43minput\u001b[39;49m\u001b[43m,\u001b[49m\n\u001b[1;32m    190\u001b[0m \u001b[43m    \u001b[49m\u001b[43mconfig\u001b[49m\u001b[43m,\u001b[49m\n\u001b[1;32m    191\u001b[0m \u001b[43m    \u001b[49m\u001b[43mrun_type\u001b[49m\u001b[38;5;241;43m=\u001b[39;49m\u001b[38;5;124;43m\"\u001b[39;49m\u001b[38;5;124;43mprompt\u001b[39;49m\u001b[38;5;124;43m\"\u001b[39;49m\u001b[43m,\u001b[49m\n\u001b[1;32m    192\u001b[0m \u001b[43m    \u001b[49m\u001b[43mserialized\u001b[49m\u001b[38;5;241;43m=\u001b[39;49m\u001b[43mdumpd\u001b[49m\u001b[43m(\u001b[49m\u001b[38;5;28;43mself\u001b[39;49m\u001b[43m)\u001b[49m\u001b[43m,\u001b[49m\n\u001b[1;32m    193\u001b[0m \u001b[43m\u001b[49m\u001b[43m)\u001b[49m\n",
      "File \u001b[0;32m~/Library/Python/3.9/lib/python/site-packages/langchain_core/runnables/base.py:1786\u001b[0m, in \u001b[0;36mRunnable._call_with_config\u001b[0;34m(self, func, input, config, run_type, serialized, **kwargs)\u001b[0m\n\u001b[1;32m   1782\u001b[0m     context \u001b[38;5;241m=\u001b[39m copy_context()\n\u001b[1;32m   1783\u001b[0m     context\u001b[38;5;241m.\u001b[39mrun(_set_config_context, child_config)\n\u001b[1;32m   1784\u001b[0m     output \u001b[38;5;241m=\u001b[39m cast(\n\u001b[1;32m   1785\u001b[0m         Output,\n\u001b[0;32m-> 1786\u001b[0m         \u001b[43mcontext\u001b[49m\u001b[38;5;241;43m.\u001b[39;49m\u001b[43mrun\u001b[49m\u001b[43m(\u001b[49m\n\u001b[1;32m   1787\u001b[0m \u001b[43m            \u001b[49m\u001b[43mcall_func_with_variable_args\u001b[49m\u001b[43m,\u001b[49m\u001b[43m  \u001b[49m\u001b[38;5;66;43;03m# type: ignore[arg-type]\u001b[39;49;00m\n\u001b[1;32m   1788\u001b[0m \u001b[43m            \u001b[49m\u001b[43mfunc\u001b[49m\u001b[43m,\u001b[49m\u001b[43m  \u001b[49m\u001b[38;5;66;43;03m# type: ignore[arg-type]\u001b[39;49;00m\n\u001b[1;32m   1789\u001b[0m \u001b[43m            \u001b[49m\u001b[38;5;28;43minput\u001b[39;49m\u001b[43m,\u001b[49m\u001b[43m  \u001b[49m\u001b[38;5;66;43;03m# type: ignore[arg-type]\u001b[39;49;00m\n\u001b[1;32m   1790\u001b[0m \u001b[43m            \u001b[49m\u001b[43mconfig\u001b[49m\u001b[43m,\u001b[49m\n\u001b[1;32m   1791\u001b[0m \u001b[43m            \u001b[49m\u001b[43mrun_manager\u001b[49m\u001b[43m,\u001b[49m\n\u001b[1;32m   1792\u001b[0m \u001b[43m            \u001b[49m\u001b[38;5;241;43m*\u001b[39;49m\u001b[38;5;241;43m*\u001b[39;49m\u001b[43mkwargs\u001b[49m\u001b[43m,\u001b[49m\n\u001b[1;32m   1793\u001b[0m \u001b[43m        \u001b[49m\u001b[43m)\u001b[49m,\n\u001b[1;32m   1794\u001b[0m     )\n\u001b[1;32m   1795\u001b[0m \u001b[38;5;28;01mexcept\u001b[39;00m \u001b[38;5;167;01mBaseException\u001b[39;00m \u001b[38;5;28;01mas\u001b[39;00m e:\n\u001b[1;32m   1796\u001b[0m     run_manager\u001b[38;5;241m.\u001b[39mon_chain_error(e)\n",
      "File \u001b[0;32m~/Library/Python/3.9/lib/python/site-packages/langchain_core/runnables/config.py:398\u001b[0m, in \u001b[0;36mcall_func_with_variable_args\u001b[0;34m(func, input, config, run_manager, **kwargs)\u001b[0m\n\u001b[1;32m    396\u001b[0m \u001b[38;5;28;01mif\u001b[39;00m run_manager \u001b[38;5;129;01mis\u001b[39;00m \u001b[38;5;129;01mnot\u001b[39;00m \u001b[38;5;28;01mNone\u001b[39;00m \u001b[38;5;129;01mand\u001b[39;00m accepts_run_manager(func):\n\u001b[1;32m    397\u001b[0m     kwargs[\u001b[38;5;124m\"\u001b[39m\u001b[38;5;124mrun_manager\u001b[39m\u001b[38;5;124m\"\u001b[39m] \u001b[38;5;241m=\u001b[39m run_manager\n\u001b[0;32m--> 398\u001b[0m \u001b[38;5;28;01mreturn\u001b[39;00m \u001b[43mfunc\u001b[49m\u001b[43m(\u001b[49m\u001b[38;5;28;43minput\u001b[39;49m\u001b[43m,\u001b[49m\u001b[43m \u001b[49m\u001b[38;5;241;43m*\u001b[39;49m\u001b[38;5;241;43m*\u001b[39;49m\u001b[43mkwargs\u001b[49m\u001b[43m)\u001b[49m\n",
      "File \u001b[0;32m~/Library/Python/3.9/lib/python/site-packages/langchain_core/prompts/base.py:162\u001b[0m, in \u001b[0;36mBasePromptTemplate._format_prompt_with_error_handling\u001b[0;34m(self, inner_input)\u001b[0m\n\u001b[1;32m    160\u001b[0m \u001b[38;5;28;01mdef\u001b[39;00m \u001b[38;5;21m_format_prompt_with_error_handling\u001b[39m(\u001b[38;5;28mself\u001b[39m, inner_input: Dict) \u001b[38;5;241m-\u001b[39m\u001b[38;5;241m>\u001b[39m PromptValue:\n\u001b[1;32m    161\u001b[0m     _inner_input \u001b[38;5;241m=\u001b[39m \u001b[38;5;28mself\u001b[39m\u001b[38;5;241m.\u001b[39m_validate_input(inner_input)\n\u001b[0;32m--> 162\u001b[0m     \u001b[38;5;28;01mreturn\u001b[39;00m \u001b[38;5;28;43mself\u001b[39;49m\u001b[38;5;241;43m.\u001b[39;49m\u001b[43mformat_prompt\u001b[49m\u001b[43m(\u001b[49m\u001b[38;5;241;43m*\u001b[39;49m\u001b[38;5;241;43m*\u001b[39;49m\u001b[43m_inner_input\u001b[49m\u001b[43m)\u001b[49m\n",
      "File \u001b[0;32m~/Library/Python/3.9/lib/python/site-packages/langchain_core/prompts/chat.py:765\u001b[0m, in \u001b[0;36mBaseChatPromptTemplate.format_prompt\u001b[0;34m(self, **kwargs)\u001b[0m\n\u001b[1;32m    756\u001b[0m \u001b[38;5;28;01mdef\u001b[39;00m \u001b[38;5;21mformat_prompt\u001b[39m(\u001b[38;5;28mself\u001b[39m, \u001b[38;5;241m*\u001b[39m\u001b[38;5;241m*\u001b[39mkwargs: Any) \u001b[38;5;241m-\u001b[39m\u001b[38;5;241m>\u001b[39m PromptValue:\n\u001b[1;32m    757\u001b[0m \u001b[38;5;250m    \u001b[39m\u001b[38;5;124;03m\"\"\"Format prompt. Should return a PromptValue.\u001b[39;00m\n\u001b[1;32m    758\u001b[0m \n\u001b[1;32m    759\u001b[0m \u001b[38;5;124;03m    Args:\u001b[39;00m\n\u001b[0;32m   (...)\u001b[0m\n\u001b[1;32m    763\u001b[0m \u001b[38;5;124;03m        PromptValue.\u001b[39;00m\n\u001b[1;32m    764\u001b[0m \u001b[38;5;124;03m    \"\"\"\u001b[39;00m\n\u001b[0;32m--> 765\u001b[0m     messages \u001b[38;5;241m=\u001b[39m \u001b[38;5;28;43mself\u001b[39;49m\u001b[38;5;241;43m.\u001b[39;49m\u001b[43mformat_messages\u001b[49m\u001b[43m(\u001b[49m\u001b[38;5;241;43m*\u001b[39;49m\u001b[38;5;241;43m*\u001b[39;49m\u001b[43mkwargs\u001b[49m\u001b[43m)\u001b[49m\n\u001b[1;32m    766\u001b[0m     \u001b[38;5;28;01mreturn\u001b[39;00m ChatPromptValue(messages\u001b[38;5;241m=\u001b[39mmessages)\n",
      "File \u001b[0;32m~/Library/Python/3.9/lib/python/site-packages/langchain_core/prompts/chat.py:1207\u001b[0m, in \u001b[0;36mChatPromptTemplate.format_messages\u001b[0;34m(self, **kwargs)\u001b[0m\n\u001b[1;32m   1203\u001b[0m     result\u001b[38;5;241m.\u001b[39mextend([message_template])\n\u001b[1;32m   1204\u001b[0m \u001b[38;5;28;01melif\u001b[39;00m \u001b[38;5;28misinstance\u001b[39m(\n\u001b[1;32m   1205\u001b[0m     message_template, (BaseMessagePromptTemplate, BaseChatPromptTemplate)\n\u001b[1;32m   1206\u001b[0m ):\n\u001b[0;32m-> 1207\u001b[0m     message \u001b[38;5;241m=\u001b[39m \u001b[43mmessage_template\u001b[49m\u001b[38;5;241;43m.\u001b[39;49m\u001b[43mformat_messages\u001b[49m\u001b[43m(\u001b[49m\u001b[38;5;241;43m*\u001b[39;49m\u001b[38;5;241;43m*\u001b[39;49m\u001b[43mkwargs\u001b[49m\u001b[43m)\u001b[49m\n\u001b[1;32m   1208\u001b[0m     result\u001b[38;5;241m.\u001b[39mextend(message)\n\u001b[1;32m   1209\u001b[0m \u001b[38;5;28;01melse\u001b[39;00m:\n",
      "File \u001b[0;32m~/Library/Python/3.9/lib/python/site-packages/langchain_core/prompts/chat.py:231\u001b[0m, in \u001b[0;36mMessagesPlaceholder.format_messages\u001b[0;34m(self, **kwargs)\u001b[0m\n\u001b[1;32m    225\u001b[0m value \u001b[38;5;241m=\u001b[39m (\n\u001b[1;32m    226\u001b[0m     kwargs\u001b[38;5;241m.\u001b[39mget(\u001b[38;5;28mself\u001b[39m\u001b[38;5;241m.\u001b[39mvariable_name, [])\n\u001b[1;32m    227\u001b[0m     \u001b[38;5;28;01mif\u001b[39;00m \u001b[38;5;28mself\u001b[39m\u001b[38;5;241m.\u001b[39moptional\n\u001b[1;32m    228\u001b[0m     \u001b[38;5;28;01melse\u001b[39;00m kwargs[\u001b[38;5;28mself\u001b[39m\u001b[38;5;241m.\u001b[39mvariable_name]\n\u001b[1;32m    229\u001b[0m )\n\u001b[1;32m    230\u001b[0m \u001b[38;5;28;01mif\u001b[39;00m \u001b[38;5;129;01mnot\u001b[39;00m \u001b[38;5;28misinstance\u001b[39m(value, \u001b[38;5;28mlist\u001b[39m):\n\u001b[0;32m--> 231\u001b[0m     \u001b[38;5;28;01mraise\u001b[39;00m \u001b[38;5;167;01mValueError\u001b[39;00m(\n\u001b[1;32m    232\u001b[0m         \u001b[38;5;124mf\u001b[39m\u001b[38;5;124m\"\u001b[39m\u001b[38;5;124mvariable \u001b[39m\u001b[38;5;132;01m{\u001b[39;00m\u001b[38;5;28mself\u001b[39m\u001b[38;5;241m.\u001b[39mvariable_name\u001b[38;5;132;01m}\u001b[39;00m\u001b[38;5;124m should be a list of base messages, \u001b[39m\u001b[38;5;124m\"\u001b[39m\n\u001b[1;32m    233\u001b[0m         \u001b[38;5;124mf\u001b[39m\u001b[38;5;124m\"\u001b[39m\u001b[38;5;124mgot \u001b[39m\u001b[38;5;132;01m{\u001b[39;00mvalue\u001b[38;5;132;01m}\u001b[39;00m\u001b[38;5;124m of type \u001b[39m\u001b[38;5;132;01m{\u001b[39;00m\u001b[38;5;28mtype\u001b[39m(value)\u001b[38;5;132;01m}\u001b[39;00m\u001b[38;5;124m\"\u001b[39m\n\u001b[1;32m    234\u001b[0m     )\n\u001b[1;32m    235\u001b[0m value \u001b[38;5;241m=\u001b[39m convert_to_messages(value)\n\u001b[1;32m    236\u001b[0m \u001b[38;5;28;01mif\u001b[39;00m \u001b[38;5;28mself\u001b[39m\u001b[38;5;241m.\u001b[39mn_messages:\n",
      "\u001b[0;31mValueError\u001b[0m: variable chat_history should be a list of base messages, got  of type <class 'langchain_core.chat_history.InMemoryChatMessageHistory'>"
     ]
    }
   ],
   "source": [
    "history_aware_retriever.invoke(\n",
    "    input = {\n",
    "        'input':sample_query,\n",
    "        'chat_history':chat_history1\n",
    "    }\n",
    ")"
   ]
  },
  {
   "cell_type": "markdown",
   "id": "22af5dfa-44a6-4c55-82fa-3cb23ad422ec",
   "metadata": {
    "jp-MarkdownHeadingCollapsed": true
   },
   "source": [
    "# without using alot of the langchain stuff\n",
    "\n",
    "* without using history_aware_retriever"
   ]
  },
  {
   "cell_type": "code",
   "execution_count": 712,
   "id": "6c2c0149-76f5-4173-9a87-c556735289ce",
   "metadata": {},
   "outputs": [],
   "source": [
    "from langchain_core.messages import SystemMessage, HumanMessage, AIMessage"
   ]
  },
  {
   "cell_type": "code",
   "execution_count": 714,
   "id": "a68c8923-3bfa-4251-ae31-56d1869ab755",
   "metadata": {},
   "outputs": [],
   "source": [
    "# 1. setup conversation history\n",
    "\n",
    "chat_history_store = {}\n",
    "\n",
    "def get_session_history(session_id: str) -> BaseChatMessageHistory:\n",
    "    if session_id not in store:\n",
    "        store[session_id] = ChatMessageHistory()\n",
    "    return store[session_id]"
   ]
  },
  {
   "cell_type": "code",
   "execution_count": 777,
   "id": "d9df8735-da38-479b-836a-85e27fe303a5",
   "metadata": {},
   "outputs": [
    {
     "data": {
      "text/plain": [
       "InMemoryChatMessageHistory(messages=[])"
      ]
     },
     "execution_count": 777,
     "metadata": {},
     "output_type": "execute_result"
    }
   ],
   "source": [
    "session_id = \"2\"\n",
    "current_chat_history = get_session_history(session_id)\n",
    "current_chat_history"
   ]
  },
  {
   "cell_type": "code",
   "execution_count": 779,
   "id": "abc07e54-c86e-4738-be43-92303555d67b",
   "metadata": {},
   "outputs": [
    {
     "data": {
      "text/plain": [
       "InMemoryChatMessageHistory(messages=[HumanMessage(content='hi do you know what pythagoras theorem is? just say yes or no'), AIMessage(content='Yes. What would you like to know about it?')])"
      ]
     },
     "execution_count": 779,
     "metadata": {},
     "output_type": "execute_result"
    }
   ],
   "source": [
    "# add some messages\n",
    "\n",
    "current_chat_history.add_user_message(\"hi do you know what pythagoras theorem is? just say yes or no\")\n",
    "current_chat_history.add_ai_message(\"Yes. What would you like to know about it?\")\n",
    "current_chat_history"
   ]
  },
  {
   "cell_type": "code",
   "execution_count": 787,
   "id": "3d72c481-65cb-4bae-b0b4-04ba920d90ec",
   "metadata": {},
   "outputs": [
    {
     "data": {
      "text/plain": [
       "InMemoryChatMessageHistory(messages=[HumanMessage(content='hi do you know what pythagoras theorem is? just say yes or no'), AIMessage(content='Yes. What would you like to know about it?')])"
      ]
     },
     "execution_count": 787,
     "metadata": {},
     "output_type": "execute_result"
    }
   ],
   "source": [
    "get_session_history(\"2\")"
   ]
  },
  {
   "cell_type": "markdown",
   "id": "4bc025f9-afdd-441e-99ab-3a02cd66180c",
   "metadata": {},
   "source": [
    "history_aware_retriever\n",
    "\n",
    "* Create a chain that takes conversation history and returns documents.\n",
    "* If there is no chat_history, then the input is just passed directly to the retriever. If there is chat_history, then the prompt and LLM will be used to generate a search query. That search query is then passed to the retriever."
   ]
  },
  {
   "cell_type": "code",
   "execution_count": 722,
   "id": "c8d69d39-1a5a-4df1-b3a2-aa314871ce9b",
   "metadata": {},
   "outputs": [],
   "source": [
    "# setup llm model for refining the user input with conversation context\n",
    "\n",
    "from langchain_ollama import ChatOllama\n",
    "\n",
    "query_refiner_llm_model_name = \"llama3.1\"\n",
    "query_refiner_llm = ChatOllama(\n",
    "    model=query_refiner_llm_model_name,\n",
    "    temperature=0 # increase temp for more creative answers\n",
    ") "
   ]
  },
  {
   "cell_type": "code",
   "execution_count": 724,
   "id": "6179ac94-cc43-45a4-903f-e7c2a90e4e5f",
   "metadata": {},
   "outputs": [
    {
     "data": {
      "text/plain": [
       "AIMessage(content=\"How's it going? Is there something I can help you with or would you like to chat?\", response_metadata={'model': 'llama3.1', 'created_at': '2024-09-18T05:46:38.621339Z', 'message': {'role': 'assistant', 'content': ''}, 'done_reason': 'stop', 'done': True, 'total_duration': 1068434333, 'load_duration': 28997833, 'prompt_eval_count': 11, 'prompt_eval_duration': 310055000, 'eval_count': 21, 'eval_duration': 728042000}, id='run-917dec4c-7b87-4d65-a426-54d0ae073f47-0', usage_metadata={'input_tokens': 11, 'output_tokens': 21, 'total_tokens': 32})"
      ]
     },
     "execution_count": 724,
     "metadata": {},
     "output_type": "execute_result"
    }
   ],
   "source": [
    "# test\n",
    "query_refiner_llm.invoke(\"hi\")"
   ]
  },
  {
   "cell_type": "code",
   "execution_count": 748,
   "id": "2feafdcf-ec5c-451b-8581-703803cf6533",
   "metadata": {},
   "outputs": [
    {
     "data": {
      "text/plain": [
       "InMemoryChatMessageHistory(messages=[HumanMessage(content='hi do you know what pythagoras theorem is? just say yes or no'), AIMessage(content='Yes. What would you like to know about it?')])"
      ]
     },
     "execution_count": 748,
     "metadata": {},
     "output_type": "execute_result"
    }
   ],
   "source": [
    "current_chat_history"
   ]
  },
  {
   "cell_type": "code",
   "execution_count": 758,
   "id": "9dd5d5f3-4afb-4d38-8162-0fa8990147b6",
   "metadata": {},
   "outputs": [],
   "source": [
    "def refine_input_query_with_chat_history_context(session_id, input_query, query_refiner_llm):\n",
    "    \"\"\"\n",
    "    session_id is tyope str - the sessions_id of the chat history\n",
    "    input_query is type str - input in the terminal by the user\n",
    "    query_refiner_llm is a base chat LLM used to refine the input query with context of the chat history\n",
    "    \"\"\"\n",
    "    chat_history = get_session_history(session_id)\n",
    "\n",
    "    # Setup system contextualise input prompt\n",
    "    system_contextualize_input_prompt = (\n",
    "        \"Given a chat history and the latest user question \"\n",
    "        \"which might reference context in the chat history, \"\n",
    "        \"formulate a standalone question which can be understood \"\n",
    "        \"without the chat history. Do NOT answer the question, \"\n",
    "        \"just reformulate it if needed and otherwise return it as is.\"\n",
    "    )\n",
    "    \n",
    "    # Prepare the chat prompt template with the chat history\n",
    "    system_input_prompt_template = ChatPromptTemplate.from_messages(\n",
    "        [\n",
    "            (\"system\", system_contextualize_input_prompt),\n",
    "            MessagesPlaceholder(variable_name=\"chat_history\"),  # For history\n",
    "            (\"human\", \"{input}\"),  # User's latest input query\n",
    "        ]\n",
    "    )\n",
    "\n",
    "    # Format the chat history as a list of dictionaries (required for MessagesPlaceholder)\n",
    "    formatted_chat_history = []\n",
    "    for message in chat_history.messages:\n",
    "        if isinstance(message, HumanMessage):\n",
    "            formatted_chat_history.append({\"role\": \"human\", \"content\": message.content})\n",
    "        elif isinstance(message, AIMessage):\n",
    "            formatted_chat_history.append({\"role\": \"ai\", \"content\": message.content})\n",
    "\n",
    "    # Invoke the template with chat history and input query\n",
    "    system_input_prompt_value = system_input_prompt_template.invoke(\n",
    "        {\n",
    "            'chat_history': formatted_chat_history,  # Pass the formatted history\n",
    "            'input': input_query  # User's current query\n",
    "        }\n",
    "    )\n",
    "\n",
    "    print(\"chat history:\")\n",
    "    print(system_input_prompt_value.messages)\n",
    "    \n",
    "    # Use the query_refiner_llm to get the refined_query\n",
    "    refined_query = query_refiner_llm.invoke(\n",
    "        input = system_input_prompt_value.messages\n",
    "    )\n",
    "    \n",
    "    return refined_query"
   ]
  },
  {
   "cell_type": "code",
   "execution_count": 760,
   "id": "d4babbe8-1be0-48e6-a9c3-726e3894789a",
   "metadata": {
    "scrolled": true
   },
   "outputs": [
    {
     "name": "stdout",
     "output_type": "stream",
     "text": [
      "chat history:\n",
      "[SystemMessage(content='Given a chat history and the latest user question which might reference context in the chat history, formulate a standalone question which can be understood without the chat history. Do NOT answer the question, just reformulate it if needed and otherwise return it as is.'), HumanMessage(content='hi do you know what pythagoras theorem is? just say yes or no'), AIMessage(content='Yes. What would you like to know about it?'), HumanMessage(content='okay explain it.')]\n"
     ]
    }
   ],
   "source": [
    "refined_query =  refine_input_query_with_chat_history_context(\n",
    "    session_id='2',\n",
    "    input_query=\"okay explain it.\",\n",
    "    query_refiner_llm=query_refiner_llm\n",
    ")"
   ]
  },
  {
   "cell_type": "code",
   "execution_count": 756,
   "id": "5e8d93dd-ce68-4afd-bc6f-e43e4749b83f",
   "metadata": {},
   "outputs": [
    {
     "data": {
      "text/plain": [
       "[SystemMessage(content='Given a chat history and the latest user question which might reference context in the chat history, formulate a standalone question which can be understood without the chat history. Do NOT answer the question, just reformulate it if needed and otherwise return it as is.'),\n",
       " HumanMessage(content='hi do you know what pythagoras theorem is? just say yes or no'),\n",
       " AIMessage(content='Yes. What would you like to know about it?'),\n",
       " HumanMessage(content='okay explain it.')]"
      ]
     },
     "execution_count": 756,
     "metadata": {},
     "output_type": "execute_result"
    }
   ],
   "source": [
    "system_input_prompt_value.messages"
   ]
  },
  {
   "cell_type": "code",
   "execution_count": 762,
   "id": "99f5b35a-cdfd-4120-98fb-84df0c70b75f",
   "metadata": {},
   "outputs": [
    {
     "data": {
      "text/plain": [
       "\"The Pythagorean Theorem states that in a right-angled triangle, the square of the length of the hypotenuse (the side opposite the right angle) is equal to the sum of the squares of the lengths of the other two sides.\\n\\nMathematically, this can be expressed as:\\n\\na² + b² = c²\\n\\nwhere 'a' and 'b' are the lengths of the two shorter sides, and 'c' is the length of the hypotenuse.\""
      ]
     },
     "execution_count": 762,
     "metadata": {},
     "output_type": "execute_result"
    }
   ],
   "source": [
    "refined_query.content"
   ]
  },
  {
   "cell_type": "markdown",
   "id": "3dc7c2e1-ebfb-442c-8d97-5334f7db8ed7",
   "metadata": {},
   "source": [
    "issue here is that the refined_query_llm is not returning the refined query but directly answering the question"
   ]
  },
  {
   "cell_type": "markdown",
   "id": "9210febd-f13e-4e8d-8d89-6acc2a2d755b",
   "metadata": {
    "jp-MarkdownHeadingCollapsed": true
   },
   "source": [
    "## others "
   ]
  },
  {
   "cell_type": "code",
   "execution_count": null,
   "id": "739ab857-5a70-4843-938d-82565546b76e",
   "metadata": {},
   "outputs": [],
   "source": []
  },
  {
   "cell_type": "code",
   "execution_count": 590,
   "id": "5e7cb332-24e7-4d03-ab9c-3efbb1326448",
   "metadata": {},
   "outputs": [],
   "source": [
    "current_chat_history.add_user_message(\"hi can you explain pythagoras theorem to me?\")"
   ]
  },
  {
   "cell_type": "code",
   "execution_count": 592,
   "id": "c2f3116d-bc28-4c7c-b7eb-e90884490610",
   "metadata": {},
   "outputs": [
    {
     "data": {
      "text/plain": [
       "InMemoryChatMessageHistory(messages=[HumanMessage(content='hi can you explain pythagoras theorem to me?')])"
      ]
     },
     "execution_count": 592,
     "metadata": {},
     "output_type": "execute_result"
    }
   ],
   "source": [
    "current_chat_history"
   ]
  },
  {
   "cell_type": "code",
   "execution_count": 594,
   "id": "63268123-2258-478b-80e7-26c76232f83e",
   "metadata": {},
   "outputs": [],
   "source": [
    "current_chat_history.add_ai_message(\"i cant find information on that in the vector db\")"
   ]
  },
  {
   "cell_type": "code",
   "execution_count": 598,
   "id": "bb90d919-6c7c-4977-8843-ccaac75e0269",
   "metadata": {
    "scrolled": true
   },
   "outputs": [
    {
     "data": {
      "text/plain": [
       "[HumanMessage(content='hi can you explain pythagoras theorem to me?'),\n",
       " AIMessage(content='i cant find information on that in the vector db')]"
      ]
     },
     "execution_count": 598,
     "metadata": {},
     "output_type": "execute_result"
    }
   ],
   "source": [
    "current_chat_history.messages"
   ]
  },
  {
   "cell_type": "code",
   "execution_count": null,
   "id": "d070c087-06bc-4118-b554-18ea14f03aaa",
   "metadata": {},
   "outputs": [],
   "source": []
  },
  {
   "cell_type": "code",
   "execution_count": null,
   "id": "562bffb8-4edc-41bc-b24f-173653cb415a",
   "metadata": {},
   "outputs": [],
   "source": []
  },
  {
   "cell_type": "code",
   "execution_count": 688,
   "id": "dc1bd72d-76fc-43f7-8d6c-f5c2f8ffe683",
   "metadata": {},
   "outputs": [],
   "source": [
    "from langchain.schema import AIMessage, HumanMessage\n",
    "\n",
    "def refine_query_with_context(input_query, session_id, query_refiner_llm):\n",
    "    \"\"\"\n",
    "    Refines the input query by considering the chat history.\n",
    "    \"\"\"\n",
    "    # Get the chat history for the session (assume you have a function to fetch it)\n",
    "    chat_history = get_session_history(session_id)\n",
    "\n",
    "    # Setup system contextualize input prompt\n",
    "    system_contextualize_input_prompt = (\n",
    "        \"Given a chat history and the latest user question \"\n",
    "        \"which might reference context in the chat history, \"\n",
    "        \"formulate a standalone question which can be understood \"\n",
    "        \"without the chat history. Do NOT answer the question, \"\n",
    "        \"just reformulate it if needed and otherwise return it as is.\"\n",
    "    )\n",
    "\n",
    "    # Prepare the chat prompt template with the chat history\n",
    "    system_input_prompt_template = ChatPromptTemplate.from_messages(\n",
    "        [\n",
    "            (\"system\", system_contextualize_input_prompt),\n",
    "            MessagesPlaceholder(variable_name=\"chat_history\"),  # For history\n",
    "            (\"human\", \"{input}\"),  # User's latest input\n",
    "        ]\n",
    "    )\n",
    "\n",
    "    # Format the chat history as a list of dictionaries (required for MessagesPlaceholder)\n",
    "    formatted_history = []\n",
    "    for message in chat_history.messages:\n",
    "        if isinstance(message, HumanMessage):\n",
    "            formatted_history.append({\"role\": \"human\", \"content\": message.content})\n",
    "        elif isinstance(message, AIMessage):\n",
    "            formatted_history.append({\"role\": \"ai\", \"content\": message.content})\n",
    "\n",
    "    # Invoke the template with chat history and input query\n",
    "    refined_query = system_input_prompt_template.invoke(\n",
    "        {\n",
    "            'chat_history': formatted_history,  # Pass the formatted history\n",
    "            'input': input_query  # User's current query\n",
    "        }\n",
    "    )\n",
    "\n",
    "    return refined_query"
   ]
  },
  {
   "cell_type": "code",
   "execution_count": 690,
   "id": "f8c6d017-f23c-48cd-8cc3-3e82e3592bc2",
   "metadata": {},
   "outputs": [],
   "source": [
    "refined_query = refine_query_with_context(input_query=sample_query,session_id='1',query_refiner_llm=query_refiner_llm)"
   ]
  },
  {
   "cell_type": "code",
   "execution_count": 700,
   "id": "170cd807-2132-4108-9ad0-4a851b5f8f85",
   "metadata": {},
   "outputs": [
    {
     "data": {
      "text/plain": [
       "[SystemMessage(content='Given a chat history and the latest user question which might reference context in the chat history, formulate a standalone question which can be understood without the chat history. Do NOT answer the question, just reformulate it if needed and otherwise return it as is.'),\n",
       " HumanMessage(content='hi can you explain pythagoras theorem to me?'),\n",
       " AIMessage(content='i cant find information on that in the vector db'),\n",
       " HumanMessage(content='for high-dimensional problems, with regards to p and N, in what cases can ridge regression exploit the correlation in the features of the dataset?')]"
      ]
     },
     "execution_count": 700,
     "metadata": {},
     "output_type": "execute_result"
    }
   ],
   "source": [
    "refined_query.messages"
   ]
  },
  {
   "cell_type": "code",
   "execution_count": 704,
   "id": "f14b52e0-d395-4f66-9280-1df676e142db",
   "metadata": {},
   "outputs": [
    {
     "data": {
      "text/plain": [
       "\"What is Ridge Regression's ability to exploit feature correlations in high-dimensional spaces when considering p (number of features) and N (sample size)?\""
      ]
     },
     "execution_count": 704,
     "metadata": {},
     "output_type": "execute_result"
    }
   ],
   "source": [
    "response = query_refiner_llm.invoke(input=refined_query)\n",
    "response.content"
   ]
  },
  {
   "cell_type": "code",
   "execution_count": null,
   "id": "87ae3044-caec-4bcc-8202-0b00c9c02328",
   "metadata": {},
   "outputs": [],
   "source": []
  },
  {
   "cell_type": "code",
   "execution_count": null,
   "id": "deca48a6-5d67-4f81-918c-05fd69d0d62a",
   "metadata": {},
   "outputs": [],
   "source": [
    "query_refiner_llm.invoke"
   ]
  },
  {
   "cell_type": "code",
   "execution_count": 681,
   "id": "3616c639-489f-4417-95d3-f4df655d5904",
   "metadata": {
    "scrolled": true
   },
   "outputs": [
    {
     "ename": "ValueError",
     "evalue": "variable chat_history should be a list of base messages, got Human: hi can you explain pythagoras theorem to me?\nAI: i cant find information on that in the vector db of type <class 'langchain_core.chat_history.InMemoryChatMessageHistory'>",
     "output_type": "error",
     "traceback": [
      "\u001b[0;31m---------------------------------------------------------------------------\u001b[0m",
      "\u001b[0;31mValueError\u001b[0m                                Traceback (most recent call last)",
      "Cell \u001b[0;32mIn[681], line 1\u001b[0m\n\u001b[0;32m----> 1\u001b[0m system_input_prompt_temmplate \u001b[38;5;241m=\u001b[39m \u001b[43mrefine_query_with_context\u001b[49m\u001b[43m(\u001b[49m\u001b[43minput_query\u001b[49m\u001b[38;5;241;43m=\u001b[39;49m\u001b[43msample_query\u001b[49m\u001b[43m,\u001b[49m\u001b[43msession_id\u001b[49m\u001b[38;5;241;43m=\u001b[39;49m\u001b[38;5;124;43m'\u001b[39;49m\u001b[38;5;124;43m1\u001b[39;49m\u001b[38;5;124;43m'\u001b[39;49m\u001b[43m,\u001b[49m\u001b[43mquery_refiner_llm\u001b[49m\u001b[38;5;241;43m=\u001b[39;49m\u001b[43mquery_refiner_llm\u001b[49m\u001b[43m)\u001b[49m\n\u001b[1;32m      2\u001b[0m system_input_prompt_temmplate\n",
      "Cell \u001b[0;32mIn[679], line 24\u001b[0m, in \u001b[0;36mrefine_query_with_context\u001b[0;34m(input_query, session_id, query_refiner_llm)\u001b[0m\n\u001b[1;32m      8\u001b[0m system_contextualise_input_prompt \u001b[38;5;241m=\u001b[39m (\n\u001b[1;32m      9\u001b[0m     \u001b[38;5;124m\"\u001b[39m\u001b[38;5;124mGiven a chat history and the latest user question \u001b[39m\u001b[38;5;124m\"\u001b[39m\n\u001b[1;32m     10\u001b[0m     \u001b[38;5;124m\"\u001b[39m\u001b[38;5;124mwhich might reference context in the chat history, \u001b[39m\u001b[38;5;124m\"\u001b[39m\n\u001b[0;32m   (...)\u001b[0m\n\u001b[1;32m     13\u001b[0m     \u001b[38;5;124m\"\u001b[39m\u001b[38;5;124mjust reformulate it if needed and otherwise return it as is.\u001b[39m\u001b[38;5;124m\"\u001b[39m\n\u001b[1;32m     14\u001b[0m )\n\u001b[1;32m     15\u001b[0m system_input_prompt_temmplate \u001b[38;5;241m=\u001b[39m ChatPromptTemplate\u001b[38;5;241m.\u001b[39mfrom_messages(\n\u001b[1;32m     16\u001b[0m     [\n\u001b[1;32m     17\u001b[0m         (\u001b[38;5;124m\"\u001b[39m\u001b[38;5;124msystem\u001b[39m\u001b[38;5;124m\"\u001b[39m, system_contextualise_input_prompt),\n\u001b[0;32m   (...)\u001b[0m\n\u001b[1;32m     21\u001b[0m     ]\n\u001b[1;32m     22\u001b[0m )\n\u001b[0;32m---> 24\u001b[0m system_input_prompt \u001b[38;5;241m=\u001b[39m \u001b[43msystem_input_prompt_temmplate\u001b[49m\u001b[38;5;241;43m.\u001b[39;49m\u001b[43minvoke\u001b[49m\u001b[43m(\u001b[49m\n\u001b[1;32m     25\u001b[0m \u001b[43m    \u001b[49m\u001b[43m{\u001b[49m\n\u001b[1;32m     26\u001b[0m \u001b[43m        \u001b[49m\u001b[38;5;124;43m'\u001b[39;49m\u001b[38;5;124;43mchat_history\u001b[39;49m\u001b[38;5;124;43m'\u001b[39;49m\u001b[43m:\u001b[49m\u001b[43mchat_history\u001b[49m\u001b[43m,\u001b[49m\n\u001b[1;32m     27\u001b[0m \u001b[43m        \u001b[49m\u001b[38;5;124;43m'\u001b[39;49m\u001b[38;5;124;43minput\u001b[39;49m\u001b[38;5;124;43m'\u001b[39;49m\u001b[43m:\u001b[49m\u001b[43minput_query\u001b[49m\n\u001b[1;32m     28\u001b[0m \u001b[43m    \u001b[49m\u001b[43m}\u001b[49m\n\u001b[1;32m     29\u001b[0m \u001b[43m\u001b[49m\u001b[43m)\u001b[49m\n\u001b[1;32m     31\u001b[0m \u001b[38;5;28;01mreturn\u001b[39;00m system_input_prompt_temmplate\n",
      "File \u001b[0;32m~/Library/Python/3.9/lib/python/site-packages/langchain_core/prompts/base.py:187\u001b[0m, in \u001b[0;36mBasePromptTemplate.invoke\u001b[0;34m(self, input, config)\u001b[0m\n\u001b[1;32m    185\u001b[0m \u001b[38;5;28;01mif\u001b[39;00m \u001b[38;5;28mself\u001b[39m\u001b[38;5;241m.\u001b[39mtags:\n\u001b[1;32m    186\u001b[0m     config[\u001b[38;5;124m\"\u001b[39m\u001b[38;5;124mtags\u001b[39m\u001b[38;5;124m\"\u001b[39m] \u001b[38;5;241m=\u001b[39m config[\u001b[38;5;124m\"\u001b[39m\u001b[38;5;124mtags\u001b[39m\u001b[38;5;124m\"\u001b[39m] \u001b[38;5;241m+\u001b[39m \u001b[38;5;28mself\u001b[39m\u001b[38;5;241m.\u001b[39mtags\n\u001b[0;32m--> 187\u001b[0m \u001b[38;5;28;01mreturn\u001b[39;00m \u001b[38;5;28;43mself\u001b[39;49m\u001b[38;5;241;43m.\u001b[39;49m\u001b[43m_call_with_config\u001b[49m\u001b[43m(\u001b[49m\n\u001b[1;32m    188\u001b[0m \u001b[43m    \u001b[49m\u001b[38;5;28;43mself\u001b[39;49m\u001b[38;5;241;43m.\u001b[39;49m\u001b[43m_format_prompt_with_error_handling\u001b[49m\u001b[43m,\u001b[49m\n\u001b[1;32m    189\u001b[0m \u001b[43m    \u001b[49m\u001b[38;5;28;43minput\u001b[39;49m\u001b[43m,\u001b[49m\n\u001b[1;32m    190\u001b[0m \u001b[43m    \u001b[49m\u001b[43mconfig\u001b[49m\u001b[43m,\u001b[49m\n\u001b[1;32m    191\u001b[0m \u001b[43m    \u001b[49m\u001b[43mrun_type\u001b[49m\u001b[38;5;241;43m=\u001b[39;49m\u001b[38;5;124;43m\"\u001b[39;49m\u001b[38;5;124;43mprompt\u001b[39;49m\u001b[38;5;124;43m\"\u001b[39;49m\u001b[43m,\u001b[49m\n\u001b[1;32m    192\u001b[0m \u001b[43m    \u001b[49m\u001b[43mserialized\u001b[49m\u001b[38;5;241;43m=\u001b[39;49m\u001b[43mdumpd\u001b[49m\u001b[43m(\u001b[49m\u001b[38;5;28;43mself\u001b[39;49m\u001b[43m)\u001b[49m\u001b[43m,\u001b[49m\n\u001b[1;32m    193\u001b[0m \u001b[43m\u001b[49m\u001b[43m)\u001b[49m\n",
      "File \u001b[0;32m~/Library/Python/3.9/lib/python/site-packages/langchain_core/runnables/base.py:1786\u001b[0m, in \u001b[0;36mRunnable._call_with_config\u001b[0;34m(self, func, input, config, run_type, serialized, **kwargs)\u001b[0m\n\u001b[1;32m   1782\u001b[0m     context \u001b[38;5;241m=\u001b[39m copy_context()\n\u001b[1;32m   1783\u001b[0m     context\u001b[38;5;241m.\u001b[39mrun(_set_config_context, child_config)\n\u001b[1;32m   1784\u001b[0m     output \u001b[38;5;241m=\u001b[39m cast(\n\u001b[1;32m   1785\u001b[0m         Output,\n\u001b[0;32m-> 1786\u001b[0m         \u001b[43mcontext\u001b[49m\u001b[38;5;241;43m.\u001b[39;49m\u001b[43mrun\u001b[49m\u001b[43m(\u001b[49m\n\u001b[1;32m   1787\u001b[0m \u001b[43m            \u001b[49m\u001b[43mcall_func_with_variable_args\u001b[49m\u001b[43m,\u001b[49m\u001b[43m  \u001b[49m\u001b[38;5;66;43;03m# type: ignore[arg-type]\u001b[39;49;00m\n\u001b[1;32m   1788\u001b[0m \u001b[43m            \u001b[49m\u001b[43mfunc\u001b[49m\u001b[43m,\u001b[49m\u001b[43m  \u001b[49m\u001b[38;5;66;43;03m# type: ignore[arg-type]\u001b[39;49;00m\n\u001b[1;32m   1789\u001b[0m \u001b[43m            \u001b[49m\u001b[38;5;28;43minput\u001b[39;49m\u001b[43m,\u001b[49m\u001b[43m  \u001b[49m\u001b[38;5;66;43;03m# type: ignore[arg-type]\u001b[39;49;00m\n\u001b[1;32m   1790\u001b[0m \u001b[43m            \u001b[49m\u001b[43mconfig\u001b[49m\u001b[43m,\u001b[49m\n\u001b[1;32m   1791\u001b[0m \u001b[43m            \u001b[49m\u001b[43mrun_manager\u001b[49m\u001b[43m,\u001b[49m\n\u001b[1;32m   1792\u001b[0m \u001b[43m            \u001b[49m\u001b[38;5;241;43m*\u001b[39;49m\u001b[38;5;241;43m*\u001b[39;49m\u001b[43mkwargs\u001b[49m\u001b[43m,\u001b[49m\n\u001b[1;32m   1793\u001b[0m \u001b[43m        \u001b[49m\u001b[43m)\u001b[49m,\n\u001b[1;32m   1794\u001b[0m     )\n\u001b[1;32m   1795\u001b[0m \u001b[38;5;28;01mexcept\u001b[39;00m \u001b[38;5;167;01mBaseException\u001b[39;00m \u001b[38;5;28;01mas\u001b[39;00m e:\n\u001b[1;32m   1796\u001b[0m     run_manager\u001b[38;5;241m.\u001b[39mon_chain_error(e)\n",
      "File \u001b[0;32m~/Library/Python/3.9/lib/python/site-packages/langchain_core/runnables/config.py:398\u001b[0m, in \u001b[0;36mcall_func_with_variable_args\u001b[0;34m(func, input, config, run_manager, **kwargs)\u001b[0m\n\u001b[1;32m    396\u001b[0m \u001b[38;5;28;01mif\u001b[39;00m run_manager \u001b[38;5;129;01mis\u001b[39;00m \u001b[38;5;129;01mnot\u001b[39;00m \u001b[38;5;28;01mNone\u001b[39;00m \u001b[38;5;129;01mand\u001b[39;00m accepts_run_manager(func):\n\u001b[1;32m    397\u001b[0m     kwargs[\u001b[38;5;124m\"\u001b[39m\u001b[38;5;124mrun_manager\u001b[39m\u001b[38;5;124m\"\u001b[39m] \u001b[38;5;241m=\u001b[39m run_manager\n\u001b[0;32m--> 398\u001b[0m \u001b[38;5;28;01mreturn\u001b[39;00m \u001b[43mfunc\u001b[49m\u001b[43m(\u001b[49m\u001b[38;5;28;43minput\u001b[39;49m\u001b[43m,\u001b[49m\u001b[43m \u001b[49m\u001b[38;5;241;43m*\u001b[39;49m\u001b[38;5;241;43m*\u001b[39;49m\u001b[43mkwargs\u001b[49m\u001b[43m)\u001b[49m\n",
      "File \u001b[0;32m~/Library/Python/3.9/lib/python/site-packages/langchain_core/prompts/base.py:162\u001b[0m, in \u001b[0;36mBasePromptTemplate._format_prompt_with_error_handling\u001b[0;34m(self, inner_input)\u001b[0m\n\u001b[1;32m    160\u001b[0m \u001b[38;5;28;01mdef\u001b[39;00m \u001b[38;5;21m_format_prompt_with_error_handling\u001b[39m(\u001b[38;5;28mself\u001b[39m, inner_input: Dict) \u001b[38;5;241m-\u001b[39m\u001b[38;5;241m>\u001b[39m PromptValue:\n\u001b[1;32m    161\u001b[0m     _inner_input \u001b[38;5;241m=\u001b[39m \u001b[38;5;28mself\u001b[39m\u001b[38;5;241m.\u001b[39m_validate_input(inner_input)\n\u001b[0;32m--> 162\u001b[0m     \u001b[38;5;28;01mreturn\u001b[39;00m \u001b[38;5;28;43mself\u001b[39;49m\u001b[38;5;241;43m.\u001b[39;49m\u001b[43mformat_prompt\u001b[49m\u001b[43m(\u001b[49m\u001b[38;5;241;43m*\u001b[39;49m\u001b[38;5;241;43m*\u001b[39;49m\u001b[43m_inner_input\u001b[49m\u001b[43m)\u001b[49m\n",
      "File \u001b[0;32m~/Library/Python/3.9/lib/python/site-packages/langchain_core/prompts/chat.py:765\u001b[0m, in \u001b[0;36mBaseChatPromptTemplate.format_prompt\u001b[0;34m(self, **kwargs)\u001b[0m\n\u001b[1;32m    756\u001b[0m \u001b[38;5;28;01mdef\u001b[39;00m \u001b[38;5;21mformat_prompt\u001b[39m(\u001b[38;5;28mself\u001b[39m, \u001b[38;5;241m*\u001b[39m\u001b[38;5;241m*\u001b[39mkwargs: Any) \u001b[38;5;241m-\u001b[39m\u001b[38;5;241m>\u001b[39m PromptValue:\n\u001b[1;32m    757\u001b[0m \u001b[38;5;250m    \u001b[39m\u001b[38;5;124;03m\"\"\"Format prompt. Should return a PromptValue.\u001b[39;00m\n\u001b[1;32m    758\u001b[0m \n\u001b[1;32m    759\u001b[0m \u001b[38;5;124;03m    Args:\u001b[39;00m\n\u001b[0;32m   (...)\u001b[0m\n\u001b[1;32m    763\u001b[0m \u001b[38;5;124;03m        PromptValue.\u001b[39;00m\n\u001b[1;32m    764\u001b[0m \u001b[38;5;124;03m    \"\"\"\u001b[39;00m\n\u001b[0;32m--> 765\u001b[0m     messages \u001b[38;5;241m=\u001b[39m \u001b[38;5;28;43mself\u001b[39;49m\u001b[38;5;241;43m.\u001b[39;49m\u001b[43mformat_messages\u001b[49m\u001b[43m(\u001b[49m\u001b[38;5;241;43m*\u001b[39;49m\u001b[38;5;241;43m*\u001b[39;49m\u001b[43mkwargs\u001b[49m\u001b[43m)\u001b[49m\n\u001b[1;32m    766\u001b[0m     \u001b[38;5;28;01mreturn\u001b[39;00m ChatPromptValue(messages\u001b[38;5;241m=\u001b[39mmessages)\n",
      "File \u001b[0;32m~/Library/Python/3.9/lib/python/site-packages/langchain_core/prompts/chat.py:1207\u001b[0m, in \u001b[0;36mChatPromptTemplate.format_messages\u001b[0;34m(self, **kwargs)\u001b[0m\n\u001b[1;32m   1203\u001b[0m     result\u001b[38;5;241m.\u001b[39mextend([message_template])\n\u001b[1;32m   1204\u001b[0m \u001b[38;5;28;01melif\u001b[39;00m \u001b[38;5;28misinstance\u001b[39m(\n\u001b[1;32m   1205\u001b[0m     message_template, (BaseMessagePromptTemplate, BaseChatPromptTemplate)\n\u001b[1;32m   1206\u001b[0m ):\n\u001b[0;32m-> 1207\u001b[0m     message \u001b[38;5;241m=\u001b[39m \u001b[43mmessage_template\u001b[49m\u001b[38;5;241;43m.\u001b[39;49m\u001b[43mformat_messages\u001b[49m\u001b[43m(\u001b[49m\u001b[38;5;241;43m*\u001b[39;49m\u001b[38;5;241;43m*\u001b[39;49m\u001b[43mkwargs\u001b[49m\u001b[43m)\u001b[49m\n\u001b[1;32m   1208\u001b[0m     result\u001b[38;5;241m.\u001b[39mextend(message)\n\u001b[1;32m   1209\u001b[0m \u001b[38;5;28;01melse\u001b[39;00m:\n",
      "File \u001b[0;32m~/Library/Python/3.9/lib/python/site-packages/langchain_core/prompts/chat.py:231\u001b[0m, in \u001b[0;36mMessagesPlaceholder.format_messages\u001b[0;34m(self, **kwargs)\u001b[0m\n\u001b[1;32m    225\u001b[0m value \u001b[38;5;241m=\u001b[39m (\n\u001b[1;32m    226\u001b[0m     kwargs\u001b[38;5;241m.\u001b[39mget(\u001b[38;5;28mself\u001b[39m\u001b[38;5;241m.\u001b[39mvariable_name, [])\n\u001b[1;32m    227\u001b[0m     \u001b[38;5;28;01mif\u001b[39;00m \u001b[38;5;28mself\u001b[39m\u001b[38;5;241m.\u001b[39moptional\n\u001b[1;32m    228\u001b[0m     \u001b[38;5;28;01melse\u001b[39;00m kwargs[\u001b[38;5;28mself\u001b[39m\u001b[38;5;241m.\u001b[39mvariable_name]\n\u001b[1;32m    229\u001b[0m )\n\u001b[1;32m    230\u001b[0m \u001b[38;5;28;01mif\u001b[39;00m \u001b[38;5;129;01mnot\u001b[39;00m \u001b[38;5;28misinstance\u001b[39m(value, \u001b[38;5;28mlist\u001b[39m):\n\u001b[0;32m--> 231\u001b[0m     \u001b[38;5;28;01mraise\u001b[39;00m \u001b[38;5;167;01mValueError\u001b[39;00m(\n\u001b[1;32m    232\u001b[0m         \u001b[38;5;124mf\u001b[39m\u001b[38;5;124m\"\u001b[39m\u001b[38;5;124mvariable \u001b[39m\u001b[38;5;132;01m{\u001b[39;00m\u001b[38;5;28mself\u001b[39m\u001b[38;5;241m.\u001b[39mvariable_name\u001b[38;5;132;01m}\u001b[39;00m\u001b[38;5;124m should be a list of base messages, \u001b[39m\u001b[38;5;124m\"\u001b[39m\n\u001b[1;32m    233\u001b[0m         \u001b[38;5;124mf\u001b[39m\u001b[38;5;124m\"\u001b[39m\u001b[38;5;124mgot \u001b[39m\u001b[38;5;132;01m{\u001b[39;00mvalue\u001b[38;5;132;01m}\u001b[39;00m\u001b[38;5;124m of type \u001b[39m\u001b[38;5;132;01m{\u001b[39;00m\u001b[38;5;28mtype\u001b[39m(value)\u001b[38;5;132;01m}\u001b[39;00m\u001b[38;5;124m\"\u001b[39m\n\u001b[1;32m    234\u001b[0m     )\n\u001b[1;32m    235\u001b[0m value \u001b[38;5;241m=\u001b[39m convert_to_messages(value)\n\u001b[1;32m    236\u001b[0m \u001b[38;5;28;01mif\u001b[39;00m \u001b[38;5;28mself\u001b[39m\u001b[38;5;241m.\u001b[39mn_messages:\n",
      "\u001b[0;31mValueError\u001b[0m: variable chat_history should be a list of base messages, got Human: hi can you explain pythagoras theorem to me?\nAI: i cant find information on that in the vector db of type <class 'langchain_core.chat_history.InMemoryChatMessageHistory'>"
     ]
    }
   ],
   "source": [
    "system_input_prompt_temmplate = refine_query_with_context(input_query=sample_query,session_id='1',query_refiner_llm=query_refiner_llm)\n",
    "system_input_prompt_temmplate"
   ]
  },
  {
   "cell_type": "markdown",
   "id": "ccc543c2-d720-4f6d-adb6-ce69d789b39f",
   "metadata": {},
   "source": [
    "build entire pipeline in order without langchain as much as possible"
   ]
  },
  {
   "cell_type": "code",
   "execution_count": null,
   "id": "3c5bd984-fe11-4546-9e6b-9b13bd513a25",
   "metadata": {},
   "outputs": [],
   "source": [
    "from langchain_core.prompts import ChatPromptTemplate, MessagesPlaceholder\n",
    "from langchain_openai.chat_models import ChatOpenAI\n",
    "\n",
    "    # setup llm model for refining the user input with conversation context\n",
    "    prompt_refiner_llm = ChatOllama(\n",
    "        model=llm_model_name,\n",
    "        temperature=0 # increase temp for more creative answers\n",
    "    ) \n",
    "    \n",
    "\n",
    "prompt = ChatPromptTemplate.from_messages(\n",
    "    [\n",
    "        (\n",
    "            \"system\",\n",
    "            \"You're an assistant who's good at {ability}. Respond in 20 words or fewer\",\n",
    "        ),\n",
    "        MessagesPlaceholder(variable_name=\"history\"),\n",
    "        (\"human\", \"{input}\"),\n",
    "    ]\n",
    ")\n",
    "runnable = prompt | model"
   ]
  },
  {
   "cell_type": "code",
   "execution_count": 571,
   "id": "8f72ca12-8e2e-4d91-a750-b43de69d9679",
   "metadata": {
    "scrolled": true
   },
   "outputs": [
    {
     "ename": "NameError",
     "evalue": "name 'runnable' is not defined",
     "output_type": "error",
     "traceback": [
      "\u001b[0;31m---------------------------------------------------------------------------\u001b[0m",
      "\u001b[0;31mNameError\u001b[0m                                 Traceback (most recent call last)",
      "Cell \u001b[0;32mIn[571], line 15\u001b[0m\n\u001b[1;32m     10\u001b[0m         store[session_id] \u001b[38;5;241m=\u001b[39m ChatMessageHistory()\n\u001b[1;32m     11\u001b[0m     \u001b[38;5;28;01mreturn\u001b[39;00m store[session_id]\n\u001b[1;32m     14\u001b[0m with_message_history \u001b[38;5;241m=\u001b[39m RunnableWithMessageHistory(\n\u001b[0;32m---> 15\u001b[0m     \u001b[43mrunnable\u001b[49m,\n\u001b[1;32m     16\u001b[0m     get_session_history,\n\u001b[1;32m     17\u001b[0m     input_messages_key\u001b[38;5;241m=\u001b[39m\u001b[38;5;124m\"\u001b[39m\u001b[38;5;124minput\u001b[39m\u001b[38;5;124m\"\u001b[39m,\n\u001b[1;32m     18\u001b[0m     history_messages_key\u001b[38;5;241m=\u001b[39m\u001b[38;5;124m\"\u001b[39m\u001b[38;5;124mhistory\u001b[39m\u001b[38;5;124m\"\u001b[39m,\n\u001b[1;32m     19\u001b[0m )\n",
      "\u001b[0;31mNameError\u001b[0m: name 'runnable' is not defined"
     ]
    }
   ],
   "source": [
    "from langchain_community.chat_message_histories import ChatMessageHistory\n",
    "from langchain_core.chat_history import BaseChatMessageHistory\n",
    "from langchain_core.runnables.history import RunnableWithMessageHistory\n",
    "\n",
    "store = {}\n",
    "\n",
    "\n",
    "def get_session_history(session_id: str) -> BaseChatMessageHistory:\n",
    "    if session_id not in store:\n",
    "        store[session_id] = ChatMessageHistory()\n",
    "    return store[session_id]\n",
    "\n",
    "\n",
    "with_message_history = RunnableWithMessageHistory(\n",
    "    runnable,\n",
    "    get_session_history,\n",
    "    input_messages_key=\"input\",\n",
    "    history_messages_key=\"history\",\n",
    ")"
   ]
  },
  {
   "cell_type": "markdown",
   "id": "f5a06208-0ebc-4716-a985-39152fa7f569",
   "metadata": {
    "jp-MarkdownHeadingCollapsed": true
   },
   "source": [
    "# use history aware retriever -> Python Ollama"
   ]
  },
  {
   "cell_type": "code",
   "execution_count": 765,
   "id": "1eb9cf56-94ac-4eaa-973c-15333f90d886",
   "metadata": {},
   "outputs": [
    {
     "name": "stdout",
     "output_type": "stream",
     "text": [
      "\n"
     ]
    }
   ],
   "source": [
    "print()\n",
    "\n",
    "import os\n",
    "import glob\n",
    "import time\n",
    "import argparse\n",
    "from tqdm import tqdm\n",
    "from langchain_community.document_loaders import PyPDFLoader\n",
    "from langchain_text_splitters import RecursiveCharacterTextSplitter\n",
    "from langchain_community.embeddings import HuggingFaceEmbeddings\n",
    "from langchain_core.vectorstores import InMemoryVectorStore\n",
    "from langchain_ollama import ChatOllama\n",
    "from langchain.chains import create_history_aware_retriever\n",
    "from langchain_core.prompts import ChatPromptTemplate, MessagesPlaceholder\n",
    "from langchain.chains import create_retrieval_chain\n",
    "from langchain.chains.combine_documents import create_stuff_documents_chain\n",
    "from langchain_community.chat_message_histories import ChatMessageHistory\n",
    "# from langchain_core.chat_history import BaseChatMessageHistory\n",
    "from langchain_core.runnables.history import RunnableWithMessageHistory\n",
    "import warnings\n",
    "# from urllib3.exceptions import NotOpenSSLWarning\n",
    "# Suppress all warnings\n",
    "warnings.filterwarnings(\"ignore\")\n",
    "# Suppress NotOpenSSLWarning from urllib3\n",
    "warnings.filterwarnings(\"ignore\", module='urllib3')\n",
    "\n",
    "def load_pdfs(file_paths):\n",
    "    \"\"\"\n",
    "    file_paths must end with .pdf\n",
    "    PyPDFLoader auto splits the pdf into pages, each page is 1 Document object split by page number\n",
    "\n",
    "    returns a dict of key: file_path and value: list of document objects\n",
    "    \"\"\"\n",
    "    documents_dict = {}   \n",
    "    for f in tqdm(file_paths):\n",
    "        loader = PyPDFLoader(file_path = f)\n",
    "        documents = loader.load()\n",
    "        documents_dict[f] = documents\n",
    "    return documents_dict\n",
    "\n",
    "def chunk_list_of_documents(documents):\n",
    "    \"\"\"\n",
    "    input a list of documents as Document objects\n",
    "\n",
    "    output a list of chunks as Document objects\n",
    "    \"\"\"\n",
    "    text_splitter = RecursiveCharacterTextSplitter(\n",
    "        chunk_size = 500,\n",
    "        chunk_overlap = 100, # using 20% is a good start\n",
    "        length_function=len,\n",
    "        is_separator_regex=False,\n",
    "        add_start_index=True\n",
    "    )\n",
    "\n",
    "    chunks = text_splitter.split_documents(documents)    \n",
    "    return chunks\n",
    "\n",
    "def get_session_history(session_id: str):\n",
    "    if session_id not in chat_history_store:\n",
    "        chat_history_store[session_id] = ChatMessageHistory()\n",
    "    return chat_history_store[session_id]\n",
    "\n",
    "\n",
    "def create_huggingface_retriever(folder_path,embedding_model_name):\n",
    "    files_paths = glob.glob(f\"{folder_path}/*.pdf\")\n",
    "    print()\n",
    "    print()\n",
    "\n",
    "    # load documents from file paths\n",
    "    print(\"loading pdfs...\")\n",
    "    documents_dict = load_pdfs(file_paths=files_paths)\n",
    "\n",
    "    # chunk documents\n",
    "    print()\n",
    "    print(\"chunking documents...\")\n",
    "    all_chunks = []\n",
    "    for key in tqdm(documents_dict.keys()):\n",
    "        documents = documents_dict[key]\n",
    "        chunks = chunk_list_of_documents(documents=documents)\n",
    "        all_chunks.extend(chunks)\n",
    "    print(f\"number of chunks: {len(all_chunks)}\")\n",
    "\n",
    "    # setup embedding model\n",
    "    model_kwargs = {'device': 'cpu'}\n",
    "    encode_kwargs = {'normalize_embeddings': False}\n",
    "    hf_embedding_model = HuggingFaceEmbeddings(\n",
    "        model_name=embedding_model_name,\n",
    "        model_kwargs=model_kwargs,\n",
    "        encode_kwargs=encode_kwargs\n",
    "    )\n",
    "\n",
    "    # setup vectordb, using HF embedding model\n",
    "    start_time=time.time()\n",
    "    print()\n",
    "    print(\"start process of embedding chunks into vector database...\")\n",
    "    vectorstore_hf = InMemoryVectorStore.from_documents(\n",
    "        documents=all_chunks,\n",
    "        embedding=hf_embedding_model\n",
    "    )\n",
    "    print(\"all chunks embedded into vector database!\",f\"time taken: {round(time.time()-start_time,2)}s\")\n",
    "\n",
    "    # setup retrieval and test with a query and gt_context\n",
    "    retriever_hf = vectorstore_hf.as_retriever(\n",
    "        search_type='similarity',\n",
    "        search_kwargs = {'k':5}\n",
    "    )\n",
    "    print(\"retriever created!\")\n",
    "\n",
    "    return retriever_hf\n"
   ]
  },
  {
   "cell_type": "code",
   "execution_count": 769,
   "id": "5d31d697-8803-4929-8b1d-62b868879bf4",
   "metadata": {},
   "outputs": [],
   "source": [
    "def instantiate_history_aware_retriever(retriever_hf,llm_model_name):\n",
    "\n",
    "    # setup llm chat model using ollama\n",
    "    llm_model = ChatOllama(\n",
    "        model=llm_model_name,\n",
    "        temperature=0 # increase temp for more creative answers\n",
    "    ) \n",
    "\n",
    "    # setup system contextualise input prompt\n",
    "    system_contextualise_input_prompt = (\n",
    "        \"Given a chat history and the latest user question \"\n",
    "        \"which might reference context in the chat history, \"\n",
    "        \"formulate a standalone question which can be understood \"\n",
    "        \"without the chat history. Do NOT answer the question, \"\n",
    "        \"just reformulate it if needed and otherwise return it as is.\"\n",
    "    )\n",
    "    system_input_prompt = ChatPromptTemplate.from_messages(\n",
    "        [\n",
    "            (\"system\", system_contextualise_input_prompt),\n",
    "            MessagesPlaceholder(\"chat_history\"),\n",
    "            (\"human\", \"{input}\"),\n",
    "        ]\n",
    "    )\n",
    "\n",
    "    # instantiate the history-aware retriever:\n",
    "    history_aware_retriever = create_history_aware_retriever(\n",
    "        llm=llm_model,\n",
    "        retriever=retriever_hf,\n",
    "        prompt=system_input_prompt\n",
    "    )\n",
    "\n",
    "    return history_aware_retriever"
   ]
  },
  {
   "cell_type": "code",
   "execution_count": null,
   "id": "afeb5825-e259-459a-8ad6-67c7ad9f95d5",
   "metadata": {},
   "outputs": [],
   "source": [
    "retriever_hf = create_huggingface_retriever(folder_path,embedding_model_name)"
   ]
  },
  {
   "cell_type": "code",
   "execution_count": 771,
   "id": "5683f7ab-32df-41a3-8bb4-c40652cf7532",
   "metadata": {},
   "outputs": [
    {
     "data": {
      "text/plain": [
       "VectorStoreRetriever(tags=['InMemoryVectorStore', 'HuggingFaceEmbeddings'], vectorstore=<langchain_core.vectorstores.in_memory.InMemoryVectorStore object at 0x3f75caee0>, search_kwargs={'k': 5})"
      ]
     },
     "execution_count": 771,
     "metadata": {},
     "output_type": "execute_result"
    }
   ],
   "source": [
    "retriever_hf"
   ]
  },
  {
   "cell_type": "code",
   "execution_count": 773,
   "id": "54817c4e-4872-4f21-9a47-a640956b0f29",
   "metadata": {},
   "outputs": [
    {
     "data": {
      "text/plain": [
       "RunnableBinding(bound=RunnableBranch(branches=[(RunnableLambda(lambda x: not x.get('chat_history', False)), RunnableLambda(lambda x: x['input'])\n",
       "| VectorStoreRetriever(tags=['InMemoryVectorStore', 'HuggingFaceEmbeddings'], vectorstore=<langchain_core.vectorstores.in_memory.InMemoryVectorStore object at 0x3f75caee0>, search_kwargs={'k': 5}))], default=ChatPromptTemplate(input_variables=['chat_history', 'input'], input_types={'chat_history': typing.List[typing.Union[langchain_core.messages.ai.AIMessage, langchain_core.messages.human.HumanMessage, langchain_core.messages.chat.ChatMessage, langchain_core.messages.system.SystemMessage, langchain_core.messages.function.FunctionMessage, langchain_core.messages.tool.ToolMessage]]}, messages=[SystemMessagePromptTemplate(prompt=PromptTemplate(input_variables=[], template='Given a chat history and the latest user question which might reference context in the chat history, formulate a standalone question which can be understood without the chat history. Do NOT answer the question, just reformulate it if needed and otherwise return it as is.')), MessagesPlaceholder(variable_name='chat_history'), HumanMessagePromptTemplate(prompt=PromptTemplate(input_variables=['input'], template='{input}'))])\n",
       "| ChatOllama(model='llama3.1', temperature=0.0, _client=<ollama._client.Client object at 0x42fcae040>, _async_client=<ollama._client.AsyncClient object at 0x42fcae220>)\n",
       "| StrOutputParser()\n",
       "| VectorStoreRetriever(tags=['InMemoryVectorStore', 'HuggingFaceEmbeddings'], vectorstore=<langchain_core.vectorstores.in_memory.InMemoryVectorStore object at 0x3f75caee0>, search_kwargs={'k': 5})), config={'run_name': 'chat_retriever_chain'})"
      ]
     },
     "execution_count": 773,
     "metadata": {},
     "output_type": "execute_result"
    }
   ],
   "source": [
    "history_aware_retriever = instantiate_history_aware_retriever(retriever_hf,\"llama3.1\")\n",
    "history_aware_retriever"
   ]
  },
  {
   "cell_type": "code",
   "execution_count": 791,
   "id": "0fa4169c-c9d4-4b74-bf83-5b224b1e9574",
   "metadata": {},
   "outputs": [
    {
     "data": {
      "text/plain": [
       "'for high-dimensional problems, with regards to p and N, in what cases can ridge regression exploit the correlation in the features of the dataset?'"
      ]
     },
     "execution_count": 791,
     "metadata": {},
     "output_type": "execute_result"
    }
   ],
   "source": [
    "sample_query"
   ]
  },
  {
   "cell_type": "code",
   "execution_count": 797,
   "id": "1530024b-7263-40bf-8028-a12df00467c3",
   "metadata": {},
   "outputs": [
    {
     "data": {
      "text/plain": [
       "InMemoryChatMessageHistory(messages=[])"
      ]
     },
     "execution_count": 797,
     "metadata": {},
     "output_type": "execute_result"
    }
   ],
   "source": [
    "# create new session history\n",
    "\n",
    "current_chat_history = get_session_history(\"3\")\n",
    "current_chat_history"
   ]
  },
  {
   "cell_type": "code",
   "execution_count": 799,
   "id": "6ca720a3-a508-4a2b-aa50-37e455ddb683",
   "metadata": {},
   "outputs": [
    {
     "data": {
      "text/plain": [
       "InMemoryChatMessageHistory(messages=[HumanMessage(content='hi do you know about ridge regression being used to exploit the correlation in the features of a dataset?'), AIMessage(content='Yes. What would you like to know about it?')])"
      ]
     },
     "execution_count": 799,
     "metadata": {},
     "output_type": "execute_result"
    }
   ],
   "source": [
    "# add some messages\n",
    "\n",
    "current_chat_history.add_user_message(\"hi do you know about ridge regression being used to exploit the correlation in the features of a dataset?\")\n",
    "current_chat_history.add_ai_message(\"Yes. What would you like to know about it?\")\n",
    "current_chat_history"
   ]
  },
  {
   "cell_type": "code",
   "execution_count": 821,
   "id": "4628d4fe-87d8-450a-b70b-180d409c2378",
   "metadata": {},
   "outputs": [
    {
     "data": {
      "text/plain": [
       "InMemoryChatMessageHistory(messages=[HumanMessage(content='hi do you know about ridge regression being used to exploit the correlation in the features of a dataset?'), AIMessage(content='Yes. What would you like to know about it?')])"
      ]
     },
     "execution_count": 821,
     "metadata": {},
     "output_type": "execute_result"
    }
   ],
   "source": [
    "get_session_history(\"3\")"
   ]
  },
  {
   "cell_type": "code",
   "execution_count": 823,
   "id": "e6ff815a-d265-4bd8-ad64-bde376b1e9a5",
   "metadata": {},
   "outputs": [],
   "source": [
    "def format_chat_history(chat_history):\n",
    "\n",
    "    formatted_chat_history = [\n",
    "        {\"role\": \"human\", \"content\": message.content} if isinstance(message, HumanMessage) else\n",
    "        {\"role\": \"ai\", \"content\": message.content}\n",
    "        for message in chat_history.messages\n",
    "    ]\n",
    "\n",
    "    return formatted_chat_history"
   ]
  },
  {
   "cell_type": "code",
   "execution_count": 825,
   "id": "e1524c37-4e8d-4dbc-8217-da4e7477d64a",
   "metadata": {},
   "outputs": [
    {
     "data": {
      "text/plain": [
       "InMemoryChatMessageHistory(messages=[HumanMessage(content='hi do you know about ridge regression being used to exploit the correlation in the features of a dataset?'), AIMessage(content='Yes. What would you like to know about it?')])"
      ]
     },
     "execution_count": 825,
     "metadata": {},
     "output_type": "execute_result"
    }
   ],
   "source": [
    "get_session_history(\"3\")"
   ]
  },
  {
   "cell_type": "code",
   "execution_count": 827,
   "id": "fa6637a8-5a40-4a52-b1e4-0a7df52eb78d",
   "metadata": {},
   "outputs": [],
   "source": [
    "formatted_chat_history = format_chat_history(get_session_history(\"3\"))"
   ]
  },
  {
   "cell_type": "code",
   "execution_count": 885,
   "id": "8306b31e-9919-410b-9672-0f6bd70a96db",
   "metadata": {
    "scrolled": true
   },
   "outputs": [
    {
     "ename": "AttributeError",
     "evalue": "'dict' object has no attribute 'replace'",
     "output_type": "error",
     "traceback": [
      "\u001b[0;31m---------------------------------------------------------------------------\u001b[0m",
      "\u001b[0;31mAttributeError\u001b[0m                            Traceback (most recent call last)",
      "Cell \u001b[0;32mIn[885], line 1\u001b[0m\n\u001b[0;32m----> 1\u001b[0m d \u001b[38;5;241m=\u001b[39m \u001b[43mretriever_hf\u001b[49m\u001b[38;5;241;43m.\u001b[39;49m\u001b[43minvoke\u001b[49m\u001b[43m(\u001b[49m\n\u001b[1;32m      2\u001b[0m \u001b[43m    \u001b[49m\u001b[43m{\u001b[49m\n\u001b[1;32m      3\u001b[0m \u001b[43m        \u001b[49m\u001b[38;5;124;43m'\u001b[39;49m\u001b[38;5;124;43minput\u001b[39;49m\u001b[38;5;124;43m'\u001b[39;49m\u001b[43m:\u001b[49m\u001b[38;5;124;43m\"\u001b[39;49m\u001b[38;5;124;43mexplain in which cases can ridge regression do it with regards to p and N in high dimensional problems\u001b[39;49m\u001b[38;5;124;43m\"\u001b[39;49m\n\u001b[1;32m      4\u001b[0m \u001b[43m    \u001b[49m\u001b[43m}\u001b[49m\n\u001b[1;32m      5\u001b[0m \u001b[43m)\u001b[49m\n",
      "File \u001b[0;32m~/Library/Python/3.9/lib/python/site-packages/langchain_core/retrievers.py:252\u001b[0m, in \u001b[0;36mBaseRetriever.invoke\u001b[0;34m(self, input, config, **kwargs)\u001b[0m\n\u001b[1;32m    250\u001b[0m \u001b[38;5;28;01mexcept\u001b[39;00m \u001b[38;5;167;01mException\u001b[39;00m \u001b[38;5;28;01mas\u001b[39;00m e:\n\u001b[1;32m    251\u001b[0m     run_manager\u001b[38;5;241m.\u001b[39mon_retriever_error(e)\n\u001b[0;32m--> 252\u001b[0m     \u001b[38;5;28;01mraise\u001b[39;00m e\n\u001b[1;32m    253\u001b[0m \u001b[38;5;28;01melse\u001b[39;00m:\n\u001b[1;32m    254\u001b[0m     run_manager\u001b[38;5;241m.\u001b[39mon_retriever_end(\n\u001b[1;32m    255\u001b[0m         result,\n\u001b[1;32m    256\u001b[0m     )\n",
      "File \u001b[0;32m~/Library/Python/3.9/lib/python/site-packages/langchain_core/retrievers.py:245\u001b[0m, in \u001b[0;36mBaseRetriever.invoke\u001b[0;34m(self, input, config, **kwargs)\u001b[0m\n\u001b[1;32m    243\u001b[0m _kwargs \u001b[38;5;241m=\u001b[39m kwargs \u001b[38;5;28;01mif\u001b[39;00m \u001b[38;5;28mself\u001b[39m\u001b[38;5;241m.\u001b[39m_expects_other_args \u001b[38;5;28;01melse\u001b[39;00m {}\n\u001b[1;32m    244\u001b[0m \u001b[38;5;28;01mif\u001b[39;00m \u001b[38;5;28mself\u001b[39m\u001b[38;5;241m.\u001b[39m_new_arg_supported:\n\u001b[0;32m--> 245\u001b[0m     result \u001b[38;5;241m=\u001b[39m \u001b[38;5;28;43mself\u001b[39;49m\u001b[38;5;241;43m.\u001b[39;49m\u001b[43m_get_relevant_documents\u001b[49m\u001b[43m(\u001b[49m\n\u001b[1;32m    246\u001b[0m \u001b[43m        \u001b[49m\u001b[38;5;28;43minput\u001b[39;49m\u001b[43m,\u001b[49m\u001b[43m \u001b[49m\u001b[43mrun_manager\u001b[49m\u001b[38;5;241;43m=\u001b[39;49m\u001b[43mrun_manager\u001b[49m\u001b[43m,\u001b[49m\u001b[43m \u001b[49m\u001b[38;5;241;43m*\u001b[39;49m\u001b[38;5;241;43m*\u001b[39;49m\u001b[43m_kwargs\u001b[49m\n\u001b[1;32m    247\u001b[0m \u001b[43m    \u001b[49m\u001b[43m)\u001b[49m\n\u001b[1;32m    248\u001b[0m \u001b[38;5;28;01melse\u001b[39;00m:\n\u001b[1;32m    249\u001b[0m     result \u001b[38;5;241m=\u001b[39m \u001b[38;5;28mself\u001b[39m\u001b[38;5;241m.\u001b[39m_get_relevant_documents(\u001b[38;5;28minput\u001b[39m, \u001b[38;5;241m*\u001b[39m\u001b[38;5;241m*\u001b[39m_kwargs)\n",
      "File \u001b[0;32m~/Library/Python/3.9/lib/python/site-packages/langchain_core/vectorstores/base.py:1042\u001b[0m, in \u001b[0;36mVectorStoreRetriever._get_relevant_documents\u001b[0;34m(self, query, run_manager)\u001b[0m\n\u001b[1;32m   1038\u001b[0m \u001b[38;5;28;01mdef\u001b[39;00m \u001b[38;5;21m_get_relevant_documents\u001b[39m(\n\u001b[1;32m   1039\u001b[0m     \u001b[38;5;28mself\u001b[39m, query: \u001b[38;5;28mstr\u001b[39m, \u001b[38;5;241m*\u001b[39m, run_manager: CallbackManagerForRetrieverRun\n\u001b[1;32m   1040\u001b[0m ) \u001b[38;5;241m-\u001b[39m\u001b[38;5;241m>\u001b[39m List[Document]:\n\u001b[1;32m   1041\u001b[0m     \u001b[38;5;28;01mif\u001b[39;00m \u001b[38;5;28mself\u001b[39m\u001b[38;5;241m.\u001b[39msearch_type \u001b[38;5;241m==\u001b[39m \u001b[38;5;124m\"\u001b[39m\u001b[38;5;124msimilarity\u001b[39m\u001b[38;5;124m\"\u001b[39m:\n\u001b[0;32m-> 1042\u001b[0m         docs \u001b[38;5;241m=\u001b[39m \u001b[38;5;28;43mself\u001b[39;49m\u001b[38;5;241;43m.\u001b[39;49m\u001b[43mvectorstore\u001b[49m\u001b[38;5;241;43m.\u001b[39;49m\u001b[43msimilarity_search\u001b[49m\u001b[43m(\u001b[49m\u001b[43mquery\u001b[49m\u001b[43m,\u001b[49m\u001b[43m \u001b[49m\u001b[38;5;241;43m*\u001b[39;49m\u001b[38;5;241;43m*\u001b[39;49m\u001b[38;5;28;43mself\u001b[39;49m\u001b[38;5;241;43m.\u001b[39;49m\u001b[43msearch_kwargs\u001b[49m\u001b[43m)\u001b[49m\n\u001b[1;32m   1043\u001b[0m     \u001b[38;5;28;01melif\u001b[39;00m \u001b[38;5;28mself\u001b[39m\u001b[38;5;241m.\u001b[39msearch_type \u001b[38;5;241m==\u001b[39m \u001b[38;5;124m\"\u001b[39m\u001b[38;5;124msimilarity_score_threshold\u001b[39m\u001b[38;5;124m\"\u001b[39m:\n\u001b[1;32m   1044\u001b[0m         docs_and_similarities \u001b[38;5;241m=\u001b[39m (\n\u001b[1;32m   1045\u001b[0m             \u001b[38;5;28mself\u001b[39m\u001b[38;5;241m.\u001b[39mvectorstore\u001b[38;5;241m.\u001b[39msimilarity_search_with_relevance_scores(\n\u001b[1;32m   1046\u001b[0m                 query, \u001b[38;5;241m*\u001b[39m\u001b[38;5;241m*\u001b[39m\u001b[38;5;28mself\u001b[39m\u001b[38;5;241m.\u001b[39msearch_kwargs\n\u001b[1;32m   1047\u001b[0m             )\n\u001b[1;32m   1048\u001b[0m         )\n",
      "File \u001b[0;32m~/Library/Python/3.9/lib/python/site-packages/langchain_core/vectorstores/in_memory.py:412\u001b[0m, in \u001b[0;36mInMemoryVectorStore.similarity_search\u001b[0;34m(self, query, k, **kwargs)\u001b[0m\n\u001b[1;32m    409\u001b[0m \u001b[38;5;28;01mdef\u001b[39;00m \u001b[38;5;21msimilarity_search\u001b[39m(\n\u001b[1;32m    410\u001b[0m     \u001b[38;5;28mself\u001b[39m, query: \u001b[38;5;28mstr\u001b[39m, k: \u001b[38;5;28mint\u001b[39m \u001b[38;5;241m=\u001b[39m \u001b[38;5;241m4\u001b[39m, \u001b[38;5;241m*\u001b[39m\u001b[38;5;241m*\u001b[39mkwargs: Any\n\u001b[1;32m    411\u001b[0m ) \u001b[38;5;241m-\u001b[39m\u001b[38;5;241m>\u001b[39m List[Document]:\n\u001b[0;32m--> 412\u001b[0m     \u001b[38;5;28;01mreturn\u001b[39;00m [doc \u001b[38;5;28;01mfor\u001b[39;00m doc, _ \u001b[38;5;129;01min\u001b[39;00m \u001b[38;5;28;43mself\u001b[39;49m\u001b[38;5;241;43m.\u001b[39;49m\u001b[43msimilarity_search_with_score\u001b[49m\u001b[43m(\u001b[49m\u001b[43mquery\u001b[49m\u001b[43m,\u001b[49m\u001b[43m \u001b[49m\u001b[43mk\u001b[49m\u001b[43m,\u001b[49m\u001b[43m \u001b[49m\u001b[38;5;241;43m*\u001b[39;49m\u001b[38;5;241;43m*\u001b[39;49m\u001b[43mkwargs\u001b[49m\u001b[43m)\u001b[49m]\n",
      "File \u001b[0;32m~/Library/Python/3.9/lib/python/site-packages/langchain_core/vectorstores/in_memory.py:372\u001b[0m, in \u001b[0;36mInMemoryVectorStore.similarity_search_with_score\u001b[0;34m(self, query, k, **kwargs)\u001b[0m\n\u001b[1;32m    366\u001b[0m \u001b[38;5;28;01mdef\u001b[39;00m \u001b[38;5;21msimilarity_search_with_score\u001b[39m(\n\u001b[1;32m    367\u001b[0m     \u001b[38;5;28mself\u001b[39m,\n\u001b[1;32m    368\u001b[0m     query: \u001b[38;5;28mstr\u001b[39m,\n\u001b[1;32m    369\u001b[0m     k: \u001b[38;5;28mint\u001b[39m \u001b[38;5;241m=\u001b[39m \u001b[38;5;241m4\u001b[39m,\n\u001b[1;32m    370\u001b[0m     \u001b[38;5;241m*\u001b[39m\u001b[38;5;241m*\u001b[39mkwargs: Any,\n\u001b[1;32m    371\u001b[0m ) \u001b[38;5;241m-\u001b[39m\u001b[38;5;241m>\u001b[39m List[Tuple[Document, \u001b[38;5;28mfloat\u001b[39m]]:\n\u001b[0;32m--> 372\u001b[0m     embedding \u001b[38;5;241m=\u001b[39m \u001b[38;5;28;43mself\u001b[39;49m\u001b[38;5;241;43m.\u001b[39;49m\u001b[43membedding\u001b[49m\u001b[38;5;241;43m.\u001b[39;49m\u001b[43membed_query\u001b[49m\u001b[43m(\u001b[49m\u001b[43mquery\u001b[49m\u001b[43m)\u001b[49m\n\u001b[1;32m    373\u001b[0m     docs \u001b[38;5;241m=\u001b[39m \u001b[38;5;28mself\u001b[39m\u001b[38;5;241m.\u001b[39msimilarity_search_with_score_by_vector(\n\u001b[1;32m    374\u001b[0m         embedding,\n\u001b[1;32m    375\u001b[0m         k,\n\u001b[1;32m    376\u001b[0m         \u001b[38;5;241m*\u001b[39m\u001b[38;5;241m*\u001b[39mkwargs,\n\u001b[1;32m    377\u001b[0m     )\n\u001b[1;32m    378\u001b[0m     \u001b[38;5;28;01mreturn\u001b[39;00m docs\n",
      "File \u001b[0;32m~/Library/Python/3.9/lib/python/site-packages/langchain_community/embeddings/huggingface.py:120\u001b[0m, in \u001b[0;36mHuggingFaceEmbeddings.embed_query\u001b[0;34m(self, text)\u001b[0m\n\u001b[1;32m    111\u001b[0m \u001b[38;5;28;01mdef\u001b[39;00m \u001b[38;5;21membed_query\u001b[39m(\u001b[38;5;28mself\u001b[39m, text: \u001b[38;5;28mstr\u001b[39m) \u001b[38;5;241m-\u001b[39m\u001b[38;5;241m>\u001b[39m List[\u001b[38;5;28mfloat\u001b[39m]:\n\u001b[1;32m    112\u001b[0m \u001b[38;5;250m    \u001b[39m\u001b[38;5;124;03m\"\"\"Compute query embeddings using a HuggingFace transformer model.\u001b[39;00m\n\u001b[1;32m    113\u001b[0m \n\u001b[1;32m    114\u001b[0m \u001b[38;5;124;03m    Args:\u001b[39;00m\n\u001b[0;32m   (...)\u001b[0m\n\u001b[1;32m    118\u001b[0m \u001b[38;5;124;03m        Embeddings for the text.\u001b[39;00m\n\u001b[1;32m    119\u001b[0m \u001b[38;5;124;03m    \"\"\"\u001b[39;00m\n\u001b[0;32m--> 120\u001b[0m     \u001b[38;5;28;01mreturn\u001b[39;00m \u001b[38;5;28;43mself\u001b[39;49m\u001b[38;5;241;43m.\u001b[39;49m\u001b[43membed_documents\u001b[49m\u001b[43m(\u001b[49m\u001b[43m[\u001b[49m\u001b[43mtext\u001b[49m\u001b[43m]\u001b[49m\u001b[43m)\u001b[49m[\u001b[38;5;241m0\u001b[39m]\n",
      "File \u001b[0;32m~/Library/Python/3.9/lib/python/site-packages/langchain_community/embeddings/huggingface.py:99\u001b[0m, in \u001b[0;36mHuggingFaceEmbeddings.embed_documents\u001b[0;34m(self, texts)\u001b[0m\n\u001b[1;32m     89\u001b[0m \u001b[38;5;250m\u001b[39m\u001b[38;5;124;03m\"\"\"Compute doc embeddings using a HuggingFace transformer model.\u001b[39;00m\n\u001b[1;32m     90\u001b[0m \n\u001b[1;32m     91\u001b[0m \u001b[38;5;124;03mArgs:\u001b[39;00m\n\u001b[0;32m   (...)\u001b[0m\n\u001b[1;32m     95\u001b[0m \u001b[38;5;124;03m    List of embeddings, one for each text.\u001b[39;00m\n\u001b[1;32m     96\u001b[0m \u001b[38;5;124;03m\"\"\"\u001b[39;00m\n\u001b[1;32m     97\u001b[0m \u001b[38;5;28;01mimport\u001b[39;00m \u001b[38;5;21;01msentence_transformers\u001b[39;00m\n\u001b[0;32m---> 99\u001b[0m texts \u001b[38;5;241m=\u001b[39m \u001b[38;5;28;43mlist\u001b[39;49m\u001b[43m(\u001b[49m\u001b[38;5;28;43mmap\u001b[39;49m\u001b[43m(\u001b[49m\u001b[38;5;28;43;01mlambda\u001b[39;49;00m\u001b[43m \u001b[49m\u001b[43mx\u001b[49m\u001b[43m:\u001b[49m\u001b[43m \u001b[49m\u001b[43mx\u001b[49m\u001b[38;5;241;43m.\u001b[39;49m\u001b[43mreplace\u001b[49m\u001b[43m(\u001b[49m\u001b[38;5;124;43m\"\u001b[39;49m\u001b[38;5;130;43;01m\\n\u001b[39;49;00m\u001b[38;5;124;43m\"\u001b[39;49m\u001b[43m,\u001b[49m\u001b[43m \u001b[49m\u001b[38;5;124;43m\"\u001b[39;49m\u001b[38;5;124;43m \u001b[39;49m\u001b[38;5;124;43m\"\u001b[39;49m\u001b[43m)\u001b[49m\u001b[43m,\u001b[49m\u001b[43m \u001b[49m\u001b[43mtexts\u001b[49m\u001b[43m)\u001b[49m\u001b[43m)\u001b[49m\n\u001b[1;32m    100\u001b[0m \u001b[38;5;28;01mif\u001b[39;00m \u001b[38;5;28mself\u001b[39m\u001b[38;5;241m.\u001b[39mmulti_process:\n\u001b[1;32m    101\u001b[0m     pool \u001b[38;5;241m=\u001b[39m \u001b[38;5;28mself\u001b[39m\u001b[38;5;241m.\u001b[39mclient\u001b[38;5;241m.\u001b[39mstart_multi_process_pool()\n",
      "File \u001b[0;32m~/Library/Python/3.9/lib/python/site-packages/langchain_community/embeddings/huggingface.py:99\u001b[0m, in \u001b[0;36mHuggingFaceEmbeddings.embed_documents.<locals>.<lambda>\u001b[0;34m(x)\u001b[0m\n\u001b[1;32m     89\u001b[0m \u001b[38;5;250m\u001b[39m\u001b[38;5;124;03m\"\"\"Compute doc embeddings using a HuggingFace transformer model.\u001b[39;00m\n\u001b[1;32m     90\u001b[0m \n\u001b[1;32m     91\u001b[0m \u001b[38;5;124;03mArgs:\u001b[39;00m\n\u001b[0;32m   (...)\u001b[0m\n\u001b[1;32m     95\u001b[0m \u001b[38;5;124;03m    List of embeddings, one for each text.\u001b[39;00m\n\u001b[1;32m     96\u001b[0m \u001b[38;5;124;03m\"\"\"\u001b[39;00m\n\u001b[1;32m     97\u001b[0m \u001b[38;5;28;01mimport\u001b[39;00m \u001b[38;5;21;01msentence_transformers\u001b[39;00m\n\u001b[0;32m---> 99\u001b[0m texts \u001b[38;5;241m=\u001b[39m \u001b[38;5;28mlist\u001b[39m(\u001b[38;5;28mmap\u001b[39m(\u001b[38;5;28;01mlambda\u001b[39;00m x: \u001b[43mx\u001b[49m\u001b[38;5;241;43m.\u001b[39;49m\u001b[43mreplace\u001b[49m(\u001b[38;5;124m\"\u001b[39m\u001b[38;5;130;01m\\n\u001b[39;00m\u001b[38;5;124m\"\u001b[39m, \u001b[38;5;124m\"\u001b[39m\u001b[38;5;124m \u001b[39m\u001b[38;5;124m\"\u001b[39m), texts))\n\u001b[1;32m    100\u001b[0m \u001b[38;5;28;01mif\u001b[39;00m \u001b[38;5;28mself\u001b[39m\u001b[38;5;241m.\u001b[39mmulti_process:\n\u001b[1;32m    101\u001b[0m     pool \u001b[38;5;241m=\u001b[39m \u001b[38;5;28mself\u001b[39m\u001b[38;5;241m.\u001b[39mclient\u001b[38;5;241m.\u001b[39mstart_multi_process_pool()\n",
      "\u001b[0;31mAttributeError\u001b[0m: 'dict' object has no attribute 'replace'"
     ]
    }
   ],
   "source": [
    "d = retriever_hf.invoke(\n",
    "    {\n",
    "        'input':\"explain in which cases can ridge regression do it with regards to p and N in high dimensional problems\"\n",
    "    }\n",
    ")"
   ]
  },
  {
   "cell_type": "code",
   "execution_count": null,
   "id": "c8170d76-7708-4aaa-b367-88b3ee6116c7",
   "metadata": {},
   "outputs": [],
   "source": []
  },
  {
   "cell_type": "code",
   "execution_count": 829,
   "id": "6ff17fec-b1a9-491e-bb79-bf60003f4be5",
   "metadata": {},
   "outputs": [
    {
     "data": {
      "text/plain": [
       "[{'role': 'human',\n",
       "  'content': 'hi do you know about ridge regression being used to exploit the correlation in the features of a dataset?'},\n",
       " {'role': 'ai', 'content': 'Yes. What would you like to know about it?'}]"
      ]
     },
     "execution_count": 829,
     "metadata": {},
     "output_type": "execute_result"
    }
   ],
   "source": [
    "formatted_chat_history"
   ]
  },
  {
   "cell_type": "code",
   "execution_count": 835,
   "id": "0b0abf93-ee24-4140-b6e2-b0ab23402747",
   "metadata": {},
   "outputs": [],
   "source": [
    "retrieved_documents = history_aware_retriever.invoke(\n",
    "    {\n",
    "        'chat_history':formatted_chat_history,\n",
    "        'input':\"explain in which cases can ridge regression do it with regards to p and N in high dimensional problems\"\n",
    "    }\n",
    ")"
   ]
  },
  {
   "cell_type": "code",
   "execution_count": 836,
   "id": "e485a0d1-ff2c-42c6-84fa-94b52d4c38c6",
   "metadata": {},
   "outputs": [
    {
     "data": {
      "text/plain": [
       "[Document(id='8138d844-2c06-4f04-8c21-011fc2301673', metadata={'source': '/Users/I748920/Desktop/llms-learning/pdf-chatbot-app/data/short-elements-of-statistical-learning-book/chap18.pdf', 'page': 2, 'start_index': 397}, page_content='using the optimal ridge parameter in each of the three cases, the median\\nvalue of|tj|was 2.0, 0.6 and 0.2, and the average number of |tj|values\\nexceeding 2 was equal to 9.8, 1.2 and 0.0.\\nRidge regression with λ= 0.001 successfully exploits the correlation in\\nthe features when p<N, but cannot do so when p≫N. In the latter case\\nthere is not enough information in the relatively small numb er of samples\\nto eﬃciently estimate the high-dimensional covariance mat rix. In that case,'),\n",
       " Document(id='0717ee14-b5bb-457b-9cde-e239d5292f2e', metadata={'source': '/Users/I748920/Desktop/llms-learning/pdf-chatbot-app/data/short-elements-of-statistical-learning-book/chap18.pdf', 'page': 1, 'start_index': 368}, page_content='ofp, the number of features. The relative error is the test error d ivided by the\\nBayes error, σ2. From left to right, results are shown for ridge regression wit h\\nthree diﬀerent values of the regularization parameter λ:0.001,100and1000. The\\n(average) eﬀective degrees of freedom in the ﬁt is indicated below each plot.\\nvariate regression coeﬃcients1was 9, 33 and 331, respectively, averaged\\nover the 100 simulation runs. The p= 1000 case is designed to mimic the'),\n",
       " Document(id='accd314f-88d7-4864-ad31-8f4ecb55e0a1', metadata={'source': '/Users/I748920/Desktop/llms-learning/pdf-chatbot-app/data/short-elements-of-statistical-learning-book/chap18.pdf', 'page': 1, 'start_index': 1150}, page_content='just to ensure that the problem is non-singular when p > N. Figure 18.1\\nshows boxplots oftherelative testerrorachieved bythediﬀ erentestimators\\nin each scenario. The corresponding average degrees of free dom used in\\neach ridge-regression ﬁt is indicated (computed using form ula (3.50) on\\npage 682). The degrees of freedom is a more interpretable parameter t han\\nλ. We see that ridge regression with λ= 0.001 (20 df) wins when p= 20;\\nλ= 100 (35 df) wins when p= 100, and λ= 1000 (43 df) wins when'),\n",
       " Document(id='33217a7b-6db9-4860-8636-442483677a1e', metadata={'source': '/Users/I748920/Desktop/llms-learning/pdf-chatbot-app/data/short-elements-of-statistical-learning-book/chap18.pdf', 'page': 1, 'start_index': 760}, page_content='over the 100 simulation runs. The p= 1000 case is designed to mimic the\\nkind of data that we might see in a high-dimensional genomic o r proteomic\\ndataset, for example.\\nWe ﬁt a ridge regression to the data, with three diﬀerent valu es for the\\nregularization parameter λ: 0.001, 100, and 1000. When λ= 0.001, this\\nis nearly the same as least squares regression, with a little regularization\\njust to ensure that the problem is non-singular when p > N. Figure 18.1'),\n",
       " Document(id='cf020997-d8e9-46f4-8cc3-46930d9cd496', metadata={'source': '/Users/I748920/Desktop/llms-learning/pdf-chatbot-app/data/short-elements-of-statistical-learning-book/chap18.pdf', 'page': 2, 'start_index': 800}, page_content='to eﬃciently estimate the high-dimensional covariance mat rix. In that case,\\nmore regularization leads to superior prediction performa nce.\\nThus it is not surprising that the analysis of high-dimensio nal data re-\\nquires either modiﬁcation of procedures designed for the N >pscenario, or\\nentirely new procedures. In this chapter we discuss example s of both kinds\\nofapproachesforhighdimensionalclassiﬁcationandregre ssion;thesemeth-')]"
      ]
     },
     "execution_count": 836,
     "metadata": {},
     "output_type": "execute_result"
    }
   ],
   "source": [
    "retrieved_documents"
   ]
  },
  {
   "cell_type": "code",
   "execution_count": 839,
   "id": "9e1cb3d6-696f-4529-89e0-8fb5085612da",
   "metadata": {
    "scrolled": true
   },
   "outputs": [
    {
     "name": "stdout",
     "output_type": "stream",
     "text": [
      "The sky appears blue to us because of a phenomenon called Rayleigh scattering, named after the British physicist Lord Rayleigh who first described it in the late 19th century. This process involves the interaction between sunlight and the tiny molecules of gases in the Earth's atmosphere.\n",
      "\n",
      "Here's what happens:\n",
      "\n",
      "1. **Sunlight enters the atmosphere**: When sunlight (which is white) enters the Earth's atmosphere, it encounters a huge number of tiny molecules of gases like nitrogen (N2), oxygen (O2), carbon dioxide (CO2), and others.\n",
      "2. **Scattering occurs**: These gas molecules are so small that they scatter the light in all directions, but with a preference for shorter (blue) wavelengths over longer (red) wavelengths. This scattering effect is more pronounced for blue light because it has a shorter wavelength than red light.\n",
      "3. **Blue light reaches our eyes**: As the scattered sunlight travels through the atmosphere, more of the shorter (blue) wavelengths are directed towards the Earth's surface and reach our eyes.\n",
      "\n",
      "There are several factors that contribute to the sky appearing blue:\n",
      "\n",
      "* **Scattering efficiency**: The scattering effect is more efficient for smaller molecules like nitrogen and oxygen.\n",
      "* **Atmospheric conditions**: On a clear day, with little air pollution or dust in the atmosphere, the sky tends to appear even bluer because there's less of anything else to scatter light.\n",
      "* **Time of day**: At sunrise and sunset, when the sun is lower on the horizon, the light travels through more of the Earth's atmosphere. This longer path causes more scattering, making the sky appear more red or orange due to the dominance of longer (red) wavelengths.\n",
      "\n",
      "In summary, the blue color we see in the sky is a result of Rayleigh scattering by tiny gas molecules in the atmosphere, which preferentially scatter shorter (blue) wavelengths of light towards our eyes."
     ]
    }
   ],
   "source": [
    "# sample ollama usage\n",
    "import ollama\n",
    "\n",
    "stream = ollama.chat(\n",
    "    model='llama3.1',\n",
    "    messages=[{'role': 'user', 'content': 'Why is the sky blue?'}],\n",
    "    stream=True,\n",
    ")\n",
    "\n",
    "for chunk in stream:\n",
    "  print(chunk['message']['content'], end='', flush=True)"
   ]
  },
  {
   "cell_type": "code",
   "execution_count": 845,
   "id": "6229b15c-983e-4151-a682-0bbb2539dab8",
   "metadata": {},
   "outputs": [
    {
     "data": {
      "text/plain": [
       "[{'role': 'human',\n",
       "  'content': 'hi do you know about ridge regression being used to exploit the correlation in the features of a dataset?'},\n",
       " {'role': 'ai', 'content': 'Yes. What would you like to know about it?'}]"
      ]
     },
     "execution_count": 845,
     "metadata": {},
     "output_type": "execute_result"
    }
   ],
   "source": [
    "formatted_chat_history"
   ]
  },
  {
   "cell_type": "code",
   "execution_count": 847,
   "id": "c614260f-782f-43f8-b980-47edd83c7bc3",
   "metadata": {},
   "outputs": [
    {
     "data": {
      "text/plain": [
       "[Document(id='8138d844-2c06-4f04-8c21-011fc2301673', metadata={'source': '/Users/I748920/Desktop/llms-learning/pdf-chatbot-app/data/short-elements-of-statistical-learning-book/chap18.pdf', 'page': 2, 'start_index': 397}, page_content='using the optimal ridge parameter in each of the three cases, the median\\nvalue of|tj|was 2.0, 0.6 and 0.2, and the average number of |tj|values\\nexceeding 2 was equal to 9.8, 1.2 and 0.0.\\nRidge regression with λ= 0.001 successfully exploits the correlation in\\nthe features when p<N, but cannot do so when p≫N. In the latter case\\nthere is not enough information in the relatively small numb er of samples\\nto eﬃciently estimate the high-dimensional covariance mat rix. In that case,'),\n",
       " Document(id='0717ee14-b5bb-457b-9cde-e239d5292f2e', metadata={'source': '/Users/I748920/Desktop/llms-learning/pdf-chatbot-app/data/short-elements-of-statistical-learning-book/chap18.pdf', 'page': 1, 'start_index': 368}, page_content='ofp, the number of features. The relative error is the test error d ivided by the\\nBayes error, σ2. From left to right, results are shown for ridge regression wit h\\nthree diﬀerent values of the regularization parameter λ:0.001,100and1000. The\\n(average) eﬀective degrees of freedom in the ﬁt is indicated below each plot.\\nvariate regression coeﬃcients1was 9, 33 and 331, respectively, averaged\\nover the 100 simulation runs. The p= 1000 case is designed to mimic the'),\n",
       " Document(id='accd314f-88d7-4864-ad31-8f4ecb55e0a1', metadata={'source': '/Users/I748920/Desktop/llms-learning/pdf-chatbot-app/data/short-elements-of-statistical-learning-book/chap18.pdf', 'page': 1, 'start_index': 1150}, page_content='just to ensure that the problem is non-singular when p > N. Figure 18.1\\nshows boxplots oftherelative testerrorachieved bythediﬀ erentestimators\\nin each scenario. The corresponding average degrees of free dom used in\\neach ridge-regression ﬁt is indicated (computed using form ula (3.50) on\\npage 682). The degrees of freedom is a more interpretable parameter t han\\nλ. We see that ridge regression with λ= 0.001 (20 df) wins when p= 20;\\nλ= 100 (35 df) wins when p= 100, and λ= 1000 (43 df) wins when'),\n",
       " Document(id='33217a7b-6db9-4860-8636-442483677a1e', metadata={'source': '/Users/I748920/Desktop/llms-learning/pdf-chatbot-app/data/short-elements-of-statistical-learning-book/chap18.pdf', 'page': 1, 'start_index': 760}, page_content='over the 100 simulation runs. The p= 1000 case is designed to mimic the\\nkind of data that we might see in a high-dimensional genomic o r proteomic\\ndataset, for example.\\nWe ﬁt a ridge regression to the data, with three diﬀerent valu es for the\\nregularization parameter λ: 0.001, 100, and 1000. When λ= 0.001, this\\nis nearly the same as least squares regression, with a little regularization\\njust to ensure that the problem is non-singular when p > N. Figure 18.1'),\n",
       " Document(id='cf020997-d8e9-46f4-8cc3-46930d9cd496', metadata={'source': '/Users/I748920/Desktop/llms-learning/pdf-chatbot-app/data/short-elements-of-statistical-learning-book/chap18.pdf', 'page': 2, 'start_index': 800}, page_content='to eﬃciently estimate the high-dimensional covariance mat rix. In that case,\\nmore regularization leads to superior prediction performa nce.\\nThus it is not surprising that the analysis of high-dimensio nal data re-\\nquires either modiﬁcation of procedures designed for the N >pscenario, or\\nentirely new procedures. In this chapter we discuss example s of both kinds\\nofapproachesforhighdimensionalclassiﬁcationandregre ssion;thesemeth-')]"
      ]
     },
     "execution_count": 847,
     "metadata": {},
     "output_type": "execute_result"
    }
   ],
   "source": [
    "retrieved_documents"
   ]
  },
  {
   "cell_type": "markdown",
   "id": "d2e7a8c9-f542-48da-b3bf-5e5ccf149697",
   "metadata": {},
   "source": [
    "do some prompt engineering for the system prompt to take as input the chat history and the retrieved contexts"
   ]
  },
  {
   "cell_type": "code",
   "execution_count": 871,
   "id": "adbbafd8-ccb5-4843-9760-51631f552328",
   "metadata": {},
   "outputs": [],
   "source": [
    "# import ollama\n",
    "\n",
    "def manual_rag_with_ollama(retrieved_documents,formatted_chat_history,input_query, ollama_model_name=\"llama3.1\"):\n",
    "    \"\"\"\n",
    "    Manually performs RAG using retrieved documents from  history-aware-retriever and streams results from the Ollama model.\n",
    "    \n",
    "    Args:\n",
    "        session_id (str): The session ID to fetch chat history.\n",
    "        input_query (str): The user's input query.\n",
    "        history_aware_retriever: The retriever to get relevant documents.\n",
    "        ollama_model_name (str): The name of the Ollama model to use.\n",
    "    \"\"\"\n",
    "    \n",
    "    # Step 2: Format the retrieved documents as context\n",
    "    retrieved_contexts = \"\\n\\n\".join([doc.page_content for doc in retrieved_documents])\n",
    "    \n",
    "    # Step 3: Create a prompt that integrates the retrieved context and input query\n",
    "    prompt = (\n",
    "        f\"You are an assistant for question-answering tasks. You must reference information from the retrieved_contexts to answer the input_query. \"\n",
    "        f\"You must also reference the formatted_chat_history to take into account conversation flow and to ensure that the response is relevant to both the current query and prior conversation. \"\n",
    "        f\"Use five sentences maximum and keep the answer concise. \"\n",
    "        \"\\n\\n\"\n",
    "        f\"retrieved_contexts: \\n{retrieved_contexts}\"\n",
    "        \"\\n\\n\"\n",
    "        f\"formatted_chat_history: \\n{formatted_chat_history}\"\n",
    "        \"\\n\\n\"\n",
    "        f\"input_query: \\n{input_query}\"\n",
    "    )\n",
    "\n",
    "    # Step 4: Pass the prompt to the Ollama LLM and stream the response\n",
    "    print(\"Streaming response from Ollama...\")\n",
    "\n",
    "    stream = ollama.chat(\n",
    "        model=ollama_model_name,\n",
    "        messages=[{'role': 'user', 'content': prompt}],\n",
    "        stream=True\n",
    "    )\n",
    "\n",
    "    # Stream and display the output from Ollama as it generates\n",
    "    for chunk in stream:\n",
    "        print(chunk['message']['content'], end='', flush=True)\n"
   ]
  },
  {
   "cell_type": "code",
   "execution_count": 873,
   "id": "ab90fd06-8dce-419c-a423-46ab76aa5e70",
   "metadata": {
    "scrolled": true
   },
   "outputs": [
    {
     "data": {
      "text/plain": [
       "[Document(id='8138d844-2c06-4f04-8c21-011fc2301673', metadata={'source': '/Users/I748920/Desktop/llms-learning/pdf-chatbot-app/data/short-elements-of-statistical-learning-book/chap18.pdf', 'page': 2, 'start_index': 397}, page_content='using the optimal ridge parameter in each of the three cases, the median\\nvalue of|tj|was 2.0, 0.6 and 0.2, and the average number of |tj|values\\nexceeding 2 was equal to 9.8, 1.2 and 0.0.\\nRidge regression with λ= 0.001 successfully exploits the correlation in\\nthe features when p<N, but cannot do so when p≫N. In the latter case\\nthere is not enough information in the relatively small numb er of samples\\nto eﬃciently estimate the high-dimensional covariance mat rix. In that case,'),\n",
       " Document(id='0717ee14-b5bb-457b-9cde-e239d5292f2e', metadata={'source': '/Users/I748920/Desktop/llms-learning/pdf-chatbot-app/data/short-elements-of-statistical-learning-book/chap18.pdf', 'page': 1, 'start_index': 368}, page_content='ofp, the number of features. The relative error is the test error d ivided by the\\nBayes error, σ2. From left to right, results are shown for ridge regression wit h\\nthree diﬀerent values of the regularization parameter λ:0.001,100and1000. The\\n(average) eﬀective degrees of freedom in the ﬁt is indicated below each plot.\\nvariate regression coeﬃcients1was 9, 33 and 331, respectively, averaged\\nover the 100 simulation runs. The p= 1000 case is designed to mimic the'),\n",
       " Document(id='accd314f-88d7-4864-ad31-8f4ecb55e0a1', metadata={'source': '/Users/I748920/Desktop/llms-learning/pdf-chatbot-app/data/short-elements-of-statistical-learning-book/chap18.pdf', 'page': 1, 'start_index': 1150}, page_content='just to ensure that the problem is non-singular when p > N. Figure 18.1\\nshows boxplots oftherelative testerrorachieved bythediﬀ erentestimators\\nin each scenario. The corresponding average degrees of free dom used in\\neach ridge-regression ﬁt is indicated (computed using form ula (3.50) on\\npage 682). The degrees of freedom is a more interpretable parameter t han\\nλ. We see that ridge regression with λ= 0.001 (20 df) wins when p= 20;\\nλ= 100 (35 df) wins when p= 100, and λ= 1000 (43 df) wins when'),\n",
       " Document(id='33217a7b-6db9-4860-8636-442483677a1e', metadata={'source': '/Users/I748920/Desktop/llms-learning/pdf-chatbot-app/data/short-elements-of-statistical-learning-book/chap18.pdf', 'page': 1, 'start_index': 760}, page_content='over the 100 simulation runs. The p= 1000 case is designed to mimic the\\nkind of data that we might see in a high-dimensional genomic o r proteomic\\ndataset, for example.\\nWe ﬁt a ridge regression to the data, with three diﬀerent valu es for the\\nregularization parameter λ: 0.001, 100, and 1000. When λ= 0.001, this\\nis nearly the same as least squares regression, with a little regularization\\njust to ensure that the problem is non-singular when p > N. Figure 18.1'),\n",
       " Document(id='cf020997-d8e9-46f4-8cc3-46930d9cd496', metadata={'source': '/Users/I748920/Desktop/llms-learning/pdf-chatbot-app/data/short-elements-of-statistical-learning-book/chap18.pdf', 'page': 2, 'start_index': 800}, page_content='to eﬃciently estimate the high-dimensional covariance mat rix. In that case,\\nmore regularization leads to superior prediction performa nce.\\nThus it is not surprising that the analysis of high-dimensio nal data re-\\nquires either modiﬁcation of procedures designed for the N >pscenario, or\\nentirely new procedures. In this chapter we discuss example s of both kinds\\nofapproachesforhighdimensionalclassiﬁcationandregre ssion;thesemeth-')]"
      ]
     },
     "execution_count": 873,
     "metadata": {},
     "output_type": "execute_result"
    }
   ],
   "source": [
    "retrieved_documents"
   ]
  },
  {
   "cell_type": "code",
   "execution_count": 875,
   "id": "05a0f26c-556a-4b98-a626-08bbe0e0e56b",
   "metadata": {},
   "outputs": [
    {
     "data": {
      "text/plain": [
       "[{'role': 'human',\n",
       "  'content': 'hi do you know about ridge regression being used to exploit the correlation in the features of a dataset?'},\n",
       " {'role': 'ai', 'content': 'Yes. What would you like to know about it?'}]"
      ]
     },
     "execution_count": 875,
     "metadata": {},
     "output_type": "execute_result"
    }
   ],
   "source": [
    "formatted_chat_history"
   ]
  },
  {
   "cell_type": "code",
   "execution_count": 877,
   "id": "7181e7ea-a33a-471b-a770-a8ca21ccec4c",
   "metadata": {},
   "outputs": [],
   "source": [
    "input_query = \"explain in which cases can ridge regression do it with regards to p and N in high dimensional problems\""
   ]
  },
  {
   "cell_type": "code",
   "execution_count": 879,
   "id": "14bc0d48-1e19-4270-91dd-265e03b645d1",
   "metadata": {},
   "outputs": [
    {
     "name": "stdout",
     "output_type": "stream",
     "text": [
      "Streaming response from Ollama...\n",
      "In high-dimensional problems, Ridge regression can exploit the correlation in features when `p` (number of features) is less than `N` (number of samples). However, when `p > N`, there's not enough information to estimate the high-dimensional covariance matrix efficiently. In this case, more regularization leads to superior prediction performance.\n",
      "\n",
      "(This answer references the retrieved_contexts and formatted_chat_history: the former provides the relevant information about Ridge regression in high-dimensional problems, while the latter shows that we were previously discussing the same topic.)"
     ]
    }
   ],
   "source": [
    "prompt = manual_rag_with_ollama(retrieved_documents,formatted_chat_history,input_query)\n",
    "# print(prompt)"
   ]
  },
  {
   "cell_type": "code",
   "execution_count": 881,
   "id": "4ceef2b3-2d7b-41e3-afaf-e94ee96f1684",
   "metadata": {},
   "outputs": [
    {
     "name": "stdout",
     "output_type": "stream",
     "text": [
      "Streaming response from Ollama...\n",
      "Based on our previous conversation, I recall that ridge regression successfully exploits the correlation in features when p < N, but struggles to do so when p >> N. This is because there's not enough information in the small number of samples to efficiently estimate the high-dimensional covariance matrix.\n",
      "\n",
      "In the latter case (p > N), more regularization leads to superior prediction performance. So, ridge regression can only exploit correlation effectively in low-dimensional settings where N ≥ p.\n",
      "\n",
      "Does that clarify things?"
     ]
    }
   ],
   "source": [
    "prompt = manual_rag_with_ollama(retrieved_documents,formatted_chat_history,input_query)\n",
    "# print(prompt)"
   ]
  },
  {
   "cell_type": "code",
   "execution_count": 883,
   "id": "3cad3f61-4c10-4f9c-883e-ebc67ab2d847",
   "metadata": {},
   "outputs": [
    {
     "data": {
      "text/plain": [
       "InMemoryChatMessageHistory(messages=[HumanMessage(content='hi do you know about ridge regression being used to exploit the correlation in the features of a dataset?'), AIMessage(content='Yes. What would you like to know about it?')])"
      ]
     },
     "execution_count": 883,
     "metadata": {},
     "output_type": "execute_result"
    }
   ],
   "source": [
    "get_session_history(\"3\")"
   ]
  },
  {
   "cell_type": "code",
   "execution_count": null,
   "id": "91d6a7aa-7162-402d-85f1-dc465b72e3cd",
   "metadata": {},
   "outputs": [],
   "source": []
  },
  {
   "cell_type": "code",
   "execution_count": null,
   "id": "1305393f-8909-4ddb-9cae-a6eeff3e875f",
   "metadata": {},
   "outputs": [],
   "source": []
  },
  {
   "cell_type": "code",
   "execution_count": 887,
   "id": "afac211e-5865-405b-81f8-0eab0e0952ca",
   "metadata": {},
   "outputs": [],
   "source": [
    "def format_chat_history(chat_history):\n",
    "    \"\"\"\n",
    "    this function assumes that chat_history is not empty \n",
    "    since empty chat_history at the start of the conversation is dealt separately in the main function.\n",
    "    \"\"\"\n",
    "\n",
    "    formatted_chat_history = [\n",
    "        {\"role\": \"human\", \"content\": message.content} if isinstance(message, HumanMessage) else\n",
    "        {\"role\": \"ai\", \"content\": message.content}\n",
    "        for message in chat_history.messages\n",
    "    ]\n",
    "\n",
    "    return formatted_chat_history"
   ]
  },
  {
   "cell_type": "code",
   "execution_count": 889,
   "id": "4604c06b-21c7-48a7-9fb0-157fd2627662",
   "metadata": {},
   "outputs": [
    {
     "ename": "AttributeError",
     "evalue": "'list' object has no attribute 'messages'",
     "output_type": "error",
     "traceback": [
      "\u001b[0;31m---------------------------------------------------------------------------\u001b[0m",
      "\u001b[0;31mAttributeError\u001b[0m                            Traceback (most recent call last)",
      "Cell \u001b[0;32mIn[889], line 1\u001b[0m\n\u001b[0;32m----> 1\u001b[0m \u001b[43mformat_chat_history\u001b[49m\u001b[43m(\u001b[49m\u001b[43m[\u001b[49m\u001b[43m]\u001b[49m\u001b[43m)\u001b[49m\n",
      "Cell \u001b[0;32mIn[887], line 10\u001b[0m, in \u001b[0;36mformat_chat_history\u001b[0;34m(chat_history)\u001b[0m\n\u001b[1;32m      1\u001b[0m \u001b[38;5;28;01mdef\u001b[39;00m \u001b[38;5;21mformat_chat_history\u001b[39m(chat_history):\n\u001b[1;32m      2\u001b[0m \u001b[38;5;250m    \u001b[39m\u001b[38;5;124;03m\"\"\"\u001b[39;00m\n\u001b[1;32m      3\u001b[0m \u001b[38;5;124;03m    this function assumes that chat_history is not empty \u001b[39;00m\n\u001b[1;32m      4\u001b[0m \u001b[38;5;124;03m    since empty chat_history at the start of the conversation is dealt separately in the main function.\u001b[39;00m\n\u001b[1;32m      5\u001b[0m \u001b[38;5;124;03m    \"\"\"\u001b[39;00m\n\u001b[1;32m      7\u001b[0m     formatted_chat_history \u001b[38;5;241m=\u001b[39m [\n\u001b[1;32m      8\u001b[0m         {\u001b[38;5;124m\"\u001b[39m\u001b[38;5;124mrole\u001b[39m\u001b[38;5;124m\"\u001b[39m: \u001b[38;5;124m\"\u001b[39m\u001b[38;5;124mhuman\u001b[39m\u001b[38;5;124m\"\u001b[39m, \u001b[38;5;124m\"\u001b[39m\u001b[38;5;124mcontent\u001b[39m\u001b[38;5;124m\"\u001b[39m: message\u001b[38;5;241m.\u001b[39mcontent} \u001b[38;5;28;01mif\u001b[39;00m \u001b[38;5;28misinstance\u001b[39m(message, HumanMessage) \u001b[38;5;28;01melse\u001b[39;00m\n\u001b[1;32m      9\u001b[0m         {\u001b[38;5;124m\"\u001b[39m\u001b[38;5;124mrole\u001b[39m\u001b[38;5;124m\"\u001b[39m: \u001b[38;5;124m\"\u001b[39m\u001b[38;5;124mai\u001b[39m\u001b[38;5;124m\"\u001b[39m, \u001b[38;5;124m\"\u001b[39m\u001b[38;5;124mcontent\u001b[39m\u001b[38;5;124m\"\u001b[39m: message\u001b[38;5;241m.\u001b[39mcontent}\n\u001b[0;32m---> 10\u001b[0m         \u001b[38;5;28;01mfor\u001b[39;00m message \u001b[38;5;129;01min\u001b[39;00m \u001b[43mchat_history\u001b[49m\u001b[38;5;241;43m.\u001b[39;49m\u001b[43mmessages\u001b[49m\n\u001b[1;32m     11\u001b[0m     ]\n\u001b[1;32m     13\u001b[0m     \u001b[38;5;28;01mreturn\u001b[39;00m formatted_chat_history\n",
      "\u001b[0;31mAttributeError\u001b[0m: 'list' object has no attribute 'messages'"
     ]
    }
   ],
   "source": [
    "format_chat_history([])"
   ]
  },
  {
   "cell_type": "code",
   "execution_count": 891,
   "id": "acc07057-d349-4272-8537-4274adc738d5",
   "metadata": {},
   "outputs": [],
   "source": [
    "retrieved_documents = history_aware_retriever.invoke(\n",
    "    {\n",
    "        'chat_history':formatted_chat_history,\n",
    "        'input':\"explain in which cases can ridge regression do it with regards to p and N in high dimensional problems\"\n",
    "    }\n",
    ")"
   ]
  },
  {
   "cell_type": "code",
   "execution_count": 892,
   "id": "e11c8df2-96ff-46f3-9481-e569be2a43f1",
   "metadata": {},
   "outputs": [
    {
     "data": {
      "text/plain": [
       "[Document(id='8138d844-2c06-4f04-8c21-011fc2301673', metadata={'source': '/Users/I748920/Desktop/llms-learning/pdf-chatbot-app/data/short-elements-of-statistical-learning-book/chap18.pdf', 'page': 2, 'start_index': 397}, page_content='using the optimal ridge parameter in each of the three cases, the median\\nvalue of|tj|was 2.0, 0.6 and 0.2, and the average number of |tj|values\\nexceeding 2 was equal to 9.8, 1.2 and 0.0.\\nRidge regression with λ= 0.001 successfully exploits the correlation in\\nthe features when p<N, but cannot do so when p≫N. In the latter case\\nthere is not enough information in the relatively small numb er of samples\\nto eﬃciently estimate the high-dimensional covariance mat rix. In that case,'),\n",
       " Document(id='0717ee14-b5bb-457b-9cde-e239d5292f2e', metadata={'source': '/Users/I748920/Desktop/llms-learning/pdf-chatbot-app/data/short-elements-of-statistical-learning-book/chap18.pdf', 'page': 1, 'start_index': 368}, page_content='ofp, the number of features. The relative error is the test error d ivided by the\\nBayes error, σ2. From left to right, results are shown for ridge regression wit h\\nthree diﬀerent values of the regularization parameter λ:0.001,100and1000. The\\n(average) eﬀective degrees of freedom in the ﬁt is indicated below each plot.\\nvariate regression coeﬃcients1was 9, 33 and 331, respectively, averaged\\nover the 100 simulation runs. The p= 1000 case is designed to mimic the'),\n",
       " Document(id='accd314f-88d7-4864-ad31-8f4ecb55e0a1', metadata={'source': '/Users/I748920/Desktop/llms-learning/pdf-chatbot-app/data/short-elements-of-statistical-learning-book/chap18.pdf', 'page': 1, 'start_index': 1150}, page_content='just to ensure that the problem is non-singular when p > N. Figure 18.1\\nshows boxplots oftherelative testerrorachieved bythediﬀ erentestimators\\nin each scenario. The corresponding average degrees of free dom used in\\neach ridge-regression ﬁt is indicated (computed using form ula (3.50) on\\npage 682). The degrees of freedom is a more interpretable parameter t han\\nλ. We see that ridge regression with λ= 0.001 (20 df) wins when p= 20;\\nλ= 100 (35 df) wins when p= 100, and λ= 1000 (43 df) wins when'),\n",
       " Document(id='33217a7b-6db9-4860-8636-442483677a1e', metadata={'source': '/Users/I748920/Desktop/llms-learning/pdf-chatbot-app/data/short-elements-of-statistical-learning-book/chap18.pdf', 'page': 1, 'start_index': 760}, page_content='over the 100 simulation runs. The p= 1000 case is designed to mimic the\\nkind of data that we might see in a high-dimensional genomic o r proteomic\\ndataset, for example.\\nWe ﬁt a ridge regression to the data, with three diﬀerent valu es for the\\nregularization parameter λ: 0.001, 100, and 1000. When λ= 0.001, this\\nis nearly the same as least squares regression, with a little regularization\\njust to ensure that the problem is non-singular when p > N. Figure 18.1'),\n",
       " Document(id='cf020997-d8e9-46f4-8cc3-46930d9cd496', metadata={'source': '/Users/I748920/Desktop/llms-learning/pdf-chatbot-app/data/short-elements-of-statistical-learning-book/chap18.pdf', 'page': 2, 'start_index': 800}, page_content='to eﬃciently estimate the high-dimensional covariance mat rix. In that case,\\nmore regularization leads to superior prediction performa nce.\\nThus it is not surprising that the analysis of high-dimensio nal data re-\\nquires either modiﬁcation of procedures designed for the N >pscenario, or\\nentirely new procedures. In this chapter we discuss example s of both kinds\\nofapproachesforhighdimensionalclassiﬁcationandregre ssion;thesemeth-')]"
      ]
     },
     "execution_count": 892,
     "metadata": {},
     "output_type": "execute_result"
    }
   ],
   "source": [
    "retrieved_documents"
   ]
  },
  {
   "cell_type": "code",
   "execution_count": 903,
   "id": "582d043b-9f87-4863-8635-09a51613fa88",
   "metadata": {},
   "outputs": [],
   "source": [
    "retrieved_documents = history_aware_retriever.invoke(\n",
    "    {\n",
    "        'chat_history':[],\n",
    "        'input':\"explain in which cases can ridge regression do it with regards to p and N in high dimensional problems\"\n",
    "    }\n",
    ")"
   ]
  },
  {
   "cell_type": "code",
   "execution_count": 905,
   "id": "359b1997-c8fe-4414-92f7-911eb1fa3e99",
   "metadata": {},
   "outputs": [
    {
     "data": {
      "text/plain": [
       "[Document(id='33217a7b-6db9-4860-8636-442483677a1e', metadata={'source': '/Users/I748920/Desktop/llms-learning/pdf-chatbot-app/data/short-elements-of-statistical-learning-book/chap18.pdf', 'page': 1, 'start_index': 760}, page_content='over the 100 simulation runs. The p= 1000 case is designed to mimic the\\nkind of data that we might see in a high-dimensional genomic o r proteomic\\ndataset, for example.\\nWe ﬁt a ridge regression to the data, with three diﬀerent valu es for the\\nregularization parameter λ: 0.001, 100, and 1000. When λ= 0.001, this\\nis nearly the same as least squares regression, with a little regularization\\njust to ensure that the problem is non-singular when p > N. Figure 18.1'),\n",
       " Document(id='accd314f-88d7-4864-ad31-8f4ecb55e0a1', metadata={'source': '/Users/I748920/Desktop/llms-learning/pdf-chatbot-app/data/short-elements-of-statistical-learning-book/chap18.pdf', 'page': 1, 'start_index': 1150}, page_content='just to ensure that the problem is non-singular when p > N. Figure 18.1\\nshows boxplots oftherelative testerrorachieved bythediﬀ erentestimators\\nin each scenario. The corresponding average degrees of free dom used in\\neach ridge-regression ﬁt is indicated (computed using form ula (3.50) on\\npage 682). The degrees of freedom is a more interpretable parameter t han\\nλ. We see that ridge regression with λ= 0.001 (20 df) wins when p= 20;\\nλ= 100 (35 df) wins when p= 100, and λ= 1000 (43 df) wins when'),\n",
       " Document(id='c69fa692-b60d-4d42-95c1-e56ea9011615', metadata={'source': '/Users/I748920/Desktop/llms-learning/pdf-chatbot-app/data/short-elements-of-statistical-learning-book/chap18.pdf', 'page': 10, 'start_index': 1944}, page_content='shown to equal\\nˆβ=V(RTR+λI)−1RTy (18.15)\\n(Exercise 18.4). Thus ˆβ=Vˆθ, where ˆθis the ridge-regression estimate\\nusing theNobservations ( ri,yi),i= 1,2,...,N. In other words, we can\\nsimply reduce the data matrix from XtoR, and work with the rows of\\nR. This trick reduces the computational cost from O(p3) toO(pN2) when\\np>N.'),\n",
       " Document(id='8138d844-2c06-4f04-8c21-011fc2301673', metadata={'source': '/Users/I748920/Desktop/llms-learning/pdf-chatbot-app/data/short-elements-of-statistical-learning-book/chap18.pdf', 'page': 2, 'start_index': 397}, page_content='using the optimal ridge parameter in each of the three cases, the median\\nvalue of|tj|was 2.0, 0.6 and 0.2, and the average number of |tj|values\\nexceeding 2 was equal to 9.8, 1.2 and 0.0.\\nRidge regression with λ= 0.001 successfully exploits the correlation in\\nthe features when p<N, but cannot do so when p≫N. In the latter case\\nthere is not enough information in the relatively small numb er of samples\\nto eﬃciently estimate the high-dimensional covariance mat rix. In that case,'),\n",
       " Document(id='0717ee14-b5bb-457b-9cde-e239d5292f2e', metadata={'source': '/Users/I748920/Desktop/llms-learning/pdf-chatbot-app/data/short-elements-of-statistical-learning-book/chap18.pdf', 'page': 1, 'start_index': 368}, page_content='ofp, the number of features. The relative error is the test error d ivided by the\\nBayes error, σ2. From left to right, results are shown for ridge regression wit h\\nthree diﬀerent values of the regularization parameter λ:0.001,100and1000. The\\n(average) eﬀective degrees of freedom in the ﬁt is indicated below each plot.\\nvariate regression coeﬃcients1was 9, 33 and 331, respectively, averaged\\nover the 100 simulation runs. The p= 1000 case is designed to mimic the')]"
      ]
     },
     "execution_count": 905,
     "metadata": {},
     "output_type": "execute_result"
    }
   ],
   "source": [
    "retrieved_documents"
   ]
  },
  {
   "cell_type": "code",
   "execution_count": 907,
   "id": "797acee4-ad01-4271-8701-c0f30611857b",
   "metadata": {},
   "outputs": [
    {
     "data": {
      "text/plain": [
       "InMemoryChatMessageHistory(messages=[])"
      ]
     },
     "execution_count": 907,
     "metadata": {},
     "output_type": "execute_result"
    }
   ],
   "source": [
    "c = get_session_history(\"4\")\n",
    "c"
   ]
  },
  {
   "cell_type": "code",
   "execution_count": 909,
   "id": "e23cbcfa-96ce-48f8-8b2c-86ef32f6f4e5",
   "metadata": {},
   "outputs": [
    {
     "data": {
      "text/plain": [
       "[]"
      ]
     },
     "execution_count": 909,
     "metadata": {},
     "output_type": "execute_result"
    }
   ],
   "source": [
    "f = format_chat_history(c)\n",
    "f"
   ]
  },
  {
   "cell_type": "code",
   "execution_count": 911,
   "id": "f9c1a786-e1a1-42e4-891a-f196aa0bdb3e",
   "metadata": {},
   "outputs": [
    {
     "data": {
      "text/plain": [
       "<generator object Client._stream at 0x400d61740>"
      ]
     },
     "execution_count": 911,
     "metadata": {},
     "output_type": "execute_result"
    }
   ],
   "source": [
    "stream"
   ]
  },
  {
   "cell_type": "code",
   "execution_count": 1,
   "id": "1a27e51a-4ae2-457e-be5f-d110e54839b1",
   "metadata": {},
   "outputs": [],
   "source": [
    "import ollama"
   ]
  },
  {
   "cell_type": "code",
   "execution_count": 2,
   "id": "7d9e8892-68ef-4e37-b264-790bf2b4ddc3",
   "metadata": {},
   "outputs": [
    {
     "name": "stdout",
     "output_type": "stream",
     "text": [
      "I'm a large language model, I don't have real-time access to current weather conditions. However, I can suggest some ways for you to find out the current weather:\n",
      "\n",
      "1. **Check online weather websites**: You can visit websites like AccuWeather, Weather.com, or the National Weather Service (NWS) to get the latest weather updates.\n",
      "2. **Use a mobile app**: There are many weather apps available on both iOS and Android devices that provide real-time weather information.\n",
      "3. **Tune into local news**: Watching local news channels or listening to local radio stations can also give you an idea of the current weather conditions.\n",
      "4. **Ask a voice assistant**: If you have a smart speaker or virtual assistant like Siri, Google Assistant, or Alexa, you can ask them for the current weather.\n",
      "\n",
      "If you'd like, I can also suggest some general information about different types of weather (e.g., sunny, rainy, cloudy) and how to dress accordingly!"
     ]
    }
   ],
   "source": [
    "stream = ollama.chat(\n",
    "    model=\"llama3.1\",\n",
    "    messages=[{'role': 'user', 'content': \"hows the weather\"}],\n",
    "    stream=True\n",
    ")\n",
    "\n",
    "model_answer = ''\n",
    "# Stream and display the output from Ollama as it generates\n",
    "for chunk in stream:\n",
    "    print(chunk['message']['content'], end='', flush=True)\n",
    "    # model_answer = model_answer.join(chunk)"
   ]
  },
  {
   "cell_type": "code",
   "execution_count": 8,
   "id": "75222edc-7197-4d70-b5f9-85d217369047",
   "metadata": {},
   "outputs": [
    {
     "name": "stdout",
     "output_type": "stream",
     "text": [
      "I'm a large language model, I don't have real-time access to your location or current weather conditions. However, I can suggest some ways for you to find out the weather:\n",
      "\n",
      "1. **Check online weather websites**: You can visit websites like AccuWeather, Weather.com, or the National Weather Service (NWS) for the most up-to-date and accurate weather forecasts.\n",
      "2. **Use a voice assistant**: If you have a smart speaker or virtual assistant like Siri, Google Assistant, or Alexa, you can simply ask them \"What's the weather like today?\" or \"What's the forecast?\"\n",
      "3. **Check your phone's weather app**: Most smartphones come with a built-in weather app that provides current conditions and forecasts.\n",
      "4. **Look out the window**: If you're physically near a window, take a glance outside to get an idea of the current weather.\n",
      "\n",
      "If you want to chat about the weather in general or discuss specific weather-related topics, I'd be happy to engage with you!"
     ]
    }
   ],
   "source": [
    "stream = ollama.chat(\n",
    "    model=\"llama3.1\",\n",
    "    messages=[{'role': 'user', 'content': \"hows the weather\"}],\n",
    "    stream=True\n",
    ")\n",
    "\n",
    "model_answer = ''\n",
    "# Stream and display the output from Ollama as it generates\n",
    "for chunk in stream:\n",
    "    print(chunk['message']['content'], end='', flush=True)\n",
    "    model_answer += chunk['message']['content']  # Append each chunk to the answer"
   ]
  },
  {
   "cell_type": "code",
   "execution_count": 9,
   "id": "751a2a05-10dd-4a41-9612-37d7f8614cba",
   "metadata": {},
   "outputs": [
    {
     "name": "stdout",
     "output_type": "stream",
     "text": [
      "\n",
      "Full model answer: I'm a large language model, I don't have real-time access to your location or current weather conditions. However, I can suggest some ways for you to find out the weather:\n",
      "\n",
      "1. **Check online weather websites**: You can visit websites like AccuWeather, Weather.com, or the National Weather Service (NWS) for the most up-to-date and accurate weather forecasts.\n",
      "2. **Use a voice assistant**: If you have a smart speaker or virtual assistant like Siri, Google Assistant, or Alexa, you can simply ask them \"What's the weather like today?\" or \"What's the forecast?\"\n",
      "3. **Check your phone's weather app**: Most smartphones come with a built-in weather app that provides current conditions and forecasts.\n",
      "4. **Look out the window**: If you're physically near a window, take a glance outside to get an idea of the current weather.\n",
      "\n",
      "If you want to chat about the weather in general or discuss specific weather-related topics, I'd be happy to engage with you!\n"
     ]
    }
   ],
   "source": [
    "# After the loop, `model_answer` will contain the full response\n",
    "print(\"\\nFull model answer:\", model_answer)"
   ]
  },
  {
   "cell_type": "code",
   "execution_count": null,
   "id": "8a4067cc-da60-43d3-ab86-4cf945e55a9e",
   "metadata": {},
   "outputs": [],
   "source": []
  },
  {
   "cell_type": "code",
   "execution_count": null,
   "id": "1992adad-4d5f-45c6-b586-59e83c9b2eac",
   "metadata": {},
   "outputs": [],
   "source": []
  },
  {
   "cell_type": "markdown",
   "id": "c1174dd3-998d-4219-80fc-15321aabdc62",
   "metadata": {},
   "source": [
    "hi do you know about ridge regression being used to exploit the correlation in the features of a dataset? Only answer yes or no.\n",
    "\n",
    "AIMessage(content='Yes. What would you like to know about it?'\n",
    "\n",
    "\n",
    "do you know about high dimensional problems in statistical learning? yes or no.\n",
    "\n",
    "\n",
    "explain in which cases can ridge regression do it with regards to p and N in high dimensional?  --show references"
   ]
  },
  {
   "cell_type": "code",
   "execution_count": null,
   "id": "92cb34e0-d64f-434d-945c-2b82a2027485",
   "metadata": {},
   "outputs": [],
   "source": []
  },
  {
   "cell_type": "markdown",
   "id": "beb039ef-edb0-48d1-8892-96f3b565a122",
   "metadata": {},
   "source": [
    "# python script v2 issues -> fix in v3\n",
    "\n",
    "* discrepancy in the results of retriever = vectorstore.as_retriever(search_type='similarity',search_kwargs = {'k':5}) vs get_retrieved_documents_with_scores manual function\n",
    "    * the retriever results for the former is not returning the top K in correct order but manual function is\n",
    "    * means the history_aware_retriever is also not getting the top K results\n",
    "* if change retriever to manual method, means history_aware_retriever wont work already, so need to manually do the refine_query process of the history_aware_retriever\n",
    "    * history_aware_retriever has 2 parts: 1. refining query with convo context + 2. retrieval with new refined_query\n",
    "    * try do part 1 with the ollama package without using langchain ollama, and then dont need to stream the output for this part\n",
    "    * double check that the output of the refined_query is correct\n",
    "    * then integrate with the the fixed manual retrieval process"
   ]
  },
  {
   "cell_type": "code",
   "execution_count": 36,
   "id": "2ef248a9-6152-4a91-be91-3cf628e25924",
   "metadata": {
    "jupyter": {
     "source_hidden": true
    }
   },
   "outputs": [
    {
     "name": "stdout",
     "output_type": "stream",
     "text": [
      "\n"
     ]
    }
   ],
   "source": [
    "print()\n",
    "# import os\n",
    "import glob\n",
    "import time\n",
    "import argparse\n",
    "from tqdm import tqdm\n",
    "import ollama\n",
    "from langchain_community.document_loaders import PyPDFLoader\n",
    "from langchain_text_splitters import RecursiveCharacterTextSplitter\n",
    "from langchain_community.embeddings import HuggingFaceEmbeddings\n",
    "from langchain_core.vectorstores import InMemoryVectorStore\n",
    "from langchain_ollama import ChatOllama\n",
    "from langchain.chains import create_history_aware_retriever\n",
    "from langchain_core.prompts import ChatPromptTemplate, MessagesPlaceholder\n",
    "from langchain.chains import create_retrieval_chain\n",
    "# from langchain.chains.combine_documents import create_stuff_documents_chain\n",
    "from langchain_community.chat_message_histories import ChatMessageHistory\n",
    "# from langchain_core.chat_history import BaseChatMessageHistory\n",
    "# from langchain_core.runnables.history import RunnableWithMessageHistory\n",
    "from langchain_core.messages import HumanMessage, AIMessage\n",
    "import warnings\n",
    "# from urllib3.exceptions import NotOpenSSLWarning\n",
    "# Suppress all warnings\n",
    "warnings.filterwarnings(\"ignore\")\n",
    "# Suppress NotOpenSSLWarning from urllib3\n",
    "warnings.filterwarnings(\"ignore\", module='urllib3')\n",
    "\n",
    "\n",
    "def load_pdfs(file_paths):\n",
    "    \"\"\"\n",
    "    file_paths must end with .pdf\n",
    "    PyPDFLoader auto splits the pdf into pages, each page is 1 Document object split by page number\n",
    "    note that the splitting by page number is not perfect, the actual page number might be +/- 1-2pages.\n",
    "\n",
    "    returns a dict of key: file_path and value: list of document objects\n",
    "    \"\"\"\n",
    "    documents_dict = {}   \n",
    "    for f in tqdm(file_paths):\n",
    "        loader = PyPDFLoader(file_path = f)\n",
    "        documents = loader.load()\n",
    "        documents_dict[f] = documents\n",
    "    return documents_dict\n",
    "\n",
    "def chunk_list_of_documents(documents):\n",
    "    \"\"\"\n",
    "    input a list of documents as Document objects\n",
    "\n",
    "    output a list of chunks as Document objects\n",
    "    \"\"\"\n",
    "    text_splitter = RecursiveCharacterTextSplitter(\n",
    "        chunk_size = 500,\n",
    "        chunk_overlap = 100, # using 20% is a good start\n",
    "        length_function=len,\n",
    "        is_separator_regex=False,\n",
    "        add_start_index=True\n",
    "    )\n",
    "\n",
    "    chunks = text_splitter.split_documents(documents)    \n",
    "    return chunks\n",
    "\n",
    "def get_session_history(session_id: str):\n",
    "    \"\"\"\n",
    "    if session_id exists, function returns the ChatMessageHistory of that session_id.\n",
    "\n",
    "    if session_id does not exists, function instantiates a new ChatMessageHistory.\n",
    "    \"\"\"\n",
    "    if session_id not in chat_history_store:\n",
    "        chat_history_store[session_id] = ChatMessageHistory()\n",
    "    return chat_history_store[session_id]\n",
    "\n",
    "def create_huggingface_retriever(folder_path,embedding_model_name):\n",
    "    \"\"\"\n",
    "    folder_path is type str, absolute folder path of the pdf files' location.\n",
    "    embedding_model_name type str, take key from HG website.\n",
    "\n",
    "    1. uses load_pdfs and chunk_list_of_documents functions to\n",
    "    get chunks across the different input pdfs.\n",
    "    2. sets up huggingface embedding model based on embedding_model_name passed\n",
    "    3. sets up the vector db and adds the embeds the chunks into the vector db.\n",
    "    4. sets up retriever object from the filled vector db\n",
    "\n",
    "    output: retriever_hf created from the HugginFaceEmbeddings\n",
    "    \"\"\"\n",
    "    files_paths = glob.glob(f\"{folder_path}/*.pdf\")\n",
    "    print()\n",
    "    print()\n",
    "\n",
    "    # load documents from file paths\n",
    "    print(\"loading pdfs...\")\n",
    "    documents_dict = load_pdfs(file_paths=files_paths)\n",
    "\n",
    "    # chunk documents\n",
    "    print()\n",
    "    print(\"chunking documents...\")\n",
    "    all_chunks = []\n",
    "    for key in tqdm(documents_dict.keys()):\n",
    "        documents = documents_dict[key]\n",
    "        chunks = chunk_list_of_documents(documents=documents)\n",
    "        all_chunks.extend(chunks)\n",
    "    print(f\"number of chunks: {len(all_chunks)}\")\n",
    "\n",
    "    # setup embedding model\n",
    "    print()\n",
    "    print(\"instantiating HuggingFaceEmbeddings...\")\n",
    "    model_kwargs = {'device': 'cpu'}\n",
    "    encode_kwargs = {'normalize_embeddings': False}\n",
    "    hf_embedding_model = HuggingFaceEmbeddings(\n",
    "        model_name=embedding_model_name,\n",
    "        model_kwargs=model_kwargs,\n",
    "        encode_kwargs=encode_kwargs\n",
    "    )\n",
    "    print(\"hf_embedding_model created!\")\n",
    "\n",
    "    # setup vectordb, using HF embedding model\n",
    "    start_time=time.time()\n",
    "    print()\n",
    "    print(\"start process of embedding chunks into vector database...\")\n",
    "    vectorstore_hf = InMemoryVectorStore.from_documents(\n",
    "        documents=all_chunks,\n",
    "        embedding=hf_embedding_model\n",
    "    )\n",
    "    print(\"all chunks embedded into vector database!\",f\"time taken: {round(time.time()-start_time,2)}s\")\n",
    "\n",
    "    # setup retrieval and test with a query and gt_context\n",
    "    retriever_hf = vectorstore_hf.as_retriever(\n",
    "        search_type='similarity',\n",
    "        search_kwargs = {'k':5}\n",
    "    )\n",
    "    print(\"retriever created!\")\n",
    "\n",
    "    return vectorstore_hf,retriever_hf\n",
    "\n",
    "def instantiate_history_aware_retriever(retriever_hf,llm_model_name):\n",
    "    \"\"\"\n",
    "    retriever_hf is the output of the create_huggingface_retriever function.\n",
    "    llm_model_name is type str, can be taken from langchain website.\n",
    "\n",
    "    use langchain to create a history_aware_retriever. \n",
    "    The LLM used here is from langchain, not Ollama.\n",
    "\n",
    "    output: langchain history_aware_retriever object.\n",
    "    \"\"\"\n",
    "\n",
    "    # setup llm chat model using ollama\n",
    "    llm_model = ChatOllama(\n",
    "        model=llm_model_name,\n",
    "        temperature=0 # increase temp for more creative answers\n",
    "    ) \n",
    "\n",
    "    # setup system contextualise input prompt\n",
    "    system_contextualise_input_prompt = (\n",
    "        \"Given a chat history and the latest user question \"\n",
    "        \"which might reference context in the chat history, \"\n",
    "        \"formulate a standalone question which can be understood \"\n",
    "        \"without the chat history. Do NOT answer the question, \"\n",
    "        \"just reformulate it if needed and otherwise return it as is.\"\n",
    "    )\n",
    "    system_input_prompt = ChatPromptTemplate.from_messages(\n",
    "        [\n",
    "            (\"system\", system_contextualise_input_prompt),\n",
    "            MessagesPlaceholder(\"chat_history\"),\n",
    "            (\"human\", \"{input}\"),\n",
    "        ]\n",
    "    )\n",
    "\n",
    "    # instantiate the history-aware retriever:\n",
    "    history_aware_retriever = create_history_aware_retriever(\n",
    "        llm=llm_model,\n",
    "        retriever=retriever_hf,\n",
    "        prompt=system_input_prompt\n",
    "    )\n",
    "\n",
    "    return history_aware_retriever\n",
    "\n",
    "def format_chat_history(chat_history):\n",
    "    \"\"\"\n",
    "    input: chat_history is a langchain_community ChatMessageHistory object.\n",
    "\n",
    "    function formats the messages into dict format \n",
    "    instead of Langchain AI and HumanMessage objects.\n",
    "    this function returns empty list if there is no chat_history\n",
    "    \"\"\"\n",
    "\n",
    "    formatted_chat_history = [\n",
    "        {\"role\": \"human\", \"content\": message.content} if isinstance(message, HumanMessage) else\n",
    "        {\"role\": \"ai\", \"content\": message.content}\n",
    "        for message in chat_history.messages\n",
    "    ]\n",
    "\n",
    "    return formatted_chat_history\n",
    "\n",
    "def manual_rag_with_ollama(retrieved_documents, formatted_chat_history, input_query, ollama_model_name=\"llama3.1\"):\n",
    "    \"\"\"\n",
    "    Manually performs RAG using retrieved documents from history-aware-retriever and streams results from the Ollama model.\n",
    "    \n",
    "    Args:\n",
    "        retrieved_documents (list of Document objects):  output of history-aware-retriever.invoke().\n",
    "        formatted_chat_history (list of dict): output of format_chat_history function.\n",
    "        input_query (str): The user's input query.\n",
    "        ollama_model_name (str): The name of the Ollama model to use.\n",
    "    \"\"\"\n",
    "    \n",
    "    # Step 1: Format the retrieved documents as context\n",
    "    retrieved_references = \"\\n\\n\".join([doc.page_content for doc in retrieved_documents])\n",
    "    \n",
    "    # Step 2: Create a prompt that integrates the retrieved context and input query\n",
    "    input_prompt = (\n",
    "        f\"You are an assistant for question-answering tasks. You must reference information from the retrieved_references to answer the input_query. \"\n",
    "        f\"You must also reference the formatted_chat_history to take into account conversation flow and to ensure that the response is relevant to both the current query and prior conversation. \"\n",
    "        f\"Use five sentences maximum and keep the answer concise. Also, if the input_query is specifically a yes or no question, you must only answer yes or no.\"\n",
    "        \"\\n\\n\"\n",
    "        f\"retrieved_references: \\n{retrieved_references}\"\n",
    "        \"\\n\\n\"\n",
    "        f\"formatted_chat_history: \\n{formatted_chat_history}\"\n",
    "        \"\\n\\n\"\n",
    "        f\"input_query: \\n{input_query}\"\n",
    "    )\n",
    "\n",
    "    # Step 3: Pass the prompt to the Ollama LLM and stream the response\n",
    "    # print(\"Streaming response from Ollama...\")\n",
    "    print(\"LLM Response:\")\n",
    "\n",
    "    stream = ollama.chat(\n",
    "        model=ollama_model_name,\n",
    "        messages=[{'role': 'user', 'content': input_prompt}],\n",
    "        stream=True\n",
    "    )\n",
    "    response = ''\n",
    "    # Stream and display the output from Ollama as it generates\n",
    "    for chunk in stream:\n",
    "        print(chunk['message']['content'], end='', flush=True)\n",
    "        response += chunk['message']['content']  # Append each chunk to the answer\n",
    "\n",
    "    return response\n",
    "\n",
    "def main(folder_path,embedding_model_name,llm_model_name):\n",
    "    \"\"\"\n",
    "    folder_path (str): absolute folder path of the pdf files' location.\n",
    "    embedding_model_name (str): model key name that can be taken from HG website.\n",
    "    llm_model_name (str): model key name that can be taken from Ollama website.\n",
    "\n",
    "    main function that implements the entire RAG process. \n",
    "    session_id is hard-coded to '1' for now since there is no persistence.\n",
    "    \"\"\"\n",
    "\n",
    "    session_id = \"1\" # hardcode this for temp fix since there is no persistence implemented\n",
    "\n",
    "    # Initialise embedding and llm model_name\n",
    "    if embedding_model_name is None:\n",
    "        embedding_model_name = \"sentence-transformers/all-mpnet-base-v2\"\n",
    "    if llm_model_name is None:\n",
    "        llm_model_name = 'llama3.1'\n",
    "\n",
    "    # Create the Hugging Face retriever\n",
    "    retriever_hf = create_huggingface_retriever(folder_path=folder_path,embedding_model_name=embedding_model_name)\n",
    "    # Create the history-aware-retriever\n",
    "    history_aware_retriever = instantiate_history_aware_retriever(retriever_hf=retriever_hf,llm_model_name=llm_model_name)\n",
    "\n",
    "    print()\n",
    "    print(\"########################################\")\n",
    "    print(\"########## START CONVERSATION ##########\")\n",
    "    print(\"########################################\")\n",
    "    print()\n",
    "    print(\"You can now start chatting with the LLM.\")\n",
    "    print(\"Add '--show references' to the end of the input to view the documents referenced by the LLM.\")\n",
    "    print(\"Type 'exit' to stop the conversation.\")\n",
    "    print()\n",
    "\n",
    "    # Initialize the chat loop\n",
    "    while True:\n",
    "        # Get user input\n",
    "        full_user_input = input(\"User input: \")\n",
    "        # Only take the first part of the user input if --show references is used\n",
    "        user_input = full_user_input.split(\"--\")[0]\n",
    "\n",
    "        # End session if user types 'exit'\n",
    "        if user_input.lower() == \"exit\":\n",
    "            print(\"Ending session. Goodbye!\")\n",
    "            break\n",
    "\n",
    "        # get current chat history\n",
    "        current_chat_history = get_session_history(session_id)\n",
    "        # format current chat history\n",
    "        formatted_chat_history = format_chat_history(current_chat_history)\n",
    "\n",
    "        # retrieve documents using history_aware_retriever\n",
    "        retrieved_documents = history_aware_retriever.invoke(\n",
    "            {\n",
    "                'chat_history':formatted_chat_history,\n",
    "                'input':user_input\n",
    "            }\n",
    "        )\n",
    "\n",
    "        # invoke manual_rag_with_ollama function  and show the results, need to store for chat history update\n",
    "        response = manual_rag_with_ollama(\n",
    "            retrieved_documents=retrieved_documents, \n",
    "            formatted_chat_history=formatted_chat_history, \n",
    "            input_query=user_input, \n",
    "            ollama_model_name=llm_model_name\n",
    "        )\n",
    "\n",
    "        # update chat history with latest user input and LLM output - add the input query and response to the current_chat_history\n",
    "        current_chat_history.add_user_message(user_input)\n",
    "        current_chat_history.add_ai_message(response)\n",
    "        \n",
    "        # Show the references if user requests\n",
    "        print(\"\\n\")\n",
    "        if len(full_user_input.split(\"--\"))>1: # just check for non empty string will suffice jic of misspelling\n",
    "            print(\"### preparing references... ###\")\n",
    "            time.sleep(1)\n",
    "            print(\"References:\")\n",
    "            for i,d in enumerate(retrieved_documents):\n",
    "                time.sleep(1)\n",
    "                print(f\"{i+1} From: page {d.metadata['page']} of {d.metadata['source'].split('/')[-1]}\")\n",
    "                print(f\"Content: {d.page_content}\")\n",
    "                print()\n",
    "\n",
    "\n",
    "# if __name__==\"__main__\":\n",
    "#     parser = argparse.ArgumentParser(description=\"Directly use Conversational RAG with custom PDF documents in terminal.\")\n",
    "#     # Add arguments\n",
    "#     parser.add_argument(\"--folder_path\", type=str, help=\"input absolute folder path to folder of pdfs\", required=True)\n",
    "#     parser.add_argument(\"--embedding_model_name\", type=str, help=\"pass the huggingface embedding model name of your choice\", required=False)\n",
    "#     parser.add_argument(\"--llm_model_name\", type=str, help=\"pass the ollama llm model name of your choice\", required=False)\n",
    "#     # note that the llm_model_name here is used as the model key for both the langchain ChatOllama model for the history_aware_retriever \n",
    "#     # and python Ollama model for the LLM answer generation, if a diff key is used and both packages have different names, there will be issues\n",
    "\n",
    "#     # Parse the arguments\n",
    "#     args = parser.parse_args()\n",
    "\n",
    "#     # create global variable for chat_history_store\n",
    "#     chat_history_store = {}\n",
    "\n",
    "#     # Run the main chat function \n",
    "#     main(\n",
    "#         folder_path=args.folder_path,\n",
    "#         embedding_model_name=args.embedding_model_name,\n",
    "#         llm_model_name=args.llm_model_name \n",
    "#     )\n",
    "\n",
    "# Issues\n",
    "# current bottleneck is the history_aware_retriever generating contexts with conversation history reference, but 2-3s shud be fine just like chatgpt\n",
    "# 3. if cannot find reelvant references, dont return any \n",
    "    # - context refernces must be > sim_score, cannot just take top K\n",
    "# sample queries\n",
    "# do you know about high dimensional problems in statistical learning? yes or no.\n",
    "# explain in which cases can ridge regression do it with regards to p and N in high dimensional?  --show references"
   ]
  },
  {
   "cell_type": "markdown",
   "id": "bc66feeb-9897-42a5-acdd-ff501f507fa3",
   "metadata": {},
   "source": [
    "fix issue of "
   ]
  },
  {
   "cell_type": "code",
   "execution_count": null,
   "id": "596e754c-1551-4346-8e66-7ffb0f4ab023",
   "metadata": {},
   "outputs": [],
   "source": []
  },
  {
   "cell_type": "code",
   "execution_count": 38,
   "id": "9131f635-1804-4c67-8f17-0db293370cc7",
   "metadata": {},
   "outputs": [
    {
     "name": "stdout",
     "output_type": "stream",
     "text": [
      "\n",
      "\n",
      "loading pdfs...\n"
     ]
    },
    {
     "name": "stderr",
     "output_type": "stream",
     "text": [
      "100%|██████████| 1/1 [00:00<00:00, 11.87it/s]\n"
     ]
    },
    {
     "name": "stdout",
     "output_type": "stream",
     "text": [
      "\n",
      "chunking documents...\n"
     ]
    },
    {
     "name": "stderr",
     "output_type": "stream",
     "text": [
      "100%|██████████| 1/1 [00:00<00:00, 3498.17it/s]"
     ]
    },
    {
     "name": "stdout",
     "output_type": "stream",
     "text": [
      "number of chunks: 18\n",
      "\n",
      "instantiating HuggingFaceEmbeddings...\n"
     ]
    },
    {
     "name": "stderr",
     "output_type": "stream",
     "text": [
      "\n"
     ]
    },
    {
     "name": "stdout",
     "output_type": "stream",
     "text": [
      "hf_embedding_model created!\n",
      "\n",
      "start process of embedding chunks into vector database...\n",
      "all chunks embedded into vector database! time taken: 0.67s\n",
      "retriever created!\n"
     ]
    }
   ],
   "source": [
    "\n",
    "session_id = \"1\" # hardcode this for temp fix since there is no persistence implemented\n",
    "\n",
    "# Initialise embedding and llm model_name\n",
    "\n",
    "embedding_model_name = \"sentence-transformers/all-mpnet-base-v2\"\n",
    "llm_model_name = 'llama3.1'\n",
    "folder_path = \"/Users/i748920/Desktop/llms-learning/pdf-chatbot-app/data/short-elements-of-statistical-learning-book\"\n",
    "\n",
    "# Create the Hugging Face retriever\n",
    "vectorstore_hf,retriever_hf = create_huggingface_retriever(folder_path=folder_path,embedding_model_name=embedding_model_name)\n",
    "# Create the history-aware-retriever\n",
    "history_aware_retriever = instantiate_history_aware_retriever(retriever_hf=retriever_hf,llm_model_name=llm_model_name)\n"
   ]
  },
  {
   "cell_type": "code",
   "execution_count": 28,
   "id": "7a0da055-a590-47d6-8667-b1dbe98c0508",
   "metadata": {},
   "outputs": [],
   "source": [
    "chat_history_store = {}\n",
    "# get current chat history\n",
    "current_chat_history = get_session_history(session_id)\n",
    "# format current chat history\n",
    "formatted_chat_history = format_chat_history(current_chat_history)"
   ]
  },
  {
   "cell_type": "code",
   "execution_count": 30,
   "id": "a18c67f5-29cd-494f-999e-d8b336e40074",
   "metadata": {},
   "outputs": [],
   "source": [
    "user_input = \"do you know about high dimensional problems in statistical learning? yes or no.\""
   ]
  },
  {
   "cell_type": "code",
   "execution_count": 32,
   "id": "7eebdfff-c208-402f-a803-4eaf0412f6b3",
   "metadata": {},
   "outputs": [],
   "source": [
    "retrieved_documents = history_aware_retriever.invoke(\n",
    "    {\n",
    "        'chat_history':formatted_chat_history,\n",
    "        'input':user_input\n",
    "    }\n",
    ")"
   ]
  },
  {
   "cell_type": "code",
   "execution_count": 34,
   "id": "72bb2c0a-8cf5-416f-96b7-4a0dde3e7c3a",
   "metadata": {
    "collapsed": true,
    "jupyter": {
     "outputs_hidden": true
    }
   },
   "outputs": [
    {
     "data": {
      "text/plain": [
       "[Document(id='4e93f4fe-2de8-4b66-9c82-f39943c40a36', metadata={'source': '/Users/i748920/Desktop/llms-learning/pdf-chatbot-app/data/short-elements-of-statistical-learning-book/chap18 copy.pdf', 'page': 2, 'start_index': 800}, page_content='to eﬃciently estimate the high-dimensional covariance mat rix. In that case,\\nmore regularization leads to superior prediction performa nce.\\nThus it is not surprising that the analysis of high-dimensio nal data re-\\nquires either modiﬁcation of procedures designed for the N >pscenario, or\\nentirely new procedures. In this chapter we discuss example s of both kinds\\nofapproachesforhighdimensionalclassiﬁcationandregre ssion;thesemeth-'),\n",
       " Document(id='c9d819ce-160e-4d48-a2da-ef0d34943e80', metadata={'source': '/Users/i748920/Desktop/llms-learning/pdf-chatbot-app/data/short-elements-of-statistical-learning-book/chap18 copy.pdf', 'page': 0, 'start_index': 0}, page_content='This is page 649\\nPrinter: Opaque this\\n18\\nHigh-Dimensional Problems: p≫N\\n18.1 When pis Much Bigger than N\\nIn this chapter we discuss prediction problems in which the n umber of\\nfeaturespis much larger than the number of observations N, often written\\np≫N. Such problems have become of increasing importance, espec ially in\\ngenomics and other areas of computational biology. We will s ee that high\\nvariance and overﬁtting are a major concern in this setting. As a result,'),\n",
       " Document(id='f0650ea8-21e7-446f-b93f-c188745fe827', metadata={'source': '/Users/i748920/Desktop/llms-learning/pdf-chatbot-app/data/short-elements-of-statistical-learning-book/chap18 copy.pdf', 'page': 1, 'start_index': 0}, page_content='650 18. High-Dimensional Problems: p≫N1.0 1.5 2.0 2.5 3.0Relative error\\n20 9 220 featuresTest Error\\n1.0 1.5 2.0 2.5 3.0\\n99 35 7100 features\\n1.0 1.5 2.0 2.5 3.0\\n99 87 431000 features\\nEffective Degrees of Freedom\\nFIGURE 18.1. Test-error results for simulation experiments. Shown are box -\\nplots of the relative test errors over 100simulations, for three diﬀerent values\\nofp, the number of features. The relative error is the test error d ivided by the'),\n",
       " Document(id='3a7d6400-2ad3-4619-ba5b-8a407479b465', metadata={'source': '/Users/i748920/Desktop/llms-learning/pdf-chatbot-app/data/short-elements-of-statistical-learning-book/chap18 copy.pdf', 'page': 0, 'start_index': 395}, page_content='variance and overﬁtting are a major concern in this setting. As a result,\\nsimple, highly regularized approaches often become the met hods of choice.\\nThe ﬁrst part of the chapter focuses on prediction in both the classiﬁcation\\nand regression settings, while the second part discusses th e more basic\\nproblem of feature selection and assessment.\\nTo get us started, Figure 18.1 summarizes a small simulation study that\\ndemonstrates the “less ﬁtting is better” principle that app lies whenp≫N.'),\n",
       " Document(id='6c6cb75c-533b-4738-8852-fe119113d5bb', metadata={'source': '/Users/i748920/Desktop/llms-learning/pdf-chatbot-app/data/short-elements-of-statistical-learning-book/chap18 copy.pdf', 'page': 0, 'start_index': 811}, page_content='demonstrates the “less ﬁtting is better” principle that app lies whenp≫N.\\nFor each of N= 100 samples, we generated pstandard Gaussian features\\nXwith pairwise correlation 0 .2. The outcome Ywas generated according\\nto a linear model\\nY=p∑\\nj=1Xjβj+σε (18.1)\\nwhereεwas generated from a standard Gaussian distribution. For ea ch\\ndataset, the set of coeﬃcients βjwere also generated from a standard Gaus-\\nsian distribution. We investigated three cases: p= 20,100,and 1000. The')]"
      ]
     },
     "execution_count": 34,
     "metadata": {},
     "output_type": "execute_result"
    }
   ],
   "source": [
    "retrieved_documents"
   ]
  },
  {
   "cell_type": "code",
   "execution_count": null,
   "id": "455fbb0f-02db-405b-8fb3-1536dacd3131",
   "metadata": {},
   "outputs": [],
   "source": [
    "from typing import List\n",
    "\n",
    "from langchain_core.documents import Document\n",
    "from langchain_core.runnables import chain\n",
    "\n",
    "\n",
    "@chain\n",
    "def retriever(query: str) -> List[Document]:\n",
    "    docs, scores = zip(*vectorstore.similarity_search_with_score(query))\n",
    "    for doc, score in zip(docs, scores):\n",
    "        doc.metadata[\"score\"] = score\n",
    "\n",
    "    return docs"
   ]
  },
  {
   "cell_type": "code",
   "execution_count": 74,
   "id": "07623cef-0625-4eae-ae38-5596d02cb8d1",
   "metadata": {},
   "outputs": [],
   "source": [
    "from typing import List\n",
    "from langchain_core.documents import Document\n",
    "\n",
    "def get_retrieved_documents_with_scores(vectorstore,query,k) -> List[Document]:\n",
    "    docs, scores = zip(*vectorstore.similarity_search_with_score(query=query,k=k))\n",
    "    for doc, score in zip(docs, scores):\n",
    "        doc.metadata[\"score\"] = score\n",
    "\n",
    "    return docs"
   ]
  },
  {
   "cell_type": "code",
   "execution_count": 78,
   "id": "6638900a-b590-4ffb-9f19-8ac6fb0024c5",
   "metadata": {},
   "outputs": [],
   "source": [
    "docs = get_retrieved_documents_with_scores(vectorstore=vectorstore_hf,query=user_input,k=3)"
   ]
  },
  {
   "cell_type": "code",
   "execution_count": 80,
   "id": "074cc2f1-ff27-4b85-94d0-6e7105a52176",
   "metadata": {},
   "outputs": [
    {
     "name": "stdout",
     "output_type": "stream",
     "text": [
      "0.6213172417016296\n",
      "page_content='to eﬃciently estimate the high-dimensional covariance mat rix. In that case,\n",
      "more regularization leads to superior prediction performa nce.\n",
      "Thus it is not surprising that the analysis of high-dimensio nal data re-\n",
      "quires either modiﬁcation of procedures designed for the N >pscenario, or\n",
      "entirely new procedures. In this chapter we discuss example s of both kinds\n",
      "ofapproachesforhighdimensionalclassiﬁcationandregre ssion;thesemeth-' metadata={'source': '/Users/i748920/Desktop/llms-learning/pdf-chatbot-app/data/short-elements-of-statistical-learning-book/chap18 copy.pdf', 'page': 2, 'start_index': 800, 'score': 0.6213172417016296}\n",
      "\n",
      "0.5919392750876704\n",
      "page_content='This is page 649\n",
      "Printer: Opaque this\n",
      "18\n",
      "High-Dimensional Problems: p≫N\n",
      "18.1 When pis Much Bigger than N\n",
      "In this chapter we discuss prediction problems in which the n umber of\n",
      "featurespis much larger than the number of observations N, often written\n",
      "p≫N. Such problems have become of increasing importance, espec ially in\n",
      "genomics and other areas of computational biology. We will s ee that high\n",
      "variance and overﬁtting are a major concern in this setting. As a result,' metadata={'source': '/Users/i748920/Desktop/llms-learning/pdf-chatbot-app/data/short-elements-of-statistical-learning-book/chap18 copy.pdf', 'page': 0, 'start_index': 0, 'score': 0.5919392750876704}\n",
      "\n",
      "0.5506129053201491\n",
      "page_content='650 18. High-Dimensional Problems: p≫N1.0 1.5 2.0 2.5 3.0Relative error\n",
      "20 9 220 featuresTest Error\n",
      "1.0 1.5 2.0 2.5 3.0\n",
      "99 35 7100 features\n",
      "1.0 1.5 2.0 2.5 3.0\n",
      "99 87 431000 features\n",
      "Effective Degrees of Freedom\n",
      "FIGURE 18.1. Test-error results for simulation experiments. Shown are box -\n",
      "plots of the relative test errors over 100simulations, for three diﬀerent values\n",
      "ofp, the number of features. The relative error is the test error d ivided by the' metadata={'source': '/Users/i748920/Desktop/llms-learning/pdf-chatbot-app/data/short-elements-of-statistical-learning-book/chap18 copy.pdf', 'page': 1, 'start_index': 0, 'score': 0.5506129053201491}\n",
      "\n"
     ]
    }
   ],
   "source": [
    "for d in docs:\n",
    "    print(d.metadata['score'])\n",
    "    print(d)\n",
    "    print()"
   ]
  },
  {
   "cell_type": "code",
   "execution_count": 82,
   "id": "b89dbdb3-76b2-43c1-bc71-116ec5c88b96",
   "metadata": {},
   "outputs": [],
   "source": [
    "user_input1 = \"explain in which cases can ridge regression do it with regards to p and N in high dimensional?  --show references\""
   ]
  },
  {
   "cell_type": "code",
   "execution_count": 88,
   "id": "abb33da3-e889-43ab-8751-81face9fd3d9",
   "metadata": {},
   "outputs": [],
   "source": [
    "docs = get_retrieved_documents_with_scores(vectorstore=vectorstore_hf,query=user_input1,k=3)"
   ]
  },
  {
   "cell_type": "code",
   "execution_count": 90,
   "id": "1f2acc7d-0709-4515-a828-db2532436788",
   "metadata": {},
   "outputs": [
    {
     "name": "stdout",
     "output_type": "stream",
     "text": [
      "0.726056829878058\n",
      "page_content='over the 100 simulation runs. The p= 1000 case is designed to mimic the\n",
      "kind of data that we might see in a high-dimensional genomic o r proteomic\n",
      "dataset, for example.\n",
      "We ﬁt a ridge regression to the data, with three diﬀerent valu es for the\n",
      "regularization parameter λ: 0.001, 100, and 1000. When λ= 0.001, this\n",
      "is nearly the same as least squares regression, with a little regularization\n",
      "just to ensure that the problem is non-singular when p > N. Figure 18.1' metadata={'source': '/Users/i748920/Desktop/llms-learning/pdf-chatbot-app/data/short-elements-of-statistical-learning-book/chap18 copy.pdf', 'page': 1, 'start_index': 760, 'score': 0.726056829878058}\n",
      "\n",
      "0.6877578348106839\n",
      "page_content='just to ensure that the problem is non-singular when p > N. Figure 18.1\n",
      "shows boxplots oftherelative testerrorachieved bythediﬀ erentestimators\n",
      "in each scenario. The corresponding average degrees of free dom used in\n",
      "each ridge-regression ﬁt is indicated (computed using form ula (3.50) on\n",
      "page 682). The degrees of freedom is a more interpretable parameter t han\n",
      "λ. We see that ridge regression with λ= 0.001 (20 df) wins when p= 20;\n",
      "λ= 100 (35 df) wins when p= 100, and λ= 1000 (43 df) wins when' metadata={'source': '/Users/i748920/Desktop/llms-learning/pdf-chatbot-app/data/short-elements-of-statistical-learning-book/chap18 copy.pdf', 'page': 1, 'start_index': 1150, 'score': 0.6877578348106839}\n",
      "\n",
      "0.5927353881959819\n",
      "page_content='using the optimal ridge parameter in each of the three cases, the median\n",
      "value of|tj|was 2.0, 0.6 and 0.2, and the average number of |tj|values\n",
      "exceeding 2 was equal to 9.8, 1.2 and 0.0.\n",
      "Ridge regression with λ= 0.001 successfully exploits the correlation in\n",
      "the features when p<N, but cannot do so when p≫N. In the latter case\n",
      "there is not enough information in the relatively small numb er of samples\n",
      "to eﬃciently estimate the high-dimensional covariance mat rix. In that case,' metadata={'source': '/Users/i748920/Desktop/llms-learning/pdf-chatbot-app/data/short-elements-of-statistical-learning-book/chap18 copy.pdf', 'page': 2, 'start_index': 397, 'score': 0.5927353881959819}\n",
      "\n"
     ]
    }
   ],
   "source": [
    "for d in docs:\n",
    "    print(d.metadata['score'])\n",
    "    print(d)\n",
    "    print()"
   ]
  },
  {
   "cell_type": "code",
   "execution_count": null,
   "id": "80d2e54a-c5c0-407f-8881-3998117571ea",
   "metadata": {},
   "outputs": [],
   "source": [
    "from typing import List\n",
    "from langchain_core.documents import Document\n",
    "\n",
    "def get_retrieved_documents_with_scores(vectorstore,query,k) -> List[Document]:\n",
    "    \"\"\"\n",
    "    vectorstore: vectorstore object\n",
    "    query (str): user input query\n",
    "    k (int): number of top K documents to return\n",
    "    \n",
    "    manual function to get retrieved documents from vectorstore and add score to metadata.\n",
    "    output: List of Document objects.\n",
    "    \"\"\"\n",
    "    docs, scores = zip(*vectorstore.similarity_search_with_score(query=query,k=k))\n",
    "    for doc, score in zip(docs, scores):\n",
    "        doc.metadata[\"score\"] = score\n",
    "\n",
    "    return docs"
   ]
  },
  {
   "cell_type": "code",
   "execution_count": null,
   "id": "4dd2c86e-2d10-4a06-99ab-c3153bb66f53",
   "metadata": {},
   "outputs": [],
   "source": [
    "history_aware_retriever.invoke()"
   ]
  },
  {
   "cell_type": "code",
   "execution_count": null,
   "id": "d933a06a-8553-40c2-a9fd-46c1f8ba7fd8",
   "metadata": {},
   "outputs": [],
   "source": [
    "retriever_hf.invoke()"
   ]
  },
  {
   "cell_type": "code",
   "execution_count": 92,
   "id": "2dc531ab-8a66-4868-9fe3-a546aa5c2743",
   "metadata": {},
   "outputs": [
    {
     "data": {
      "text/plain": [
       "<langchain_core.vectorstores.in_memory.InMemoryVectorStore at 0x347d51f40>"
      ]
     },
     "execution_count": 92,
     "metadata": {},
     "output_type": "execute_result"
    }
   ],
   "source": [
    "vectorstore_hf"
   ]
  },
  {
   "cell_type": "code",
   "execution_count": 104,
   "id": "4cfe7a92-ade0-4045-bdb6-75dc14ab8850",
   "metadata": {},
   "outputs": [],
   "source": [
    "retriever_hf = vectorstore_hf.as_retriever(\n",
    "    search_type='similarity_score_threshold',\n",
    "    search_kwargs = {\n",
    "        'score_threshold':0.9\n",
    "    }\n",
    ")"
   ]
  },
  {
   "cell_type": "code",
   "execution_count": 106,
   "id": "73b98d21-c347-4777-87fa-00297bc6803b",
   "metadata": {
    "scrolled": true
   },
   "outputs": [
    {
     "ename": "NotImplementedError",
     "evalue": "",
     "output_type": "error",
     "traceback": [
      "\u001b[0;31m---------------------------------------------------------------------------\u001b[0m",
      "\u001b[0;31mNotImplementedError\u001b[0m                       Traceback (most recent call last)",
      "Cell \u001b[0;32mIn[106], line 1\u001b[0m\n\u001b[0;32m----> 1\u001b[0m \u001b[43mretriever_hf\u001b[49m\u001b[38;5;241;43m.\u001b[39;49m\u001b[43minvoke\u001b[49m\u001b[43m(\u001b[49m\u001b[38;5;28;43minput\u001b[39;49m\u001b[38;5;241;43m=\u001b[39;49m\u001b[43muser_input1\u001b[49m\u001b[43m)\u001b[49m\n",
      "File \u001b[0;32m~/Library/Python/3.9/lib/python/site-packages/langchain_core/retrievers.py:252\u001b[0m, in \u001b[0;36mBaseRetriever.invoke\u001b[0;34m(self, input, config, **kwargs)\u001b[0m\n\u001b[1;32m    250\u001b[0m \u001b[38;5;28;01mexcept\u001b[39;00m \u001b[38;5;167;01mException\u001b[39;00m \u001b[38;5;28;01mas\u001b[39;00m e:\n\u001b[1;32m    251\u001b[0m     run_manager\u001b[38;5;241m.\u001b[39mon_retriever_error(e)\n\u001b[0;32m--> 252\u001b[0m     \u001b[38;5;28;01mraise\u001b[39;00m e\n\u001b[1;32m    253\u001b[0m \u001b[38;5;28;01melse\u001b[39;00m:\n\u001b[1;32m    254\u001b[0m     run_manager\u001b[38;5;241m.\u001b[39mon_retriever_end(\n\u001b[1;32m    255\u001b[0m         result,\n\u001b[1;32m    256\u001b[0m     )\n",
      "File \u001b[0;32m~/Library/Python/3.9/lib/python/site-packages/langchain_core/retrievers.py:245\u001b[0m, in \u001b[0;36mBaseRetriever.invoke\u001b[0;34m(self, input, config, **kwargs)\u001b[0m\n\u001b[1;32m    243\u001b[0m _kwargs \u001b[38;5;241m=\u001b[39m kwargs \u001b[38;5;28;01mif\u001b[39;00m \u001b[38;5;28mself\u001b[39m\u001b[38;5;241m.\u001b[39m_expects_other_args \u001b[38;5;28;01melse\u001b[39;00m {}\n\u001b[1;32m    244\u001b[0m \u001b[38;5;28;01mif\u001b[39;00m \u001b[38;5;28mself\u001b[39m\u001b[38;5;241m.\u001b[39m_new_arg_supported:\n\u001b[0;32m--> 245\u001b[0m     result \u001b[38;5;241m=\u001b[39m \u001b[38;5;28;43mself\u001b[39;49m\u001b[38;5;241;43m.\u001b[39;49m\u001b[43m_get_relevant_documents\u001b[49m\u001b[43m(\u001b[49m\n\u001b[1;32m    246\u001b[0m \u001b[43m        \u001b[49m\u001b[38;5;28;43minput\u001b[39;49m\u001b[43m,\u001b[49m\u001b[43m \u001b[49m\u001b[43mrun_manager\u001b[49m\u001b[38;5;241;43m=\u001b[39;49m\u001b[43mrun_manager\u001b[49m\u001b[43m,\u001b[49m\u001b[43m \u001b[49m\u001b[38;5;241;43m*\u001b[39;49m\u001b[38;5;241;43m*\u001b[39;49m\u001b[43m_kwargs\u001b[49m\n\u001b[1;32m    247\u001b[0m \u001b[43m    \u001b[49m\u001b[43m)\u001b[49m\n\u001b[1;32m    248\u001b[0m \u001b[38;5;28;01melse\u001b[39;00m:\n\u001b[1;32m    249\u001b[0m     result \u001b[38;5;241m=\u001b[39m \u001b[38;5;28mself\u001b[39m\u001b[38;5;241m.\u001b[39m_get_relevant_documents(\u001b[38;5;28minput\u001b[39m, \u001b[38;5;241m*\u001b[39m\u001b[38;5;241m*\u001b[39m_kwargs)\n",
      "File \u001b[0;32m~/Library/Python/3.9/lib/python/site-packages/langchain_core/vectorstores/base.py:1045\u001b[0m, in \u001b[0;36mVectorStoreRetriever._get_relevant_documents\u001b[0;34m(self, query, run_manager)\u001b[0m\n\u001b[1;32m   1042\u001b[0m     docs \u001b[38;5;241m=\u001b[39m \u001b[38;5;28mself\u001b[39m\u001b[38;5;241m.\u001b[39mvectorstore\u001b[38;5;241m.\u001b[39msimilarity_search(query, \u001b[38;5;241m*\u001b[39m\u001b[38;5;241m*\u001b[39m\u001b[38;5;28mself\u001b[39m\u001b[38;5;241m.\u001b[39msearch_kwargs)\n\u001b[1;32m   1043\u001b[0m \u001b[38;5;28;01melif\u001b[39;00m \u001b[38;5;28mself\u001b[39m\u001b[38;5;241m.\u001b[39msearch_type \u001b[38;5;241m==\u001b[39m \u001b[38;5;124m\"\u001b[39m\u001b[38;5;124msimilarity_score_threshold\u001b[39m\u001b[38;5;124m\"\u001b[39m:\n\u001b[1;32m   1044\u001b[0m     docs_and_similarities \u001b[38;5;241m=\u001b[39m (\n\u001b[0;32m-> 1045\u001b[0m         \u001b[38;5;28;43mself\u001b[39;49m\u001b[38;5;241;43m.\u001b[39;49m\u001b[43mvectorstore\u001b[49m\u001b[38;5;241;43m.\u001b[39;49m\u001b[43msimilarity_search_with_relevance_scores\u001b[49m\u001b[43m(\u001b[49m\n\u001b[1;32m   1046\u001b[0m \u001b[43m            \u001b[49m\u001b[43mquery\u001b[49m\u001b[43m,\u001b[49m\u001b[43m \u001b[49m\u001b[38;5;241;43m*\u001b[39;49m\u001b[38;5;241;43m*\u001b[39;49m\u001b[38;5;28;43mself\u001b[39;49m\u001b[38;5;241;43m.\u001b[39;49m\u001b[43msearch_kwargs\u001b[49m\n\u001b[1;32m   1047\u001b[0m \u001b[43m        \u001b[49m\u001b[43m)\u001b[49m\n\u001b[1;32m   1048\u001b[0m     )\n\u001b[1;32m   1049\u001b[0m     docs \u001b[38;5;241m=\u001b[39m [doc \u001b[38;5;28;01mfor\u001b[39;00m doc, _ \u001b[38;5;129;01min\u001b[39;00m docs_and_similarities]\n\u001b[1;32m   1050\u001b[0m \u001b[38;5;28;01melif\u001b[39;00m \u001b[38;5;28mself\u001b[39m\u001b[38;5;241m.\u001b[39msearch_type \u001b[38;5;241m==\u001b[39m \u001b[38;5;124m\"\u001b[39m\u001b[38;5;124mmmr\u001b[39m\u001b[38;5;124m\"\u001b[39m:\n",
      "File \u001b[0;32m~/Library/Python/3.9/lib/python/site-packages/langchain_core/vectorstores/base.py:552\u001b[0m, in \u001b[0;36mVectorStore.similarity_search_with_relevance_scores\u001b[0;34m(self, query, k, **kwargs)\u001b[0m\n\u001b[1;32m    536\u001b[0m \u001b[38;5;250m\u001b[39m\u001b[38;5;124;03m\"\"\"Return docs and relevance scores in the range [0, 1].\u001b[39;00m\n\u001b[1;32m    537\u001b[0m \n\u001b[1;32m    538\u001b[0m \u001b[38;5;124;03m0 is dissimilar, 1 is most similar.\u001b[39;00m\n\u001b[0;32m   (...)\u001b[0m\n\u001b[1;32m    548\u001b[0m \u001b[38;5;124;03m    List of Tuples of (doc, similarity_score).\u001b[39;00m\n\u001b[1;32m    549\u001b[0m \u001b[38;5;124;03m\"\"\"\u001b[39;00m\n\u001b[1;32m    550\u001b[0m score_threshold \u001b[38;5;241m=\u001b[39m kwargs\u001b[38;5;241m.\u001b[39mpop(\u001b[38;5;124m\"\u001b[39m\u001b[38;5;124mscore_threshold\u001b[39m\u001b[38;5;124m\"\u001b[39m, \u001b[38;5;28;01mNone\u001b[39;00m)\n\u001b[0;32m--> 552\u001b[0m docs_and_similarities \u001b[38;5;241m=\u001b[39m \u001b[38;5;28;43mself\u001b[39;49m\u001b[38;5;241;43m.\u001b[39;49m\u001b[43m_similarity_search_with_relevance_scores\u001b[49m\u001b[43m(\u001b[49m\n\u001b[1;32m    553\u001b[0m \u001b[43m    \u001b[49m\u001b[43mquery\u001b[49m\u001b[43m,\u001b[49m\u001b[43m \u001b[49m\u001b[43mk\u001b[49m\u001b[38;5;241;43m=\u001b[39;49m\u001b[43mk\u001b[49m\u001b[43m,\u001b[49m\u001b[43m \u001b[49m\u001b[38;5;241;43m*\u001b[39;49m\u001b[38;5;241;43m*\u001b[39;49m\u001b[43mkwargs\u001b[49m\n\u001b[1;32m    554\u001b[0m \u001b[43m\u001b[49m\u001b[43m)\u001b[49m\n\u001b[1;32m    555\u001b[0m \u001b[38;5;28;01mif\u001b[39;00m \u001b[38;5;28many\u001b[39m(\n\u001b[1;32m    556\u001b[0m     similarity \u001b[38;5;241m<\u001b[39m \u001b[38;5;241m0.0\u001b[39m \u001b[38;5;129;01mor\u001b[39;00m similarity \u001b[38;5;241m>\u001b[39m \u001b[38;5;241m1.0\u001b[39m\n\u001b[1;32m    557\u001b[0m     \u001b[38;5;28;01mfor\u001b[39;00m _, similarity \u001b[38;5;129;01min\u001b[39;00m docs_and_similarities\n\u001b[1;32m    558\u001b[0m ):\n\u001b[1;32m    559\u001b[0m     warnings\u001b[38;5;241m.\u001b[39mwarn(\n\u001b[1;32m    560\u001b[0m         \u001b[38;5;124m\"\u001b[39m\u001b[38;5;124mRelevance scores must be between\u001b[39m\u001b[38;5;124m\"\u001b[39m\n\u001b[1;32m    561\u001b[0m         \u001b[38;5;124mf\u001b[39m\u001b[38;5;124m\"\u001b[39m\u001b[38;5;124m 0 and 1, got \u001b[39m\u001b[38;5;132;01m{\u001b[39;00mdocs_and_similarities\u001b[38;5;132;01m}\u001b[39;00m\u001b[38;5;124m\"\u001b[39m,\n\u001b[1;32m    562\u001b[0m         stacklevel\u001b[38;5;241m=\u001b[39m\u001b[38;5;241m2\u001b[39m,\n\u001b[1;32m    563\u001b[0m     )\n",
      "File \u001b[0;32m~/Library/Python/3.9/lib/python/site-packages/langchain_core/vectorstores/base.py:499\u001b[0m, in \u001b[0;36mVectorStore._similarity_search_with_relevance_scores\u001b[0;34m(self, query, k, **kwargs)\u001b[0m\n\u001b[1;32m    476\u001b[0m \u001b[38;5;28;01mdef\u001b[39;00m \u001b[38;5;21m_similarity_search_with_relevance_scores\u001b[39m(\n\u001b[1;32m    477\u001b[0m     \u001b[38;5;28mself\u001b[39m,\n\u001b[1;32m    478\u001b[0m     query: \u001b[38;5;28mstr\u001b[39m,\n\u001b[1;32m    479\u001b[0m     k: \u001b[38;5;28mint\u001b[39m \u001b[38;5;241m=\u001b[39m \u001b[38;5;241m4\u001b[39m,\n\u001b[1;32m    480\u001b[0m     \u001b[38;5;241m*\u001b[39m\u001b[38;5;241m*\u001b[39mkwargs: Any,\n\u001b[1;32m    481\u001b[0m ) \u001b[38;5;241m-\u001b[39m\u001b[38;5;241m>\u001b[39m List[Tuple[Document, \u001b[38;5;28mfloat\u001b[39m]]:\n\u001b[1;32m    482\u001b[0m \u001b[38;5;250m    \u001b[39m\u001b[38;5;124;03m\"\"\"\u001b[39;00m\n\u001b[1;32m    483\u001b[0m \u001b[38;5;124;03m    Default similarity search with relevance scores. Modify if necessary\u001b[39;00m\n\u001b[1;32m    484\u001b[0m \u001b[38;5;124;03m    in subclass.\u001b[39;00m\n\u001b[0;32m   (...)\u001b[0m\n\u001b[1;32m    497\u001b[0m \u001b[38;5;124;03m        List of Tuples of (doc, similarity_score)\u001b[39;00m\n\u001b[1;32m    498\u001b[0m \u001b[38;5;124;03m    \"\"\"\u001b[39;00m\n\u001b[0;32m--> 499\u001b[0m     relevance_score_fn \u001b[38;5;241m=\u001b[39m \u001b[38;5;28;43mself\u001b[39;49m\u001b[38;5;241;43m.\u001b[39;49m\u001b[43m_select_relevance_score_fn\u001b[49m\u001b[43m(\u001b[49m\u001b[43m)\u001b[49m\n\u001b[1;32m    500\u001b[0m     docs_and_scores \u001b[38;5;241m=\u001b[39m \u001b[38;5;28mself\u001b[39m\u001b[38;5;241m.\u001b[39msimilarity_search_with_score(query, k, \u001b[38;5;241m*\u001b[39m\u001b[38;5;241m*\u001b[39mkwargs)\n\u001b[1;32m    501\u001b[0m     \u001b[38;5;28;01mreturn\u001b[39;00m [(doc, relevance_score_fn(score)) \u001b[38;5;28;01mfor\u001b[39;00m doc, score \u001b[38;5;129;01min\u001b[39;00m docs_and_scores]\n",
      "File \u001b[0;32m~/Library/Python/3.9/lib/python/site-packages/langchain_core/vectorstores/base.py:440\u001b[0m, in \u001b[0;36mVectorStore._select_relevance_score_fn\u001b[0;34m(self)\u001b[0m\n\u001b[1;32m    429\u001b[0m \u001b[38;5;28;01mdef\u001b[39;00m \u001b[38;5;21m_select_relevance_score_fn\u001b[39m(\u001b[38;5;28mself\u001b[39m) \u001b[38;5;241m-\u001b[39m\u001b[38;5;241m>\u001b[39m Callable[[\u001b[38;5;28mfloat\u001b[39m], \u001b[38;5;28mfloat\u001b[39m]:\n\u001b[1;32m    430\u001b[0m \u001b[38;5;250m    \u001b[39m\u001b[38;5;124;03m\"\"\"\u001b[39;00m\n\u001b[1;32m    431\u001b[0m \u001b[38;5;124;03m    The 'correct' relevance function\u001b[39;00m\n\u001b[1;32m    432\u001b[0m \u001b[38;5;124;03m    may differ depending on a few things, including:\u001b[39;00m\n\u001b[0;32m   (...)\u001b[0m\n\u001b[1;32m    438\u001b[0m \u001b[38;5;124;03m    Vectorstores should define their own selection-based method of relevance.\u001b[39;00m\n\u001b[1;32m    439\u001b[0m \u001b[38;5;124;03m    \"\"\"\u001b[39;00m\n\u001b[0;32m--> 440\u001b[0m     \u001b[38;5;28;01mraise\u001b[39;00m \u001b[38;5;167;01mNotImplementedError\u001b[39;00m\n",
      "\u001b[0;31mNotImplementedError\u001b[0m: "
     ]
    }
   ],
   "source": [
    "retriever_hf.invoke(input=user_input1)"
   ]
  },
  {
   "cell_type": "code",
   "execution_count": null,
   "id": "b06a9040-356e-47a8-9a9b-b9822f5ac423",
   "metadata": {},
   "outputs": [],
   "source": [
    "vectorstore_hf = InMemoryVectorStore.from_documents(\n",
    "    documents=all_chunks,\n",
    "    embedding=hf_embedding_model\n",
    ")\n",
    "print(\"all chunks embedded into vector database!\",f\"time taken: {round(time.time()-start_time,2)}s\")\n",
    "\n",
    "# setup retrieval and test with a query and gt_context\n",
    "retriever_hf = vectorstore_hf.as_retriever(\n",
    "    search_type='similarity',\n",
    "    search_kwargs = {'k':5}\n",
    ")\n",
    "print(\"retriever created!\")\n",
    "\n",
    "return vectorstore_hf,retriever_hf"
   ]
  },
  {
   "cell_type": "code",
   "execution_count": 108,
   "id": "fe1132fd-4c0a-4438-ae63-8a69a6a9b35b",
   "metadata": {},
   "outputs": [
    {
     "data": {
      "text/plain": [
       "[Document(id='2a7fa81b-0bb3-4d4c-86be-18c1bbf57590', metadata={'source': '/Users/i748920/Desktop/llms-learning/pdf-chatbot-app/data/short-elements-of-statistical-learning-book/chap18 copy.pdf', 'page': 1, 'start_index': 760, 'score': 0.726056829878058}, page_content='over the 100 simulation runs. The p= 1000 case is designed to mimic the\\nkind of data that we might see in a high-dimensional genomic o r proteomic\\ndataset, for example.\\nWe ﬁt a ridge regression to the data, with three diﬀerent valu es for the\\nregularization parameter λ: 0.001, 100, and 1000. When λ= 0.001, this\\nis nearly the same as least squares regression, with a little regularization\\njust to ensure that the problem is non-singular when p > N. Figure 18.1'),\n",
       " Document(id='ecd4bf7b-fd87-491b-8fb7-4ab23676d431', metadata={'source': '/Users/i748920/Desktop/llms-learning/pdf-chatbot-app/data/short-elements-of-statistical-learning-book/chap18 copy.pdf', 'page': 1, 'start_index': 1150, 'score': 0.6877578348106839}, page_content='just to ensure that the problem is non-singular when p > N. Figure 18.1\\nshows boxplots oftherelative testerrorachieved bythediﬀ erentestimators\\nin each scenario. The corresponding average degrees of free dom used in\\neach ridge-regression ﬁt is indicated (computed using form ula (3.50) on\\npage 682). The degrees of freedom is a more interpretable parameter t han\\nλ. We see that ridge regression with λ= 0.001 (20 df) wins when p= 20;\\nλ= 100 (35 df) wins when p= 100, and λ= 1000 (43 df) wins when'),\n",
       " Document(id='0c0b3e98-2590-496a-9c54-02074cec6d03', metadata={'source': '/Users/i748920/Desktop/llms-learning/pdf-chatbot-app/data/short-elements-of-statistical-learning-book/chap18 copy.pdf', 'page': 2, 'start_index': 397, 'score': 0.5927353881959819}, page_content='using the optimal ridge parameter in each of the three cases, the median\\nvalue of|tj|was 2.0, 0.6 and 0.2, and the average number of |tj|values\\nexceeding 2 was equal to 9.8, 1.2 and 0.0.\\nRidge regression with λ= 0.001 successfully exploits the correlation in\\nthe features when p<N, but cannot do so when p≫N. In the latter case\\nthere is not enough information in the relatively small numb er of samples\\nto eﬃciently estimate the high-dimensional covariance mat rix. In that case,'),\n",
       " Document(id='5dce10df-48ea-4ffd-805d-027bb5e4c7b1', metadata={'source': '/Users/i748920/Desktop/llms-learning/pdf-chatbot-app/data/short-elements-of-statistical-learning-book/chap18 copy.pdf', 'page': 1, 'start_index': 368, 'score': 0.5909602438724204}, page_content='ofp, the number of features. The relative error is the test error d ivided by the\\nBayes error, σ2. From left to right, results are shown for ridge regression wit h\\nthree diﬀerent values of the regularization parameter λ:0.001,100and1000. The\\n(average) eﬀective degrees of freedom in the ﬁt is indicated below each plot.\\nvariate regression coeﬃcients1was 9, 33 and 331, respectively, averaged\\nover the 100 simulation runs. The p= 1000 case is designed to mimic the'),\n",
       " Document(id='c352507b-31e5-4da2-bf00-03cced94f252', metadata={'source': '/Users/i748920/Desktop/llms-learning/pdf-chatbot-app/data/short-elements-of-statistical-learning-book/chap18 copy.pdf', 'page': 2, 'start_index': 800, 'score': 0.6213172417016296}, page_content='to eﬃciently estimate the high-dimensional covariance mat rix. In that case,\\nmore regularization leads to superior prediction performa nce.\\nThus it is not surprising that the analysis of high-dimensio nal data re-\\nquires either modiﬁcation of procedures designed for the N >pscenario, or\\nentirely new procedures. In this chapter we discuss example s of both kinds\\nofapproachesforhighdimensionalclassiﬁcationandregre ssion;thesemeth-')]"
      ]
     },
     "execution_count": 108,
     "metadata": {},
     "output_type": "execute_result"
    }
   ],
   "source": [
    "retriever_hf = vectorstore_hf.as_retriever(\n",
    "    search_type='similarity',\n",
    "    search_kwargs = {'k':5}\n",
    ")\n",
    "\n",
    "retriever_hf.invoke(user_input1)"
   ]
  },
  {
   "cell_type": "code",
   "execution_count": 114,
   "id": "404c808d-791a-4842-ab71-41623abe4013",
   "metadata": {},
   "outputs": [
    {
     "data": {
      "text/plain": [
       "[Document(id='2a7fa81b-0bb3-4d4c-86be-18c1bbf57590', metadata={'source': '/Users/i748920/Desktop/llms-learning/pdf-chatbot-app/data/short-elements-of-statistical-learning-book/chap18 copy.pdf', 'page': 1, 'start_index': 760, 'score': 0.726056829878058}, page_content='over the 100 simulation runs. The p= 1000 case is designed to mimic the\\nkind of data that we might see in a high-dimensional genomic o r proteomic\\ndataset, for example.\\nWe ﬁt a ridge regression to the data, with three diﬀerent valu es for the\\nregularization parameter λ: 0.001, 100, and 1000. When λ= 0.001, this\\nis nearly the same as least squares regression, with a little regularization\\njust to ensure that the problem is non-singular when p > N. Figure 18.1')]"
      ]
     },
     "execution_count": 114,
     "metadata": {},
     "output_type": "execute_result"
    }
   ],
   "source": [
    "retriever_hf = vectorstore_hf.as_retriever(\n",
    "    # search_type='similarity_score_threshold',\n",
    "    # search_kwargs={'score_threshold': 0.0}\n",
    "    search_kwargs={'k':1}\n",
    ")\n",
    "\n",
    "retriever_hf.invoke(user_input1)"
   ]
  },
  {
   "cell_type": "code",
   "execution_count": 144,
   "id": "e586de50-9ba0-4cc2-b19f-47003c292c9a",
   "metadata": {},
   "outputs": [],
   "source": [
    "retriever_hf = vectorstore_hf.as_retriever(\n",
    "    search_type='similarity',\n",
    "    search_kwargs = {'k':5}\n",
    ")"
   ]
  },
  {
   "cell_type": "code",
   "execution_count": 146,
   "id": "3af5eab7-3fbd-469d-92a9-4c0b558aa642",
   "metadata": {},
   "outputs": [
    {
     "data": {
      "text/plain": [
       "[Document(id='2a7fa81b-0bb3-4d4c-86be-18c1bbf57590', metadata={'source': '/Users/i748920/Desktop/llms-learning/pdf-chatbot-app/data/short-elements-of-statistical-learning-book/chap18 copy.pdf', 'page': 1, 'start_index': 760, 'score': 0.726056829878058}, page_content='over the 100 simulation runs. The p= 1000 case is designed to mimic the\\nkind of data that we might see in a high-dimensional genomic o r proteomic\\ndataset, for example.\\nWe ﬁt a ridge regression to the data, with three diﬀerent valu es for the\\nregularization parameter λ: 0.001, 100, and 1000. When λ= 0.001, this\\nis nearly the same as least squares regression, with a little regularization\\njust to ensure that the problem is non-singular when p > N. Figure 18.1'),\n",
       " Document(id='ecd4bf7b-fd87-491b-8fb7-4ab23676d431', metadata={'source': '/Users/i748920/Desktop/llms-learning/pdf-chatbot-app/data/short-elements-of-statistical-learning-book/chap18 copy.pdf', 'page': 1, 'start_index': 1150, 'score': 0.6877578348106839}, page_content='just to ensure that the problem is non-singular when p > N. Figure 18.1\\nshows boxplots oftherelative testerrorachieved bythediﬀ erentestimators\\nin each scenario. The corresponding average degrees of free dom used in\\neach ridge-regression ﬁt is indicated (computed using form ula (3.50) on\\npage 682). The degrees of freedom is a more interpretable parameter t han\\nλ. We see that ridge regression with λ= 0.001 (20 df) wins when p= 20;\\nλ= 100 (35 df) wins when p= 100, and λ= 1000 (43 df) wins when'),\n",
       " Document(id='0c0b3e98-2590-496a-9c54-02074cec6d03', metadata={'source': '/Users/i748920/Desktop/llms-learning/pdf-chatbot-app/data/short-elements-of-statistical-learning-book/chap18 copy.pdf', 'page': 2, 'start_index': 397, 'score': 0.5927353881959819}, page_content='using the optimal ridge parameter in each of the three cases, the median\\nvalue of|tj|was 2.0, 0.6 and 0.2, and the average number of |tj|values\\nexceeding 2 was equal to 9.8, 1.2 and 0.0.\\nRidge regression with λ= 0.001 successfully exploits the correlation in\\nthe features when p<N, but cannot do so when p≫N. In the latter case\\nthere is not enough information in the relatively small numb er of samples\\nto eﬃciently estimate the high-dimensional covariance mat rix. In that case,'),\n",
       " Document(id='5dce10df-48ea-4ffd-805d-027bb5e4c7b1', metadata={'source': '/Users/i748920/Desktop/llms-learning/pdf-chatbot-app/data/short-elements-of-statistical-learning-book/chap18 copy.pdf', 'page': 1, 'start_index': 368, 'score': 0.5909602438724204}, page_content='ofp, the number of features. The relative error is the test error d ivided by the\\nBayes error, σ2. From left to right, results are shown for ridge regression wit h\\nthree diﬀerent values of the regularization parameter λ:0.001,100and1000. The\\n(average) eﬀective degrees of freedom in the ﬁt is indicated below each plot.\\nvariate regression coeﬃcients1was 9, 33 and 331, respectively, averaged\\nover the 100 simulation runs. The p= 1000 case is designed to mimic the'),\n",
       " Document(id='c352507b-31e5-4da2-bf00-03cced94f252', metadata={'source': '/Users/i748920/Desktop/llms-learning/pdf-chatbot-app/data/short-elements-of-statistical-learning-book/chap18 copy.pdf', 'page': 2, 'start_index': 800, 'score': 0.6213172417016296}, page_content='to eﬃciently estimate the high-dimensional covariance mat rix. In that case,\\nmore regularization leads to superior prediction performa nce.\\nThus it is not surprising that the analysis of high-dimensio nal data re-\\nquires either modiﬁcation of procedures designed for the N >pscenario, or\\nentirely new procedures. In this chapter we discuss example s of both kinds\\nofapproachesforhighdimensionalclassiﬁcationandregre ssion;thesemeth-')]"
      ]
     },
     "execution_count": 146,
     "metadata": {},
     "output_type": "execute_result"
    }
   ],
   "source": [
    "retriever_hf.invoke(user_input1)"
   ]
  },
  {
   "cell_type": "code",
   "execution_count": 124,
   "id": "a3f4e423-e3fc-4cc9-ab87-49755ace2eaf",
   "metadata": {},
   "outputs": [
    {
     "data": {
      "text/plain": [
       "[Document(id='2a7fa81b-0bb3-4d4c-86be-18c1bbf57590', metadata={'source': '/Users/i748920/Desktop/llms-learning/pdf-chatbot-app/data/short-elements-of-statistical-learning-book/chap18 copy.pdf', 'page': 1, 'start_index': 760, 'score': 0.726056829878058}, page_content='over the 100 simulation runs. The p= 1000 case is designed to mimic the\\nkind of data that we might see in a high-dimensional genomic o r proteomic\\ndataset, for example.\\nWe ﬁt a ridge regression to the data, with three diﬀerent valu es for the\\nregularization parameter λ: 0.001, 100, and 1000. When λ= 0.001, this\\nis nearly the same as least squares regression, with a little regularization\\njust to ensure that the problem is non-singular when p > N. Figure 18.1'),\n",
       " Document(id='ecd4bf7b-fd87-491b-8fb7-4ab23676d431', metadata={'source': '/Users/i748920/Desktop/llms-learning/pdf-chatbot-app/data/short-elements-of-statistical-learning-book/chap18 copy.pdf', 'page': 1, 'start_index': 1150, 'score': 0.6877578348106839}, page_content='just to ensure that the problem is non-singular when p > N. Figure 18.1\\nshows boxplots oftherelative testerrorachieved bythediﬀ erentestimators\\nin each scenario. The corresponding average degrees of free dom used in\\neach ridge-regression ﬁt is indicated (computed using form ula (3.50) on\\npage 682). The degrees of freedom is a more interpretable parameter t han\\nλ. We see that ridge regression with λ= 0.001 (20 df) wins when p= 20;\\nλ= 100 (35 df) wins when p= 100, and λ= 1000 (43 df) wins when'),\n",
       " Document(id='0c0b3e98-2590-496a-9c54-02074cec6d03', metadata={'source': '/Users/i748920/Desktop/llms-learning/pdf-chatbot-app/data/short-elements-of-statistical-learning-book/chap18 copy.pdf', 'page': 2, 'start_index': 397, 'score': 0.5927353881959819}, page_content='using the optimal ridge parameter in each of the three cases, the median\\nvalue of|tj|was 2.0, 0.6 and 0.2, and the average number of |tj|values\\nexceeding 2 was equal to 9.8, 1.2 and 0.0.\\nRidge regression with λ= 0.001 successfully exploits the correlation in\\nthe features when p<N, but cannot do so when p≫N. In the latter case\\nthere is not enough information in the relatively small numb er of samples\\nto eﬃciently estimate the high-dimensional covariance mat rix. In that case,'),\n",
       " Document(id='5dce10df-48ea-4ffd-805d-027bb5e4c7b1', metadata={'source': '/Users/i748920/Desktop/llms-learning/pdf-chatbot-app/data/short-elements-of-statistical-learning-book/chap18 copy.pdf', 'page': 1, 'start_index': 368, 'score': 0.5909602438724204}, page_content='ofp, the number of features. The relative error is the test error d ivided by the\\nBayes error, σ2. From left to right, results are shown for ridge regression wit h\\nthree diﬀerent values of the regularization parameter λ:0.001,100and1000. The\\n(average) eﬀective degrees of freedom in the ﬁt is indicated below each plot.\\nvariate regression coeﬃcients1was 9, 33 and 331, respectively, averaged\\nover the 100 simulation runs. The p= 1000 case is designed to mimic the'),\n",
       " Document(id='c352507b-31e5-4da2-bf00-03cced94f252', metadata={'source': '/Users/i748920/Desktop/llms-learning/pdf-chatbot-app/data/short-elements-of-statistical-learning-book/chap18 copy.pdf', 'page': 2, 'start_index': 800, 'score': 0.6213172417016296}, page_content='to eﬃciently estimate the high-dimensional covariance mat rix. In that case,\\nmore regularization leads to superior prediction performa nce.\\nThus it is not surprising that the analysis of high-dimensio nal data re-\\nquires either modiﬁcation of procedures designed for the N >pscenario, or\\nentirely new procedures. In this chapter we discuss example s of both kinds\\nofapproachesforhighdimensionalclassiﬁcationandregre ssion;thesemeth-')]"
      ]
     },
     "execution_count": 124,
     "metadata": {},
     "output_type": "execute_result"
    }
   ],
   "source": [
    "retriever_hf.invoke(user_input1)"
   ]
  },
  {
   "cell_type": "code",
   "execution_count": null,
   "id": "27753c69-6306-482e-9e2a-48e53430a7f1",
   "metadata": {},
   "outputs": [],
   "source": [
    "retriever_hf.invoke()"
   ]
  },
  {
   "cell_type": "code",
   "execution_count": 148,
   "id": "d5e5417d-be34-4988-be66-5dfe0ba72555",
   "metadata": {},
   "outputs": [],
   "source": [
    "from typing import List\n",
    "from langchain_core.documents import Document\n",
    "\n",
    "def get_retrieved_documents_with_scores(vectorstore,query,k) -> List[Document]:\n",
    "    \"\"\"\n",
    "    vectorstore: vectorstore object\n",
    "    query (str): user input query\n",
    "    k (int): number of top K documents to return\n",
    "    \n",
    "    manual function to get retrieved documents from vectorstore and add score to metadata.\n",
    "    output: List of Document objects.\n",
    "    \"\"\"\n",
    "    docs, scores = zip(*vectorstore.similarity_search_with_score(query=query,k=k))\n",
    "    for doc, score in zip(docs, scores):\n",
    "        doc.metadata[\"score\"] = score\n",
    "\n",
    "    return docs"
   ]
  },
  {
   "cell_type": "code",
   "execution_count": 150,
   "id": "4b688341-059f-46d3-a969-36ac5a0d0e25",
   "metadata": {},
   "outputs": [],
   "source": [
    "docs = get_retrieved_documents_with_scores(vectorstore_hf,user_input1,5)"
   ]
  },
  {
   "cell_type": "code",
   "execution_count": 152,
   "id": "1d1b8eac-e212-4b44-bfb4-1919e9291cdb",
   "metadata": {},
   "outputs": [
    {
     "data": {
      "text/plain": [
       "(Document(id='2a7fa81b-0bb3-4d4c-86be-18c1bbf57590', metadata={'source': '/Users/i748920/Desktop/llms-learning/pdf-chatbot-app/data/short-elements-of-statistical-learning-book/chap18 copy.pdf', 'page': 1, 'start_index': 760, 'score': 0.726056829878058}, page_content='over the 100 simulation runs. The p= 1000 case is designed to mimic the\\nkind of data that we might see in a high-dimensional genomic o r proteomic\\ndataset, for example.\\nWe ﬁt a ridge regression to the data, with three diﬀerent valu es for the\\nregularization parameter λ: 0.001, 100, and 1000. When λ= 0.001, this\\nis nearly the same as least squares regression, with a little regularization\\njust to ensure that the problem is non-singular when p > N. Figure 18.1'),\n",
       " Document(id='ecd4bf7b-fd87-491b-8fb7-4ab23676d431', metadata={'source': '/Users/i748920/Desktop/llms-learning/pdf-chatbot-app/data/short-elements-of-statistical-learning-book/chap18 copy.pdf', 'page': 1, 'start_index': 1150, 'score': 0.6877578348106839}, page_content='just to ensure that the problem is non-singular when p > N. Figure 18.1\\nshows boxplots oftherelative testerrorachieved bythediﬀ erentestimators\\nin each scenario. The corresponding average degrees of free dom used in\\neach ridge-regression ﬁt is indicated (computed using form ula (3.50) on\\npage 682). The degrees of freedom is a more interpretable parameter t han\\nλ. We see that ridge regression with λ= 0.001 (20 df) wins when p= 20;\\nλ= 100 (35 df) wins when p= 100, and λ= 1000 (43 df) wins when'),\n",
       " Document(id='0c0b3e98-2590-496a-9c54-02074cec6d03', metadata={'source': '/Users/i748920/Desktop/llms-learning/pdf-chatbot-app/data/short-elements-of-statistical-learning-book/chap18 copy.pdf', 'page': 2, 'start_index': 397, 'score': 0.5927353881959819}, page_content='using the optimal ridge parameter in each of the three cases, the median\\nvalue of|tj|was 2.0, 0.6 and 0.2, and the average number of |tj|values\\nexceeding 2 was equal to 9.8, 1.2 and 0.0.\\nRidge regression with λ= 0.001 successfully exploits the correlation in\\nthe features when p<N, but cannot do so when p≫N. In the latter case\\nthere is not enough information in the relatively small numb er of samples\\nto eﬃciently estimate the high-dimensional covariance mat rix. In that case,'),\n",
       " Document(id='5dce10df-48ea-4ffd-805d-027bb5e4c7b1', metadata={'source': '/Users/i748920/Desktop/llms-learning/pdf-chatbot-app/data/short-elements-of-statistical-learning-book/chap18 copy.pdf', 'page': 1, 'start_index': 368, 'score': 0.5909602438724204}, page_content='ofp, the number of features. The relative error is the test error d ivided by the\\nBayes error, σ2. From left to right, results are shown for ridge regression wit h\\nthree diﬀerent values of the regularization parameter λ:0.001,100and1000. The\\n(average) eﬀective degrees of freedom in the ﬁt is indicated below each plot.\\nvariate regression coeﬃcients1was 9, 33 and 331, respectively, averaged\\nover the 100 simulation runs. The p= 1000 case is designed to mimic the'),\n",
       " Document(id='c352507b-31e5-4da2-bf00-03cced94f252', metadata={'source': '/Users/i748920/Desktop/llms-learning/pdf-chatbot-app/data/short-elements-of-statistical-learning-book/chap18 copy.pdf', 'page': 2, 'start_index': 800, 'score': 0.5561141467832593}, page_content='to eﬃciently estimate the high-dimensional covariance mat rix. In that case,\\nmore regularization leads to superior prediction performa nce.\\nThus it is not surprising that the analysis of high-dimensio nal data re-\\nquires either modiﬁcation of procedures designed for the N >pscenario, or\\nentirely new procedures. In this chapter we discuss example s of both kinds\\nofapproachesforhighdimensionalclassiﬁcationandregre ssion;thesemeth-'))"
      ]
     },
     "execution_count": 152,
     "metadata": {},
     "output_type": "execute_result"
    }
   ],
   "source": [
    "docs"
   ]
  }
 ],
 "metadata": {
  "kernelspec": {
   "display_name": "langchain",
   "language": "python",
   "name": "langchain"
  },
  "language_info": {
   "codemirror_mode": {
    "name": "ipython",
    "version": 3
   },
   "file_extension": ".py",
   "mimetype": "text/x-python",
   "name": "python",
   "nbconvert_exporter": "python",
   "pygments_lexer": "ipython3",
   "version": "3.9.6"
  }
 },
 "nbformat": 4,
 "nbformat_minor": 5
}
